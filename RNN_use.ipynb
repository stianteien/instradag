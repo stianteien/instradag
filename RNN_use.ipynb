{
 "cells": [
  {
   "cell_type": "markdown",
   "metadata": {},
   "source": [
    "# RNN USE\n",
    "I denne notebooken tar jeg i bruk den modellen jeg har lagd tidligere"
   ]
  },
  {
   "cell_type": "code",
   "execution_count": 1,
   "metadata": {},
   "outputs": [],
   "source": [
    "try :\n",
    "    # % tensorflow_version only exists in Colab .\n",
    "    % tensorflow_version 2. x\n",
    "except Exception :\n",
    "    pass\n",
    "\n",
    "import tensorflow as tf\n",
    "from tensorflow import keras\n",
    "import numpy as np\n",
    "import pandas as pd\n",
    "import stockstats\n",
    "import os\n",
    "import matplotlib.pyplot as plt\n",
    "\n",
    "from sklearn import preprocessing\n",
    "from sklearn.model_selection import train_test_split\n",
    "\n",
    "from lib.rens import rens"
   ]
  },
  {
   "cell_type": "code",
   "execution_count": 2,
   "metadata": {},
   "outputs": [],
   "source": [
    "def create_dataset(dataset, true_price, look_back = 1, look_forward = 1):\n",
    "    \n",
    "    # Standarised\n",
    "    sc = preprocessing.StandardScaler()\n",
    "    dataset = sc.fit_transform(dataset)\n",
    "\n",
    "    lookback = look_back\n",
    "    trueprice = []\n",
    "    datax = []\n",
    "    datay = []\n",
    "\n",
    "    for i,v in enumerate(dataset):\n",
    "        if i > lookback + look_forward:\n",
    "            datax.append([dataset[i-j] for j in range(lookback+look_forward, look_forward, -1)])\n",
    "            datay.append([true_price[i-j] for j in range(look_forward, 0, -1)])   \n",
    "    \n",
    "    trueprice = [i for i in true_price]\n",
    "    datax = np.array(datax)\n",
    "    datay = np.array(datay)\n",
    "    trueprice = np.array(trueprice)\n",
    "    \n",
    "    # Standardize y data for å skille dem fra hverandre\n",
    "    mean = [1 for _ in range(datay.shape[1])]\n",
    "    std = [0.0006 for _ in range(datay.shape[1])]\n",
    "    datay -= mean\n",
    "    trueprice -= mean[0]\n",
    "    \n",
    "    datay /= std\n",
    "    trueprice /= std[0]\n",
    "    \n",
    "    return datax, datay, trueprice"
   ]
  },
  {
   "cell_type": "code",
   "execution_count": 49,
   "metadata": {},
   "outputs": [],
   "source": [
    "def make_ready(filer):\n",
    "    stocks = []\n",
    "    for i, fil in enumerate(filer):\n",
    "        print(f\"{i+1} av {len(filer)} renset\" ,end='\\r')\n",
    "        data = rens().clean_data(pd.read_excel(fil))\n",
    "        stock = stockstats.StockDataFrame.retype(data)\n",
    "        indikatorer = ['rsi_20', 'trix', 'open_8_sma', 'open_16_sma', 'macds', 'open_30_sma', 'open_15_sma']\n",
    "        for ind in indikatorer:\n",
    "            stock.get(ind)\n",
    "        stock['sma8-16'] = [stock.open_8_sma[i] - stock.open_16_sma[i] for i, value in enumerate(stock.open_8_sma)]\n",
    "        stock['sma30_derivert'] = [stock.open_30_sma[i] / stock.open_30_sma[i-1] if i>1 else 1 \n",
    "                                   for i, value in enumerate(stock.open_30_sma)]\n",
    "        stock['sma15_derivert'] = [stock.open_15_sma[i] / stock.open_15_sma[i-1] if i>1 else 1 \n",
    "                                   for i, value in enumerate(stock.open_15_sma)]\n",
    "        stock['derivert'] = [stock.open[i] / stock.open[i-1] if i>1 else 1\n",
    "                             for i, value in enumerate(stock.open)]\n",
    "\n",
    "        stocks.append(stock)\n",
    "    \n",
    "    return stocks\n",
    "\n",
    "\n",
    "def evaluate_trade(data, prediction, look_back):\n",
    "    \n",
    "    print(prediction.shape)\n",
    "    print(data.open.shape)\n",
    "    \n",
    "    avg_pred = [[0]*prediction.shape[0]]\n",
    "    \n",
    "    print(avg_pred)\n",
    "    \n",
    "    for i,pred in enumerate(prediction):\n",
    "        o=0\n",
    "        for _ in range(prediction.shape[1]):\n",
    "            if i+o < prediction.shape[0]:\n",
    "                avg_pred[i].append(prediction[i+o][o])\n",
    "            o += 1\n",
    "            \n",
    "    print(avg_pred)        \n",
    "        #[prediction[i][j] for j in range(prediction.shape[1])]\n",
    "        \n",
    "    #avg_pred = []\n",
    "    #for i, pred in enumerate(prediction):\n",
    "        \n",
    "    \n",
    "    '''fig, ax1 = plt.subplots()\n",
    "    \n",
    "    for i,v in enumerate(prediction):\n",
    "        ax1.plot(range(i+look_back, i+look_back+len(v)), v, color='red')\n",
    "    \n",
    "    ax2 = ax1.twinx()\n",
    "    \n",
    "    ax2.plot(data.open, color='blue')'''\n",
    "    \n",
    "    \n",
    "\n",
    "    \n",
    "def add_data(word):\n",
    "    ordet = 'data/' + word\n",
    "    return ordet\n"
   ]
  },
  {
   "cell_type": "code",
   "execution_count": 5,
   "metadata": {},
   "outputs": [
    {
     "name": "stdout",
     "output_type": "stream",
     "text": [
      "1 av 1 renset\r"
     ]
    },
    {
     "name": "stderr",
     "output_type": "stream",
     "text": [
      "C:\\Users\\Stian\\anaconda3\\lib\\site-packages\\pandas\\core\\indexing.py:670: SettingWithCopyWarning: \n",
      "A value is trying to be set on a copy of a slice from a DataFrame\n",
      "\n",
      "See the caveats in the documentation: https://pandas.pydata.org/pandas-docs/stable/user_guide/indexing.html#returning-a-view-versus-a-copy\n",
      "  iloc._setitem_with_indexer(indexer, value)\n",
      "NOTE: Behavior of MACDH calculation has changed as of July 2017 - it is now 1/2 of previous calculated values\n"
     ]
    }
   ],
   "source": [
    "filer = list(map(add_data, os.listdir('data/')))[21:22] # test 54:60\n",
    "data = make_ready(filer)"
   ]
  },
  {
   "cell_type": "code",
   "execution_count": 10,
   "metadata": {},
   "outputs": [],
   "source": [
    "dataxes = []\n",
    "datayes = []\n",
    "sanne = []\n",
    "look_back=30\n",
    "look_forward=10\n",
    "\n",
    "for one_stock in data:\n",
    "    datax, datay, sann = create_dataset(one_stock[['macd', 'rsi_20', 'sma8-16', 'trix', 'volume']],\n",
    "                                  one_stock.sma30_derivert, look_back=look_back, look_forward=look_forward)\n",
    "    dataxes.append(datax)\n",
    "    datayes.append(datay)\n",
    "    sanne.append(sann)"
   ]
  },
  {
   "cell_type": "code",
   "execution_count": 6,
   "metadata": {},
   "outputs": [],
   "source": [
    "model = keras.models.load_model('models/rnn_model.h5')"
   ]
  },
  {
   "cell_type": "code",
   "execution_count": 50,
   "metadata": {
    "scrolled": true
   },
   "outputs": [
    {
     "name": "stdout",
     "output_type": "stream",
     "text": [
      "(395, 10)\n",
      "(436,)\n",
      "[[0, 0, 0, 0, 0, 0, 0, 0, 0, 0, 0, 0, 0, 0, 0, 0, 0, 0, 0, 0, 0, 0, 0, 0, 0, 0, 0, 0, 0, 0, 0, 0, 0, 0, 0, 0, 0, 0, 0, 0, 0, 0, 0, 0, 0, 0, 0, 0, 0, 0, 0, 0, 0, 0, 0, 0, 0, 0, 0, 0, 0, 0, 0, 0, 0, 0, 0, 0, 0, 0, 0, 0, 0, 0, 0, 0, 0, 0, 0, 0, 0, 0, 0, 0, 0, 0, 0, 0, 0, 0, 0, 0, 0, 0, 0, 0, 0, 0, 0, 0, 0, 0, 0, 0, 0, 0, 0, 0, 0, 0, 0, 0, 0, 0, 0, 0, 0, 0, 0, 0, 0, 0, 0, 0, 0, 0, 0, 0, 0, 0, 0, 0, 0, 0, 0, 0, 0, 0, 0, 0, 0, 0, 0, 0, 0, 0, 0, 0, 0, 0, 0, 0, 0, 0, 0, 0, 0, 0, 0, 0, 0, 0, 0, 0, 0, 0, 0, 0, 0, 0, 0, 0, 0, 0, 0, 0, 0, 0, 0, 0, 0, 0, 0, 0, 0, 0, 0, 0, 0, 0, 0, 0, 0, 0, 0, 0, 0, 0, 0, 0, 0, 0, 0, 0, 0, 0, 0, 0, 0, 0, 0, 0, 0, 0, 0, 0, 0, 0, 0, 0, 0, 0, 0, 0, 0, 0, 0, 0, 0, 0, 0, 0, 0, 0, 0, 0, 0, 0, 0, 0, 0, 0, 0, 0, 0, 0, 0, 0, 0, 0, 0, 0, 0, 0, 0, 0, 0, 0, 0, 0, 0, 0, 0, 0, 0, 0, 0, 0, 0, 0, 0, 0, 0, 0, 0, 0, 0, 0, 0, 0, 0, 0, 0, 0, 0, 0, 0, 0, 0, 0, 0, 0, 0, 0, 0, 0, 0, 0, 0, 0, 0, 0, 0, 0, 0, 0, 0, 0, 0, 0, 0, 0, 0, 0, 0, 0, 0, 0, 0, 0, 0, 0, 0, 0, 0, 0, 0, 0, 0, 0, 0, 0, 0, 0, 0, 0, 0, 0, 0, 0, 0, 0, 0, 0, 0, 0, 0, 0, 0, 0, 0, 0, 0, 0, 0, 0, 0, 0, 0, 0, 0, 0, 0, 0, 0, 0, 0, 0, 0, 0, 0, 0, 0, 0, 0, 0, 0, 0, 0, 0, 0, 0, 0, 0, 0, 0, 0, 0, 0, 0, 0, 0, 0, 0, 0]]\n"
     ]
    },
    {
     "ename": "IndexError",
     "evalue": "list index out of range",
     "output_type": "error",
     "traceback": [
      "\u001b[1;31m---------------------------------------------------------------------------\u001b[0m",
      "\u001b[1;31mIndexError\u001b[0m                                Traceback (most recent call last)",
      "\u001b[1;32m<ipython-input-50-e05759fa527a>\u001b[0m in \u001b[0;36m<module>\u001b[1;34m\u001b[0m\n\u001b[1;32m----> 1\u001b[1;33m \u001b[0mevaluate_trade\u001b[0m\u001b[1;33m(\u001b[0m\u001b[0mdata\u001b[0m\u001b[1;33m[\u001b[0m\u001b[1;36m0\u001b[0m\u001b[1;33m]\u001b[0m\u001b[1;33m,\u001b[0m \u001b[0mmodel\u001b[0m\u001b[1;33m.\u001b[0m\u001b[0mpredict\u001b[0m\u001b[1;33m(\u001b[0m\u001b[0mdataxes\u001b[0m\u001b[1;33m[\u001b[0m\u001b[1;36m0\u001b[0m\u001b[1;33m]\u001b[0m\u001b[1;33m)\u001b[0m\u001b[1;33m,\u001b[0m \u001b[0mlook_back\u001b[0m\u001b[1;33m)\u001b[0m\u001b[1;33m\u001b[0m\u001b[1;33m\u001b[0m\u001b[0m\n\u001b[0m",
      "\u001b[1;32m<ipython-input-49-766c05185403>\u001b[0m in \u001b[0;36mevaluate_trade\u001b[1;34m(data, prediction, look_back)\u001b[0m\n\u001b[0;32m     34\u001b[0m         \u001b[1;32mfor\u001b[0m \u001b[0m_\u001b[0m \u001b[1;32min\u001b[0m \u001b[0mrange\u001b[0m\u001b[1;33m(\u001b[0m\u001b[0mprediction\u001b[0m\u001b[1;33m.\u001b[0m\u001b[0mshape\u001b[0m\u001b[1;33m[\u001b[0m\u001b[1;36m1\u001b[0m\u001b[1;33m]\u001b[0m\u001b[1;33m)\u001b[0m\u001b[1;33m:\u001b[0m\u001b[1;33m\u001b[0m\u001b[1;33m\u001b[0m\u001b[0m\n\u001b[0;32m     35\u001b[0m             \u001b[1;32mif\u001b[0m \u001b[0mi\u001b[0m\u001b[1;33m+\u001b[0m\u001b[0mo\u001b[0m \u001b[1;33m<\u001b[0m \u001b[0mprediction\u001b[0m\u001b[1;33m.\u001b[0m\u001b[0mshape\u001b[0m\u001b[1;33m[\u001b[0m\u001b[1;36m0\u001b[0m\u001b[1;33m]\u001b[0m\u001b[1;33m:\u001b[0m\u001b[1;33m\u001b[0m\u001b[1;33m\u001b[0m\u001b[0m\n\u001b[1;32m---> 36\u001b[1;33m                 \u001b[0mavg_pred\u001b[0m\u001b[1;33m[\u001b[0m\u001b[0mi\u001b[0m\u001b[1;33m]\u001b[0m\u001b[1;33m.\u001b[0m\u001b[0mappend\u001b[0m\u001b[1;33m(\u001b[0m\u001b[0mprediction\u001b[0m\u001b[1;33m[\u001b[0m\u001b[0mi\u001b[0m\u001b[1;33m+\u001b[0m\u001b[0mo\u001b[0m\u001b[1;33m]\u001b[0m\u001b[1;33m[\u001b[0m\u001b[0mo\u001b[0m\u001b[1;33m]\u001b[0m\u001b[1;33m)\u001b[0m\u001b[1;33m\u001b[0m\u001b[1;33m\u001b[0m\u001b[0m\n\u001b[0m\u001b[0;32m     37\u001b[0m             \u001b[0mo\u001b[0m \u001b[1;33m+=\u001b[0m \u001b[1;36m1\u001b[0m\u001b[1;33m\u001b[0m\u001b[1;33m\u001b[0m\u001b[0m\n\u001b[0;32m     38\u001b[0m \u001b[1;33m\u001b[0m\u001b[0m\n",
      "\u001b[1;31mIndexError\u001b[0m: list index out of range"
     ]
    }
   ],
   "source": [
    "evaluate_trade(data[0], model.predict(dataxes[0]), look_back)"
   ]
  },
  {
   "cell_type": "code",
   "execution_count": null,
   "metadata": {},
   "outputs": [],
   "source": []
  }
 ],
 "metadata": {
  "kernelspec": {
   "display_name": "Python 3",
   "language": "python",
   "name": "python3"
  },
  "language_info": {
   "codemirror_mode": {
    "name": "ipython",
    "version": 3
   },
   "file_extension": ".py",
   "mimetype": "text/x-python",
   "name": "python",
   "nbconvert_exporter": "python",
   "pygments_lexer": "ipython3",
   "version": "3.7.7"
  }
 },
 "nbformat": 4,
 "nbformat_minor": 4
}
