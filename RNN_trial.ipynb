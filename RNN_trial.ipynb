{
 "cells": [
  {
   "cell_type": "code",
   "execution_count": 182,
   "metadata": {},
   "outputs": [],
   "source": [
    "try :\n",
    "    # % tensorflow_version only exists in Colab .\n",
    "    % tensorflow_version 2. x\n",
    "except Exception :\n",
    "    pass\n",
    "\n",
    "import tensorflow as tf\n",
    "from tensorflow import keras\n",
    "import numpy as np\n",
    "import pandas as pd\n",
    "import stockstats\n",
    "import os\n",
    "import matplotlib.pyplot as plt\n",
    "\n",
    "from sklearn import preprocessing\n",
    "from sklearn.model_selection import train_test_split\n",
    "\n",
    "from lib.rens import rens"
   ]
  },
  {
   "cell_type": "code",
   "execution_count": 206,
   "metadata": {},
   "outputs": [],
   "source": [
    "def create_dataset(dataset, true_price, look_back = 1, look_forward = 1):\n",
    "      \n",
    "    # MinMax\n",
    "    #min_max_scaler = preprocessing.MinMaxScaler(feature_range=(0, 1))\n",
    "    #dataset = min_max_scaler.fit_transform(dataset)\n",
    "    \n",
    "    # Standarised\n",
    "    sc = preprocessing.StandardScaler()\n",
    "    dataset = sc.fit_transform(dataset)\n",
    "\n",
    "    \n",
    "    #print(dataset)\n",
    "    lookback = look_back\n",
    "    trueprice = []\n",
    "    datax = []\n",
    "    datay = []\n",
    "\n",
    "    for i,v in enumerate(dataset):\n",
    "        if i > lookback + look_forward:\n",
    "            datax.append([dataset[i-j] for j in range(lookback+look_forward, look_forward, -1)])\n",
    "            datay.append([true_price[i-j] for j in range(look_forward, 0, -1)])   \n",
    "    \n",
    "    trueprice = [i for i in true_price]\n",
    " \n",
    "    \n",
    "    datax = np.array(datax)\n",
    "    datay = np.array(datay)\n",
    "    trueprice = np.array(trueprice)\n",
    "    \n",
    "    # Standardize y data for å skille dem fra hverandre\n",
    "    min_max_scaler = preprocessing.MinMaxScaler(feature_range=(0, 1))\n",
    "    xsx = min_max_scaler.fit_transform(datay)\n",
    "    \n",
    "    #print(datay.shape)\n",
    "    mean = [1 for _ in range(datay.shape[1])]\n",
    "    std = [0.0006 for _ in range(datay.shape[1])]\n",
    "    #mean = datay.mean(axis=0)\n",
    "    datay -= mean\n",
    "    trueprice -= mean[0]\n",
    "    \n",
    "    #std = datay.std(axis=0)\n",
    "    \n",
    "    datay /= std\n",
    "    trueprice /= std[0]\n",
    "    #print(mean, std)\n",
    "\n",
    "    print(datax.shape)\n",
    "    \n",
    "    \n",
    "    # Normalize\n",
    "    #datax = preprocessing.normalize(datax)\n",
    "    #datay = preprocessing.normalize(datay)\n",
    "    \n",
    "    # reshape input to be [samples, time steps, features]\n",
    "    #datax = np.reshape(datax, (datax.shape[0], lookback, 1))\n",
    "    \n",
    "    return datax, datay, trueprice"
   ]
  },
  {
   "cell_type": "code",
   "execution_count": 17,
   "metadata": {},
   "outputs": [],
   "source": [
    "def make_ready(filer):\n",
    "    stocks = []\n",
    "    for i, fil in enumerate(filer):\n",
    "        print(f\"{i+1} av {len(filer)} renset\" ,end='\\r')\n",
    "        data = rens().clean_data(pd.read_excel(fil))\n",
    "        stock = stockstats.StockDataFrame.retype(data)\n",
    "        indikatorer = ['rsi_20', 'trix', 'open_8_sma', 'open_16_sma', 'macds', 'open_30_sma', 'open_5_sma']\n",
    "        for ind in indikatorer:\n",
    "            stock.get(ind)\n",
    "        stock['sma8-16'] = [stock.open_8_sma[i] - stock.open_16_sma[i] for i, value in enumerate(stock.open_8_sma)]\n",
    "        stock['sma30_derivert'] = [stock.open_30_sma[i] / stock.open_30_sma[i-1] if i>1 else 1 \n",
    "                                   for i, value in enumerate(stock.open_30_sma)]\n",
    "        stock['sma5_derivert'] = [stock.open_5_sma[i] / stock.open_5_sma[i-1] if i>1 else 1 \n",
    "                                   for i, value in enumerate(stock.open_5_sma)]\n",
    "        stock['derivert'] = [stock.open[i] / stock.open[i-1] if i>1 else 1\n",
    "                             for i, value in enumerate(stock.open)]\n",
    "\n",
    "        #evaluate_trades(stock)\n",
    "        #break # må tas bort ettervært\n",
    "        stocks.append(stock)\n",
    "    \n",
    "    return stocks\n",
    "\n",
    "    \n",
    "def add_data(word):\n",
    "    ordet = 'data/' + word\n",
    "    return ordet"
   ]
  },
  {
   "cell_type": "code",
   "execution_count": 128,
   "metadata": {},
   "outputs": [
    {
     "name": "stdout",
     "output_type": "stream",
     "text": [
      "1 av 6 renset\r"
     ]
    },
    {
     "name": "stderr",
     "output_type": "stream",
     "text": [
      "C:\\Users\\Stian\\anaconda3\\lib\\site-packages\\pandas\\core\\indexing.py:670: SettingWithCopyWarning: \n",
      "A value is trying to be set on a copy of a slice from a DataFrame\n",
      "\n",
      "See the caveats in the documentation: https://pandas.pydata.org/pandas-docs/stable/user_guide/indexing.html#returning-a-view-versus-a-copy\n",
      "  iloc._setitem_with_indexer(indexer, value)\n",
      "NOTE: Behavior of MACDH calculation has changed as of July 2017 - it is now 1/2 of previous calculated values\n"
     ]
    },
    {
     "name": "stdout",
     "output_type": "stream",
     "text": [
      "2 av 6 renset\r"
     ]
    },
    {
     "name": "stderr",
     "output_type": "stream",
     "text": [
      "NOTE: Behavior of MACDH calculation has changed as of July 2017 - it is now 1/2 of previous calculated values\n"
     ]
    },
    {
     "name": "stdout",
     "output_type": "stream",
     "text": [
      "3 av 6 renset\r"
     ]
    },
    {
     "name": "stderr",
     "output_type": "stream",
     "text": [
      "NOTE: Behavior of MACDH calculation has changed as of July 2017 - it is now 1/2 of previous calculated values\n"
     ]
    },
    {
     "name": "stdout",
     "output_type": "stream",
     "text": [
      "4 av 6 renset\r"
     ]
    },
    {
     "name": "stderr",
     "output_type": "stream",
     "text": [
      "NOTE: Behavior of MACDH calculation has changed as of July 2017 - it is now 1/2 of previous calculated values\n"
     ]
    },
    {
     "name": "stdout",
     "output_type": "stream",
     "text": [
      "5 av 6 renset\r"
     ]
    },
    {
     "name": "stderr",
     "output_type": "stream",
     "text": [
      "NOTE: Behavior of MACDH calculation has changed as of July 2017 - it is now 1/2 of previous calculated values\n"
     ]
    },
    {
     "name": "stdout",
     "output_type": "stream",
     "text": [
      "6 av 6 renset\r"
     ]
    },
    {
     "name": "stderr",
     "output_type": "stream",
     "text": [
      "NOTE: Behavior of MACDH calculation has changed as of July 2017 - it is now 1/2 of previous calculated values\n"
     ]
    }
   ],
   "source": [
    "filer = list(map(add_data, os.listdir('data/')))[54:60] # test 54:60\n",
    "data = make_ready(filer)"
   ]
  },
  {
   "cell_type": "code",
   "execution_count": 207,
   "metadata": {},
   "outputs": [
    {
     "name": "stdout",
     "output_type": "stream",
     "text": [
      "(312, 30, 5)\n",
      "(359, 30, 5)\n",
      "(225, 30, 5)\n",
      "(369, 30, 5)\n",
      "(247, 30, 5)\n",
      "(318, 30, 5)\n"
     ]
    }
   ],
   "source": [
    "dataxes = []\n",
    "datayes = []\n",
    "sanne = []\n",
    "look_back=30\n",
    "look_forward=10\n",
    "\n",
    "for one_stock in data:\n",
    "    datax, datay, sann = create_dataset(one_stock[['macd', 'rsi_20', 'sma8-16', 'trix', 'volume']],\n",
    "                                  one_stock.sma30_derivert, look_back=look_back, look_forward=look_forward)\n",
    "    dataxes.append(datax)\n",
    "    datayes.append(datay)\n",
    "    sanne.append(sann)\n",
    "    \n"
   ]
  },
  {
   "cell_type": "code",
   "execution_count": 212,
   "metadata": {
    "scrolled": true
   },
   "outputs": [
    {
     "data": {
      "text/plain": [
       "array([[[ 1.93332757e-01, -4.04096213e+00,  2.05463305e-01,\n",
       "         -4.95449763e+00,  6.77212511e-02],\n",
       "        [ 1.20968587e-01, -4.04096213e+00,  2.05463305e-01,\n",
       "         -3.82367518e+00, -1.53278046e-01],\n",
       "        [ 1.35252586e-01, -2.80680105e+00,  2.05463305e-01,\n",
       "         -2.87250462e+00, -1.38659415e-01],\n",
       "        ...,\n",
       "        [ 2.12907447e-01, -2.55838714e-01,  1.16966458e+00,\n",
       "         -3.94705085e-01, -7.33055377e-02],\n",
       "        [ 2.02208151e-01, -3.36921087e-01,  1.38660986e+00,\n",
       "         -2.54029247e-01, -1.41812453e-01],\n",
       "        [ 9.47111084e-02, -5.71609933e-01,  1.32634728e+00,\n",
       "         -1.67198856e-01, -7.64585756e-02]],\n",
       "\n",
       "       [[ 1.20968587e-01, -4.04096213e+00,  2.05463305e-01,\n",
       "         -3.82367518e+00, -1.53278046e-01],\n",
       "        [ 1.35252586e-01, -2.80680105e+00,  2.05463305e-01,\n",
       "         -2.87250462e+00, -1.38659415e-01],\n",
       "        [-3.53704688e-02, -3.25608826e+00,  2.05463305e-01,\n",
       "         -2.66001123e+00,  7.07787957e-01],\n",
       "        ...,\n",
       "        [ 2.02208151e-01, -3.36921087e-01,  1.38660986e+00,\n",
       "         -2.54029247e-01, -1.41812453e-01],\n",
       "        [ 9.47111084e-02, -5.71609933e-01,  1.32634728e+00,\n",
       "         -1.67198856e-01, -7.64585756e-02],\n",
       "        [ 9.83287449e-02, -2.76305988e-01,  1.33839980e+00,\n",
       "         -9.58221544e-02, -1.26047264e-01]],\n",
       "\n",
       "       [[ 1.35252586e-01, -2.80680105e+00,  2.05463305e-01,\n",
       "         -2.87250462e+00, -1.38659415e-01],\n",
       "        [-3.53704688e-02, -3.25608826e+00,  2.05463305e-01,\n",
       "         -2.66001123e+00,  7.07787957e-01],\n",
       "        [-2.48607156e-01, -3.40281264e+00,  2.05463305e-01,\n",
       "         -2.71827433e+00,  4.17421825e-01],\n",
       "        ...,\n",
       "        [ 9.47111084e-02, -5.71609933e-01,  1.32634728e+00,\n",
       "         -1.67198856e-01, -7.64585756e-02],\n",
       "        [ 9.83287449e-02, -2.76305988e-01,  1.33839980e+00,\n",
       "         -9.58221544e-02, -1.26047264e-01],\n",
       "        [ 7.00507005e-02, -3.57956659e-01,  1.25403219e+00,\n",
       "         -4.46478962e-02, -1.13148472e-01]],\n",
       "\n",
       "       ...,\n",
       "\n",
       "       [[-1.77437349e-02,  3.87256077e-01, -2.88689846e-01,\n",
       "          4.91164157e-02, -1.26620543e-01],\n",
       "        [-4.34329668e-02,  1.45504644e-01, -2.40479782e-01,\n",
       "          3.27931574e-02,  6.71479715e-02],\n",
       "        [-9.57203716e-02, -8.96576945e-03, -2.28427267e-01,\n",
       "          1.17538492e-02, -1.90827862e-01],\n",
       "        ...,\n",
       "        [-7.08238835e-01, -7.92911355e-01,  7.28856305e-02,\n",
       "         -4.53050686e-01,  2.98847956e-02],\n",
       "        [-8.14472996e-01, -9.69193097e-01,  1.26230511e-02,\n",
       "         -4.55117171e-01,  9.15123557e-02],\n",
       "        [-8.84397629e-01, -9.69193097e-01,  5.70535188e-04,\n",
       "         -4.71131607e-01, -9.33703247e-02]],\n",
       "\n",
       "       [[-4.34329668e-02,  1.45504644e-01, -2.40479782e-01,\n",
       "          3.27931574e-02,  6.71479715e-02],\n",
       "        [-9.57203716e-02, -8.96576945e-03, -2.28427267e-01,\n",
       "          1.17538492e-02, -1.90827862e-01],\n",
       "        [-1.49910437e-01, -8.57745977e-02, -2.40479782e-01,\n",
       "         -1.34468714e-02, -9.25104052e-02],\n",
       "        ...,\n",
       "        [-8.14472996e-01, -9.69193097e-01,  1.26230511e-02,\n",
       "         -4.55117171e-01,  9.15123557e-02],\n",
       "        [-8.84397629e-01, -9.69193097e-01,  5.70535188e-04,\n",
       "         -4.71131607e-01, -9.33703247e-02],\n",
       "        [-9.06737270e-01, -8.51163945e-01, -4.76395283e-02,\n",
       "         -4.87335430e-01,  8.60661993e-02]],\n",
       "\n",
       "       [[-9.57203716e-02, -8.96576945e-03, -2.28427267e-01,\n",
       "          1.17538492e-02, -1.90827862e-01],\n",
       "        [-1.49910437e-01, -8.57745977e-02, -2.40479782e-01,\n",
       "         -1.34468714e-02, -9.25104052e-02],\n",
       "        [-1.31611658e-01,  2.04905915e-01, -1.44059655e-01,\n",
       "         -2.58666704e-02, -1.08562235e-01],\n",
       "        ...,\n",
       "        [-8.84397629e-01, -9.69193097e-01,  5.70535188e-04,\n",
       "         -4.71131607e-01, -9.33703247e-02],\n",
       "        [-9.06737270e-01, -8.51163945e-01, -4.76395283e-02,\n",
       "         -4.87335430e-01,  8.60661993e-02],\n",
       "        [-9.09881134e-01, -8.51163945e-01, -1.68164687e-01,\n",
       "         -4.99395826e-01,  6.38033080e-03]]])"
      ]
     },
     "execution_count": 212,
     "metadata": {},
     "output_type": "execute_result"
    }
   ],
   "source": [
    "datax # ide: Ta siste x for å finne neste y. Del opp datasettet der etter"
   ]
  },
  {
   "cell_type": "code",
   "execution_count": 75,
   "metadata": {},
   "outputs": [
    {
     "name": "stdout",
     "output_type": "stream",
     "text": [
      "Model: \"sequential_4\"\n",
      "_________________________________________________________________\n",
      "Layer (type)                 Output Shape              Param #   \n",
      "=================================================================\n",
      "lstm_8 (LSTM)                (None, None, 256)         268288    \n",
      "_________________________________________________________________\n",
      "dropout_8 (Dropout)          (None, None, 256)         0         \n",
      "_________________________________________________________________\n",
      "lstm_9 (LSTM)                (None, 256)               525312    \n",
      "_________________________________________________________________\n",
      "dropout_9 (Dropout)          (None, 256)               0         \n",
      "_________________________________________________________________\n",
      "dense_4 (Dense)              (None, 10)                2570      \n",
      "=================================================================\n",
      "Total params: 796,170\n",
      "Trainable params: 796,170\n",
      "Non-trainable params: 0\n",
      "_________________________________________________________________\n"
     ]
    }
   ],
   "source": [
    "model = tf.keras.Sequential()\n",
    "\n",
    "model.add(tf.keras.layers.LSTM(input_dim=dataxes[0].shape[2], units=256, return_sequences=True))\n",
    "model.add(tf.keras.layers.Dropout(0.2))\n",
    "model.add(tf.keras.layers.LSTM(units=256, return_sequences=False))\n",
    "model.add(tf.keras.layers.Dropout(0.2))\n",
    "model.add(tf.keras.layers.Dense(datayes[0].shape[1]))\n",
    "\n",
    "model.compile(optimizer='adam', loss='mae')\n",
    "\n",
    "model.summary()"
   ]
  },
  {
   "cell_type": "code",
   "execution_count": 78,
   "metadata": {
    "scrolled": true
   },
   "outputs": [
    {
     "name": "stdout",
     "output_type": "stream",
     "text": [
      "Train on 197 samples\n",
      "Epoch 1/10\n",
      "197/197 - 5s - loss: 0.7760\n",
      "Epoch 2/10\n",
      "197/197 - 1s - loss: 0.5465\n",
      "Epoch 3/10\n",
      "197/197 - 1s - loss: 0.3119\n",
      "Epoch 4/10\n",
      "197/197 - 1s - loss: 0.3024\n",
      "Epoch 5/10\n",
      "197/197 - 1s - loss: 0.2656\n",
      "Epoch 6/10\n",
      "197/197 - 1s - loss: 0.2427\n",
      "Epoch 7/10\n",
      "197/197 - 1s - loss: 0.2242\n",
      "Epoch 8/10\n",
      "197/197 - 1s - loss: 0.1975\n",
      "Epoch 9/10\n",
      "197/197 - 1s - loss: 0.1953\n",
      "Epoch 10/10\n",
      "197/197 - 1s - loss: 0.1885\n",
      "Train on 336 samples\n",
      "Epoch 1/10\n",
      "336/336 - 2s - loss: 0.3927\n",
      "Epoch 2/10\n",
      "336/336 - 2s - loss: 0.1956\n",
      "Epoch 3/10\n",
      "336/336 - 2s - loss: 0.1729\n",
      "Epoch 4/10\n",
      "336/336 - 2s - loss: 0.1461\n",
      "Epoch 5/10\n",
      "336/336 - 2s - loss: 0.1307\n",
      "Epoch 6/10\n",
      "336/336 - 2s - loss: 0.1195\n",
      "Epoch 7/10\n",
      "336/336 - 2s - loss: 0.1176\n",
      "Epoch 8/10\n",
      "336/336 - 2s - loss: 0.1077\n",
      "Epoch 9/10\n",
      "336/336 - 2s - loss: 0.1063\n",
      "Epoch 10/10\n",
      "336/336 - 2s - loss: 0.1067\n",
      "Train on 317 samples\n",
      "Epoch 1/10\n",
      "317/317 - 2s - loss: 0.1027\n",
      "Epoch 2/10\n",
      "317/317 - 1s - loss: 0.0544\n",
      "Epoch 3/10\n",
      "317/317 - 2s - loss: 0.0458\n",
      "Epoch 4/10\n",
      "317/317 - 2s - loss: 0.0358\n",
      "Epoch 5/10\n",
      "317/317 - 2s - loss: 0.0295\n",
      "Epoch 6/10\n",
      "317/317 - 1s - loss: 0.0267\n",
      "Epoch 7/10\n",
      "317/317 - 2s - loss: 0.0239\n",
      "Epoch 8/10\n",
      "317/317 - 2s - loss: 0.0214\n",
      "Epoch 9/10\n",
      "317/317 - 2s - loss: 0.0194\n",
      "Epoch 10/10\n",
      "317/317 - 1s - loss: 0.0182\n",
      "Train on 369 samples\n",
      "Epoch 1/10\n",
      "369/369 - 2s - loss: 0.0762\n",
      "Epoch 2/10\n",
      "369/369 - 2s - loss: 0.0617\n",
      "Epoch 3/10\n",
      "369/369 - 2s - loss: 0.0554\n",
      "Epoch 4/10\n",
      "369/369 - 2s - loss: 0.0511\n",
      "Epoch 5/10\n",
      "369/369 - 2s - loss: 0.0501\n",
      "Epoch 6/10\n",
      "369/369 - 2s - loss: 0.0470\n",
      "Epoch 7/10\n",
      "369/369 - 2s - loss: 0.0460\n",
      "Epoch 8/10\n",
      "369/369 - 2s - loss: 0.0444\n",
      "Epoch 9/10\n",
      "369/369 - 2s - loss: 0.0438\n",
      "Epoch 10/10\n",
      "369/369 - 2s - loss: 0.0443\n",
      "Train on 394 samples\n",
      "Epoch 1/10\n",
      "394/394 - 2s - loss: 0.1048\n",
      "Epoch 2/10\n",
      "394/394 - 2s - loss: 0.0687\n",
      "Epoch 3/10\n",
      "394/394 - 2s - loss: 0.0591\n",
      "Epoch 4/10\n",
      "394/394 - 2s - loss: 0.0509\n",
      "Epoch 5/10\n",
      "394/394 - 2s - loss: 0.0471\n",
      "Epoch 6/10\n",
      "394/394 - 2s - loss: 0.0450\n",
      "Epoch 7/10\n",
      "394/394 - 2s - loss: 0.0438\n",
      "Epoch 8/10\n",
      "394/394 - 2s - loss: 0.0497\n",
      "Epoch 9/10\n",
      "394/394 - 2s - loss: 0.0435\n",
      "Epoch 10/10\n",
      "394/394 - 2s - loss: 0.0393\n",
      "Train on 245 samples\n",
      "Epoch 1/10\n",
      "245/245 - 1s - loss: 0.9782\n",
      "Epoch 2/10\n",
      "245/245 - 1s - loss: 0.5176\n",
      "Epoch 3/10\n",
      "245/245 - 2s - loss: 0.3661\n",
      "Epoch 4/10\n",
      "245/245 - 1s - loss: 0.3180\n",
      "Epoch 5/10\n",
      "245/245 - 2s - loss: 0.3726\n",
      "Epoch 6/10\n",
      "245/245 - 2s - loss: 0.2723\n",
      "Epoch 7/10\n",
      "245/245 - 2s - loss: 0.2549\n",
      "Epoch 8/10\n",
      "245/245 - 1s - loss: 0.2110\n",
      "Epoch 9/10\n",
      "245/245 - 1s - loss: 0.1759\n",
      "Epoch 10/10\n",
      "245/245 - 2s - loss: 0.1570\n",
      "Train on 367 samples\n",
      "Epoch 1/10\n",
      "367/367 - 2s - loss: 0.2970\n",
      "Epoch 2/10\n",
      "367/367 - 2s - loss: 0.1959\n",
      "Epoch 3/10\n",
      "367/367 - 2s - loss: 0.1497\n",
      "Epoch 4/10\n",
      "367/367 - 2s - loss: 0.1157\n",
      "Epoch 5/10\n",
      "367/367 - 2s - loss: 0.1023\n",
      "Epoch 6/10\n",
      "367/367 - 2s - loss: 0.0981\n",
      "Epoch 7/10\n",
      "367/367 - 2s - loss: 0.0846\n",
      "Epoch 8/10\n",
      "367/367 - 3s - loss: 0.0836\n",
      "Epoch 9/10\n",
      "367/367 - 2s - loss: 0.0775\n",
      "Epoch 10/10\n",
      "367/367 - 2s - loss: 0.0750\n",
      "Train on 255 samples\n",
      "Epoch 1/10\n",
      "255/255 - 2s - loss: 0.1955\n",
      "Epoch 2/10\n",
      "255/255 - 1s - loss: 0.0862\n",
      "Epoch 3/10\n",
      "255/255 - 1s - loss: 0.0888\n",
      "Epoch 4/10\n",
      "255/255 - 1s - loss: 0.0868\n",
      "Epoch 5/10\n",
      "255/255 - 1s - loss: 0.0838\n",
      "Epoch 6/10\n",
      "255/255 - 2s - loss: 0.0830\n",
      "Epoch 7/10\n",
      "255/255 - 1s - loss: 0.0806\n",
      "Epoch 8/10\n",
      "255/255 - 2s - loss: 0.0790\n",
      "Epoch 9/10\n",
      "255/255 - 3s - loss: 0.0774\n",
      "Epoch 10/10\n",
      "255/255 - 2s - loss: 0.0757\n",
      "Train on 332 samples\n",
      "Epoch 1/10\n",
      "332/332 - 3s - loss: 0.2881\n",
      "Epoch 2/10\n",
      "332/332 - 3s - loss: 0.1934\n",
      "Epoch 3/10\n",
      "332/332 - 2s - loss: 0.1571\n",
      "Epoch 4/10\n",
      "332/332 - 3s - loss: 0.1109\n",
      "Epoch 5/10\n",
      "332/332 - 2s - loss: 0.0921\n",
      "Epoch 6/10\n",
      "332/332 - 2s - loss: 0.0787\n",
      "Epoch 7/10\n",
      "332/332 - 2s - loss: 0.0924\n",
      "Epoch 8/10\n",
      "332/332 - 2s - loss: 0.0744\n",
      "Epoch 9/10\n",
      "332/332 - 2s - loss: 0.0644\n",
      "Epoch 10/10\n",
      "332/332 - 2s - loss: 0.0630\n"
     ]
    }
   ],
   "source": [
    "for i in range(len(dataxes)):\n",
    "    history = model.fit(dataxes[i], datayes[i], epochs=10, batch_size=64, verbose=2)#,\n",
    "         ##callbacks= [keras.callbacks.EarlyStopping(\n",
    "                                  #  monitor='val_loss', patience=10, restore_best_weights=True)])"
   ]
  },
  {
   "cell_type": "code",
   "execution_count": 24,
   "metadata": {},
   "outputs": [
    {
     "data": {
      "text/plain": [
       "[<matplotlib.lines.Line2D at 0x2a76b105208>]"
      ]
     },
     "execution_count": 24,
     "metadata": {},
     "output_type": "execute_result"
    },
    {
     "data": {
      "image/png": "[encoded data removed]",
      "text/plain": [
       "<Figure size 432x288 with 1 Axes>"
      ]
     },
     "metadata": {
      "needs_background": "light"
     },
     "output_type": "display_data"
    }
   ],
   "source": [
    "plt.plot(history.history['loss'])\n",
    "plt.plot(history.history['val_loss'])"
   ]
  },
  {
   "cell_type": "code",
   "execution_count": 209,
   "metadata": {},
   "outputs": [],
   "source": [
    "predicts = []\n",
    "for i in dataxes:\n",
    "    predict = model.predict(i)\n",
    "    predicts.append(predict)"
   ]
  },
  {
   "cell_type": "code",
   "execution_count": 210,
   "metadata": {
    "scrolled": true
   },
   "outputs": [
    {
     "ename": "ValueError",
     "evalue": "x and y must have same first dimension, but have shapes (0,) and (10,)",
     "output_type": "error",
     "traceback": [
      "\u001b[1;31m---------------------------------------------------------------------------\u001b[0m",
      "\u001b[1;31mValueError\u001b[0m                                Traceback (most recent call last)",
      "\u001b[1;32m<ipython-input-210-47b0ea89d375>\u001b[0m in \u001b[0;36m<module>\u001b[1;34m\u001b[0m\n\u001b[0;32m      3\u001b[0m     \u001b[1;32mfor\u001b[0m \u001b[0mi\u001b[0m \u001b[1;32min\u001b[0m \u001b[0mrange\u001b[0m\u001b[1;33m(\u001b[0m\u001b[0mlen\u001b[0m\u001b[1;33m(\u001b[0m\u001b[0mdatayes\u001b[0m\u001b[1;33m[\u001b[0m\u001b[0mj\u001b[0m\u001b[1;33m]\u001b[0m\u001b[1;33m)\u001b[0m\u001b[1;33m)\u001b[0m\u001b[1;33m:\u001b[0m\u001b[1;33m\u001b[0m\u001b[1;33m\u001b[0m\u001b[0m\n\u001b[0;32m      4\u001b[0m         \u001b[0mplt\u001b[0m\u001b[1;33m.\u001b[0m\u001b[0mplot\u001b[0m\u001b[1;33m(\u001b[0m\u001b[0mrange\u001b[0m\u001b[1;33m(\u001b[0m\u001b[0mi\u001b[0m\u001b[1;33m+\u001b[0m\u001b[0mlook_back\u001b[0m\u001b[1;33m,\u001b[0m\u001b[0mi\u001b[0m\u001b[1;33m+\u001b[0m\u001b[0mlook_back\u001b[0m\u001b[1;33m+\u001b[0m\u001b[0mlook_forward\u001b[0m\u001b[1;33m)\u001b[0m\u001b[1;33m,\u001b[0m \u001b[0mdatayes\u001b[0m\u001b[1;33m[\u001b[0m\u001b[0mj\u001b[0m\u001b[1;33m]\u001b[0m\u001b[1;33m[\u001b[0m\u001b[0mi\u001b[0m\u001b[1;33m]\u001b[0m\u001b[1;33m,\u001b[0m \u001b[0mc\u001b[0m\u001b[1;33m=\u001b[0m\u001b[1;34m'black'\u001b[0m\u001b[1;33m)\u001b[0m\u001b[1;33m\u001b[0m\u001b[1;33m\u001b[0m\u001b[0m\n\u001b[1;32m----> 5\u001b[1;33m         \u001b[0mplt\u001b[0m\u001b[1;33m.\u001b[0m\u001b[0mplot\u001b[0m\u001b[1;33m(\u001b[0m\u001b[0mrange\u001b[0m\u001b[1;33m(\u001b[0m\u001b[0mi\u001b[0m\u001b[1;33m+\u001b[0m\u001b[0mlook_back\u001b[0m\u001b[1;33m,\u001b[0m\u001b[0mi\u001b[0m\u001b[1;33m+\u001b[0m\u001b[0mlook_forward\u001b[0m\u001b[1;33m+\u001b[0m\u001b[0mlook_forward\u001b[0m\u001b[1;33m)\u001b[0m\u001b[1;33m,\u001b[0m \u001b[0mpredicts\u001b[0m\u001b[1;33m[\u001b[0m\u001b[0mj\u001b[0m\u001b[1;33m]\u001b[0m\u001b[1;33m[\u001b[0m\u001b[0mi\u001b[0m\u001b[1;33m]\u001b[0m\u001b[1;33m,\u001b[0m \u001b[0mc\u001b[0m\u001b[1;33m=\u001b[0m\u001b[1;34m'red'\u001b[0m\u001b[1;33m)\u001b[0m \u001b[1;31m#JEG tror det er noe feil her\u001b[0m\u001b[1;33m\u001b[0m\u001b[1;33m\u001b[0m\u001b[0m\n\u001b[0m\u001b[0;32m      6\u001b[0m \u001b[1;33m\u001b[0m\u001b[0m\n\u001b[0;32m      7\u001b[0m     \u001b[1;31m#plt.plot(range(0,15), datay[19], label='true')\u001b[0m\u001b[1;33m\u001b[0m\u001b[1;33m\u001b[0m\u001b[1;33m\u001b[0m\u001b[0m\n",
      "\u001b[1;32m~\\anaconda3\\lib\\site-packages\\matplotlib\\pyplot.py\u001b[0m in \u001b[0;36mplot\u001b[1;34m(scalex, scaley, data, *args, **kwargs)\u001b[0m\n\u001b[0;32m   2824\u001b[0m     return gca().plot(\n\u001b[0;32m   2825\u001b[0m         \u001b[1;33m*\u001b[0m\u001b[0margs\u001b[0m\u001b[1;33m,\u001b[0m \u001b[0mscalex\u001b[0m\u001b[1;33m=\u001b[0m\u001b[0mscalex\u001b[0m\u001b[1;33m,\u001b[0m \u001b[0mscaley\u001b[0m\u001b[1;33m=\u001b[0m\u001b[0mscaley\u001b[0m\u001b[1;33m,\u001b[0m\u001b[1;33m\u001b[0m\u001b[1;33m\u001b[0m\u001b[0m\n\u001b[1;32m-> 2826\u001b[1;33m         **({\"data\": data} if data is not None else {}), **kwargs)\n\u001b[0m\u001b[0;32m   2827\u001b[0m \u001b[1;33m\u001b[0m\u001b[0m\n\u001b[0;32m   2828\u001b[0m \u001b[1;33m\u001b[0m\u001b[0m\n",
      "\u001b[1;32m~\\anaconda3\\lib\\site-packages\\matplotlib\\axes\\_axes.py\u001b[0m in \u001b[0;36mplot\u001b[1;34m(self, scalex, scaley, data, *args, **kwargs)\u001b[0m\n\u001b[0;32m   1741\u001b[0m         \"\"\"\n\u001b[0;32m   1742\u001b[0m         \u001b[0mkwargs\u001b[0m \u001b[1;33m=\u001b[0m \u001b[0mcbook\u001b[0m\u001b[1;33m.\u001b[0m\u001b[0mnormalize_kwargs\u001b[0m\u001b[1;33m(\u001b[0m\u001b[0mkwargs\u001b[0m\u001b[1;33m,\u001b[0m \u001b[0mmlines\u001b[0m\u001b[1;33m.\u001b[0m\u001b[0mLine2D\u001b[0m\u001b[1;33m)\u001b[0m\u001b[1;33m\u001b[0m\u001b[1;33m\u001b[0m\u001b[0m\n\u001b[1;32m-> 1743\u001b[1;33m         \u001b[0mlines\u001b[0m \u001b[1;33m=\u001b[0m \u001b[1;33m[\u001b[0m\u001b[1;33m*\u001b[0m\u001b[0mself\u001b[0m\u001b[1;33m.\u001b[0m\u001b[0m_get_lines\u001b[0m\u001b[1;33m(\u001b[0m\u001b[1;33m*\u001b[0m\u001b[0margs\u001b[0m\u001b[1;33m,\u001b[0m \u001b[0mdata\u001b[0m\u001b[1;33m=\u001b[0m\u001b[0mdata\u001b[0m\u001b[1;33m,\u001b[0m \u001b[1;33m**\u001b[0m\u001b[0mkwargs\u001b[0m\u001b[1;33m)\u001b[0m\u001b[1;33m]\u001b[0m\u001b[1;33m\u001b[0m\u001b[1;33m\u001b[0m\u001b[0m\n\u001b[0m\u001b[0;32m   1744\u001b[0m         \u001b[1;32mfor\u001b[0m \u001b[0mline\u001b[0m \u001b[1;32min\u001b[0m \u001b[0mlines\u001b[0m\u001b[1;33m:\u001b[0m\u001b[1;33m\u001b[0m\u001b[1;33m\u001b[0m\u001b[0m\n\u001b[0;32m   1745\u001b[0m             \u001b[0mself\u001b[0m\u001b[1;33m.\u001b[0m\u001b[0madd_line\u001b[0m\u001b[1;33m(\u001b[0m\u001b[0mline\u001b[0m\u001b[1;33m)\u001b[0m\u001b[1;33m\u001b[0m\u001b[1;33m\u001b[0m\u001b[0m\n",
      "\u001b[1;32m~\\anaconda3\\lib\\site-packages\\matplotlib\\axes\\_base.py\u001b[0m in \u001b[0;36m__call__\u001b[1;34m(self, data, *args, **kwargs)\u001b[0m\n\u001b[0;32m    271\u001b[0m                 \u001b[0mthis\u001b[0m \u001b[1;33m+=\u001b[0m \u001b[0margs\u001b[0m\u001b[1;33m[\u001b[0m\u001b[1;36m0\u001b[0m\u001b[1;33m]\u001b[0m\u001b[1;33m,\u001b[0m\u001b[1;33m\u001b[0m\u001b[1;33m\u001b[0m\u001b[0m\n\u001b[0;32m    272\u001b[0m                 \u001b[0margs\u001b[0m \u001b[1;33m=\u001b[0m \u001b[0margs\u001b[0m\u001b[1;33m[\u001b[0m\u001b[1;36m1\u001b[0m\u001b[1;33m:\u001b[0m\u001b[1;33m]\u001b[0m\u001b[1;33m\u001b[0m\u001b[1;33m\u001b[0m\u001b[0m\n\u001b[1;32m--> 273\u001b[1;33m             \u001b[1;32myield\u001b[0m \u001b[1;32mfrom\u001b[0m \u001b[0mself\u001b[0m\u001b[1;33m.\u001b[0m\u001b[0m_plot_args\u001b[0m\u001b[1;33m(\u001b[0m\u001b[0mthis\u001b[0m\u001b[1;33m,\u001b[0m \u001b[0mkwargs\u001b[0m\u001b[1;33m)\u001b[0m\u001b[1;33m\u001b[0m\u001b[1;33m\u001b[0m\u001b[0m\n\u001b[0m\u001b[0;32m    274\u001b[0m \u001b[1;33m\u001b[0m\u001b[0m\n\u001b[0;32m    275\u001b[0m     \u001b[1;32mdef\u001b[0m \u001b[0mget_next_color\u001b[0m\u001b[1;33m(\u001b[0m\u001b[0mself\u001b[0m\u001b[1;33m)\u001b[0m\u001b[1;33m:\u001b[0m\u001b[1;33m\u001b[0m\u001b[1;33m\u001b[0m\u001b[0m\n",
      "\u001b[1;32m~\\anaconda3\\lib\\site-packages\\matplotlib\\axes\\_base.py\u001b[0m in \u001b[0;36m_plot_args\u001b[1;34m(self, tup, kwargs)\u001b[0m\n\u001b[0;32m    397\u001b[0m \u001b[1;33m\u001b[0m\u001b[0m\n\u001b[0;32m    398\u001b[0m         \u001b[1;32mif\u001b[0m \u001b[0mx\u001b[0m\u001b[1;33m.\u001b[0m\u001b[0mshape\u001b[0m\u001b[1;33m[\u001b[0m\u001b[1;36m0\u001b[0m\u001b[1;33m]\u001b[0m \u001b[1;33m!=\u001b[0m \u001b[0my\u001b[0m\u001b[1;33m.\u001b[0m\u001b[0mshape\u001b[0m\u001b[1;33m[\u001b[0m\u001b[1;36m0\u001b[0m\u001b[1;33m]\u001b[0m\u001b[1;33m:\u001b[0m\u001b[1;33m\u001b[0m\u001b[1;33m\u001b[0m\u001b[0m\n\u001b[1;32m--> 399\u001b[1;33m             raise ValueError(f\"x and y must have same first dimension, but \"\n\u001b[0m\u001b[0;32m    400\u001b[0m                              f\"have shapes {x.shape} and {y.shape}\")\n\u001b[0;32m    401\u001b[0m         \u001b[1;32mif\u001b[0m \u001b[0mx\u001b[0m\u001b[1;33m.\u001b[0m\u001b[0mndim\u001b[0m \u001b[1;33m>\u001b[0m \u001b[1;36m2\u001b[0m \u001b[1;32mor\u001b[0m \u001b[0my\u001b[0m\u001b[1;33m.\u001b[0m\u001b[0mndim\u001b[0m \u001b[1;33m>\u001b[0m \u001b[1;36m2\u001b[0m\u001b[1;33m:\u001b[0m\u001b[1;33m\u001b[0m\u001b[1;33m\u001b[0m\u001b[0m\n",
      "\u001b[1;31mValueError\u001b[0m: x and y must have same first dimension, but have shapes (0,) and (10,)"
     ]
    },
    {
     "data": {
      "image/png": "[encoded data removed]",
      "text/plain": [
       "<Figure size 432x288 with 1 Axes>"
      ]
     },
     "metadata": {
      "needs_background": "light"
     },
     "output_type": "display_data"
    }
   ],
   "source": [
    "for j in range(len(dataxes)):\n",
    "    plt.plot(sanne[j], c='blue')\n",
    "    for i in range(len(datayes[j])):\n",
    "        plt.plot(range(i+look_back,i+look_back+look_forward), datayes[j][i], c='black')\n",
    "        plt.plot(range(i+look_back,i+look_forward+look_forward), predicts[j][i], c='red') #JEG tror det er noe feil her\n",
    "\n",
    "    #plt.plot(range(0,15), datay[19], label='true')\n",
    "    #plt.plot(range(1,16), datay[20], label='true')\n",
    "    #plt.plot(range(1,16), predict[20], label='predicted')\n",
    "    #plt.legend()\n",
    "    plt.title('Prediction ')\n",
    "    #plt.savefig('images/RNN_15_ahead')\n",
    "    plt.show()\n"
   ]
  },
  {
   "cell_type": "code",
   "execution_count": 85,
   "metadata": {
    "scrolled": true
   },
   "outputs": [
    {
     "data": {
      "text/plain": [
       "array([0.76824886, 0.98426884, 1.1329707 , 0.989848  , 1.1416246 ,\n",
       "       1.0954686 , 0.9367621 , 0.94854134, 0.5770784 , 0.5705154 ,\n",
       "       0.5571046 , 0.36905763, 0.28623486, 0.27843568, 0.05921907],\n",
       "      dtype=float32)"
      ]
     },
     "execution_count": 85,
     "metadata": {},
     "output_type": "execute_result"
    }
   ],
   "source": [
    "predict[0]"
   ]
  },
  {
   "cell_type": "code",
   "execution_count": 120,
   "metadata": {},
   "outputs": [
    {
     "data": {
      "text/plain": [
       "[<matplotlib.lines.Line2D at 0x1e782bb68c8>]"
      ]
     },
     "execution_count": 120,
     "metadata": {},
     "output_type": "execute_result"
    },
    {
     "data": {
      "image/png": "[encoded data removed]",
      "text/plain": [
       "<Figure size 432x288 with 1 Axes>"
      ]
     },
     "metadata": {
      "needs_background": "light"
     },
     "output_type": "display_data"
    }
   ],
   "source": [
    "plt.plot(data.sma30_derivert)\n",
    "#plt.plot(data.sma5_derivert)"
   ]
  },
  {
   "cell_type": "code",
   "execution_count": 121,
   "metadata": {},
   "outputs": [
    {
     "data": {
      "text/plain": [
       "[<matplotlib.lines.Line2D at 0x1e7ff123588>]"
      ]
     },
     "execution_count": 121,
     "metadata": {},
     "output_type": "execute_result"
    },
    {
     "data": {
      "image/png": "[encoded data removed]",
      "text/plain": [
       "<Figure size 432x288 with 1 Axes>"
      ]
     },
     "metadata": {
      "needs_background": "light"
     },
     "output_type": "display_data"
    }
   ],
   "source": [
    "plt.plot(data.open_30_sma)\n",
    "#plt.plot(data.sma5_derivert)"
   ]
  },
  {
   "cell_type": "code",
   "execution_count": 53,
   "metadata": {},
   "outputs": [
    {
     "name": "stdout",
     "output_type": "stream",
     "text": [
      "INFO:tensorflow:Assets written to: rnn_model\\assets\n"
     ]
    }
   ],
   "source": [
    "# Save model\n",
    "\n",
    "#model.save('rnn_model')"
   ]
  },
  {
   "cell_type": "code",
   "execution_count": 55,
   "metadata": {},
   "outputs": [],
   "source": []
  },
  {
   "cell_type": "code",
   "execution_count": 56,
   "metadata": {},
   "outputs": [
    {
     "name": "stdout",
     "output_type": "stream",
     "text": [
      " Volume in drive C is Windows\n",
      " Volume Serial Number is 0223-158D\n",
      "\n",
      " Directory of C:\\Users\\Stian\\Documents\\School\\99. Div\\intradag\n",
      "\n",
      "19.09.2020  00.30    <DIR>          .\n",
      "19.09.2020  00.30    <DIR>          ..\n",
      "16.08.2020  17.38    <DIR>          .idea\n",
      "01.09.2020  19.48    <DIR>          .ipynb_checkpoints\n",
      "24.08.2020  21.27    <DIR>          data\n",
      "26.08.2020  22.16    <DIR>          history\n",
      "18.09.2020  19.30    <DIR>          images\n",
      "25.08.2020  13.08    <DIR>          lib\n",
      "30.08.2020  10.25           514ÿ958 make_model.ipynb\n",
      "19.09.2020  00.30    <DIR>          models\n",
      "29.08.2020  11.29               664 README.md\n",
      "19.09.2020  00.29           132ÿ506 RNN_trial.ipynb\n",
      "16.08.2020  17.14         3ÿ922ÿ732 smadaytrade.ipynb\n",
      "01.09.2020  20.07           775ÿ971 use_model.ipynb\n",
      "17.08.2020  12.53    <DIR>          __pycache__\n",
      "               5 File(s)      5ÿ346ÿ831 bytes\n",
      "              10 Dir(s)  75ÿ003ÿ355ÿ136 bytes free\n"
     ]
    }
   ],
   "source": [
    "!dir"
   ]
  },
  {
   "cell_type": "code",
   "execution_count": null,
   "metadata": {},
   "outputs": [],
   "source": []
  }
 ],
 "metadata": {
  "kernelspec": {
   "display_name": "Python 3",
   "language": "python",
   "name": "python3"
  },
  "language_info": {
   "codemirror_mode": {
    "name": "ipython",
    "version": 3
   },
   "file_extension": ".py",
   "mimetype": "text/x-python",
   "name": "python",
   "nbconvert_exporter": "python",
   "pygments_lexer": "ipython3",
   "version": "3.7.7"
  }
 },
 "nbformat": 4,
 "nbformat_minor": 4
}
