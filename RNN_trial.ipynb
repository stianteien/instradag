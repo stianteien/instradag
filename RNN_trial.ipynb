{
 "cells": [
  {
   "cell_type": "code",
   "execution_count": 1,
   "metadata": {},
   "outputs": [],
   "source": [
    "try :\n",
    "    # % tensorflow_version only exists in Colab .\n",
    "    % tensorflow_version 2. x\n",
    "except Exception :\n",
    "    pass\n",
    "\n",
    "import tensorflow as tf\n",
    "from tensorflow import keras\n",
    "import numpy as np\n",
    "import pandas as pd\n",
    "import stockstats\n",
    "import os\n",
    "import matplotlib.pyplot as plt\n",
    "\n",
    "from sklearn import preprocessing\n",
    "from sklearn.model_selection import train_test_split\n",
    "\n",
    "from lib.rens import rens"
   ]
  },
  {
   "cell_type": "code",
   "execution_count": 63,
   "metadata": {},
   "outputs": [],
   "source": [
    "def create_dataset(dataset, true_price, look_back = 1, look_forward = 1):\n",
    "      \n",
    "    # MinMax\n",
    "    #min_max_scaler = preprocessing.MinMaxScaler(feature_range=(0, 1))\n",
    "    #dataset = min_max_scaler.fit_transform(dataset)\n",
    "    \n",
    "    # Standarised\n",
    "    sc = preprocessing.StandardScaler()\n",
    "    dataset = sc.fit_transform(dataset)\n",
    "\n",
    "    \n",
    "    #print(dataset)\n",
    "    lookback = look_back\n",
    "    datax = []\n",
    "    datay = []\n",
    "    \n",
    "    # Time1\n",
    "    # [x1, x2, x3]\n",
    "    # time2\n",
    "    # [x1, x2, x3]\n",
    "    # Target y kan være som det er\n",
    "    # (sampels, lookbacks, features)\n",
    "    \n",
    "    # Append først den ene så den andre\n",
    "    datax1 = []\n",
    "    datax2 = []\n",
    "    #for i,features in enumerate(dataset):\n",
    "    #    if i > lookback:\n",
    "    #        for j in range(lookback, 0, -1):\n",
    "                \n",
    "                \n",
    "            #datax1.append([dataset[i-j][0] for j in range(lookback, 0, -1)]) #x1\n",
    "            #datax2.append([dataset[i-j][1] for j in range(lookback, 0, -1)]) #x2\n",
    "    #        datay.append(true_price[i])  \n",
    "    \n",
    "    for i,v in enumerate(dataset):\n",
    "        if i > lookback + look_forward:\n",
    "            datax.append([dataset[i-j] for j in range(lookback, 0, -1)])\n",
    "            datay.append([true_price[i-j] for j in range(lookback+look_forward, lookback, -1)])    \n",
    "\n",
    "    #datax.append(datax1)\n",
    "    #datax.append(datax2)\n",
    "    \n",
    "    datax = np.array(datax)\n",
    "    datay = np.array(datay)\n",
    "    \n",
    "    # Standardize y data\n",
    "    mean = datay.mean(axis=0)\n",
    "    datay -= mean\n",
    "    std = datay.std(axis=0)\n",
    "    datay /= std\n",
    "\n",
    "    print(datax.shape)\n",
    "    \n",
    "    \n",
    "    \n",
    "    # Normalize\n",
    "    #datax = preprocessing.normalize(datax)\n",
    "    #datay = preprocessing.normalize(datay)\n",
    "    \n",
    "    # reshape input to be [samples, time steps, features]\n",
    "    #datax = np.reshape(datax, (datax.shape[0], lookback, 1))\n",
    "    \n",
    "    return datax, datay"
   ]
  },
  {
   "cell_type": "code",
   "execution_count": 5,
   "metadata": {},
   "outputs": [],
   "source": [
    "def make_ready(filer):\n",
    "    for i, fil in enumerate(filer):\n",
    "        print(f\"{i+1} av {len(filer)} renset\" ,end='\\r')\n",
    "        data = cleanup.clean_data(pd.read_excel(fil))\n",
    "        stock = stockstats.StockDataFrame.retype(data)\n",
    "        indikatorer = ['rsi_20', 'trix', 'open_8_sma', 'open_16_sma', 'macds', 'open_30_sma', 'open_5_sma']\n",
    "        for ind in indikatorer:\n",
    "            stock.get(ind)\n",
    "        stock['sma8-16'] = [stock.open_8_sma[i] - stock.open_16_sma[i] for i, value in enumerate(stock.open_8_sma)]\n",
    "        stock['sma30_derivert'] = [stock.open_30_sma[i] / stock.open_30_sma[i-1] if i>1 else 1 \n",
    "                                   for i, value in enumerate(stock.open_30_sma)]\n",
    "        stock['sma5_derivert'] = [stock.open_5_sma[i] / stock.open_5_sma[i-1] if i>1 else 1 \n",
    "                                   for i, value in enumerate(stock.open_5_sma)]\n",
    "        stock['derivert'] = [stock.open[i] / stock.open[i-1] if i>1 else 1\n",
    "                             for i, value in enumerate(stock.open)]\n",
    "\n",
    "        #evaluate_trades(stock)\n",
    "        break # må tas bort ettervært\n",
    "    \n",
    "    return stock\n",
    "\n",
    "    \n",
    "def add_data(word):\n",
    "    ordet = 'data/' + word\n",
    "    return ordet"
   ]
  },
  {
   "cell_type": "code",
   "execution_count": 6,
   "metadata": {},
   "outputs": [],
   "source": [
    "cleanup = rens()"
   ]
  },
  {
   "cell_type": "code",
   "execution_count": 98,
   "metadata": {},
   "outputs": [
    {
     "name": "stdout",
     "output_type": "stream",
     "text": [
      "1 av 10 renset\r"
     ]
    },
    {
     "name": "stderr",
     "output_type": "stream",
     "text": [
      "C:\\Users\\Stian\\anaconda3\\lib\\site-packages\\pandas\\core\\indexing.py:670: SettingWithCopyWarning: \n",
      "A value is trying to be set on a copy of a slice from a DataFrame\n",
      "\n",
      "See the caveats in the documentation: https://pandas.pydata.org/pandas-docs/stable/user_guide/indexing.html#returning-a-view-versus-a-copy\n",
      "  iloc._setitem_with_indexer(indexer, value)\n",
      "NOTE: Behavior of MACDH calculation has changed as of July 2017 - it is now 1/2 of previous calculated values\n"
     ]
    },
    {
     "data": {
      "text/html": [
       "<div>\n",
       "<style scoped>\n",
       "    .dataframe tbody tr th:only-of-type {\n",
       "        vertical-align: middle;\n",
       "    }\n",
       "\n",
       "    .dataframe tbody tr th {\n",
       "        vertical-align: top;\n",
       "    }\n",
       "\n",
       "    .dataframe thead th {\n",
       "        text-align: right;\n",
       "    }\n",
       "</style>\n",
       "<table border=\"1\" class=\"dataframe\">\n",
       "  <thead>\n",
       "    <tr style=\"text-align: right;\">\n",
       "      <th></th>\n",
       "      <th>tid</th>\n",
       "      <th>open</th>\n",
       "      <th>close</th>\n",
       "      <th>high</th>\n",
       "      <th>low</th>\n",
       "      <th>volume</th>\n",
       "      <th>amount</th>\n",
       "      <th>close_-1_s</th>\n",
       "      <th>close_-1_d</th>\n",
       "      <th>rs_20</th>\n",
       "      <th>...</th>\n",
       "      <th>open_16_sma</th>\n",
       "      <th>macd</th>\n",
       "      <th>macds</th>\n",
       "      <th>macdh</th>\n",
       "      <th>open_30_sma</th>\n",
       "      <th>open_5_sma</th>\n",
       "      <th>sma8-16</th>\n",
       "      <th>sma30_derivert</th>\n",
       "      <th>sma5_derivert</th>\n",
       "      <th>derivert</th>\n",
       "    </tr>\n",
       "  </thead>\n",
       "  <tbody>\n",
       "    <tr>\n",
       "      <th>0</th>\n",
       "      <td>9:0</td>\n",
       "      <td>354.9</td>\n",
       "      <td>354.9</td>\n",
       "      <td>354.9</td>\n",
       "      <td>354.9</td>\n",
       "      <td>2298</td>\n",
       "      <td>2298</td>\n",
       "      <td>NaN</td>\n",
       "      <td>NaN</td>\n",
       "      <td>NaN</td>\n",
       "      <td>...</td>\n",
       "      <td>354.90000</td>\n",
       "      <td>0.000000</td>\n",
       "      <td>0.000000</td>\n",
       "      <td>0.000000</td>\n",
       "      <td>354.900000</td>\n",
       "      <td>354.90</td>\n",
       "      <td>0.00000</td>\n",
       "      <td>1.000000</td>\n",
       "      <td>1.000000</td>\n",
       "      <td>1.000000</td>\n",
       "    </tr>\n",
       "    <tr>\n",
       "      <th>1</th>\n",
       "      <td>9:1</td>\n",
       "      <td>353.6</td>\n",
       "      <td>353.6</td>\n",
       "      <td>353.6</td>\n",
       "      <td>353.6</td>\n",
       "      <td>880</td>\n",
       "      <td>880</td>\n",
       "      <td>354.9</td>\n",
       "      <td>-1.3</td>\n",
       "      <td>0.000000</td>\n",
       "      <td>...</td>\n",
       "      <td>354.25000</td>\n",
       "      <td>-0.029167</td>\n",
       "      <td>-0.016204</td>\n",
       "      <td>-0.012963</td>\n",
       "      <td>354.250000</td>\n",
       "      <td>354.25</td>\n",
       "      <td>0.00000</td>\n",
       "      <td>1.000000</td>\n",
       "      <td>1.000000</td>\n",
       "      <td>1.000000</td>\n",
       "    </tr>\n",
       "    <tr>\n",
       "      <th>2</th>\n",
       "      <td>9:2</td>\n",
       "      <td>352.3</td>\n",
       "      <td>352.3</td>\n",
       "      <td>352.3</td>\n",
       "      <td>352.3</td>\n",
       "      <td>612</td>\n",
       "      <td>612</td>\n",
       "      <td>353.6</td>\n",
       "      <td>-1.3</td>\n",
       "      <td>0.000000</td>\n",
       "      <td>...</td>\n",
       "      <td>353.60000</td>\n",
       "      <td>-0.077477</td>\n",
       "      <td>-0.041316</td>\n",
       "      <td>-0.036161</td>\n",
       "      <td>353.600000</td>\n",
       "      <td>353.60</td>\n",
       "      <td>0.00000</td>\n",
       "      <td>0.998165</td>\n",
       "      <td>0.998165</td>\n",
       "      <td>0.996324</td>\n",
       "    </tr>\n",
       "    <tr>\n",
       "      <th>3</th>\n",
       "      <td>9:3</td>\n",
       "      <td>352.8</td>\n",
       "      <td>352.8</td>\n",
       "      <td>352.8</td>\n",
       "      <td>352.8</td>\n",
       "      <td>2362</td>\n",
       "      <td>2362</td>\n",
       "      <td>352.3</td>\n",
       "      <td>0.5</td>\n",
       "      <td>0.207620</td>\n",
       "      <td>...</td>\n",
       "      <td>353.40000</td>\n",
       "      <td>-0.079498</td>\n",
       "      <td>-0.054250</td>\n",
       "      <td>-0.025248</td>\n",
       "      <td>353.400000</td>\n",
       "      <td>353.40</td>\n",
       "      <td>0.00000</td>\n",
       "      <td>0.999434</td>\n",
       "      <td>0.999434</td>\n",
       "      <td>1.001419</td>\n",
       "    </tr>\n",
       "    <tr>\n",
       "      <th>4</th>\n",
       "      <td>9:4</td>\n",
       "      <td>352.9</td>\n",
       "      <td>352.9</td>\n",
       "      <td>352.9</td>\n",
       "      <td>352.9</td>\n",
       "      <td>1182</td>\n",
       "      <td>1182</td>\n",
       "      <td>352.8</td>\n",
       "      <td>0.1</td>\n",
       "      <td>0.251329</td>\n",
       "      <td>...</td>\n",
       "      <td>353.30000</td>\n",
       "      <td>-0.074944</td>\n",
       "      <td>-0.060406</td>\n",
       "      <td>-0.014538</td>\n",
       "      <td>353.300000</td>\n",
       "      <td>353.30</td>\n",
       "      <td>0.00000</td>\n",
       "      <td>0.999717</td>\n",
       "      <td>0.999717</td>\n",
       "      <td>1.000283</td>\n",
       "    </tr>\n",
       "    <tr>\n",
       "      <th>...</th>\n",
       "      <td>...</td>\n",
       "      <td>...</td>\n",
       "      <td>...</td>\n",
       "      <td>...</td>\n",
       "      <td>...</td>\n",
       "      <td>...</td>\n",
       "      <td>...</td>\n",
       "      <td>...</td>\n",
       "      <td>...</td>\n",
       "      <td>...</td>\n",
       "      <td>...</td>\n",
       "      <td>...</td>\n",
       "      <td>...</td>\n",
       "      <td>...</td>\n",
       "      <td>...</td>\n",
       "      <td>...</td>\n",
       "      <td>...</td>\n",
       "      <td>...</td>\n",
       "      <td>...</td>\n",
       "      <td>...</td>\n",
       "      <td>...</td>\n",
       "    </tr>\n",
       "    <tr>\n",
       "      <th>330</th>\n",
       "      <td>16:16</td>\n",
       "      <td>354.0</td>\n",
       "      <td>354.0</td>\n",
       "      <td>354.0</td>\n",
       "      <td>354.0</td>\n",
       "      <td>1186</td>\n",
       "      <td>1186</td>\n",
       "      <td>353.8</td>\n",
       "      <td>0.2</td>\n",
       "      <td>1.960962</td>\n",
       "      <td>...</td>\n",
       "      <td>352.85625</td>\n",
       "      <td>0.510298</td>\n",
       "      <td>0.395469</td>\n",
       "      <td>0.114829</td>\n",
       "      <td>352.320000</td>\n",
       "      <td>353.58</td>\n",
       "      <td>0.26875</td>\n",
       "      <td>1.000208</td>\n",
       "      <td>1.000793</td>\n",
       "      <td>1.000565</td>\n",
       "    </tr>\n",
       "    <tr>\n",
       "      <th>331</th>\n",
       "      <td>16:17</td>\n",
       "      <td>354.7</td>\n",
       "      <td>354.7</td>\n",
       "      <td>354.7</td>\n",
       "      <td>354.7</td>\n",
       "      <td>1158</td>\n",
       "      <td>1158</td>\n",
       "      <td>354.0</td>\n",
       "      <td>0.7</td>\n",
       "      <td>2.351037</td>\n",
       "      <td>...</td>\n",
       "      <td>352.98125</td>\n",
       "      <td>0.600265</td>\n",
       "      <td>0.436428</td>\n",
       "      <td>0.163837</td>\n",
       "      <td>352.413333</td>\n",
       "      <td>353.88</td>\n",
       "      <td>0.49375</td>\n",
       "      <td>1.000265</td>\n",
       "      <td>1.000848</td>\n",
       "      <td>1.001977</td>\n",
       "    </tr>\n",
       "    <tr>\n",
       "      <th>332</th>\n",
       "      <td>16:18</td>\n",
       "      <td>354.4</td>\n",
       "      <td>354.4</td>\n",
       "      <td>354.4</td>\n",
       "      <td>354.4</td>\n",
       "      <td>654</td>\n",
       "      <td>654</td>\n",
       "      <td>354.7</td>\n",
       "      <td>-0.3</td>\n",
       "      <td>1.999226</td>\n",
       "      <td>...</td>\n",
       "      <td>353.10000</td>\n",
       "      <td>0.639980</td>\n",
       "      <td>0.477138</td>\n",
       "      <td>0.162842</td>\n",
       "      <td>352.516667</td>\n",
       "      <td>354.10</td>\n",
       "      <td>0.60000</td>\n",
       "      <td>1.000293</td>\n",
       "      <td>1.000622</td>\n",
       "      <td>0.999154</td>\n",
       "    </tr>\n",
       "    <tr>\n",
       "      <th>333</th>\n",
       "      <td>16:19</td>\n",
       "      <td>354.4</td>\n",
       "      <td>354.4</td>\n",
       "      <td>354.4</td>\n",
       "      <td>354.4</td>\n",
       "      <td>2771</td>\n",
       "      <td>2771</td>\n",
       "      <td>354.4</td>\n",
       "      <td>0.0</td>\n",
       "      <td>1.999226</td>\n",
       "      <td>...</td>\n",
       "      <td>353.20625</td>\n",
       "      <td>0.663803</td>\n",
       "      <td>0.514471</td>\n",
       "      <td>0.149331</td>\n",
       "      <td>352.636667</td>\n",
       "      <td>354.26</td>\n",
       "      <td>0.71875</td>\n",
       "      <td>1.000340</td>\n",
       "      <td>1.000452</td>\n",
       "      <td>1.000000</td>\n",
       "    </tr>\n",
       "    <tr>\n",
       "      <th>334</th>\n",
       "      <td>16:25</td>\n",
       "      <td>354.4</td>\n",
       "      <td>354.4</td>\n",
       "      <td>354.4</td>\n",
       "      <td>354.4</td>\n",
       "      <td>62863</td>\n",
       "      <td>62863</td>\n",
       "      <td>354.4</td>\n",
       "      <td>0.0</td>\n",
       "      <td>1.999226</td>\n",
       "      <td>...</td>\n",
       "      <td>353.30625</td>\n",
       "      <td>0.674902</td>\n",
       "      <td>0.546557</td>\n",
       "      <td>0.128345</td>\n",
       "      <td>352.740000</td>\n",
       "      <td>354.38</td>\n",
       "      <td>0.76875</td>\n",
       "      <td>1.000293</td>\n",
       "      <td>1.000339</td>\n",
       "      <td>1.000000</td>\n",
       "    </tr>\n",
       "  </tbody>\n",
       "</table>\n",
       "<p>335 rows × 23 columns</p>\n",
       "</div>"
      ],
      "text/plain": [
       "       tid   open  close   high    low  volume  amount  close_-1_s  \\\n",
       "0      9:0  354.9  354.9  354.9  354.9    2298    2298         NaN   \n",
       "1      9:1  353.6  353.6  353.6  353.6     880     880       354.9   \n",
       "2      9:2  352.3  352.3  352.3  352.3     612     612       353.6   \n",
       "3      9:3  352.8  352.8  352.8  352.8    2362    2362       352.3   \n",
       "4      9:4  352.9  352.9  352.9  352.9    1182    1182       352.8   \n",
       "..     ...    ...    ...    ...    ...     ...     ...         ...   \n",
       "330  16:16  354.0  354.0  354.0  354.0    1186    1186       353.8   \n",
       "331  16:17  354.7  354.7  354.7  354.7    1158    1158       354.0   \n",
       "332  16:18  354.4  354.4  354.4  354.4     654     654       354.7   \n",
       "333  16:19  354.4  354.4  354.4  354.4    2771    2771       354.4   \n",
       "334  16:25  354.4  354.4  354.4  354.4   62863   62863       354.4   \n",
       "\n",
       "     close_-1_d     rs_20  ...  open_16_sma      macd     macds     macdh  \\\n",
       "0           NaN       NaN  ...    354.90000  0.000000  0.000000  0.000000   \n",
       "1          -1.3  0.000000  ...    354.25000 -0.029167 -0.016204 -0.012963   \n",
       "2          -1.3  0.000000  ...    353.60000 -0.077477 -0.041316 -0.036161   \n",
       "3           0.5  0.207620  ...    353.40000 -0.079498 -0.054250 -0.025248   \n",
       "4           0.1  0.251329  ...    353.30000 -0.074944 -0.060406 -0.014538   \n",
       "..          ...       ...  ...          ...       ...       ...       ...   \n",
       "330         0.2  1.960962  ...    352.85625  0.510298  0.395469  0.114829   \n",
       "331         0.7  2.351037  ...    352.98125  0.600265  0.436428  0.163837   \n",
       "332        -0.3  1.999226  ...    353.10000  0.639980  0.477138  0.162842   \n",
       "333         0.0  1.999226  ...    353.20625  0.663803  0.514471  0.149331   \n",
       "334         0.0  1.999226  ...    353.30625  0.674902  0.546557  0.128345   \n",
       "\n",
       "     open_30_sma  open_5_sma  sma8-16  sma30_derivert  sma5_derivert  derivert  \n",
       "0     354.900000      354.90  0.00000        1.000000       1.000000  1.000000  \n",
       "1     354.250000      354.25  0.00000        1.000000       1.000000  1.000000  \n",
       "2     353.600000      353.60  0.00000        0.998165       0.998165  0.996324  \n",
       "3     353.400000      353.40  0.00000        0.999434       0.999434  1.001419  \n",
       "4     353.300000      353.30  0.00000        0.999717       0.999717  1.000283  \n",
       "..           ...         ...      ...             ...            ...       ...  \n",
       "330   352.320000      353.58  0.26875        1.000208       1.000793  1.000565  \n",
       "331   352.413333      353.88  0.49375        1.000265       1.000848  1.001977  \n",
       "332   352.516667      354.10  0.60000        1.000293       1.000622  0.999154  \n",
       "333   352.636667      354.26  0.71875        1.000340       1.000452  1.000000  \n",
       "334   352.740000      354.38  0.76875        1.000293       1.000339  1.000000  \n",
       "\n",
       "[335 rows x 23 columns]"
      ]
     },
     "execution_count": 98,
     "metadata": {},
     "output_type": "execute_result"
    }
   ],
   "source": [
    "filer = list(map(add_data, os.listdir('data/')))[71:712] # 60 første er lagd til å bygge modell\n",
    "data = make_ready(filer)\n",
    "data"
   ]
  },
  {
   "cell_type": "code",
   "execution_count": 99,
   "metadata": {},
   "outputs": [
    {
     "name": "stdout",
     "output_type": "stream",
     "text": [
      "(289, 30, 1)\n"
     ]
    }
   ],
   "source": [
    "datax, datay = create_dataset(data[['macd']], data.sma30_derivert, look_back=30, look_forward=15)"
   ]
  },
  {
   "cell_type": "code",
   "execution_count": 80,
   "metadata": {
    "scrolled": true
   },
   "outputs": [
    {
     "data": {
      "text/plain": [
       "(341, 15)"
      ]
     },
     "execution_count": 80,
     "metadata": {},
     "output_type": "execute_result"
    }
   ],
   "source": [
    "datay.shape  # ide: Ta siste x for å finne neste y. Del opp datasettet der etter"
   ]
  },
  {
   "cell_type": "code",
   "execution_count": 89,
   "metadata": {},
   "outputs": [
    {
     "name": "stdout",
     "output_type": "stream",
     "text": [
      "Model: \"sequential_4\"\n",
      "_________________________________________________________________\n",
      "Layer (type)                 Output Shape              Param #   \n",
      "=================================================================\n",
      "lstm_8 (LSTM)                (None, None, 256)         264192    \n",
      "_________________________________________________________________\n",
      "dropout_8 (Dropout)          (None, None, 256)         0         \n",
      "_________________________________________________________________\n",
      "lstm_9 (LSTM)                (None, 264)               550176    \n",
      "_________________________________________________________________\n",
      "dropout_9 (Dropout)          (None, 264)               0         \n",
      "_________________________________________________________________\n",
      "dense_4 (Dense)              (None, 15)                3975      \n",
      "=================================================================\n",
      "Total params: 818,343\n",
      "Trainable params: 818,343\n",
      "Non-trainable params: 0\n",
      "_________________________________________________________________\n"
     ]
    }
   ],
   "source": [
    "model = tf.keras.Sequential()\n",
    "\n",
    "model.add(tf.keras.layers.LSTM(input_dim=datax.shape[2], units=256, return_sequences=True))\n",
    "model.add(tf.keras.layers.Dropout(0.2))\n",
    "model.add(tf.keras.layers.LSTM(units=264, return_sequences=False))\n",
    "model.add(tf.keras.layers.Dropout(0.2))\n",
    "model.add(tf.keras.layers.Dense(datay.shape[1]))\n",
    "\n",
    "model.compile(optimizer='adam', loss='mse')\n",
    "\n",
    "model.summary()"
   ]
  },
  {
   "cell_type": "code",
   "execution_count": 90,
   "metadata": {
    "scrolled": true
   },
   "outputs": [
    {
     "name": "stdout",
     "output_type": "stream",
     "text": [
      "Train on 272 samples, validate on 69 samples\n",
      "Epoch 1/25\n",
      "272/272 [==============================] - 12s 42ms/sample - loss: 0.9391 - val_loss: 1.4756\n",
      "Epoch 2/25\n",
      "272/272 [==============================] - 2s 9ms/sample - loss: 0.7485 - val_loss: 1.7452\n",
      "Epoch 3/25\n",
      "272/272 [==============================] - 2s 9ms/sample - loss: 0.6090 - val_loss: 1.4978\n",
      "Epoch 4/25\n",
      "272/272 [==============================] - 2s 9ms/sample - loss: 0.5356 - val_loss: 1.5273\n",
      "Epoch 5/25\n",
      "272/272 [==============================] - 2s 9ms/sample - loss: 0.5007 - val_loss: 1.5617\n",
      "Epoch 6/25\n",
      "272/272 [==============================] - 2s 9ms/sample - loss: 0.4703 - val_loss: 1.8686\n",
      "Epoch 7/25\n",
      "272/272 [==============================] - 2s 9ms/sample - loss: 0.4657 - val_loss: 1.9172\n",
      "Epoch 8/25\n",
      "272/272 [==============================] - 2s 9ms/sample - loss: 0.4906 - val_loss: 1.5422\n",
      "Epoch 9/25\n",
      "272/272 [==============================] - 2s 9ms/sample - loss: 0.4665 - val_loss: 1.9314\n",
      "Epoch 10/25\n",
      "272/272 [==============================] - 2s 9ms/sample - loss: 0.4385 - val_loss: 1.6584\n",
      "Epoch 11/25\n",
      "272/272 [==============================] - 3s 10ms/sample - loss: 0.4125 - val_loss: 1.8410\n",
      "Epoch 12/25\n",
      "272/272 [==============================] - 3s 9ms/sample - loss: 0.4004 - val_loss: 1.7662\n",
      "Epoch 13/25\n",
      "272/272 [==============================] - 2s 9ms/sample - loss: 0.3802 - val_loss: 1.8028\n",
      "Epoch 14/25\n",
      "272/272 [==============================] - 3s 9ms/sample - loss: 0.4085 - val_loss: 1.6783\n",
      "Epoch 15/25\n",
      "272/272 [==============================] - 3s 9ms/sample - loss: 0.3891 - val_loss: 1.8139\n",
      "Epoch 16/25\n",
      "272/272 [==============================] - 2s 9ms/sample - loss: 0.3910 - val_loss: 1.5889\n",
      "Epoch 17/25\n",
      "272/272 [==============================] - 2s 9ms/sample - loss: 0.3865 - val_loss: 1.7898\n",
      "Epoch 18/25\n",
      "272/272 [==============================] - 2s 9ms/sample - loss: 0.3498 - val_loss: 1.7562\n",
      "Epoch 19/25\n",
      "272/272 [==============================] - 2s 9ms/sample - loss: 0.3444 - val_loss: 1.7329\n",
      "Epoch 20/25\n",
      "272/272 [==============================] - 2s 9ms/sample - loss: 0.3213 - val_loss: 1.7875\n",
      "Epoch 21/25\n",
      "272/272 [==============================] - 2s 9ms/sample - loss: 0.3144 - val_loss: 2.2572\n",
      "Epoch 22/25\n",
      "272/272 [==============================] - 2s 9ms/sample - loss: 0.4686 - val_loss: 1.7294\n",
      "Epoch 23/25\n",
      "272/272 [==============================] - 2s 9ms/sample - loss: 0.4007 - val_loss: 1.9399\n",
      "Epoch 24/25\n",
      "272/272 [==============================] - 2s 9ms/sample - loss: 0.3660 - val_loss: 1.8650\n",
      "Epoch 25/25\n",
      "272/272 [==============================] - 2s 9ms/sample - loss: 0.3459 - val_loss: 1.7813\n"
     ]
    }
   ],
   "source": [
    "history = model.fit(datax, datay, epochs=25, batch_size=64, validation_split=0.2)#,\n",
    "         ##callbacks= [keras.callbacks.EarlyStopping(\n",
    "                                  #  monitor='val_loss', patience=10, restore_best_weights=True)])"
   ]
  },
  {
   "cell_type": "code",
   "execution_count": 91,
   "metadata": {},
   "outputs": [
    {
     "data": {
      "text/plain": [
       "[<matplotlib.lines.Line2D at 0x1e7e84d2cc8>]"
      ]
     },
     "execution_count": 91,
     "metadata": {},
     "output_type": "execute_result"
    },
    {
     "data": {
      "image/png": "[encoded data removed]",
      "text/plain": [
       "<Figure size 432x288 with 1 Axes>"
      ]
     },
     "metadata": {
      "needs_background": "light"
     },
     "output_type": "display_data"
    }
   ],
   "source": [
    "plt.plot(history.history['loss'][2:])\n",
    "plt.plot(history.history['val_loss'][2:])"
   ]
  },
  {
   "cell_type": "code",
   "execution_count": 100,
   "metadata": {},
   "outputs": [],
   "source": [
    "predict = model.predict(datax)"
   ]
  },
  {
   "cell_type": "code",
   "execution_count": 102,
   "metadata": {},
   "outputs": [
    {
     "data": {
      "text/plain": [
       "array([[ 2.38683947],\n",
       "       [ 2.28340184],\n",
       "       [ 2.17642417],\n",
       "       [ 2.01542649],\n",
       "       [ 1.73484478],\n",
       "       [ 1.548307  ],\n",
       "       [ 1.25232452],\n",
       "       [ 0.79405731],\n",
       "       [ 0.58598001],\n",
       "       [ 0.41653157],\n",
       "       [ 0.19910195],\n",
       "       [-0.08034435],\n",
       "       [-0.27126546],\n",
       "       [-0.3637726 ],\n",
       "       [-0.18975484],\n",
       "       [-0.05108416],\n",
       "       [ 0.00437244],\n",
       "       [ 0.04796229],\n",
       "       [-0.18858281],\n",
       "       [-0.53389064],\n",
       "       [-0.689741  ],\n",
       "       [-0.72242161],\n",
       "       [-0.68531208],\n",
       "       [-0.56676344],\n",
       "       [-0.3857145 ],\n",
       "       [-0.13052949],\n",
       "       [ 0.04386721],\n",
       "       [-0.0375594 ],\n",
       "       [-0.01902369],\n",
       "       [-0.08582028]])"
      ]
     },
     "execution_count": 102,
     "metadata": {},
     "output_type": "execute_result"
    }
   ],
   "source": [
    "datax[20]"
   ]
  },
  {
   "cell_type": "code",
   "execution_count": 108,
   "metadata": {
    "scrolled": true
   },
   "outputs": [
    {
     "data": {
      "image/png": "[encoded data removed]",
      "text/plain": [
       "<Figure size 432x288 with 1 Axes>"
      ]
     },
     "metadata": {
      "needs_background": "light"
     },
     "output_type": "display_data"
    }
   ],
   "source": [
    "for i in range(len(datay)):\n",
    "    plt.plot(range(i,i+15), datay[i], c='blue')\n",
    "    plt.plot(range(i,i+15), predict[i], c='red')\n",
    "\n",
    "#plt.plot(range(0,15), datay[19], label='true')\n",
    "#plt.plot(range(1,16), datay[20], label='true')\n",
    "#plt.plot(range(1,16), predict[20], label='predicted')\n",
    "#plt.legend()\n",
    "plt.title('Prediction ')\n",
    "plt.savefig('images/RNN_15_ahead')\n",
    "plt.show()\n"
   ]
  },
  {
   "cell_type": "code",
   "execution_count": 85,
   "metadata": {
    "scrolled": true
   },
   "outputs": [
    {
     "data": {
      "text/plain": [
       "array([0.76824886, 0.98426884, 1.1329707 , 0.989848  , 1.1416246 ,\n",
       "       1.0954686 , 0.9367621 , 0.94854134, 0.5770784 , 0.5705154 ,\n",
       "       0.5571046 , 0.36905763, 0.28623486, 0.27843568, 0.05921907],\n",
       "      dtype=float32)"
      ]
     },
     "execution_count": 85,
     "metadata": {},
     "output_type": "execute_result"
    }
   ],
   "source": [
    "predict[0]"
   ]
  },
  {
   "cell_type": "code",
   "execution_count": 58,
   "metadata": {},
   "outputs": [
    {
     "data": {
      "text/plain": [
       "[<matplotlib.lines.Line2D at 0x1e792f29448>]"
      ]
     },
     "execution_count": 58,
     "metadata": {},
     "output_type": "execute_result"
    },
    {
     "data": {
      "image/png": "[encoded data removed]",
      "text/plain": [
       "<Figure size 432x288 with 1 Axes>"
      ]
     },
     "metadata": {
      "needs_background": "light"
     },
     "output_type": "display_data"
    }
   ],
   "source": [
    "plt.plot(data.sma30_derivert)\n",
    "#plt.plot(data.sma5_derivert)"
   ]
  },
  {
   "cell_type": "code",
   "execution_count": 50,
   "metadata": {},
   "outputs": [
    {
     "data": {
      "text/plain": [
       "[<matplotlib.lines.Line2D at 0x1e7e92ff448>]"
      ]
     },
     "execution_count": 50,
     "metadata": {},
     "output_type": "execute_result"
    },
    {
     "data": {
      "image/png": "[encoded data removed]",
      "text/plain": [
       "<Figure size 432x288 with 1 Axes>"
      ]
     },
     "metadata": {
      "needs_background": "light"
     },
     "output_type": "display_data"
    }
   ],
   "source": [
    "plt.plot(data.open_30_sma)\n",
    "#plt.plot(data.sma5_derivert)"
   ]
  },
  {
   "cell_type": "code",
   "execution_count": 53,
   "metadata": {},
   "outputs": [
    {
     "name": "stdout",
     "output_type": "stream",
     "text": [
      "INFO:tensorflow:Assets written to: rnn_model\\assets\n"
     ]
    }
   ],
   "source": [
    "# Save model\n",
    "\n",
    "#model.save('rnn_model')"
   ]
  },
  {
   "cell_type": "code",
   "execution_count": 55,
   "metadata": {},
   "outputs": [],
   "source": []
  },
  {
   "cell_type": "code",
   "execution_count": 56,
   "metadata": {},
   "outputs": [
    {
     "name": "stdout",
     "output_type": "stream",
     "text": [
      " Volume in drive C is Windows\n",
      " Volume Serial Number is 0223-158D\n",
      "\n",
      " Directory of C:\\Users\\Stian\\Documents\\School\\99. Div\\intradag\n",
      "\n",
      "19.09.2020  00.30    <DIR>          .\n",
      "19.09.2020  00.30    <DIR>          ..\n",
      "16.08.2020  17.38    <DIR>          .idea\n",
      "01.09.2020  19.48    <DIR>          .ipynb_checkpoints\n",
      "24.08.2020  21.27    <DIR>          data\n",
      "26.08.2020  22.16    <DIR>          history\n",
      "18.09.2020  19.30    <DIR>          images\n",
      "25.08.2020  13.08    <DIR>          lib\n",
      "30.08.2020  10.25           514ÿ958 make_model.ipynb\n",
      "19.09.2020  00.30    <DIR>          models\n",
      "29.08.2020  11.29               664 README.md\n",
      "19.09.2020  00.29           132ÿ506 RNN_trial.ipynb\n",
      "16.08.2020  17.14         3ÿ922ÿ732 smadaytrade.ipynb\n",
      "01.09.2020  20.07           775ÿ971 use_model.ipynb\n",
      "17.08.2020  12.53    <DIR>          __pycache__\n",
      "               5 File(s)      5ÿ346ÿ831 bytes\n",
      "              10 Dir(s)  75ÿ003ÿ355ÿ136 bytes free\n"
     ]
    }
   ],
   "source": [
    "!dir"
   ]
  },
  {
   "cell_type": "code",
   "execution_count": null,
   "metadata": {},
   "outputs": [],
   "source": []
  }
 ],
 "metadata": {
  "kernelspec": {
   "display_name": "Python 3",
   "language": "python",
   "name": "python3"
  },
  "language_info": {
   "codemirror_mode": {
    "name": "ipython",
    "version": 3
   },
   "file_extension": ".py",
   "mimetype": "text/x-python",
   "name": "python",
   "nbconvert_exporter": "python",
   "pygments_lexer": "ipython3",
   "version": "3.7.7"
  }
 },
 "nbformat": 4,
 "nbformat_minor": 4
}
