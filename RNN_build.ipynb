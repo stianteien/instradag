{
 "cells": [
  {
   "cell_type": "markdown",
   "metadata": {},
   "source": [
    "# RNN BUILD\n",
    "\n",
    "* Først hente og rense data ved bruk av eget lib\n",
    "* Så sette opp en modell\n",
    "* Trene og validere -> Deretter teste på ny data\n",
    "* Lagre modellen\n",
    "\n",
    "Ops ops: Modellen kan kun bukes på data med 3 dimensjoner. Det betyr at det alltid på komme i en sekvens. min (2, 30, 5)"
   ]
  },
  {
   "cell_type": "code",
   "execution_count": 178,
   "metadata": {},
   "outputs": [],
   "source": [
    "from tensorflow.keras.layers import Dense, LSTM, Dropout, Input\n",
    "from tensorflow.keras.models import Sequential\n",
    "from tensorflow.keras import backend as K\n",
    "import numpy as np\n",
    "import pandas as pd\n",
    "import stockstats\n",
    "import os\n",
    "import matplotlib.pyplot as plt\n",
    "\n",
    "from sklearn import preprocessing\n",
    "from sklearn.model_selection import train_test_split\n",
    "from sklearn.metrics import r2_score\n",
    "\n",
    "from lib.rens import rens\n",
    "from lib.create_dataset import create_dataset\n",
    "from lib.make_ready import make_ready\n"
   ]
  },
  {
   "cell_type": "code",
   "execution_count": 179,
   "metadata": {},
   "outputs": [],
   "source": [
    "def r2_score(y_true, y_pred):\n",
    "    SS_res =  K.sum(K.square( y_true-y_pred ))\n",
    "    SS_tot = K.sum(K.square( y_true - K.mean(y_true) ) )\n",
    "    return ( 1 - SS_res/(SS_tot + K.epsilon()) )\n",
    "\n",
    "def add_data(word):\n",
    "    ordet = 'data/' + word\n",
    "    return ordet"
   ]
  },
  {
   "cell_type": "code",
   "execution_count": 216,
   "metadata": {
    "scrolled": true
   },
   "outputs": [
    {
     "name": "stdout",
     "output_type": "stream",
     "text": [
      "1 av 40 renset\r"
     ]
    },
    {
     "name": "stderr",
     "output_type": "stream",
     "text": [
      "C:\\Users\\Stian\\anaconda3\\lib\\site-packages\\pandas\\core\\indexing.py:670: SettingWithCopyWarning: \n",
      "A value is trying to be set on a copy of a slice from a DataFrame\n",
      "\n",
      "See the caveats in the documentation: https://pandas.pydata.org/pandas-docs/stable/user_guide/indexing.html#returning-a-view-versus-a-copy\n",
      "  iloc._setitem_with_indexer(indexer, value)\n",
      "NOTE: Behavior of MACDH calculation has changed as of July 2017 - it is now 1/2 of previous calculated values\n"
     ]
    },
    {
     "name": "stdout",
     "output_type": "stream",
     "text": [
      "2 av 40 renset\r"
     ]
    },
    {
     "name": "stderr",
     "output_type": "stream",
     "text": [
      "NOTE: Behavior of MACDH calculation has changed as of July 2017 - it is now 1/2 of previous calculated values\n"
     ]
    },
    {
     "name": "stdout",
     "output_type": "stream",
     "text": [
      "3 av 40 renset\r"
     ]
    },
    {
     "name": "stderr",
     "output_type": "stream",
     "text": [
      "NOTE: Behavior of MACDH calculation has changed as of July 2017 - it is now 1/2 of previous calculated values\n"
     ]
    },
    {
     "name": "stdout",
     "output_type": "stream",
     "text": [
      "4 av 40 renset\r"
     ]
    },
    {
     "name": "stderr",
     "output_type": "stream",
     "text": [
      "NOTE: Behavior of MACDH calculation has changed as of July 2017 - it is now 1/2 of previous calculated values\n"
     ]
    },
    {
     "name": "stdout",
     "output_type": "stream",
     "text": [
      "5 av 40 renset\r"
     ]
    },
    {
     "name": "stderr",
     "output_type": "stream",
     "text": [
      "NOTE: Behavior of MACDH calculation has changed as of July 2017 - it is now 1/2 of previous calculated values\n"
     ]
    },
    {
     "name": "stdout",
     "output_type": "stream",
     "text": [
      "6 av 40 renset\r"
     ]
    },
    {
     "name": "stderr",
     "output_type": "stream",
     "text": [
      "NOTE: Behavior of MACDH calculation has changed as of July 2017 - it is now 1/2 of previous calculated values\n"
     ]
    },
    {
     "name": "stdout",
     "output_type": "stream",
     "text": [
      "7 av 40 renset\r"
     ]
    },
    {
     "name": "stderr",
     "output_type": "stream",
     "text": [
      "NOTE: Behavior of MACDH calculation has changed as of July 2017 - it is now 1/2 of previous calculated values\n"
     ]
    },
    {
     "name": "stdout",
     "output_type": "stream",
     "text": [
      "8 av 40 renset\r"
     ]
    },
    {
     "name": "stderr",
     "output_type": "stream",
     "text": [
      "NOTE: Behavior of MACDH calculation has changed as of July 2017 - it is now 1/2 of previous calculated values\n"
     ]
    },
    {
     "name": "stdout",
     "output_type": "stream",
     "text": [
      "9 av 40 renset\r"
     ]
    },
    {
     "name": "stderr",
     "output_type": "stream",
     "text": [
      "NOTE: Behavior of MACDH calculation has changed as of July 2017 - it is now 1/2 of previous calculated values\n"
     ]
    },
    {
     "name": "stdout",
     "output_type": "stream",
     "text": [
      "10 av 40 renset\r"
     ]
    },
    {
     "name": "stderr",
     "output_type": "stream",
     "text": [
      "NOTE: Behavior of MACDH calculation has changed as of July 2017 - it is now 1/2 of previous calculated values\n"
     ]
    },
    {
     "name": "stdout",
     "output_type": "stream",
     "text": [
      "11 av 40 renset\r"
     ]
    },
    {
     "name": "stderr",
     "output_type": "stream",
     "text": [
      "NOTE: Behavior of MACDH calculation has changed as of July 2017 - it is now 1/2 of previous calculated values\n"
     ]
    },
    {
     "name": "stdout",
     "output_type": "stream",
     "text": [
      "12 av 40 renset\r"
     ]
    },
    {
     "name": "stderr",
     "output_type": "stream",
     "text": [
      "NOTE: Behavior of MACDH calculation has changed as of July 2017 - it is now 1/2 of previous calculated values\n"
     ]
    },
    {
     "name": "stdout",
     "output_type": "stream",
     "text": [
      "13 av 40 renset\r"
     ]
    },
    {
     "name": "stderr",
     "output_type": "stream",
     "text": [
      "NOTE: Behavior of MACDH calculation has changed as of July 2017 - it is now 1/2 of previous calculated values\n"
     ]
    },
    {
     "name": "stdout",
     "output_type": "stream",
     "text": [
      "14 av 40 renset\r"
     ]
    },
    {
     "name": "stderr",
     "output_type": "stream",
     "text": [
      "NOTE: Behavior of MACDH calculation has changed as of July 2017 - it is now 1/2 of previous calculated values\n"
     ]
    },
    {
     "name": "stdout",
     "output_type": "stream",
     "text": [
      "15 av 40 renset\r"
     ]
    },
    {
     "name": "stderr",
     "output_type": "stream",
     "text": [
      "NOTE: Behavior of MACDH calculation has changed as of July 2017 - it is now 1/2 of previous calculated values\n"
     ]
    },
    {
     "name": "stdout",
     "output_type": "stream",
     "text": [
      "16 av 40 renset\r"
     ]
    },
    {
     "name": "stderr",
     "output_type": "stream",
     "text": [
      "NOTE: Behavior of MACDH calculation has changed as of July 2017 - it is now 1/2 of previous calculated values\n"
     ]
    },
    {
     "name": "stdout",
     "output_type": "stream",
     "text": [
      "17 av 40 renset\r"
     ]
    },
    {
     "name": "stderr",
     "output_type": "stream",
     "text": [
      "NOTE: Behavior of MACDH calculation has changed as of July 2017 - it is now 1/2 of previous calculated values\n"
     ]
    },
    {
     "name": "stdout",
     "output_type": "stream",
     "text": [
      "18 av 40 renset\r"
     ]
    },
    {
     "name": "stderr",
     "output_type": "stream",
     "text": [
      "NOTE: Behavior of MACDH calculation has changed as of July 2017 - it is now 1/2 of previous calculated values\n"
     ]
    },
    {
     "name": "stdout",
     "output_type": "stream",
     "text": [
      "19 av 40 renset\r"
     ]
    },
    {
     "name": "stderr",
     "output_type": "stream",
     "text": [
      "NOTE: Behavior of MACDH calculation has changed as of July 2017 - it is now 1/2 of previous calculated values\n"
     ]
    },
    {
     "name": "stdout",
     "output_type": "stream",
     "text": [
      "20 av 40 renset\r"
     ]
    },
    {
     "name": "stderr",
     "output_type": "stream",
     "text": [
      "NOTE: Behavior of MACDH calculation has changed as of July 2017 - it is now 1/2 of previous calculated values\n"
     ]
    },
    {
     "name": "stdout",
     "output_type": "stream",
     "text": [
      "21 av 40 renset\r"
     ]
    },
    {
     "name": "stderr",
     "output_type": "stream",
     "text": [
      "NOTE: Behavior of MACDH calculation has changed as of July 2017 - it is now 1/2 of previous calculated values\n"
     ]
    },
    {
     "name": "stdout",
     "output_type": "stream",
     "text": [
      "22 av 40 renset\r"
     ]
    },
    {
     "name": "stderr",
     "output_type": "stream",
     "text": [
      "NOTE: Behavior of MACDH calculation has changed as of July 2017 - it is now 1/2 of previous calculated values\n"
     ]
    },
    {
     "name": "stdout",
     "output_type": "stream",
     "text": [
      "23 av 40 renset\r"
     ]
    },
    {
     "name": "stderr",
     "output_type": "stream",
     "text": [
      "NOTE: Behavior of MACDH calculation has changed as of July 2017 - it is now 1/2 of previous calculated values\n"
     ]
    },
    {
     "name": "stdout",
     "output_type": "stream",
     "text": [
      "24 av 40 renset\r"
     ]
    },
    {
     "name": "stderr",
     "output_type": "stream",
     "text": [
      "NOTE: Behavior of MACDH calculation has changed as of July 2017 - it is now 1/2 of previous calculated values\n"
     ]
    },
    {
     "name": "stdout",
     "output_type": "stream",
     "text": [
      "25 av 40 renset\r"
     ]
    },
    {
     "name": "stderr",
     "output_type": "stream",
     "text": [
      "NOTE: Behavior of MACDH calculation has changed as of July 2017 - it is now 1/2 of previous calculated values\n"
     ]
    },
    {
     "name": "stdout",
     "output_type": "stream",
     "text": [
      "26 av 40 renset\r"
     ]
    },
    {
     "name": "stderr",
     "output_type": "stream",
     "text": [
      "NOTE: Behavior of MACDH calculation has changed as of July 2017 - it is now 1/2 of previous calculated values\n"
     ]
    },
    {
     "name": "stdout",
     "output_type": "stream",
     "text": [
      "27 av 40 renset\r"
     ]
    },
    {
     "name": "stderr",
     "output_type": "stream",
     "text": [
      "NOTE: Behavior of MACDH calculation has changed as of July 2017 - it is now 1/2 of previous calculated values\n"
     ]
    },
    {
     "name": "stdout",
     "output_type": "stream",
     "text": [
      "28 av 40 renset\r"
     ]
    },
    {
     "name": "stderr",
     "output_type": "stream",
     "text": [
      "NOTE: Behavior of MACDH calculation has changed as of July 2017 - it is now 1/2 of previous calculated values\n"
     ]
    },
    {
     "name": "stdout",
     "output_type": "stream",
     "text": [
      "29 av 40 renset\r"
     ]
    },
    {
     "name": "stderr",
     "output_type": "stream",
     "text": [
      "NOTE: Behavior of MACDH calculation has changed as of July 2017 - it is now 1/2 of previous calculated values\n"
     ]
    },
    {
     "name": "stdout",
     "output_type": "stream",
     "text": [
      "30 av 40 renset\r"
     ]
    },
    {
     "name": "stderr",
     "output_type": "stream",
     "text": [
      "NOTE: Behavior of MACDH calculation has changed as of July 2017 - it is now 1/2 of previous calculated values\n"
     ]
    },
    {
     "name": "stdout",
     "output_type": "stream",
     "text": [
      "31 av 40 renset\r"
     ]
    },
    {
     "name": "stderr",
     "output_type": "stream",
     "text": [
      "NOTE: Behavior of MACDH calculation has changed as of July 2017 - it is now 1/2 of previous calculated values\n"
     ]
    },
    {
     "name": "stdout",
     "output_type": "stream",
     "text": [
      "32 av 40 renset\r"
     ]
    },
    {
     "name": "stderr",
     "output_type": "stream",
     "text": [
      "NOTE: Behavior of MACDH calculation has changed as of July 2017 - it is now 1/2 of previous calculated values\n"
     ]
    },
    {
     "name": "stdout",
     "output_type": "stream",
     "text": [
      "33 av 40 renset\r"
     ]
    },
    {
     "name": "stderr",
     "output_type": "stream",
     "text": [
      "NOTE: Behavior of MACDH calculation has changed as of July 2017 - it is now 1/2 of previous calculated values\n"
     ]
    },
    {
     "name": "stdout",
     "output_type": "stream",
     "text": [
      "34 av 40 renset\r"
     ]
    },
    {
     "name": "stderr",
     "output_type": "stream",
     "text": [
      "NOTE: Behavior of MACDH calculation has changed as of July 2017 - it is now 1/2 of previous calculated values\n"
     ]
    },
    {
     "name": "stdout",
     "output_type": "stream",
     "text": [
      "35 av 40 renset\r"
     ]
    },
    {
     "name": "stderr",
     "output_type": "stream",
     "text": [
      "NOTE: Behavior of MACDH calculation has changed as of July 2017 - it is now 1/2 of previous calculated values\n"
     ]
    },
    {
     "name": "stdout",
     "output_type": "stream",
     "text": [
      "36 av 40 renset\r"
     ]
    },
    {
     "name": "stderr",
     "output_type": "stream",
     "text": [
      "NOTE: Behavior of MACDH calculation has changed as of July 2017 - it is now 1/2 of previous calculated values\n"
     ]
    },
    {
     "name": "stdout",
     "output_type": "stream",
     "text": [
      "37 av 40 renset\r"
     ]
    },
    {
     "name": "stderr",
     "output_type": "stream",
     "text": [
      "NOTE: Behavior of MACDH calculation has changed as of July 2017 - it is now 1/2 of previous calculated values\n"
     ]
    },
    {
     "name": "stdout",
     "output_type": "stream",
     "text": [
      "38 av 40 renset\r"
     ]
    },
    {
     "name": "stderr",
     "output_type": "stream",
     "text": [
      "NOTE: Behavior of MACDH calculation has changed as of July 2017 - it is now 1/2 of previous calculated values\n"
     ]
    },
    {
     "name": "stdout",
     "output_type": "stream",
     "text": [
      "39 av 40 renset\r"
     ]
    },
    {
     "name": "stderr",
     "output_type": "stream",
     "text": [
      "NOTE: Behavior of MACDH calculation has changed as of July 2017 - it is now 1/2 of previous calculated values\n"
     ]
    },
    {
     "name": "stdout",
     "output_type": "stream",
     "text": [
      "40 av 40 renset\r"
     ]
    },
    {
     "name": "stderr",
     "output_type": "stream",
     "text": [
      "NOTE: Behavior of MACDH calculation has changed as of July 2017 - it is now 1/2 of previous calculated values\n"
     ]
    }
   ],
   "source": [
    "filer = list(map(add_data, os.listdir('data/')))[0:40] # test 54:60 mellom 10 og 14 er noe feil\n",
    "data = make_ready().use_stockstats(filer)"
   ]
  },
  {
   "cell_type": "code",
   "execution_count": 255,
   "metadata": {},
   "outputs": [],
   "source": [
    "for i in range(len(data)):\n",
    "    data[i] = data[i].fillna(.5)"
   ]
  },
  {
   "cell_type": "code",
   "execution_count": 253,
   "metadata": {},
   "outputs": [
    {
     "data": {
      "text/html": [
       "<div>\n",
       "<style scoped>\n",
       "    .dataframe tbody tr th:only-of-type {\n",
       "        vertical-align: middle;\n",
       "    }\n",
       "\n",
       "    .dataframe tbody tr th {\n",
       "        vertical-align: top;\n",
       "    }\n",
       "\n",
       "    .dataframe thead th {\n",
       "        text-align: right;\n",
       "    }\n",
       "</style>\n",
       "<table border=\"1\" class=\"dataframe\">\n",
       "  <thead>\n",
       "    <tr style=\"text-align: right;\">\n",
       "      <th></th>\n",
       "      <th>tid</th>\n",
       "      <th>open</th>\n",
       "      <th>close</th>\n",
       "      <th>high</th>\n",
       "      <th>low</th>\n",
       "      <th>volume</th>\n",
       "      <th>amount</th>\n",
       "      <th>close_-1_s</th>\n",
       "      <th>close_-1_d</th>\n",
       "      <th>rs_20</th>\n",
       "      <th>...</th>\n",
       "      <th>open_16_sma</th>\n",
       "      <th>macd</th>\n",
       "      <th>macds</th>\n",
       "      <th>macdh</th>\n",
       "      <th>open_30_sma</th>\n",
       "      <th>open_15_sma</th>\n",
       "      <th>sma8-16</th>\n",
       "      <th>sma30_derivert</th>\n",
       "      <th>sma15_derivert</th>\n",
       "      <th>derivert</th>\n",
       "    </tr>\n",
       "  </thead>\n",
       "  <tbody>\n",
       "    <tr>\n",
       "      <th>0</th>\n",
       "      <td>9:0</td>\n",
       "      <td>239.0</td>\n",
       "      <td>239.0</td>\n",
       "      <td>239.0</td>\n",
       "      <td>239.0</td>\n",
       "      <td>5179</td>\n",
       "      <td>5179</td>\n",
       "      <td>0.0</td>\n",
       "      <td>0.0</td>\n",
       "      <td>0.000000</td>\n",
       "      <td>...</td>\n",
       "      <td>239.000000</td>\n",
       "      <td>0.000000</td>\n",
       "      <td>0.000000</td>\n",
       "      <td>0.000000</td>\n",
       "      <td>239.000000</td>\n",
       "      <td>239.000000</td>\n",
       "      <td>0.0000</td>\n",
       "      <td>1.000000</td>\n",
       "      <td>1.000000</td>\n",
       "      <td>1.000000</td>\n",
       "    </tr>\n",
       "    <tr>\n",
       "      <th>1</th>\n",
       "      <td>9:1</td>\n",
       "      <td>239.2</td>\n",
       "      <td>239.2</td>\n",
       "      <td>239.2</td>\n",
       "      <td>239.2</td>\n",
       "      <td>180</td>\n",
       "      <td>180</td>\n",
       "      <td>239.0</td>\n",
       "      <td>0.2</td>\n",
       "      <td>0.000000</td>\n",
       "      <td>...</td>\n",
       "      <td>239.100000</td>\n",
       "      <td>0.004487</td>\n",
       "      <td>0.002493</td>\n",
       "      <td>0.001994</td>\n",
       "      <td>239.100000</td>\n",
       "      <td>239.100000</td>\n",
       "      <td>0.0000</td>\n",
       "      <td>1.000000</td>\n",
       "      <td>1.000000</td>\n",
       "      <td>1.000000</td>\n",
       "    </tr>\n",
       "    <tr>\n",
       "      <th>2</th>\n",
       "      <td>9:2</td>\n",
       "      <td>241.0</td>\n",
       "      <td>241.0</td>\n",
       "      <td>241.0</td>\n",
       "      <td>241.0</td>\n",
       "      <td>2396</td>\n",
       "      <td>2396</td>\n",
       "      <td>239.2</td>\n",
       "      <td>1.8</td>\n",
       "      <td>0.000000</td>\n",
       "      <td>...</td>\n",
       "      <td>239.733333</td>\n",
       "      <td>0.061535</td>\n",
       "      <td>0.026691</td>\n",
       "      <td>0.034845</td>\n",
       "      <td>239.733333</td>\n",
       "      <td>239.733333</td>\n",
       "      <td>0.0000</td>\n",
       "      <td>1.002649</td>\n",
       "      <td>1.002649</td>\n",
       "      <td>1.007525</td>\n",
       "    </tr>\n",
       "    <tr>\n",
       "      <th>3</th>\n",
       "      <td>9:3</td>\n",
       "      <td>242.2</td>\n",
       "      <td>242.2</td>\n",
       "      <td>242.2</td>\n",
       "      <td>242.2</td>\n",
       "      <td>3733</td>\n",
       "      <td>3733</td>\n",
       "      <td>241.0</td>\n",
       "      <td>1.2</td>\n",
       "      <td>0.000000</td>\n",
       "      <td>...</td>\n",
       "      <td>240.350000</td>\n",
       "      <td>0.129300</td>\n",
       "      <td>0.061450</td>\n",
       "      <td>0.067850</td>\n",
       "      <td>240.350000</td>\n",
       "      <td>240.350000</td>\n",
       "      <td>0.0000</td>\n",
       "      <td>1.002572</td>\n",
       "      <td>1.002572</td>\n",
       "      <td>1.004979</td>\n",
       "    </tr>\n",
       "    <tr>\n",
       "      <th>4</th>\n",
       "      <td>9:4</td>\n",
       "      <td>245.2</td>\n",
       "      <td>245.2</td>\n",
       "      <td>245.2</td>\n",
       "      <td>245.2</td>\n",
       "      <td>2865</td>\n",
       "      <td>2865</td>\n",
       "      <td>242.2</td>\n",
       "      <td>3.0</td>\n",
       "      <td>0.000000</td>\n",
       "      <td>...</td>\n",
       "      <td>241.320000</td>\n",
       "      <td>0.282776</td>\n",
       "      <td>0.127289</td>\n",
       "      <td>0.155487</td>\n",
       "      <td>241.320000</td>\n",
       "      <td>241.320000</td>\n",
       "      <td>0.0000</td>\n",
       "      <td>1.004036</td>\n",
       "      <td>1.004036</td>\n",
       "      <td>1.012386</td>\n",
       "    </tr>\n",
       "    <tr>\n",
       "      <th>...</th>\n",
       "      <td>...</td>\n",
       "      <td>...</td>\n",
       "      <td>...</td>\n",
       "      <td>...</td>\n",
       "      <td>...</td>\n",
       "      <td>...</td>\n",
       "      <td>...</td>\n",
       "      <td>...</td>\n",
       "      <td>...</td>\n",
       "      <td>...</td>\n",
       "      <td>...</td>\n",
       "      <td>...</td>\n",
       "      <td>...</td>\n",
       "      <td>...</td>\n",
       "      <td>...</td>\n",
       "      <td>...</td>\n",
       "      <td>...</td>\n",
       "      <td>...</td>\n",
       "      <td>...</td>\n",
       "      <td>...</td>\n",
       "      <td>...</td>\n",
       "    </tr>\n",
       "    <tr>\n",
       "      <th>372</th>\n",
       "      <td>16:16</td>\n",
       "      <td>240.4</td>\n",
       "      <td>240.4</td>\n",
       "      <td>240.4</td>\n",
       "      <td>240.4</td>\n",
       "      <td>14</td>\n",
       "      <td>14</td>\n",
       "      <td>240.2</td>\n",
       "      <td>0.2</td>\n",
       "      <td>1.137037</td>\n",
       "      <td>...</td>\n",
       "      <td>240.187500</td>\n",
       "      <td>0.254409</td>\n",
       "      <td>0.255595</td>\n",
       "      <td>-0.001187</td>\n",
       "      <td>239.526667</td>\n",
       "      <td>240.200000</td>\n",
       "      <td>0.2125</td>\n",
       "      <td>1.000278</td>\n",
       "      <td>1.000111</td>\n",
       "      <td>1.000833</td>\n",
       "    </tr>\n",
       "    <tr>\n",
       "      <th>373</th>\n",
       "      <td>16:17</td>\n",
       "      <td>240.4</td>\n",
       "      <td>240.4</td>\n",
       "      <td>240.4</td>\n",
       "      <td>240.4</td>\n",
       "      <td>2320</td>\n",
       "      <td>2320</td>\n",
       "      <td>240.4</td>\n",
       "      <td>0.0</td>\n",
       "      <td>1.137037</td>\n",
       "      <td>...</td>\n",
       "      <td>240.212500</td>\n",
       "      <td>0.251285</td>\n",
       "      <td>0.254733</td>\n",
       "      <td>-0.003448</td>\n",
       "      <td>239.580000</td>\n",
       "      <td>240.213333</td>\n",
       "      <td>0.1375</td>\n",
       "      <td>1.000223</td>\n",
       "      <td>1.000056</td>\n",
       "      <td>1.000000</td>\n",
       "    </tr>\n",
       "    <tr>\n",
       "      <th>374</th>\n",
       "      <td>16:18</td>\n",
       "      <td>240.4</td>\n",
       "      <td>240.4</td>\n",
       "      <td>240.4</td>\n",
       "      <td>240.4</td>\n",
       "      <td>433</td>\n",
       "      <td>433</td>\n",
       "      <td>240.4</td>\n",
       "      <td>0.0</td>\n",
       "      <td>1.137037</td>\n",
       "      <td>...</td>\n",
       "      <td>240.225000</td>\n",
       "      <td>0.245974</td>\n",
       "      <td>0.252981</td>\n",
       "      <td>-0.007008</td>\n",
       "      <td>239.640000</td>\n",
       "      <td>240.266667</td>\n",
       "      <td>0.0750</td>\n",
       "      <td>1.000250</td>\n",
       "      <td>1.000222</td>\n",
       "      <td>1.000000</td>\n",
       "    </tr>\n",
       "    <tr>\n",
       "      <th>375</th>\n",
       "      <td>16:19</td>\n",
       "      <td>239.6</td>\n",
       "      <td>239.6</td>\n",
       "      <td>239.6</td>\n",
       "      <td>239.6</td>\n",
       "      <td>5663</td>\n",
       "      <td>5663</td>\n",
       "      <td>240.4</td>\n",
       "      <td>-0.8</td>\n",
       "      <td>0.876858</td>\n",
       "      <td>...</td>\n",
       "      <td>240.225000</td>\n",
       "      <td>0.175192</td>\n",
       "      <td>0.237424</td>\n",
       "      <td>-0.062232</td>\n",
       "      <td>239.726667</td>\n",
       "      <td>240.266667</td>\n",
       "      <td>-0.0250</td>\n",
       "      <td>1.000362</td>\n",
       "      <td>1.000000</td>\n",
       "      <td>0.996672</td>\n",
       "    </tr>\n",
       "    <tr>\n",
       "      <th>376</th>\n",
       "      <td>16:25</td>\n",
       "      <td>241.0</td>\n",
       "      <td>241.0</td>\n",
       "      <td>241.0</td>\n",
       "      <td>241.0</td>\n",
       "      <td>12149</td>\n",
       "      <td>12149</td>\n",
       "      <td>239.6</td>\n",
       "      <td>1.4</td>\n",
       "      <td>1.298372</td>\n",
       "      <td>...</td>\n",
       "      <td>240.312500</td>\n",
       "      <td>0.229421</td>\n",
       "      <td>0.235823</td>\n",
       "      <td>-0.006402</td>\n",
       "      <td>239.833333</td>\n",
       "      <td>240.346667</td>\n",
       "      <td>-0.0375</td>\n",
       "      <td>1.000445</td>\n",
       "      <td>1.000333</td>\n",
       "      <td>1.005843</td>\n",
       "    </tr>\n",
       "  </tbody>\n",
       "</table>\n",
       "<p>377 rows × 23 columns</p>\n",
       "</div>"
      ],
      "text/plain": [
       "       tid   open  close   high    low  volume  amount  close_-1_s  \\\n",
       "0      9:0  239.0  239.0  239.0  239.0    5179    5179         0.0   \n",
       "1      9:1  239.2  239.2  239.2  239.2     180     180       239.0   \n",
       "2      9:2  241.0  241.0  241.0  241.0    2396    2396       239.2   \n",
       "3      9:3  242.2  242.2  242.2  242.2    3733    3733       241.0   \n",
       "4      9:4  245.2  245.2  245.2  245.2    2865    2865       242.2   \n",
       "..     ...    ...    ...    ...    ...     ...     ...         ...   \n",
       "372  16:16  240.4  240.4  240.4  240.4      14      14       240.2   \n",
       "373  16:17  240.4  240.4  240.4  240.4    2320    2320       240.4   \n",
       "374  16:18  240.4  240.4  240.4  240.4     433     433       240.4   \n",
       "375  16:19  239.6  239.6  239.6  239.6    5663    5663       240.4   \n",
       "376  16:25  241.0  241.0  241.0  241.0   12149   12149       239.6   \n",
       "\n",
       "     close_-1_d     rs_20  ...  open_16_sma      macd     macds     macdh  \\\n",
       "0           0.0  0.000000  ...   239.000000  0.000000  0.000000  0.000000   \n",
       "1           0.2  0.000000  ...   239.100000  0.004487  0.002493  0.001994   \n",
       "2           1.8  0.000000  ...   239.733333  0.061535  0.026691  0.034845   \n",
       "3           1.2  0.000000  ...   240.350000  0.129300  0.061450  0.067850   \n",
       "4           3.0  0.000000  ...   241.320000  0.282776  0.127289  0.155487   \n",
       "..          ...       ...  ...          ...       ...       ...       ...   \n",
       "372         0.2  1.137037  ...   240.187500  0.254409  0.255595 -0.001187   \n",
       "373         0.0  1.137037  ...   240.212500  0.251285  0.254733 -0.003448   \n",
       "374         0.0  1.137037  ...   240.225000  0.245974  0.252981 -0.007008   \n",
       "375        -0.8  0.876858  ...   240.225000  0.175192  0.237424 -0.062232   \n",
       "376         1.4  1.298372  ...   240.312500  0.229421  0.235823 -0.006402   \n",
       "\n",
       "     open_30_sma  open_15_sma  sma8-16  sma30_derivert  sma15_derivert  \\\n",
       "0     239.000000   239.000000   0.0000        1.000000        1.000000   \n",
       "1     239.100000   239.100000   0.0000        1.000000        1.000000   \n",
       "2     239.733333   239.733333   0.0000        1.002649        1.002649   \n",
       "3     240.350000   240.350000   0.0000        1.002572        1.002572   \n",
       "4     241.320000   241.320000   0.0000        1.004036        1.004036   \n",
       "..           ...          ...      ...             ...             ...   \n",
       "372   239.526667   240.200000   0.2125        1.000278        1.000111   \n",
       "373   239.580000   240.213333   0.1375        1.000223        1.000056   \n",
       "374   239.640000   240.266667   0.0750        1.000250        1.000222   \n",
       "375   239.726667   240.266667  -0.0250        1.000362        1.000000   \n",
       "376   239.833333   240.346667  -0.0375        1.000445        1.000333   \n",
       "\n",
       "     derivert  \n",
       "0    1.000000  \n",
       "1    1.000000  \n",
       "2    1.007525  \n",
       "3    1.004979  \n",
       "4    1.012386  \n",
       "..        ...  \n",
       "372  1.000833  \n",
       "373  1.000000  \n",
       "374  1.000000  \n",
       "375  0.996672  \n",
       "376  1.005843  \n",
       "\n",
       "[377 rows x 23 columns]"
      ]
     },
     "execution_count": 253,
     "metadata": {},
     "output_type": "execute_result"
    }
   ],
   "source": [
    "data[0].fillna(0)"
   ]
  },
  {
   "cell_type": "code",
   "execution_count": 256,
   "metadata": {},
   "outputs": [
    {
     "data": {
      "text/html": [
       "<div>\n",
       "<style scoped>\n",
       "    .dataframe tbody tr th:only-of-type {\n",
       "        vertical-align: middle;\n",
       "    }\n",
       "\n",
       "    .dataframe tbody tr th {\n",
       "        vertical-align: top;\n",
       "    }\n",
       "\n",
       "    .dataframe thead th {\n",
       "        text-align: right;\n",
       "    }\n",
       "</style>\n",
       "<table border=\"1\" class=\"dataframe\">\n",
       "  <thead>\n",
       "    <tr style=\"text-align: right;\">\n",
       "      <th></th>\n",
       "      <th>tid</th>\n",
       "      <th>open</th>\n",
       "      <th>close</th>\n",
       "      <th>high</th>\n",
       "      <th>low</th>\n",
       "      <th>volume</th>\n",
       "      <th>amount</th>\n",
       "      <th>close_-1_s</th>\n",
       "      <th>close_-1_d</th>\n",
       "      <th>rs_20</th>\n",
       "      <th>...</th>\n",
       "      <th>open_16_sma</th>\n",
       "      <th>macd</th>\n",
       "      <th>macds</th>\n",
       "      <th>macdh</th>\n",
       "      <th>open_30_sma</th>\n",
       "      <th>open_15_sma</th>\n",
       "      <th>sma8-16</th>\n",
       "      <th>sma30_derivert</th>\n",
       "      <th>sma15_derivert</th>\n",
       "      <th>derivert</th>\n",
       "    </tr>\n",
       "  </thead>\n",
       "  <tbody>\n",
       "    <tr>\n",
       "      <th>0</th>\n",
       "      <td>9:0</td>\n",
       "      <td>239.0</td>\n",
       "      <td>239.0</td>\n",
       "      <td>239.0</td>\n",
       "      <td>239.0</td>\n",
       "      <td>5179</td>\n",
       "      <td>5179</td>\n",
       "      <td>0.5</td>\n",
       "      <td>0.5</td>\n",
       "      <td>0.500000</td>\n",
       "      <td>...</td>\n",
       "      <td>239.000000</td>\n",
       "      <td>0.000000</td>\n",
       "      <td>0.000000</td>\n",
       "      <td>0.000000</td>\n",
       "      <td>239.000000</td>\n",
       "      <td>239.000000</td>\n",
       "      <td>0.0000</td>\n",
       "      <td>1.000000</td>\n",
       "      <td>1.000000</td>\n",
       "      <td>1.000000</td>\n",
       "    </tr>\n",
       "    <tr>\n",
       "      <th>1</th>\n",
       "      <td>9:1</td>\n",
       "      <td>239.2</td>\n",
       "      <td>239.2</td>\n",
       "      <td>239.2</td>\n",
       "      <td>239.2</td>\n",
       "      <td>180</td>\n",
       "      <td>180</td>\n",
       "      <td>239.0</td>\n",
       "      <td>0.2</td>\n",
       "      <td>0.500000</td>\n",
       "      <td>...</td>\n",
       "      <td>239.100000</td>\n",
       "      <td>0.004487</td>\n",
       "      <td>0.002493</td>\n",
       "      <td>0.001994</td>\n",
       "      <td>239.100000</td>\n",
       "      <td>239.100000</td>\n",
       "      <td>0.0000</td>\n",
       "      <td>1.000000</td>\n",
       "      <td>1.000000</td>\n",
       "      <td>1.000000</td>\n",
       "    </tr>\n",
       "    <tr>\n",
       "      <th>2</th>\n",
       "      <td>9:2</td>\n",
       "      <td>241.0</td>\n",
       "      <td>241.0</td>\n",
       "      <td>241.0</td>\n",
       "      <td>241.0</td>\n",
       "      <td>2396</td>\n",
       "      <td>2396</td>\n",
       "      <td>239.2</td>\n",
       "      <td>1.8</td>\n",
       "      <td>0.500000</td>\n",
       "      <td>...</td>\n",
       "      <td>239.733333</td>\n",
       "      <td>0.061535</td>\n",
       "      <td>0.026691</td>\n",
       "      <td>0.034845</td>\n",
       "      <td>239.733333</td>\n",
       "      <td>239.733333</td>\n",
       "      <td>0.0000</td>\n",
       "      <td>1.002649</td>\n",
       "      <td>1.002649</td>\n",
       "      <td>1.007525</td>\n",
       "    </tr>\n",
       "    <tr>\n",
       "      <th>3</th>\n",
       "      <td>9:3</td>\n",
       "      <td>242.2</td>\n",
       "      <td>242.2</td>\n",
       "      <td>242.2</td>\n",
       "      <td>242.2</td>\n",
       "      <td>3733</td>\n",
       "      <td>3733</td>\n",
       "      <td>241.0</td>\n",
       "      <td>1.2</td>\n",
       "      <td>0.500000</td>\n",
       "      <td>...</td>\n",
       "      <td>240.350000</td>\n",
       "      <td>0.129300</td>\n",
       "      <td>0.061450</td>\n",
       "      <td>0.067850</td>\n",
       "      <td>240.350000</td>\n",
       "      <td>240.350000</td>\n",
       "      <td>0.0000</td>\n",
       "      <td>1.002572</td>\n",
       "      <td>1.002572</td>\n",
       "      <td>1.004979</td>\n",
       "    </tr>\n",
       "    <tr>\n",
       "      <th>4</th>\n",
       "      <td>9:4</td>\n",
       "      <td>245.2</td>\n",
       "      <td>245.2</td>\n",
       "      <td>245.2</td>\n",
       "      <td>245.2</td>\n",
       "      <td>2865</td>\n",
       "      <td>2865</td>\n",
       "      <td>242.2</td>\n",
       "      <td>3.0</td>\n",
       "      <td>0.500000</td>\n",
       "      <td>...</td>\n",
       "      <td>241.320000</td>\n",
       "      <td>0.282776</td>\n",
       "      <td>0.127289</td>\n",
       "      <td>0.155487</td>\n",
       "      <td>241.320000</td>\n",
       "      <td>241.320000</td>\n",
       "      <td>0.0000</td>\n",
       "      <td>1.004036</td>\n",
       "      <td>1.004036</td>\n",
       "      <td>1.012386</td>\n",
       "    </tr>\n",
       "    <tr>\n",
       "      <th>...</th>\n",
       "      <td>...</td>\n",
       "      <td>...</td>\n",
       "      <td>...</td>\n",
       "      <td>...</td>\n",
       "      <td>...</td>\n",
       "      <td>...</td>\n",
       "      <td>...</td>\n",
       "      <td>...</td>\n",
       "      <td>...</td>\n",
       "      <td>...</td>\n",
       "      <td>...</td>\n",
       "      <td>...</td>\n",
       "      <td>...</td>\n",
       "      <td>...</td>\n",
       "      <td>...</td>\n",
       "      <td>...</td>\n",
       "      <td>...</td>\n",
       "      <td>...</td>\n",
       "      <td>...</td>\n",
       "      <td>...</td>\n",
       "      <td>...</td>\n",
       "    </tr>\n",
       "    <tr>\n",
       "      <th>372</th>\n",
       "      <td>16:16</td>\n",
       "      <td>240.4</td>\n",
       "      <td>240.4</td>\n",
       "      <td>240.4</td>\n",
       "      <td>240.4</td>\n",
       "      <td>14</td>\n",
       "      <td>14</td>\n",
       "      <td>240.2</td>\n",
       "      <td>0.2</td>\n",
       "      <td>1.137037</td>\n",
       "      <td>...</td>\n",
       "      <td>240.187500</td>\n",
       "      <td>0.254409</td>\n",
       "      <td>0.255595</td>\n",
       "      <td>-0.001187</td>\n",
       "      <td>239.526667</td>\n",
       "      <td>240.200000</td>\n",
       "      <td>0.2125</td>\n",
       "      <td>1.000278</td>\n",
       "      <td>1.000111</td>\n",
       "      <td>1.000833</td>\n",
       "    </tr>\n",
       "    <tr>\n",
       "      <th>373</th>\n",
       "      <td>16:17</td>\n",
       "      <td>240.4</td>\n",
       "      <td>240.4</td>\n",
       "      <td>240.4</td>\n",
       "      <td>240.4</td>\n",
       "      <td>2320</td>\n",
       "      <td>2320</td>\n",
       "      <td>240.4</td>\n",
       "      <td>0.0</td>\n",
       "      <td>1.137037</td>\n",
       "      <td>...</td>\n",
       "      <td>240.212500</td>\n",
       "      <td>0.251285</td>\n",
       "      <td>0.254733</td>\n",
       "      <td>-0.003448</td>\n",
       "      <td>239.580000</td>\n",
       "      <td>240.213333</td>\n",
       "      <td>0.1375</td>\n",
       "      <td>1.000223</td>\n",
       "      <td>1.000056</td>\n",
       "      <td>1.000000</td>\n",
       "    </tr>\n",
       "    <tr>\n",
       "      <th>374</th>\n",
       "      <td>16:18</td>\n",
       "      <td>240.4</td>\n",
       "      <td>240.4</td>\n",
       "      <td>240.4</td>\n",
       "      <td>240.4</td>\n",
       "      <td>433</td>\n",
       "      <td>433</td>\n",
       "      <td>240.4</td>\n",
       "      <td>0.0</td>\n",
       "      <td>1.137037</td>\n",
       "      <td>...</td>\n",
       "      <td>240.225000</td>\n",
       "      <td>0.245974</td>\n",
       "      <td>0.252981</td>\n",
       "      <td>-0.007008</td>\n",
       "      <td>239.640000</td>\n",
       "      <td>240.266667</td>\n",
       "      <td>0.0750</td>\n",
       "      <td>1.000250</td>\n",
       "      <td>1.000222</td>\n",
       "      <td>1.000000</td>\n",
       "    </tr>\n",
       "    <tr>\n",
       "      <th>375</th>\n",
       "      <td>16:19</td>\n",
       "      <td>239.6</td>\n",
       "      <td>239.6</td>\n",
       "      <td>239.6</td>\n",
       "      <td>239.6</td>\n",
       "      <td>5663</td>\n",
       "      <td>5663</td>\n",
       "      <td>240.4</td>\n",
       "      <td>-0.8</td>\n",
       "      <td>0.876858</td>\n",
       "      <td>...</td>\n",
       "      <td>240.225000</td>\n",
       "      <td>0.175192</td>\n",
       "      <td>0.237424</td>\n",
       "      <td>-0.062232</td>\n",
       "      <td>239.726667</td>\n",
       "      <td>240.266667</td>\n",
       "      <td>-0.0250</td>\n",
       "      <td>1.000362</td>\n",
       "      <td>1.000000</td>\n",
       "      <td>0.996672</td>\n",
       "    </tr>\n",
       "    <tr>\n",
       "      <th>376</th>\n",
       "      <td>16:25</td>\n",
       "      <td>241.0</td>\n",
       "      <td>241.0</td>\n",
       "      <td>241.0</td>\n",
       "      <td>241.0</td>\n",
       "      <td>12149</td>\n",
       "      <td>12149</td>\n",
       "      <td>239.6</td>\n",
       "      <td>1.4</td>\n",
       "      <td>1.298372</td>\n",
       "      <td>...</td>\n",
       "      <td>240.312500</td>\n",
       "      <td>0.229421</td>\n",
       "      <td>0.235823</td>\n",
       "      <td>-0.006402</td>\n",
       "      <td>239.833333</td>\n",
       "      <td>240.346667</td>\n",
       "      <td>-0.0375</td>\n",
       "      <td>1.000445</td>\n",
       "      <td>1.000333</td>\n",
       "      <td>1.005843</td>\n",
       "    </tr>\n",
       "  </tbody>\n",
       "</table>\n",
       "<p>377 rows × 23 columns</p>\n",
       "</div>"
      ],
      "text/plain": [
       "       tid   open  close   high    low  volume  amount  close_-1_s  \\\n",
       "0      9:0  239.0  239.0  239.0  239.0    5179    5179         0.5   \n",
       "1      9:1  239.2  239.2  239.2  239.2     180     180       239.0   \n",
       "2      9:2  241.0  241.0  241.0  241.0    2396    2396       239.2   \n",
       "3      9:3  242.2  242.2  242.2  242.2    3733    3733       241.0   \n",
       "4      9:4  245.2  245.2  245.2  245.2    2865    2865       242.2   \n",
       "..     ...    ...    ...    ...    ...     ...     ...         ...   \n",
       "372  16:16  240.4  240.4  240.4  240.4      14      14       240.2   \n",
       "373  16:17  240.4  240.4  240.4  240.4    2320    2320       240.4   \n",
       "374  16:18  240.4  240.4  240.4  240.4     433     433       240.4   \n",
       "375  16:19  239.6  239.6  239.6  239.6    5663    5663       240.4   \n",
       "376  16:25  241.0  241.0  241.0  241.0   12149   12149       239.6   \n",
       "\n",
       "     close_-1_d     rs_20  ...  open_16_sma      macd     macds     macdh  \\\n",
       "0           0.5  0.500000  ...   239.000000  0.000000  0.000000  0.000000   \n",
       "1           0.2  0.500000  ...   239.100000  0.004487  0.002493  0.001994   \n",
       "2           1.8  0.500000  ...   239.733333  0.061535  0.026691  0.034845   \n",
       "3           1.2  0.500000  ...   240.350000  0.129300  0.061450  0.067850   \n",
       "4           3.0  0.500000  ...   241.320000  0.282776  0.127289  0.155487   \n",
       "..          ...       ...  ...          ...       ...       ...       ...   \n",
       "372         0.2  1.137037  ...   240.187500  0.254409  0.255595 -0.001187   \n",
       "373         0.0  1.137037  ...   240.212500  0.251285  0.254733 -0.003448   \n",
       "374         0.0  1.137037  ...   240.225000  0.245974  0.252981 -0.007008   \n",
       "375        -0.8  0.876858  ...   240.225000  0.175192  0.237424 -0.062232   \n",
       "376         1.4  1.298372  ...   240.312500  0.229421  0.235823 -0.006402   \n",
       "\n",
       "     open_30_sma  open_15_sma  sma8-16  sma30_derivert  sma15_derivert  \\\n",
       "0     239.000000   239.000000   0.0000        1.000000        1.000000   \n",
       "1     239.100000   239.100000   0.0000        1.000000        1.000000   \n",
       "2     239.733333   239.733333   0.0000        1.002649        1.002649   \n",
       "3     240.350000   240.350000   0.0000        1.002572        1.002572   \n",
       "4     241.320000   241.320000   0.0000        1.004036        1.004036   \n",
       "..           ...          ...      ...             ...             ...   \n",
       "372   239.526667   240.200000   0.2125        1.000278        1.000111   \n",
       "373   239.580000   240.213333   0.1375        1.000223        1.000056   \n",
       "374   239.640000   240.266667   0.0750        1.000250        1.000222   \n",
       "375   239.726667   240.266667  -0.0250        1.000362        1.000000   \n",
       "376   239.833333   240.346667  -0.0375        1.000445        1.000333   \n",
       "\n",
       "     derivert  \n",
       "0    1.000000  \n",
       "1    1.000000  \n",
       "2    1.007525  \n",
       "3    1.004979  \n",
       "4    1.012386  \n",
       "..        ...  \n",
       "372  1.000833  \n",
       "373  1.000000  \n",
       "374  1.000000  \n",
       "375  0.996672  \n",
       "376  1.005843  \n",
       "\n",
       "[377 rows x 23 columns]"
      ]
     },
     "execution_count": 256,
     "metadata": {},
     "output_type": "execute_result"
    }
   ],
   "source": [
    "data[0]"
   ]
  },
  {
   "cell_type": "code",
   "execution_count": 257,
   "metadata": {},
   "outputs": [],
   "source": [
    "def prepare_data_for_training(data):\n",
    "    dataxes = []\n",
    "    datayes = []\n",
    "    sanne = []\n",
    "    look_back=30\n",
    "    look_forward=10\n",
    "\n",
    "    for one_stock in data:\n",
    "        datax, datay, sann = create_dataset().create(one_stock[['macd', 'rsi_20', 'sma8-16', 'trix', 'volume']],\n",
    "                                      one_stock.sma30_derivert, look_back=look_back, look_forward=look_forward)\n",
    "        dataxes.extend(datax)\n",
    "        datayes.extend(datay)\n",
    "        sanne.append(sann)\n",
    "\n",
    "    return np.array(dataxes), np.array(datayes)\n",
    "\n",
    "\n",
    "def prepare_data_for_test(data):\n",
    "    dataxes = []\n",
    "    datayes = []\n",
    "    sanne = []\n",
    "    look_back=30\n",
    "    look_forward=10\n",
    "\n",
    "    for one_stock in data:\n",
    "        datax, datay, sann = create_dataset().create(one_stock[['macd', 'rsi_20', 'sma8-16', 'trix', 'volume']],\n",
    "                                      one_stock.sma30_derivert, look_back=look_back, look_forward=look_forward)\n",
    "        dataxes.append(datax)\n",
    "        datayes.append(datay)\n",
    "        sanne.append(sann)\n",
    "\n",
    "    return np.array(dataxes), np.array(datayes)\n",
    "    \n",
    "    \n",
    "dataxes, datayes = prepare_data_for_training(data)\n"
   ]
  },
  {
   "cell_type": "code",
   "execution_count": 258,
   "metadata": {},
   "outputs": [
    {
     "data": {
      "text/plain": [
       "(8655, 30, 5)"
      ]
     },
     "execution_count": 258,
     "metadata": {},
     "output_type": "execute_result"
    }
   ],
   "source": [
    "# split in train and val for training\n",
    "X_train, X_test, y_train, y_test = train_test_split(dataxes, datayes, test_size=0.33, shuffle=True, random_state=42)\n",
    "X_train.shape"
   ]
  },
  {
   "cell_type": "markdown",
   "metadata": {},
   "source": [
    "## Lage modellen\n",
    "Bruker LSTM. gode greier. Har ikke gridsearched eller kfold."
   ]
  },
  {
   "cell_type": "code",
   "execution_count": 259,
   "metadata": {},
   "outputs": [
    {
     "name": "stdout",
     "output_type": "stream",
     "text": [
      "Model: \"sequential_28\"\n",
      "_________________________________________________________________\n",
      "Layer (type)                 Output Shape              Param #   \n",
      "=================================================================\n",
      "lstm_55 (LSTM)               (None, None, 64)          17920     \n",
      "_________________________________________________________________\n",
      "dropout_52 (Dropout)         (None, None, 64)          0         \n",
      "_________________________________________________________________\n",
      "lstm_56 (LSTM)               (None, 64)                33024     \n",
      "_________________________________________________________________\n",
      "dropout_53 (Dropout)         (None, 64)                0         \n",
      "_________________________________________________________________\n",
      "dense_27 (Dense)             (None, 10)                650       \n",
      "=================================================================\n",
      "Total params: 51,594\n",
      "Trainable params: 51,594\n",
      "Non-trainable params: 0\n",
      "_________________________________________________________________\n"
     ]
    }
   ],
   "source": [
    "model = Sequential()\n",
    "\n",
    "model.add(LSTM(units=64, input_dim=5, return_sequences=True))\n",
    "model.add(Dropout(0.2))\n",
    "model.add(LSTM(units=64, return_sequences=False))\n",
    "model.add(Dropout(0.2))\n",
    "model.add(Dense(10))\n",
    "\n",
    "model.compile(optimizer='adam', loss='mse', metrics=['mae', r2_score])\n",
    "\n",
    "model.summary()"
   ]
  },
  {
   "cell_type": "code",
   "execution_count": 260,
   "metadata": {
    "scrolled": true
   },
   "outputs": [
    {
     "name": "stdout",
     "output_type": "stream",
     "text": [
      "Train on 8655 samples, validate on 4264 samples\n",
      "Epoch 1/60\n",
      "8655/8655 [==============================] - 12s 1ms/sample - loss: 0.1579 - mae: 0.2698 - r2_score: 0.4442 - val_loss: 0.1276 - val_mae: 0.2386 - val_r2_score: 0.5731\n",
      "Epoch 2/60\n",
      "8655/8655 [==============================] - 8s 903us/sample - loss: 0.1213 - mae: 0.2384 - r2_score: 0.5655 - val_loss: 0.1146 - val_mae: 0.2278 - val_r2_score: 0.6142\n",
      "Epoch 3/60\n",
      "8655/8655 [==============================] - 8s 934us/sample - loss: 0.1122 - mae: 0.2304 - r2_score: 0.5963 - val_loss: 0.1088 - val_mae: 0.2249 - val_r2_score: 0.6282\n",
      "Epoch 4/60\n",
      "8655/8655 [==============================] - 8s 921us/sample - loss: 0.1054 - mae: 0.2234 - r2_score: 0.6236 - val_loss: 0.1022 - val_mae: 0.2182 - val_r2_score: 0.6505\n",
      "Epoch 5/60\n",
      "8655/8655 [==============================] - 8s 975us/sample - loss: 0.1029 - mae: 0.2197 - r2_score: 0.6353 - val_loss: 0.0975 - val_mae: 0.2135 - val_r2_score: 0.6641\n",
      "Epoch 6/60\n",
      "8655/8655 [==============================] - 9s 1ms/sample - loss: 0.0946 - mae: 0.2131 - r2_score: 0.6555 - val_loss: 0.0992 - val_mae: 0.2155 - val_r2_score: 0.6609\n",
      "Epoch 7/60\n",
      "8655/8655 [==============================] - 8s 956us/sample - loss: 0.0930 - mae: 0.2119 - r2_score: 0.6655 - val_loss: 0.0887 - val_mae: 0.2061 - val_r2_score: 0.6919\n",
      "Epoch 8/60\n",
      "8655/8655 [==============================] - 9s 1ms/sample - loss: 0.0874 - mae: 0.2044 - r2_score: 0.6855 - val_loss: 0.0825 - val_mae: 0.1985 - val_r2_score: 0.7108\n",
      "Epoch 9/60\n",
      "8655/8655 [==============================] - 8s 927us/sample - loss: 0.0817 - mae: 0.1992 - r2_score: 0.7062 - val_loss: 0.0792 - val_mae: 0.1944 - val_r2_score: 0.7223\n",
      "Epoch 10/60\n",
      "8655/8655 [==============================] - 8s 902us/sample - loss: 0.0811 - mae: 0.1979 - r2_score: 0.7061 - val_loss: 0.0817 - val_mae: 0.1958 - val_r2_score: 0.7167\n",
      "Epoch 11/60\n",
      "8655/8655 [==============================] - 8s 887us/sample - loss: 0.0762 - mae: 0.1925 - r2_score: 0.7233 - val_loss: 0.0755 - val_mae: 0.1891 - val_r2_score: 0.7368\n",
      "Epoch 12/60\n",
      "8655/8655 [==============================] - 8s 889us/sample - loss: 0.0751 - mae: 0.1909 - r2_score: 0.7254 - val_loss: 0.0721 - val_mae: 0.1852 - val_r2_score: 0.7486\n",
      "Epoch 13/60\n",
      "8655/8655 [==============================] - 8s 890us/sample - loss: 0.0716 - mae: 0.1870 - r2_score: 0.7400 - val_loss: 0.0712 - val_mae: 0.1846 - val_r2_score: 0.7500\n",
      "Epoch 14/60\n",
      "8655/8655 [==============================] - 8s 911us/sample - loss: 0.0699 - mae: 0.1854 - r2_score: 0.7463 - val_loss: 0.0722 - val_mae: 0.1867 - val_r2_score: 0.7458\n",
      "Epoch 15/60\n",
      "8655/8655 [==============================] - 8s 896us/sample - loss: 0.0692 - mae: 0.1842 - r2_score: 0.7521 - val_loss: 0.0661 - val_mae: 0.1789 - val_r2_score: 0.7674\n",
      "Epoch 16/60\n",
      "8655/8655 [==============================] - 8s 937us/sample - loss: 0.0664 - mae: 0.1809 - r2_score: 0.7581 - val_loss: 0.0650 - val_mae: 0.1764 - val_r2_score: 0.7718\n",
      "Epoch 17/60\n",
      "8655/8655 [==============================] - 8s 931us/sample - loss: 0.0662 - mae: 0.1802 - r2_score: 0.7610 - val_loss: 0.0679 - val_mae: 0.1827 - val_r2_score: 0.7602\n",
      "Epoch 18/60\n",
      "8655/8655 [==============================] - 8s 927us/sample - loss: 0.0634 - mae: 0.1770 - r2_score: 0.7695 - val_loss: 0.0624 - val_mae: 0.1739 - val_r2_score: 0.7804\n",
      "Epoch 19/60\n",
      "8655/8655 [==============================] - 8s 915us/sample - loss: 0.0622 - mae: 0.1755 - r2_score: 0.7752 - val_loss: 0.0643 - val_mae: 0.1743 - val_r2_score: 0.7756\n",
      "Epoch 20/60\n",
      "8655/8655 [==============================] - 8s 904us/sample - loss: 0.0603 - mae: 0.1735 - r2_score: 0.7806 - val_loss: 0.0601 - val_mae: 0.1720 - val_r2_score: 0.7883\n",
      "Epoch 21/60\n",
      "8655/8655 [==============================] - 8s 905us/sample - loss: 0.0596 - mae: 0.1728 - r2_score: 0.7824 - val_loss: 0.0606 - val_mae: 0.1717 - val_r2_score: 0.7866\n",
      "Epoch 22/60\n",
      "8655/8655 [==============================] - 8s 907us/sample - loss: 0.0569 - mae: 0.1692 - r2_score: 0.7908 - val_loss: 0.0565 - val_mae: 0.1660 - val_r2_score: 0.8016\n",
      "Epoch 23/60\n",
      "8655/8655 [==============================] - 8s 907us/sample - loss: 0.0575 - mae: 0.1688 - r2_score: 0.7934 - val_loss: 0.0561 - val_mae: 0.1679 - val_r2_score: 0.8029\n",
      "Epoch 24/60\n",
      "8655/8655 [==============================] - 8s 898us/sample - loss: 0.0542 - mae: 0.1648 - r2_score: 0.7993 - val_loss: 0.0529 - val_mae: 0.1612 - val_r2_score: 0.8133\n",
      "Epoch 25/60\n",
      "8655/8655 [==============================] - 8s 881us/sample - loss: 0.0526 - mae: 0.1631 - r2_score: 0.8083 - val_loss: 0.0531 - val_mae: 0.1632 - val_r2_score: 0.8130\n",
      "Epoch 26/60\n",
      "8655/8655 [==============================] - 8s 906us/sample - loss: 0.0524 - mae: 0.1622 - r2_score: 0.8093 - val_loss: 0.0519 - val_mae: 0.1609 - val_r2_score: 0.8176\n",
      "Epoch 27/60\n",
      "8655/8655 [==============================] - 8s 969us/sample - loss: 0.0497 - mae: 0.1585 - r2_score: 0.8179 - val_loss: 0.0501 - val_mae: 0.1579 - val_r2_score: 0.8229\n",
      "Epoch 28/60\n",
      "8655/8655 [==============================] - 8s 910us/sample - loss: 0.0491 - mae: 0.1576 - r2_score: 0.8176 - val_loss: 0.0489 - val_mae: 0.1563 - val_r2_score: 0.8280\n",
      "Epoch 29/60\n",
      "8655/8655 [==============================] - 8s 893us/sample - loss: 0.0472 - mae: 0.1545 - r2_score: 0.8297 - val_loss: 0.0489 - val_mae: 0.1563 - val_r2_score: 0.8276\n",
      "Epoch 30/60\n",
      "8655/8655 [==============================] - 8s 901us/sample - loss: 0.0470 - mae: 0.1540 - r2_score: 0.8287 - val_loss: 0.0481 - val_mae: 0.1568 - val_r2_score: 0.8297\n",
      "Epoch 31/60\n",
      "8655/8655 [==============================] - 8s 969us/sample - loss: 0.0487 - mae: 0.1559 - r2_score: 0.8217 - val_loss: 0.0465 - val_mae: 0.1523 - val_r2_score: 0.8362\n",
      "Epoch 32/60\n",
      "8655/8655 [==============================] - 8s 892us/sample - loss: 0.0444 - mae: 0.1501 - r2_score: 0.8363 - val_loss: 0.0447 - val_mae: 0.1483 - val_r2_score: 0.8429\n",
      "Epoch 33/60\n",
      "8655/8655 [==============================] - 8s 888us/sample - loss: 0.0432 - mae: 0.1479 - r2_score: 0.8413 - val_loss: 0.0439 - val_mae: 0.1482 - val_r2_score: 0.8460\n",
      "Epoch 34/60\n",
      "8655/8655 [==============================] - 8s 901us/sample - loss: 0.0428 - mae: 0.1473 - r2_score: 0.8426 - val_loss: 0.0436 - val_mae: 0.1486 - val_r2_score: 0.8460\n",
      "Epoch 35/60\n",
      "8655/8655 [==============================] - 8s 918us/sample - loss: 0.0416 - mae: 0.1449 - r2_score: 0.8489 - val_loss: 0.0432 - val_mae: 0.1475 - val_r2_score: 0.8485\n",
      "Epoch 36/60\n",
      "8655/8655 [==============================] - 8s 903us/sample - loss: 0.0412 - mae: 0.1448 - r2_score: 0.8472 - val_loss: 0.0420 - val_mae: 0.1456 - val_r2_score: 0.8525\n",
      "Epoch 37/60\n",
      "8655/8655 [==============================] - 8s 906us/sample - loss: 0.0401 - mae: 0.1427 - r2_score: 0.8539 - val_loss: 0.0397 - val_mae: 0.1406 - val_r2_score: 0.8599\n",
      "Epoch 38/60\n",
      "8655/8655 [==============================] - 8s 900us/sample - loss: 0.0392 - mae: 0.1411 - r2_score: 0.8574 - val_loss: 0.0393 - val_mae: 0.1404 - val_r2_score: 0.8612\n",
      "Epoch 39/60\n",
      "8655/8655 [==============================] - 8s 908us/sample - loss: 0.0381 - mae: 0.1394 - r2_score: 0.8602 - val_loss: 0.0398 - val_mae: 0.1403 - val_r2_score: 0.8595\n",
      "Epoch 40/60\n",
      "8655/8655 [==============================] - 8s 899us/sample - loss: 0.0373 - mae: 0.1377 - r2_score: 0.8623 - val_loss: 0.0393 - val_mae: 0.1402 - val_r2_score: 0.8609\n",
      "Epoch 41/60\n",
      "8655/8655 [==============================] - 10s 1ms/sample - loss: 0.0376 - mae: 0.1376 - r2_score: 0.8615 - val_loss: 0.0398 - val_mae: 0.1400 - val_r2_score: 0.8605\n",
      "Epoch 42/60\n",
      "8655/8655 [==============================] - 10s 1ms/sample - loss: 0.0368 - mae: 0.1363 - r2_score: 0.8641 - val_loss: 0.0384 - val_mae: 0.1392 - val_r2_score: 0.8640ss: 0.0362 - mae: 0.135\n",
      "Epoch 43/60\n",
      "8655/8655 [==============================] - 9s 1ms/sample - loss: 0.0365 - mae: 0.1360 - r2_score: 0.8660 - val_loss: 0.0366 - val_mae: 0.1351 - val_r2_score: 0.8706\n",
      "Epoch 44/60\n",
      "8655/8655 [==============================] - 9s 1ms/sample - loss: 0.0353 - mae: 0.1337 - r2_score: 0.8709 - val_loss: 0.0359 - val_mae: 0.1336 - val_r2_score: 0.8741\n",
      "Epoch 45/60\n",
      "8655/8655 [==============================] - 9s 1ms/sample - loss: 0.0364 - mae: 0.1354 - r2_score: 0.8664 - val_loss: 0.0390 - val_mae: 0.1386 - val_r2_score: 0.8620\n"
     ]
    },
    {
     "name": "stdout",
     "output_type": "stream",
     "text": [
      "Epoch 46/60\n",
      "8655/8655 [==============================] - 9s 1ms/sample - loss: 0.0354 - mae: 0.1336 - r2_score: 0.8699 - val_loss: 0.0348 - val_mae: 0.1316 - val_r2_score: 0.8775\n",
      "Epoch 47/60\n",
      "8655/8655 [==============================] - 9s 1ms/sample - loss: 0.0334 - mae: 0.1300 - r2_score: 0.8781 - val_loss: 0.0347 - val_mae: 0.1321 - val_r2_score: 0.8781\n",
      "Epoch 48/60\n",
      "8655/8655 [==============================] - 10s 1ms/sample - loss: 0.0339 - mae: 0.1309 - r2_score: 0.8768 - val_loss: 0.0337 - val_mae: 0.1290 - val_r2_score: 0.8819\n",
      "Epoch 49/60\n",
      "8655/8655 [==============================] - 11s 1ms/sample - loss: 0.0325 - mae: 0.1281 - r2_score: 0.8819 - val_loss: 0.0336 - val_mae: 0.1300 - val_r2_score: 0.8819\n",
      "Epoch 50/60\n",
      "8655/8655 [==============================] - 9s 1ms/sample - loss: 0.0323 - mae: 0.1279 - r2_score: 0.8829 - val_loss: 0.0321 - val_mae: 0.1264 - val_r2_score: 0.8874s:\n",
      "Epoch 51/60\n",
      "8655/8655 [==============================] - 9s 1ms/sample - loss: 0.0318 - mae: 0.1266 - r2_score: 0.8870 - val_loss: 0.0308 - val_mae: 0.1235 - val_r2_score: 0.8922\n",
      "Epoch 52/60\n",
      "8655/8655 [==============================] - 8s 905us/sample - loss: 0.0317 - mae: 0.1266 - r2_score: 0.8834 - val_loss: 0.0314 - val_mae: 0.1242 - val_r2_score: 0.8902\n",
      "Epoch 53/60\n",
      "8655/8655 [==============================] - 8s 889us/sample - loss: 0.0311 - mae: 0.1251 - r2_score: 0.8856 - val_loss: 0.0323 - val_mae: 0.1256 - val_r2_score: 0.8867\n",
      "Epoch 54/60\n",
      "8655/8655 [==============================] - 8s 913us/sample - loss: 0.0309 - mae: 0.1247 - r2_score: 0.8865 - val_loss: 0.0302 - val_mae: 0.1218 - val_r2_score: 0.8942\n",
      "Epoch 55/60\n",
      "8655/8655 [==============================] - 8s 905us/sample - loss: 0.0306 - mae: 0.1236 - r2_score: 0.8869 - val_loss: 0.0308 - val_mae: 0.1218 - val_r2_score: 0.8926\n",
      "Epoch 56/60\n",
      "8655/8655 [==============================] - 8s 906us/sample - loss: 0.0305 - mae: 0.1230 - r2_score: 0.8895 - val_loss: 0.0305 - val_mae: 0.1222 - val_r2_score: 0.8934\n",
      "Epoch 57/60\n",
      "8655/8655 [==============================] - 8s 895us/sample - loss: 0.0299 - mae: 0.1224 - r2_score: 0.8915 - val_loss: 0.0292 - val_mae: 0.1200 - val_r2_score: 0.8978\n",
      "Epoch 58/60\n",
      "8655/8655 [==============================] - 8s 896us/sample - loss: 0.0294 - mae: 0.1210 - r2_score: 0.8922 - val_loss: 0.0290 - val_mae: 0.1186 - val_r2_score: 0.8980\n",
      "Epoch 59/60\n",
      "8655/8655 [==============================] - 8s 904us/sample - loss: 0.0289 - mae: 0.1201 - r2_score: 0.8959 - val_loss: 0.0302 - val_mae: 0.1226 - val_r2_score: 0.8941\n",
      "Epoch 60/60\n",
      "8655/8655 [==============================] - 8s 894us/sample - loss: 0.0297 - mae: 0.1218 - r2_score: 0.8929 - val_loss: 0.0293 - val_mae: 0.1190 - val_r2_score: 0.8971\n"
     ]
    }
   ],
   "source": [
    "history = model.fit(X_train, y_train, validation_data=(X_test, y_test), epochs=60, batch_size=64, verbose=1)"
   ]
  },
  {
   "cell_type": "markdown",
   "metadata": {},
   "source": [
    "### Plotte validation kurve"
   ]
  },
  {
   "cell_type": "code",
   "execution_count": 145,
   "metadata": {},
   "outputs": [
    {
     "name": "stdout",
     "output_type": "stream",
     "text": [
      "max val_r2 0.9439998269081116\n"
     ]
    },
    {
     "data": {
      "image/png": "[encoded data removed]",
      "text/plain": [
       "<Figure size 432x288 with 1 Axes>"
      ]
     },
     "metadata": {
      "needs_background": "light"
     },
     "output_type": "display_data"
    }
   ],
   "source": [
    "plt.plot(history.history['r2_score'])\n",
    "plt.plot(history.history['val_r2_score'])\n",
    "#plt.xlim(50,100)\n",
    "#plt.ylim(0.0, 0.025)\n",
    "print(f\"max val_r2 {np.max(history.history['val_r2_score'])}\")"
   ]
  },
  {
   "cell_type": "code",
   "execution_count": 265,
   "metadata": {},
   "outputs": [
    {
     "data": {
      "text/plain": [
       "[<matplotlib.lines.Line2D at 0x2a703455c88>]"
      ]
     },
     "execution_count": 265,
     "metadata": {},
     "output_type": "execute_result"
    },
    {
     "data": {
      "image/png": "[encoded data removed]",
      "text/plain": [
       "<Figure size 432x288 with 1 Axes>"
      ]
     },
     "metadata": {
      "needs_background": "light"
     },
     "output_type": "display_data"
    }
   ],
   "source": [
    "#plt.plot(history.history['loss'])\n",
    "flatten = [j for sub in all_history for j in sub]\n",
    "#all_history\n",
    "#for h in all_history:\n",
    "plt.plot(flatten)"
   ]
  },
  {
   "cell_type": "markdown",
   "metadata": {},
   "source": [
    "### Gjennomføre en tes \n",
    "Henter helt nye data for å gjennomføre en test på modellen."
   ]
  },
  {
   "cell_type": "code",
   "execution_count": 169,
   "metadata": {},
   "outputs": [
    {
     "name": "stdout",
     "output_type": "stream",
     "text": [
      "1 av 5 renset\r"
     ]
    },
    {
     "name": "stderr",
     "output_type": "stream",
     "text": [
      "C:\\Users\\Stian\\anaconda3\\lib\\site-packages\\pandas\\core\\indexing.py:670: SettingWithCopyWarning: \n",
      "A value is trying to be set on a copy of a slice from a DataFrame\n",
      "\n",
      "See the caveats in the documentation: https://pandas.pydata.org/pandas-docs/stable/user_guide/indexing.html#returning-a-view-versus-a-copy\n",
      "  iloc._setitem_with_indexer(indexer, value)\n",
      "NOTE: Behavior of MACDH calculation has changed as of July 2017 - it is now 1/2 of previous calculated values\n"
     ]
    },
    {
     "name": "stdout",
     "output_type": "stream",
     "text": [
      "2 av 5 renset\r"
     ]
    },
    {
     "name": "stderr",
     "output_type": "stream",
     "text": [
      "NOTE: Behavior of MACDH calculation has changed as of July 2017 - it is now 1/2 of previous calculated values\n"
     ]
    },
    {
     "name": "stdout",
     "output_type": "stream",
     "text": [
      "3 av 5 renset\r"
     ]
    },
    {
     "name": "stderr",
     "output_type": "stream",
     "text": [
      "NOTE: Behavior of MACDH calculation has changed as of July 2017 - it is now 1/2 of previous calculated values\n"
     ]
    },
    {
     "name": "stdout",
     "output_type": "stream",
     "text": [
      "4 av 5 renset\r"
     ]
    },
    {
     "name": "stderr",
     "output_type": "stream",
     "text": [
      "NOTE: Behavior of MACDH calculation has changed as of July 2017 - it is now 1/2 of previous calculated values\n"
     ]
    },
    {
     "name": "stdout",
     "output_type": "stream",
     "text": [
      "5 av 5 renset\r"
     ]
    },
    {
     "name": "stderr",
     "output_type": "stream",
     "text": [
      "NOTE: Behavior of MACDH calculation has changed as of July 2017 - it is now 1/2 of previous calculated values\n",
      "C:\\Users\\Stian\\anaconda3\\lib\\site-packages\\ipykernel_launcher.py:32: VisibleDeprecationWarning: Creating an ndarray from ragged nested sequences (which is a list-or-tuple of lists-or-tuples-or ndarrays with different lengths or shapes) is deprecated. If you meant to do this, you must specify 'dtype=object' when creating the ndarray\n"
     ]
    }
   ],
   "source": [
    "filer = list(map(add_data, os.listdir('data/')))[55:60] # test 54:60\n",
    "data_test = make_ready().use_stockstats(filer)\n",
    "dataxes, datayes = prepare_data_for_test(data_test)"
   ]
  },
  {
   "cell_type": "code",
   "execution_count": 170,
   "metadata": {},
   "outputs": [
    {
     "name": "stderr",
     "output_type": "stream",
     "text": [
      "C:\\Users\\Stian\\anaconda3\\lib\\site-packages\\ipykernel_launcher.py:6: VisibleDeprecationWarning: Creating an ndarray from ragged nested sequences (which is a list-or-tuple of lists-or-tuples-or ndarrays with different lengths or shapes) is deprecated. If you meant to do this, you must specify 'dtype=object' when creating the ndarray\n",
      "  \n"
     ]
    }
   ],
   "source": [
    "pred = []\n",
    "\n",
    "for x in dataxes:\n",
    "    pred.append(model.predict(x))\n",
    "\n",
    "pred = np.array(pred)"
   ]
  },
  {
   "cell_type": "code",
   "execution_count": 171,
   "metadata": {},
   "outputs": [
    {
     "name": "stdout",
     "output_type": "stream",
     "text": [
      "rscore for one of it 0.578028159334887\n",
      "rscore for one of it 0.23117419961225796\n",
      "rscore for one of it 0.709349975077281\n",
      "rscore for one of it -0.1874100602546584\n",
      "rscore for one of it 0.5287478640105717\n"
     ]
    }
   ],
   "source": [
    "for i in range(len(pred)):\n",
    "    print(f\"rscore for one of it {r2_score(pred[i], datayes[i])}\")\n",
    "    "
   ]
  },
  {
   "cell_type": "code",
   "execution_count": 159,
   "metadata": {},
   "outputs": [
    {
     "data": {
      "text/plain": [
       "(2,)"
      ]
     },
     "execution_count": 159,
     "metadata": {},
     "output_type": "execute_result"
    }
   ],
   "source": [
    "pred.shape"
   ]
  },
  {
   "cell_type": "code",
   "execution_count": 172,
   "metadata": {},
   "outputs": [
    {
     "data": {
      "image/png": "[encoded data removed]",
      "text/plain": [
       "<Figure size 432x288 with 1 Axes>"
      ]
     },
     "metadata": {
      "needs_background": "light"
     },
     "output_type": "display_data"
    },
    {
     "data": {
      "image/png": "[encoded data removed]",
      "text/plain": [
       "<Figure size 432x288 with 1 Axes>"
      ]
     },
     "metadata": {
      "needs_background": "light"
     },
     "output_type": "display_data"
    },
    {
     "data": {
      "image/png": "[encoded data removed]",
      "text/plain": [
       "<Figure size 432x288 with 1 Axes>"
      ]
     },
     "metadata": {
      "needs_background": "light"
     },
     "output_type": "display_data"
    },
    {
     "data": {
      "image/png": "[encoded data removed]",
      "text/plain": [
       "<Figure size 432x288 with 1 Axes>"
      ]
     },
     "metadata": {
      "needs_background": "light"
     },
     "output_type": "display_data"
    },
    {
     "data": {
      "image/png": "[encoded data removed]",
      "text/plain": [
       "<Figure size 432x288 with 1 Axes>"
      ]
     },
     "metadata": {
      "needs_background": "light"
     },
     "output_type": "display_data"
    }
   ],
   "source": [
    "for i, p in enumerate(pred):\n",
    "    for j, y in enumerate(p):\n",
    "        \n",
    "    #print(p.shape)\n",
    "        plt.plot(range(30+j,40+j), datayes[i][j], c='blue', linewidth=.5)\n",
    "        plt.plot(range(30+j,40+j), y, c='red')\n",
    "    plt.show()"
   ]
  },
  {
   "cell_type": "code",
   "execution_count": 39,
   "metadata": {},
   "outputs": [
    {
     "data": {
      "text/plain": [
       "[<matplotlib.lines.Line2D at 0x14edee3dd48>]"
      ]
     },
     "execution_count": 39,
     "metadata": {},
     "output_type": "execute_result"
    },
    {
     "data": {
      "image/png": "[encoded data removed]",
      "text/plain": [
       "<Figure size 432x288 with 1 Axes>"
      ]
     },
     "metadata": {
      "needs_background": "light"
     },
     "output_type": "display_data"
    }
   ],
   "source": [
    "plt.plot(data[0]['open'])"
   ]
  },
  {
   "cell_type": "markdown",
   "metadata": {},
   "source": [
    "## Save model"
   ]
  },
  {
   "cell_type": "code",
   "execution_count": 152,
   "metadata": {},
   "outputs": [],
   "source": [
    "# Save model\n",
    "\n",
    "model.save('models/rnn_model.h5')"
   ]
  },
  {
   "cell_type": "code",
   "execution_count": 55,
   "metadata": {},
   "outputs": [],
   "source": []
  },
  {
   "cell_type": "code",
   "execution_count": 56,
   "metadata": {},
   "outputs": [
    {
     "name": "stdout",
     "output_type": "stream",
     "text": [
      " Volume in drive C is Windows\n",
      " Volume Serial Number is 0223-158D\n",
      "\n",
      " Directory of C:\\Users\\Stian\\Documents\\School\\99. Div\\intradag\n",
      "\n",
      "19.09.2020  00.30    <DIR>          .\n",
      "19.09.2020  00.30    <DIR>          ..\n",
      "16.08.2020  17.38    <DIR>          .idea\n",
      "01.09.2020  19.48    <DIR>          .ipynb_checkpoints\n",
      "24.08.2020  21.27    <DIR>          data\n",
      "26.08.2020  22.16    <DIR>          history\n",
      "18.09.2020  19.30    <DIR>          images\n",
      "25.08.2020  13.08    <DIR>          lib\n",
      "30.08.2020  10.25           514ÿ958 make_model.ipynb\n",
      "19.09.2020  00.30    <DIR>          models\n",
      "29.08.2020  11.29               664 README.md\n",
      "19.09.2020  00.29           132ÿ506 RNN_trial.ipynb\n",
      "16.08.2020  17.14         3ÿ922ÿ732 smadaytrade.ipynb\n",
      "01.09.2020  20.07           775ÿ971 use_model.ipynb\n",
      "17.08.2020  12.53    <DIR>          __pycache__\n",
      "               5 File(s)      5ÿ346ÿ831 bytes\n",
      "              10 Dir(s)  75ÿ003ÿ355ÿ136 bytes free\n"
     ]
    }
   ],
   "source": [
    "!dir"
   ]
  },
  {
   "cell_type": "code",
   "execution_count": null,
   "metadata": {},
   "outputs": [],
   "source": []
  }
 ],
 "metadata": {
  "kernelspec": {
   "display_name": "Python 3",
   "language": "python",
   "name": "python3"
  },
  "language_info": {
   "codemirror_mode": {
    "name": "ipython",
    "version": 3
   },
   "file_extension": ".py",
   "mimetype": "text/x-python",
   "name": "python",
   "nbconvert_exporter": "python",
   "pygments_lexer": "ipython3",
   "version": "3.7.7"
  }
 },
 "nbformat": 4,
 "nbformat_minor": 4
}
