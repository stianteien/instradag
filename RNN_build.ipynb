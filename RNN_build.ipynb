{
 "cells": [
  {
   "cell_type": "markdown",
   "metadata": {},
   "source": [
    "# RNN BUILD\n",
    "\n",
    "* Først hente og rense data ved bruk av eget lib\n",
    "* Så sette opp en modell\n",
    "* Trene og validere -> Deretter teste på ny data\n",
    "* Lagre modellen\n",
    "\n",
    "Ops ops: Modellen kan kun bukes på data med 3 dimensjoner. Det betyr at det alltid på komme i en sekvens på minimum (2, 30, 5)"
   ]
  },
  {
   "cell_type": "code",
   "execution_count": 1,
   "metadata": {},
   "outputs": [],
   "source": [
    "from tensorflow.keras.layers import Dense, LSTM, Dropout, Input\n",
    "from tensorflow.keras.models import Sequential\n",
    "from tensorflow.keras import backend as K\n",
    "import numpy as np\n",
    "import pandas as pd\n",
    "import stockstats\n",
    "import os\n",
    "import matplotlib.pyplot as plt\n",
    "import pickle\n",
    "\n",
    "from sklearn import preprocessing\n",
    "from sklearn.model_selection import train_test_split\n",
    "from sklearn.metrics import r2_score\n",
    "\n",
    "from lib.rens import rens\n",
    "from lib.create_dataset import create_dataset\n",
    "from lib.make_ready import make_ready\n"
   ]
  },
  {
   "cell_type": "code",
   "execution_count": 2,
   "metadata": {},
   "outputs": [],
   "source": [
    "# Pickle save and load premake file.\n",
    "#import pickle\n",
    "#with open('premade_data/79dager.pkl', 'wb') as f:\n",
    "#    pickle.dump(data, f)\n",
    "    \n",
    "# Load\n",
    "with open('premade_data/79dager.pkl', 'rb') as f:\n",
    "    data = pickle.load(f)"
   ]
  },
  {
   "cell_type": "code",
   "execution_count": 3,
   "metadata": {},
   "outputs": [],
   "source": [
    "def r2_score_nn(y_true, y_pred):\n",
    "    SS_res =  K.sum(K.square( y_true-y_pred ))\n",
    "    SS_tot = K.sum(K.square( y_true - K.mean(y_true) ) )\n",
    "    return ( 1 - SS_res/(SS_tot + K.epsilon()) )\n",
    "\n",
    "def add_data(word):\n",
    "    ordet = 'data/' + word\n",
    "    return ordet"
   ]
  },
  {
   "cell_type": "code",
   "execution_count": 4,
   "metadata": {},
   "outputs": [],
   "source": [
    "indikatorer = ['macd', 'rsi_6', 'rsi_10', 'rsi_20', 'rsi_60', \n",
    "               'open_4_sma', 'open_8_sma', 'open_15_sma', 'open_16_sma', 'open_30_sma', 'open_60_sma',\n",
    "               'trix', 'open_10_trix', 'open_30_trix', 'open_60_trix', \n",
    "               'wr_10', 'wr_20', 'wr_60', 'open_30_mstd', 'vr_30_sma',\n",
    "               'volume', 'dma', 'atr_30', 'adx_30_ema', 'adx', 'adxr', 'cci_30']"
   ]
  },
  {
   "cell_type": "code",
   "execution_count": 5,
   "metadata": {
    "scrolled": true
   },
   "outputs": [
    {
     "name": "stdout",
     "output_type": "stream",
     "text": [
      "5 av 5 renset\r"
     ]
    }
   ],
   "source": [
    "filer = list(map(add_data, os.listdir('data/')))[0:5] # test 54:60 mellom 10 og 14 er noe feil\n",
    "data = make_ready().use_stockstats(filer, indikatorer)"
   ]
  },
  {
   "cell_type": "code",
   "execution_count": 6,
   "metadata": {},
   "outputs": [],
   "source": [
    "data[0]['rsi_6'] = data[0]['rsi_6'].fillna(5)"
   ]
  },
  {
   "cell_type": "code",
   "execution_count": 7,
   "metadata": {},
   "outputs": [
    {
     "data": {
      "text/plain": [
       "0      100.000000\n",
       "1      100.000000\n",
       "2      100.000000\n",
       "3      100.000000\n",
       "4      100.000000\n",
       "          ...    \n",
       "372     57.358367\n",
       "373     57.358367\n",
       "374     57.358367\n",
       "375     29.272661\n",
       "376     65.129257\n",
       "Name: rsi_6, Length: 377, dtype: float64"
      ]
     },
     "execution_count": 7,
     "metadata": {},
     "output_type": "execute_result"
    }
   ],
   "source": [
    "data[0]['rsi_6']"
   ]
  },
  {
   "cell_type": "code",
   "execution_count": 8,
   "metadata": {},
   "outputs": [
    {
     "data": {
      "text/plain": [
       "Index(['tid', 'open', 'close', 'high', 'low', 'volume', 'amount', 'macd',\n",
       "       'macds', 'macdh', 'close_-1_s', 'close_-1_d', 'rs_6', 'rsi_6', 'rs_10',\n",
       "       'rsi_10', 'rs_20', 'rsi_20', 'rs_60', 'rsi_60', 'open_4_sma',\n",
       "       'open_8_sma', 'open_15_sma', 'open_16_sma', 'open_30_sma',\n",
       "       'open_60_sma', 'trix', 'open_10_trix', 'open_30_trix', 'open_60_trix',\n",
       "       'wr_10', 'wr_20', 'wr_60', 'open_30_mstd', 'change', 'vr', 'vr_30_sma',\n",
       "       'close_10_sma', 'close_50_sma', 'dma', 'tr', 'atr_30', 'high_delta',\n",
       "       'um', 'low_delta', 'dm', 'pdm', 'pdm_14_ema', 'pdm_14', 'atr_14',\n",
       "       'pdi_14', 'pdi', 'mdm', 'mdm_14_ema', 'mdm_14', 'mdi_14', 'mdi',\n",
       "       'dx_14', 'dx', 'dx_6_ema', 'adx', 'adx_6_ema', 'adxr', 'adx_30_ema',\n",
       "       'middle', 'middle_30_sma', 'cci_30', 'sma8-16', 'sma30_derivert',\n",
       "       'sma15_derivert', 'derivert'],\n",
       "      dtype='object')"
      ]
     },
     "execution_count": 8,
     "metadata": {},
     "output_type": "execute_result"
    }
   ],
   "source": [
    "data[0].columns"
   ]
  },
  {
   "cell_type": "code",
   "execution_count": 9,
   "metadata": {},
   "outputs": [],
   "source": [
    "def prepare_data_for_training(data, indikatorer):\n",
    "    dataxes = []\n",
    "    datayes = []\n",
    "    sanne = []\n",
    "    look_back=30\n",
    "    look_forward=10\n",
    "\n",
    "    for one_stock in data:\n",
    "        datax, datay, sann = create_dataset().create(one_stock[indikatorer],\n",
    "                                      one_stock.sma30_derivert, look_back=look_back, look_forward=look_forward)\n",
    "        dataxes.extend(datax)\n",
    "        datayes.extend(datay)\n",
    "        sanne.append(sann)\n",
    "\n",
    "    return np.array(dataxes), np.array(datayes)\n",
    "\n",
    "\n",
    "def prepare_data_for_test(data, indikatorer):\n",
    "    dataxes = []\n",
    "    datayes = []\n",
    "    sanne = []\n",
    "    look_back=30\n",
    "    look_forward=10\n",
    "\n",
    "    for one_stock in data:\n",
    "        datax, datay, sann = create_dataset().create(one_stock[indikatorer],\n",
    "                                      one_stock.sma30_derivert, look_back=look_back, look_forward=look_forward)\n",
    "        dataxes.append(datax)\n",
    "        datayes.append(datay)\n",
    "        sanne.append(sann)\n",
    "\n",
    "    return np.array(dataxes), np.array(datayes)\n",
    "    \n",
    " \n",
    "dataxes, datayes = prepare_data_for_training(data, indikatorer)\n"
   ]
  },
  {
   "cell_type": "code",
   "execution_count": 10,
   "metadata": {},
   "outputs": [
    {
     "data": {
      "text/plain": [
       "(897, 30, 27)"
      ]
     },
     "execution_count": 10,
     "metadata": {},
     "output_type": "execute_result"
    }
   ],
   "source": [
    "# split in train and val for training\n",
    "X_train, X_test, y_train, y_test = train_test_split(dataxes, datayes, test_size=0.33, shuffle=True, random_state=42)\n",
    "X_train.shape"
   ]
  },
  {
   "cell_type": "markdown",
   "metadata": {},
   "source": [
    "## Lage modellen\n",
    "Bruker LSTM. gode greier. Har ikke gridsearched eller kfold."
   ]
  },
  {
   "cell_type": "code",
   "execution_count": 14,
   "metadata": {},
   "outputs": [
    {
     "name": "stdout",
     "output_type": "stream",
     "text": [
      "Model: \"sequential_1\"\n",
      "_________________________________________________________________\n",
      "Layer (type)                 Output Shape              Param #   \n",
      "=================================================================\n",
      "lstm_2 (LSTM)                (None, None, 64)          23552     \n",
      "_________________________________________________________________\n",
      "dropout_2 (Dropout)          (None, None, 64)          0         \n",
      "_________________________________________________________________\n",
      "lstm_3 (LSTM)                (None, 64)                33024     \n",
      "_________________________________________________________________\n",
      "dropout_3 (Dropout)          (None, 64)                0         \n",
      "_________________________________________________________________\n",
      "dense_1 (Dense)              (None, 10)                650       \n",
      "=================================================================\n",
      "Total params: 57,226\n",
      "Trainable params: 57,226\n",
      "Non-trainable params: 0\n",
      "_________________________________________________________________\n"
     ]
    }
   ],
   "source": [
    "model = Sequential()\n",
    "\n",
    "model.add(LSTM(units=64, input_dim=X_train.shape[2], return_sequences=True))\n",
    "model.add(Dropout(0.2))\n",
    "model.add(LSTM(units=64, return_sequences=False))\n",
    "model.add(Dropout(0.2))\n",
    "model.add(Dense(10))\n",
    "\n",
    "model.compile(optimizer='adam', loss='mse', metrics=['mae', r2_score_nn])\n",
    "\n",
    "model.summary()"
   ]
  },
  {
   "cell_type": "code",
   "execution_count": 15,
   "metadata": {
    "scrolled": true
   },
   "outputs": [
    {
     "name": "stdout",
     "output_type": "stream",
     "text": [
      "Epoch 1/60\n",
      "15/15 [==============================] - 2s 138ms/step - loss: 0.2715 - mae: 0.3754 - r2_score_nn: 0.2010 - val_loss: 0.1396 - val_mae: 0.2813 - val_r2_score_nn: 0.5950\n",
      "Epoch 2/60\n",
      "15/15 [==============================] - 1s 40ms/step - loss: 0.1632 - mae: 0.3011 - r2_score_nn: 0.3187 - val_loss: 0.1140 - val_mae: 0.2580 - val_r2_score_nn: 0.6671\n",
      "Epoch 3/60\n",
      "15/15 [==============================] - 1s 40ms/step - loss: 0.1351 - mae: 0.2753 - r2_score_nn: 0.5138 - val_loss: 0.1006 - val_mae: 0.2442 - val_r2_score_nn: 0.7042\n",
      "Epoch 4/60\n",
      "15/15 [==============================] - 1s 39ms/step - loss: 0.1163 - mae: 0.2572 - r2_score_nn: 0.6539 - val_loss: 0.0860 - val_mae: 0.2250 - val_r2_score_nn: 0.7468\n",
      "Epoch 5/60\n",
      "15/15 [==============================] - 1s 40ms/step - loss: 0.1019 - mae: 0.2421 - r2_score_nn: 0.4047 - val_loss: 0.0811 - val_mae: 0.2188 - val_r2_score_nn: 0.7598\n",
      "Epoch 6/60\n",
      "15/15 [==============================] - 1s 40ms/step - loss: 0.0939 - mae: 0.2328 - r2_score_nn: 0.5179 - val_loss: 0.0717 - val_mae: 0.2072 - val_r2_score_nn: 0.7870\n",
      "Epoch 7/60\n",
      "15/15 [==============================] - 1s 39ms/step - loss: 0.0855 - mae: 0.2241 - r2_score_nn: 0.5071 - val_loss: 0.0661 - val_mae: 0.1981 - val_r2_score_nn: 0.8040\n",
      "Epoch 8/60\n",
      "15/15 [==============================] - 1s 41ms/step - loss: 0.0783 - mae: 0.2133 - r2_score_nn: -1.2340 - val_loss: 0.0605 - val_mae: 0.1887 - val_r2_score_nn: 0.8216\n",
      "Epoch 9/60\n",
      "15/15 [==============================] - 1s 39ms/step - loss: 0.0777 - mae: 0.2155 - r2_score_nn: 0.5750 - val_loss: 0.0634 - val_mae: 0.1964 - val_r2_score_nn: 0.8112\n",
      "Epoch 10/60\n",
      "15/15 [==============================] - 1s 39ms/step - loss: 0.0747 - mae: 0.2081 - r2_score_nn: 0.6550 - val_loss: 0.0593 - val_mae: 0.1866 - val_r2_score_nn: 0.8247\n",
      "Epoch 11/60\n",
      "15/15 [==============================] - 1s 41ms/step - loss: 0.0673 - mae: 0.1978 - r2_score_nn: 0.2265 - val_loss: 0.0513 - val_mae: 0.1716 - val_r2_score_nn: 0.8481\n",
      "Epoch 12/60\n",
      "15/15 [==============================] - 1s 42ms/step - loss: 0.0633 - mae: 0.1912 - r2_score_nn: 0.6297 - val_loss: 0.0522 - val_mae: 0.1767 - val_r2_score_nn: 0.8454\n",
      "Epoch 13/60\n",
      "15/15 [==============================] - 1s 42ms/step - loss: 0.0701 - mae: 0.2041 - r2_score_nn: 0.7151 - val_loss: 0.0546 - val_mae: 0.1795 - val_r2_score_nn: 0.8374\n",
      "Epoch 14/60\n",
      "15/15 [==============================] - 1s 40ms/step - loss: 0.0652 - mae: 0.1964 - r2_score_nn: 0.7408 - val_loss: 0.0475 - val_mae: 0.1658 - val_r2_score_nn: 0.8602\n",
      "Epoch 15/60\n",
      "15/15 [==============================] - 1s 43ms/step - loss: 0.0589 - mae: 0.1852 - r2_score_nn: 0.3665 - val_loss: 0.0450 - val_mae: 0.1615 - val_r2_score_nn: 0.8666\n",
      "Epoch 16/60\n",
      "15/15 [==============================] - 1s 43ms/step - loss: 0.0529 - mae: 0.1752 - r2_score_nn: 0.7061 - val_loss: 0.0432 - val_mae: 0.1577 - val_r2_score_nn: 0.8718\n",
      "Epoch 17/60\n",
      "15/15 [==============================] - 1s 42ms/step - loss: 0.0528 - mae: 0.1743 - r2_score_nn: 0.7277 - val_loss: 0.0470 - val_mae: 0.1659 - val_r2_score_nn: 0.8609\n",
      "Epoch 18/60\n",
      "15/15 [==============================] - 1s 41ms/step - loss: 0.0568 - mae: 0.1839 - r2_score_nn: 0.6254 - val_loss: 0.0454 - val_mae: 0.1639 - val_r2_score_nn: 0.8660\n",
      "Epoch 19/60\n",
      "15/15 [==============================] - 1s 40ms/step - loss: 0.0528 - mae: 0.1751 - r2_score_nn: 0.5429 - val_loss: 0.0410 - val_mae: 0.1550 - val_r2_score_nn: 0.8793\n",
      "Epoch 20/60\n",
      "15/15 [==============================] - 1s 44ms/step - loss: 0.0481 - mae: 0.1673 - r2_score_nn: 0.8165 - val_loss: 0.0400 - val_mae: 0.1522 - val_r2_score_nn: 0.8821\n",
      "Epoch 21/60\n",
      "15/15 [==============================] - 1s 44ms/step - loss: 0.0461 - mae: 0.1635 - r2_score_nn: 0.2884 - val_loss: 0.0369 - val_mae: 0.1449 - val_r2_score_nn: 0.8917\n",
      "Epoch 22/60\n",
      "15/15 [==============================] - 1s 41ms/step - loss: 0.0445 - mae: 0.1600 - r2_score_nn: 0.6013 - val_loss: 0.0366 - val_mae: 0.1434 - val_r2_score_nn: 0.8924\n",
      "Epoch 23/60\n",
      "15/15 [==============================] - 1s 42ms/step - loss: 0.0435 - mae: 0.1571 - r2_score_nn: 0.7661 - val_loss: 0.0346 - val_mae: 0.1402 - val_r2_score_nn: 0.8982\n",
      "Epoch 24/60\n",
      "15/15 [==============================] - 1s 42ms/step - loss: 0.0423 - mae: 0.1563 - r2_score_nn: 0.8257 - val_loss: 0.0345 - val_mae: 0.1385 - val_r2_score_nn: 0.8983\n",
      "Epoch 25/60\n",
      "15/15 [==============================] - 1s 41ms/step - loss: 0.0454 - mae: 0.1589 - r2_score_nn: 0.8367 - val_loss: 0.0381 - val_mae: 0.1461 - val_r2_score_nn: 0.8878\n",
      "Epoch 26/60\n",
      "15/15 [==============================] - 1s 40ms/step - loss: 0.0434 - mae: 0.1557 - r2_score_nn: 0.8233 - val_loss: 0.0328 - val_mae: 0.1357 - val_r2_score_nn: 0.9030\n",
      "Epoch 27/60\n",
      "15/15 [==============================] - 1s 43ms/step - loss: 0.0406 - mae: 0.1513 - r2_score_nn: 0.7617 - val_loss: 0.0306 - val_mae: 0.1318 - val_r2_score_nn: 0.9098\n",
      "Epoch 28/60\n",
      "15/15 [==============================] - 1s 40ms/step - loss: 0.0389 - mae: 0.1481 - r2_score_nn: 0.8655 - val_loss: 0.0315 - val_mae: 0.1336 - val_r2_score_nn: 0.9075\n",
      "Epoch 29/60\n",
      "15/15 [==============================] - 1s 42ms/step - loss: 0.0379 - mae: 0.1467 - r2_score_nn: 0.8086 - val_loss: 0.0288 - val_mae: 0.1275 - val_r2_score_nn: 0.9151\n",
      "Epoch 30/60\n",
      "15/15 [==============================] - 1s 43ms/step - loss: 0.0363 - mae: 0.1430 - r2_score_nn: 0.7460 - val_loss: 0.0285 - val_mae: 0.1266 - val_r2_score_nn: 0.9160\n",
      "Epoch 31/60\n",
      "15/15 [==============================] - 1s 43ms/step - loss: 0.0375 - mae: 0.1457 - r2_score_nn: 0.8095 - val_loss: 0.0297 - val_mae: 0.1294 - val_r2_score_nn: 0.9123\n",
      "Epoch 32/60\n",
      "15/15 [==============================] - 1s 40ms/step - loss: 0.0382 - mae: 0.1474 - r2_score_nn: 0.8128 - val_loss: 0.0283 - val_mae: 0.1267 - val_r2_score_nn: 0.9167\n",
      "Epoch 33/60\n",
      "15/15 [==============================] - 1s 42ms/step - loss: 0.0388 - mae: 0.1489 - r2_score_nn: 0.8362 - val_loss: 0.0284 - val_mae: 0.1279 - val_r2_score_nn: 0.9160\n",
      "Epoch 34/60\n",
      "15/15 [==============================] - 1s 42ms/step - loss: 0.0379 - mae: 0.1471 - r2_score_nn: 0.8614 - val_loss: 0.0306 - val_mae: 0.1306 - val_r2_score_nn: 0.9097\n",
      "Epoch 35/60\n",
      "15/15 [==============================] - 1s 39ms/step - loss: 0.0351 - mae: 0.1410 - r2_score_nn: 0.8912 - val_loss: 0.0268 - val_mae: 0.1222 - val_r2_score_nn: 0.9213\n",
      "Epoch 36/60\n",
      "15/15 [==============================] - 1s 46ms/step - loss: 0.0368 - mae: 0.1423 - r2_score_nn: 0.7892 - val_loss: 0.0270 - val_mae: 0.1226 - val_r2_score_nn: 0.9208\n",
      "Epoch 37/60\n",
      "15/15 [==============================] - 1s 50ms/step - loss: 0.0331 - mae: 0.1358 - r2_score_nn: 0.8582 - val_loss: 0.0261 - val_mae: 0.1207 - val_r2_score_nn: 0.9233\n",
      "Epoch 38/60\n",
      "15/15 [==============================] - 1s 47ms/step - loss: 0.0334 - mae: 0.1357 - r2_score_nn: 0.8516 - val_loss: 0.0255 - val_mae: 0.1200 - val_r2_score_nn: 0.9249\n",
      "Epoch 39/60\n",
      "15/15 [==============================] - 1s 46ms/step - loss: 0.0328 - mae: 0.1356 - r2_score_nn: 0.8665 - val_loss: 0.0253 - val_mae: 0.1183 - val_r2_score_nn: 0.9257\n",
      "Epoch 40/60\n",
      "15/15 [==============================] - 1s 46ms/step - loss: 0.0344 - mae: 0.1384 - r2_score_nn: 0.8169 - val_loss: 0.0266 - val_mae: 0.1218 - val_r2_score_nn: 0.9214\n",
      "Epoch 41/60\n",
      "15/15 [==============================] - 1s 49ms/step - loss: 0.0325 - mae: 0.1344 - r2_score_nn: 0.4693 - val_loss: 0.0269 - val_mae: 0.1233 - val_r2_score_nn: 0.9208\n",
      "Epoch 42/60\n",
      "15/15 [==============================] - 1s 49ms/step - loss: 0.0380 - mae: 0.1455 - r2_score_nn: 0.8107 - val_loss: 0.0292 - val_mae: 0.1303 - val_r2_score_nn: 0.9137\n",
      "Epoch 43/60\n",
      "15/15 [==============================] - 1s 45ms/step - loss: 0.0334 - mae: 0.1386 - r2_score_nn: 0.7864 - val_loss: 0.0272 - val_mae: 0.1242 - val_r2_score_nn: 0.9201\n",
      "Epoch 44/60\n",
      "15/15 [==============================] - 1s 40ms/step - loss: 0.0323 - mae: 0.1338 - r2_score_nn: 0.8831 - val_loss: 0.0267 - val_mae: 0.1223 - val_r2_score_nn: 0.9212\n",
      "Epoch 45/60\n",
      "15/15 [==============================] - 1s 40ms/step - loss: 0.0340 - mae: 0.1381 - r2_score_nn: 0.8861 - val_loss: 0.0288 - val_mae: 0.1263 - val_r2_score_nn: 0.9159\n",
      "Epoch 46/60\n",
      "15/15 [==============================] - 1s 41ms/step - loss: 0.0513 - mae: 0.1599 - r2_score_nn: 0.8199 - val_loss: 0.0335 - val_mae: 0.1369 - val_r2_score_nn: 0.9008\n",
      "Epoch 47/60\n",
      "15/15 [==============================] - 1s 42ms/step - loss: 0.0392 - mae: 0.1475 - r2_score_nn: 0.8824 - val_loss: 0.0307 - val_mae: 0.1326 - val_r2_score_nn: 0.9098\n",
      "Epoch 48/60\n",
      "15/15 [==============================] - 1s 43ms/step - loss: 0.0361 - mae: 0.1437 - r2_score_nn: 0.4884 - val_loss: 0.0269 - val_mae: 0.1206 - val_r2_score_nn: 0.9212\n",
      "Epoch 49/60\n",
      "15/15 [==============================] - 1s 40ms/step - loss: 0.0332 - mae: 0.1374 - r2_score_nn: 0.7898 - val_loss: 0.0274 - val_mae: 0.1232 - val_r2_score_nn: 0.9195\n",
      "Epoch 50/60\n",
      "15/15 [==============================] - 1s 41ms/step - loss: 0.0323 - mae: 0.1340 - r2_score_nn: 0.8978 - val_loss: 0.0248 - val_mae: 0.1181 - val_r2_score_nn: 0.9272\n",
      "Epoch 51/60\n",
      "15/15 [==============================] - 1s 40ms/step - loss: 0.0305 - mae: 0.1314 - r2_score_nn: 0.8844 - val_loss: 0.0233 - val_mae: 0.1135 - val_r2_score_nn: 0.9315\n",
      "Epoch 52/60\n",
      "15/15 [==============================] - 1s 41ms/step - loss: 0.0296 - mae: 0.1281 - r2_score_nn: 0.8870 - val_loss: 0.0230 - val_mae: 0.1134 - val_r2_score_nn: 0.9324\n",
      "Epoch 53/60\n",
      "15/15 [==============================] - 1s 40ms/step - loss: 0.0291 - mae: 0.1280 - r2_score_nn: 0.8669 - val_loss: 0.0244 - val_mae: 0.1166 - val_r2_score_nn: 0.9279\n",
      "Epoch 54/60\n",
      "15/15 [==============================] - 1s 40ms/step - loss: 0.0285 - mae: 0.1262 - r2_score_nn: 0.8190 - val_loss: 0.0231 - val_mae: 0.1131 - val_r2_score_nn: 0.9318\n",
      "Epoch 55/60\n",
      "15/15 [==============================] - 1s 40ms/step - loss: 0.0288 - mae: 0.1274 - r2_score_nn: 0.8453 - val_loss: 0.0239 - val_mae: 0.1166 - val_r2_score_nn: 0.9293\n",
      "Epoch 56/60\n",
      "15/15 [==============================] - 1s 40ms/step - loss: 0.0277 - mae: 0.1244 - r2_score_nn: 0.8786 - val_loss: 0.0229 - val_mae: 0.1131 - val_r2_score_nn: 0.9326\n",
      "Epoch 57/60\n",
      "15/15 [==============================] - 1s 43ms/step - loss: 0.0290 - mae: 0.1272 - r2_score_nn: 0.8468 - val_loss: 0.0263 - val_mae: 0.1211 - val_r2_score_nn: 0.9223\n",
      "Epoch 58/60\n",
      "15/15 [==============================] - 1s 41ms/step - loss: 0.0336 - mae: 0.1363 - r2_score_nn: 0.7724 - val_loss: 0.0246 - val_mae: 0.1178 - val_r2_score_nn: 0.9275\n",
      "Epoch 59/60\n",
      "15/15 [==============================] - 1s 42ms/step - loss: 0.0320 - mae: 0.1330 - r2_score_nn: 0.8780 - val_loss: 0.0239 - val_mae: 0.1151 - val_r2_score_nn: 0.9294\n",
      "Epoch 60/60\n",
      "15/15 [==============================] - 1s 43ms/step - loss: 0.0313 - mae: 0.1303 - r2_score_nn: 0.8586 - val_loss: 0.0246 - val_mae: 0.1169 - val_r2_score_nn: 0.9280\n"
     ]
    }
   ],
   "source": [
    "history = model.fit(X_train, y_train, validation_data=(X_test, y_test), epochs=60, batch_size=64, verbose=1)"
   ]
  },
  {
   "cell_type": "code",
   "execution_count": 13,
   "metadata": {},
   "outputs": [
    {
     "data": {
      "text/plain": [
       "(897, 30, 27)"
      ]
     },
     "execution_count": 13,
     "metadata": {},
     "output_type": "execute_result"
    }
   ],
   "source": [
    "X_train.shape"
   ]
  },
  {
   "cell_type": "markdown",
   "metadata": {},
   "source": [
    "### Plotte validation kurve"
   ]
  },
  {
   "cell_type": "code",
   "execution_count": 17,
   "metadata": {},
   "outputs": [
    {
     "name": "stdout",
     "output_type": "stream",
     "text": [
      "max val_r2 0.9326466917991638\n"
     ]
    },
    {
     "data": {
      "image/png": "[encoded data removed]",
      "text/plain": [
       "<Figure size 432x288 with 1 Axes>"
      ]
     },
     "metadata": {
      "needs_background": "light"
     },
     "output_type": "display_data"
    }
   ],
   "source": [
    "plt.plot(history.history['r2_score_nn'], c='b')\n",
    "plt.plot(history.history['val_r2_score_nn'], c='r')\n",
    "#plt.xlim(50,100)\n",
    "#plt.ylim(0.0, 0.025)\n",
    "print(f\"max val_r2 {np.max(history.history['val_r2_score_nn'])}\")"
   ]
  },
  {
   "cell_type": "markdown",
   "metadata": {},
   "source": [
    "### Gjennomføre en tes \n",
    "Henter helt nye data for å gjennomføre en test på modellen."
   ]
  },
  {
   "cell_type": "code",
   "execution_count": 21,
   "metadata": {},
   "outputs": [
    {
     "name": "stdout",
     "output_type": "stream",
     "text": [
      "5 av 5 renset\r"
     ]
    },
    {
     "name": "stderr",
     "output_type": "stream",
     "text": [
      "<ipython-input-9-fc11377b225f>:32: VisibleDeprecationWarning: Creating an ndarray from ragged nested sequences (which is a list-or-tuple of lists-or-tuples-or ndarrays with different lengths or shapes) is deprecated. If you meant to do this, you must specify 'dtype=object' when creating the ndarray\n",
      "  return np.array(dataxes), np.array(datayes)\n"
     ]
    }
   ],
   "source": [
    "filer = list(map(add_data, os.listdir('data/')))[55:60] # test 54:60\n",
    "data_test = make_ready().use_stockstats(filer, indikatorer)\n",
    "dataxes, datayes = prepare_data_for_test(data_test, indikatorer)"
   ]
  },
  {
   "cell_type": "code",
   "execution_count": null,
   "metadata": {},
   "outputs": [],
   "source": [
    "dataxes.shape"
   ]
  },
  {
   "cell_type": "code",
   "execution_count": null,
   "metadata": {},
   "outputs": [],
   "source": [
    "pred = []\n",
    "for x in dataxes:\n",
    "    pred.append(model.predict(x))\n",
    "\n",
    "pred = np.array(pred)"
   ]
  },
  {
   "cell_type": "code",
   "execution_count": null,
   "metadata": {},
   "outputs": [],
   "source": [
    "for i in range(len(pred)):\n",
    "    print(f\"rscore for one of it {r2_score(pred[i], datayes[i])}\")\n",
    "    "
   ]
  },
  {
   "cell_type": "code",
   "execution_count": null,
   "metadata": {},
   "outputs": [],
   "source": [
    "for i, p in enumerate(pred):\n",
    "    for j, y in enumerate(p):\n",
    "        \n",
    "    #print(p.shape)\n",
    "        plt.plot(range(30+j,40+j), datayes[i][j], c='blue', linewidth=.5)\n",
    "        plt.plot(range(30+j,40+j), y, c='red')\n",
    "    plt.show()"
   ]
  },
  {
   "cell_type": "code",
   "execution_count": null,
   "metadata": {},
   "outputs": [],
   "source": [
    "plt.plot(data[0]['open'])"
   ]
  },
  {
   "cell_type": "markdown",
   "metadata": {},
   "source": [
    "## Save model"
   ]
  },
  {
   "cell_type": "code",
   "execution_count": null,
   "metadata": {},
   "outputs": [],
   "source": [
    "# Save model\n",
    "\n",
    "model.save('models/rnn_model.h5')"
   ]
  },
  {
   "cell_type": "code",
   "execution_count": null,
   "metadata": {},
   "outputs": [],
   "source": []
  },
  {
   "cell_type": "code",
   "execution_count": null,
   "metadata": {},
   "outputs": [],
   "source": [
    "!dir"
   ]
  },
  {
   "cell_type": "code",
   "execution_count": null,
   "metadata": {},
   "outputs": [],
   "source": []
  }
 ],
 "metadata": {
  "kernelspec": {
   "display_name": "Python 3",
   "language": "python",
   "name": "python3"
  },
  "language_info": {
   "codemirror_mode": {
    "name": "ipython",
    "version": 3
   },
   "file_extension": ".py",
   "mimetype": "text/x-python",
   "name": "python",
   "nbconvert_exporter": "python",
   "pygments_lexer": "ipython3",
   "version": "3.8.5"
  }
 },
 "nbformat": 4,
 "nbformat_minor": 4
}
