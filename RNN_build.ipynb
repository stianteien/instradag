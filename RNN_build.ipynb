{
 "cells": [
  {
   "cell_type": "markdown",
   "metadata": {},
   "source": [
    "# RNN BUILD\n",
    "\n",
    "* Først hente og rense data ved bruk av eget lib\n",
    "* Så sette opp en modell\n",
    "* Trene og validere -> Deretter teste på ny data\n",
    "* Lagre modellen\n",
    "\n",
    "Ops ops: Modellen kan kun bukes på data med 3 dimensjoner. Det betyr at det alltid på komme i en sekvens på minimum (2, 30, 5)"
   ]
  },
  {
   "cell_type": "code",
   "execution_count": 4,
   "metadata": {},
   "outputs": [],
   "source": [
    "from tensorflow.keras.layers import Dense, LSTM, Dropout, Input\n",
    "from tensorflow.keras.models import Sequential\n",
    "from tensorflow.keras import backend as K\n",
    "import numpy as np\n",
    "import pandas as pd\n",
    "import stockstats\n",
    "import os\n",
    "import matplotlib.pyplot as plt\n",
    "import pickle\n",
    "\n",
    "from sklearn import preprocessing\n",
    "from sklearn.model_selection import train_test_split\n",
    "from sklearn.metrics import r2_score\n",
    "\n",
    "from lib.rens import rens\n",
    "from lib.create_dataset import create_dataset\n",
    "from lib.make_ready import make_ready\n"
   ]
  },
  {
   "cell_type": "code",
   "execution_count": 2,
   "metadata": {},
   "outputs": [],
   "source": [
    "# Pickle save and load premake file.\n",
    "#import pickle\n",
    "#with open('premade_data/79dager.pkl', 'wb') as f:\n",
    "#    pickle.dump(data, f)\n",
    "    \n",
    "# Load\n",
    "with open('premade_data/79dager.pkl', 'rb') as f:\n",
    "    data = pickle.load(f)"
   ]
  },
  {
   "cell_type": "code",
   "execution_count": 5,
   "metadata": {},
   "outputs": [],
   "source": [
    "def r2_score_nn(y_true, y_pred):\n",
    "    SS_res =  K.sum(K.square( y_true-y_pred ))\n",
    "    SS_tot = K.sum(K.square( y_true - K.mean(y_true) ) )\n",
    "    return ( 1 - SS_res/(SS_tot + K.epsilon()) )\n",
    "\n",
    "def add_data(word):\n",
    "    ordet = 'data/' + word\n",
    "    return ordet"
   ]
  },
  {
   "cell_type": "code",
   "execution_count": 6,
   "metadata": {},
   "outputs": [],
   "source": [
    "indikatorer = ['macd', 'rsi_6', 'rsi_10', 'rsi_20', 'rsi_60', \n",
    "               'open_4_sma', 'open_8_sma', 'open_15_sma', 'open_16_sma', 'open_30_sma', 'open_60_sma',\n",
    "               'trix', 'open_10_trix', 'open_30_trix', 'open_60_trix', \n",
    "               'wr_10', 'wr_20', 'wr_60', 'open_30_mstd', 'vr_30_sma',\n",
    "               'volume', 'dma', 'atr_30', 'adx_30_ema', 'adx', 'adxr', 'cci_30']"
   ]
  },
  {
   "cell_type": "code",
   "execution_count": 6,
   "metadata": {
    "scrolled": true
   },
   "outputs": [
    {
     "name": "stdout",
     "output_type": "stream",
     "text": [
      "1 av 2 renset\r"
     ]
    },
    {
     "name": "stderr",
     "output_type": "stream",
     "text": [
      "C:\\Users\\Stian\\anaconda3\\lib\\site-packages\\pandas\\core\\indexing.py:670: SettingWithCopyWarning: \n",
      "A value is trying to be set on a copy of a slice from a DataFrame\n",
      "\n",
      "See the caveats in the documentation: https://pandas.pydata.org/pandas-docs/stable/user_guide/indexing.html#returning-a-view-versus-a-copy\n",
      "  iloc._setitem_with_indexer(indexer, value)\n",
      "NOTE: Behavior of MACDH calculation has changed as of July 2017 - it is now 1/2 of previous calculated values\n"
     ]
    },
    {
     "name": "stdout",
     "output_type": "stream",
     "text": [
      "2 av 2 renset\r"
     ]
    },
    {
     "name": "stderr",
     "output_type": "stream",
     "text": [
      "NOTE: Behavior of MACDH calculation has changed as of July 2017 - it is now 1/2 of previous calculated values\n"
     ]
    }
   ],
   "source": [
    "#len(os.listdir('data/')) # sjekk antall filer\n",
    "filer = list(map(add_data, os.listdir('data/')))[0:2] # test 54:60 mellom 10 og 14 er noe feil\n",
    "data = make_ready().use_stockstats(filer)"
   ]
  },
  {
   "cell_type": "code",
   "execution_count": 7,
   "metadata": {},
   "outputs": [
    {
     "data": {
      "text/html": [
       "<div>\n",
       "<style scoped>\n",
       "    .dataframe tbody tr th:only-of-type {\n",
       "        vertical-align: middle;\n",
       "    }\n",
       "\n",
       "    .dataframe tbody tr th {\n",
       "        vertical-align: top;\n",
       "    }\n",
       "\n",
       "    .dataframe thead th {\n",
       "        text-align: right;\n",
       "    }\n",
       "</style>\n",
       "<table border=\"1\" class=\"dataframe\">\n",
       "  <thead>\n",
       "    <tr style=\"text-align: right;\">\n",
       "      <th></th>\n",
       "      <th>tid</th>\n",
       "      <th>open</th>\n",
       "      <th>close</th>\n",
       "      <th>high</th>\n",
       "      <th>low</th>\n",
       "      <th>volume</th>\n",
       "      <th>amount</th>\n",
       "      <th>close_-1_s</th>\n",
       "      <th>close_-1_d</th>\n",
       "      <th>rs_20</th>\n",
       "      <th>...</th>\n",
       "      <th>open_16_sma</th>\n",
       "      <th>macd</th>\n",
       "      <th>macds</th>\n",
       "      <th>macdh</th>\n",
       "      <th>open_30_sma</th>\n",
       "      <th>open_15_sma</th>\n",
       "      <th>sma8-16</th>\n",
       "      <th>sma30_derivert</th>\n",
       "      <th>sma15_derivert</th>\n",
       "      <th>derivert</th>\n",
       "    </tr>\n",
       "  </thead>\n",
       "  <tbody>\n",
       "    <tr>\n",
       "      <th>0</th>\n",
       "      <td>9:0</td>\n",
       "      <td>239.0</td>\n",
       "      <td>239.0</td>\n",
       "      <td>239.0</td>\n",
       "      <td>239.0</td>\n",
       "      <td>5179</td>\n",
       "      <td>5179</td>\n",
       "      <td>244.862234</td>\n",
       "      <td>0.005319</td>\n",
       "      <td>1.169436</td>\n",
       "      <td>...</td>\n",
       "      <td>239.000000</td>\n",
       "      <td>0.000000</td>\n",
       "      <td>0.000000</td>\n",
       "      <td>0.000000</td>\n",
       "      <td>239.000000</td>\n",
       "      <td>239.000000</td>\n",
       "      <td>0.0000</td>\n",
       "      <td>1.000000</td>\n",
       "      <td>1.000000</td>\n",
       "      <td>1.000000</td>\n",
       "    </tr>\n",
       "    <tr>\n",
       "      <th>1</th>\n",
       "      <td>9:1</td>\n",
       "      <td>239.2</td>\n",
       "      <td>239.2</td>\n",
       "      <td>239.2</td>\n",
       "      <td>239.2</td>\n",
       "      <td>180</td>\n",
       "      <td>180</td>\n",
       "      <td>239.000000</td>\n",
       "      <td>0.200000</td>\n",
       "      <td>1.169436</td>\n",
       "      <td>...</td>\n",
       "      <td>239.100000</td>\n",
       "      <td>0.004487</td>\n",
       "      <td>0.002493</td>\n",
       "      <td>0.001994</td>\n",
       "      <td>239.100000</td>\n",
       "      <td>239.100000</td>\n",
       "      <td>0.0000</td>\n",
       "      <td>1.000000</td>\n",
       "      <td>1.000000</td>\n",
       "      <td>1.000000</td>\n",
       "    </tr>\n",
       "    <tr>\n",
       "      <th>2</th>\n",
       "      <td>9:2</td>\n",
       "      <td>241.0</td>\n",
       "      <td>241.0</td>\n",
       "      <td>241.0</td>\n",
       "      <td>241.0</td>\n",
       "      <td>2396</td>\n",
       "      <td>2396</td>\n",
       "      <td>239.200000</td>\n",
       "      <td>1.800000</td>\n",
       "      <td>1.169436</td>\n",
       "      <td>...</td>\n",
       "      <td>239.733333</td>\n",
       "      <td>0.061535</td>\n",
       "      <td>0.026691</td>\n",
       "      <td>0.034845</td>\n",
       "      <td>239.733333</td>\n",
       "      <td>239.733333</td>\n",
       "      <td>0.0000</td>\n",
       "      <td>1.002649</td>\n",
       "      <td>1.002649</td>\n",
       "      <td>1.007525</td>\n",
       "    </tr>\n",
       "    <tr>\n",
       "      <th>3</th>\n",
       "      <td>9:3</td>\n",
       "      <td>242.2</td>\n",
       "      <td>242.2</td>\n",
       "      <td>242.2</td>\n",
       "      <td>242.2</td>\n",
       "      <td>3733</td>\n",
       "      <td>3733</td>\n",
       "      <td>241.000000</td>\n",
       "      <td>1.200000</td>\n",
       "      <td>1.169436</td>\n",
       "      <td>...</td>\n",
       "      <td>240.350000</td>\n",
       "      <td>0.129300</td>\n",
       "      <td>0.061450</td>\n",
       "      <td>0.067850</td>\n",
       "      <td>240.350000</td>\n",
       "      <td>240.350000</td>\n",
       "      <td>0.0000</td>\n",
       "      <td>1.002572</td>\n",
       "      <td>1.002572</td>\n",
       "      <td>1.004979</td>\n",
       "    </tr>\n",
       "    <tr>\n",
       "      <th>4</th>\n",
       "      <td>9:4</td>\n",
       "      <td>245.2</td>\n",
       "      <td>245.2</td>\n",
       "      <td>245.2</td>\n",
       "      <td>245.2</td>\n",
       "      <td>2865</td>\n",
       "      <td>2865</td>\n",
       "      <td>242.200000</td>\n",
       "      <td>3.000000</td>\n",
       "      <td>1.169436</td>\n",
       "      <td>...</td>\n",
       "      <td>241.320000</td>\n",
       "      <td>0.282776</td>\n",
       "      <td>0.127289</td>\n",
       "      <td>0.155487</td>\n",
       "      <td>241.320000</td>\n",
       "      <td>241.320000</td>\n",
       "      <td>0.0000</td>\n",
       "      <td>1.004036</td>\n",
       "      <td>1.004036</td>\n",
       "      <td>1.012386</td>\n",
       "    </tr>\n",
       "    <tr>\n",
       "      <th>...</th>\n",
       "      <td>...</td>\n",
       "      <td>...</td>\n",
       "      <td>...</td>\n",
       "      <td>...</td>\n",
       "      <td>...</td>\n",
       "      <td>...</td>\n",
       "      <td>...</td>\n",
       "      <td>...</td>\n",
       "      <td>...</td>\n",
       "      <td>...</td>\n",
       "      <td>...</td>\n",
       "      <td>...</td>\n",
       "      <td>...</td>\n",
       "      <td>...</td>\n",
       "      <td>...</td>\n",
       "      <td>...</td>\n",
       "      <td>...</td>\n",
       "      <td>...</td>\n",
       "      <td>...</td>\n",
       "      <td>...</td>\n",
       "      <td>...</td>\n",
       "    </tr>\n",
       "    <tr>\n",
       "      <th>372</th>\n",
       "      <td>16:16</td>\n",
       "      <td>240.4</td>\n",
       "      <td>240.4</td>\n",
       "      <td>240.4</td>\n",
       "      <td>240.4</td>\n",
       "      <td>14</td>\n",
       "      <td>14</td>\n",
       "      <td>240.200000</td>\n",
       "      <td>0.200000</td>\n",
       "      <td>1.137037</td>\n",
       "      <td>...</td>\n",
       "      <td>240.187500</td>\n",
       "      <td>0.254409</td>\n",
       "      <td>0.255595</td>\n",
       "      <td>-0.001187</td>\n",
       "      <td>239.526667</td>\n",
       "      <td>240.200000</td>\n",
       "      <td>0.2125</td>\n",
       "      <td>1.000278</td>\n",
       "      <td>1.000111</td>\n",
       "      <td>1.000833</td>\n",
       "    </tr>\n",
       "    <tr>\n",
       "      <th>373</th>\n",
       "      <td>16:17</td>\n",
       "      <td>240.4</td>\n",
       "      <td>240.4</td>\n",
       "      <td>240.4</td>\n",
       "      <td>240.4</td>\n",
       "      <td>2320</td>\n",
       "      <td>2320</td>\n",
       "      <td>240.400000</td>\n",
       "      <td>0.000000</td>\n",
       "      <td>1.137037</td>\n",
       "      <td>...</td>\n",
       "      <td>240.212500</td>\n",
       "      <td>0.251285</td>\n",
       "      <td>0.254733</td>\n",
       "      <td>-0.003448</td>\n",
       "      <td>239.580000</td>\n",
       "      <td>240.213333</td>\n",
       "      <td>0.1375</td>\n",
       "      <td>1.000223</td>\n",
       "      <td>1.000056</td>\n",
       "      <td>1.000000</td>\n",
       "    </tr>\n",
       "    <tr>\n",
       "      <th>374</th>\n",
       "      <td>16:18</td>\n",
       "      <td>240.4</td>\n",
       "      <td>240.4</td>\n",
       "      <td>240.4</td>\n",
       "      <td>240.4</td>\n",
       "      <td>433</td>\n",
       "      <td>433</td>\n",
       "      <td>240.400000</td>\n",
       "      <td>0.000000</td>\n",
       "      <td>1.137037</td>\n",
       "      <td>...</td>\n",
       "      <td>240.225000</td>\n",
       "      <td>0.245974</td>\n",
       "      <td>0.252981</td>\n",
       "      <td>-0.007008</td>\n",
       "      <td>239.640000</td>\n",
       "      <td>240.266667</td>\n",
       "      <td>0.0750</td>\n",
       "      <td>1.000250</td>\n",
       "      <td>1.000222</td>\n",
       "      <td>1.000000</td>\n",
       "    </tr>\n",
       "    <tr>\n",
       "      <th>375</th>\n",
       "      <td>16:19</td>\n",
       "      <td>239.6</td>\n",
       "      <td>239.6</td>\n",
       "      <td>239.6</td>\n",
       "      <td>239.6</td>\n",
       "      <td>5663</td>\n",
       "      <td>5663</td>\n",
       "      <td>240.400000</td>\n",
       "      <td>-0.800000</td>\n",
       "      <td>0.876858</td>\n",
       "      <td>...</td>\n",
       "      <td>240.225000</td>\n",
       "      <td>0.175192</td>\n",
       "      <td>0.237424</td>\n",
       "      <td>-0.062232</td>\n",
       "      <td>239.726667</td>\n",
       "      <td>240.266667</td>\n",
       "      <td>-0.0250</td>\n",
       "      <td>1.000362</td>\n",
       "      <td>1.000000</td>\n",
       "      <td>0.996672</td>\n",
       "    </tr>\n",
       "    <tr>\n",
       "      <th>376</th>\n",
       "      <td>16:25</td>\n",
       "      <td>241.0</td>\n",
       "      <td>241.0</td>\n",
       "      <td>241.0</td>\n",
       "      <td>241.0</td>\n",
       "      <td>12548</td>\n",
       "      <td>12548</td>\n",
       "      <td>239.600000</td>\n",
       "      <td>1.400000</td>\n",
       "      <td>1.298372</td>\n",
       "      <td>...</td>\n",
       "      <td>240.312500</td>\n",
       "      <td>0.229421</td>\n",
       "      <td>0.235823</td>\n",
       "      <td>-0.006402</td>\n",
       "      <td>239.833333</td>\n",
       "      <td>240.346667</td>\n",
       "      <td>-0.0375</td>\n",
       "      <td>1.000445</td>\n",
       "      <td>1.000333</td>\n",
       "      <td>1.005843</td>\n",
       "    </tr>\n",
       "  </tbody>\n",
       "</table>\n",
       "<p>377 rows × 23 columns</p>\n",
       "</div>"
      ],
      "text/plain": [
       "       tid   open  close   high    low  volume  amount  close_-1_s  \\\n",
       "0      9:0  239.0  239.0  239.0  239.0    5179    5179  244.862234   \n",
       "1      9:1  239.2  239.2  239.2  239.2     180     180  239.000000   \n",
       "2      9:2  241.0  241.0  241.0  241.0    2396    2396  239.200000   \n",
       "3      9:3  242.2  242.2  242.2  242.2    3733    3733  241.000000   \n",
       "4      9:4  245.2  245.2  245.2  245.2    2865    2865  242.200000   \n",
       "..     ...    ...    ...    ...    ...     ...     ...         ...   \n",
       "372  16:16  240.4  240.4  240.4  240.4      14      14  240.200000   \n",
       "373  16:17  240.4  240.4  240.4  240.4    2320    2320  240.400000   \n",
       "374  16:18  240.4  240.4  240.4  240.4     433     433  240.400000   \n",
       "375  16:19  239.6  239.6  239.6  239.6    5663    5663  240.400000   \n",
       "376  16:25  241.0  241.0  241.0  241.0   12548   12548  239.600000   \n",
       "\n",
       "     close_-1_d     rs_20  ...  open_16_sma      macd     macds     macdh  \\\n",
       "0      0.005319  1.169436  ...   239.000000  0.000000  0.000000  0.000000   \n",
       "1      0.200000  1.169436  ...   239.100000  0.004487  0.002493  0.001994   \n",
       "2      1.800000  1.169436  ...   239.733333  0.061535  0.026691  0.034845   \n",
       "3      1.200000  1.169436  ...   240.350000  0.129300  0.061450  0.067850   \n",
       "4      3.000000  1.169436  ...   241.320000  0.282776  0.127289  0.155487   \n",
       "..          ...       ...  ...          ...       ...       ...       ...   \n",
       "372    0.200000  1.137037  ...   240.187500  0.254409  0.255595 -0.001187   \n",
       "373    0.000000  1.137037  ...   240.212500  0.251285  0.254733 -0.003448   \n",
       "374    0.000000  1.137037  ...   240.225000  0.245974  0.252981 -0.007008   \n",
       "375   -0.800000  0.876858  ...   240.225000  0.175192  0.237424 -0.062232   \n",
       "376    1.400000  1.298372  ...   240.312500  0.229421  0.235823 -0.006402   \n",
       "\n",
       "     open_30_sma  open_15_sma  sma8-16  sma30_derivert  sma15_derivert  \\\n",
       "0     239.000000   239.000000   0.0000        1.000000        1.000000   \n",
       "1     239.100000   239.100000   0.0000        1.000000        1.000000   \n",
       "2     239.733333   239.733333   0.0000        1.002649        1.002649   \n",
       "3     240.350000   240.350000   0.0000        1.002572        1.002572   \n",
       "4     241.320000   241.320000   0.0000        1.004036        1.004036   \n",
       "..           ...          ...      ...             ...             ...   \n",
       "372   239.526667   240.200000   0.2125        1.000278        1.000111   \n",
       "373   239.580000   240.213333   0.1375        1.000223        1.000056   \n",
       "374   239.640000   240.266667   0.0750        1.000250        1.000222   \n",
       "375   239.726667   240.266667  -0.0250        1.000362        1.000000   \n",
       "376   239.833333   240.346667  -0.0375        1.000445        1.000333   \n",
       "\n",
       "     derivert  \n",
       "0    1.000000  \n",
       "1    1.000000  \n",
       "2    1.007525  \n",
       "3    1.004979  \n",
       "4    1.012386  \n",
       "..        ...  \n",
       "372  1.000833  \n",
       "373  1.000000  \n",
       "374  1.000000  \n",
       "375  0.996672  \n",
       "376  1.005843  \n",
       "\n",
       "[377 rows x 23 columns]"
      ]
     },
     "execution_count": 7,
     "metadata": {},
     "output_type": "execute_result"
    }
   ],
   "source": [
    "data[0]"
   ]
  },
  {
   "cell_type": "code",
   "execution_count": 10,
   "metadata": {},
   "outputs": [],
   "source": [
    "def prepare_data_for_training(data):\n",
    "    dataxes = []\n",
    "    datayes = []\n",
    "    sanne = []\n",
    "    look_back=30\n",
    "    look_forward=10\n",
    "\n",
    "    for one_stock in data:\n",
    "        datax, datay, sann = create_dataset().create(one_stock[['macd', 'rsi_20', 'sma8-16', 'trix', 'volume']],\n",
    "                                      one_stock.sma30_derivert, look_back=look_back, look_forward=look_forward)\n",
    "        dataxes.extend(datax)\n",
    "        datayes.extend(datay)\n",
    "        sanne.append(sann)\n",
    "\n",
    "    return np.array(dataxes), np.array(datayes)\n",
    "\n",
    "\n",
    "def prepare_data_for_test(data):\n",
    "    dataxes = []\n",
    "    datayes = []\n",
    "    sanne = []\n",
    "    look_back=30\n",
    "    look_forward=10\n",
    "\n",
    "    for one_stock in data:\n",
    "        datax, datay, sann = create_dataset().create(one_stock[['macd', 'rsi_20', 'sma8-16', 'trix', 'volume']],\n",
    "                                      one_stock.sma30_derivert, look_back=look_back, look_forward=look_forward)\n",
    "        dataxes.append(datax)\n",
    "        datayes.append(datay)\n",
    "        sanne.append(sann)\n",
    "\n",
    "    return np.array(dataxes), np.array(datayes)\n",
    "    \n",
    "    \n",
    "dataxes, datayes = prepare_data_for_training(data)\n"
   ]
  },
  {
   "cell_type": "code",
   "execution_count": null,
   "metadata": {},
   "outputs": [],
   "source": [
    "with open('premade_data/X_88dager.pkl', 'wb') as f:\n",
    "    pickle.dump(dataxes, f)\n",
    "    \n",
    "with open('premade_data/y_88dager.pkl', 'wb') as f:\n",
    "    pickle.dump(datayes, f)"
   ]
  },
  {
   "cell_type": "code",
   "execution_count": 11,
   "metadata": {},
   "outputs": [
    {
     "data": {
      "text/plain": [
       "(312, 30, 5)"
      ]
     },
     "execution_count": 11,
     "metadata": {},
     "output_type": "execute_result"
    }
   ],
   "source": [
    "# split in train and val for training\n",
    "X_train, X_test, y_train, y_test = train_test_split(dataxes, datayes, test_size=0.33, shuffle=True, random_state=42)\n",
    "X_train.shape"
   ]
  },
  {
   "cell_type": "markdown",
   "metadata": {},
   "source": [
    "## Lage modellen\n",
    "Bruker LSTM. gode greier. Har ikke gridsearched eller kfold."
   ]
  },
  {
   "cell_type": "code",
   "execution_count": 13,
   "metadata": {},
   "outputs": [
    {
     "name": "stdout",
     "output_type": "stream",
     "text": [
      "Model: \"sequential_1\"\n",
      "_________________________________________________________________\n",
      "Layer (type)                 Output Shape              Param #   \n",
      "=================================================================\n",
      "lstm_2 (LSTM)                (None, None, 64)          23552     \n",
      "_________________________________________________________________\n",
      "dropout_2 (Dropout)          (None, None, 64)          0         \n",
      "_________________________________________________________________\n",
      "lstm_3 (LSTM)                (None, 64)                33024     \n",
      "_________________________________________________________________\n",
      "dropout_3 (Dropout)          (None, 64)                0         \n",
      "_________________________________________________________________\n",
      "dense_1 (Dense)              (None, 10)                650       \n",
      "=================================================================\n",
      "Total params: 57,226\n",
      "Trainable params: 57,226\n",
      "Non-trainable params: 0\n",
      "_________________________________________________________________\n"
     ]
    }
   ],
   "source": [
    "model = Sequential()\n",
    "\n",
    "model.add(LSTM(units=64, input_dim=X_train.shape[2], return_sequences=True))\n",
    "model.add(Dropout(0.2))\n",
    "model.add(LSTM(units=64, return_sequences=False))\n",
    "model.add(Dropout(0.2))\n",
    "model.add(Dense(10))\n",
    "\n",
    "model.compile(optimizer='adam', loss='mse', metrics=['mae', r2_score_nn])\n",
    "\n",
    "model.summary()"
   ]
  },
  {
   "cell_type": "code",
   "execution_count": 14,
   "metadata": {
    "scrolled": true
   },
   "outputs": [
    {
     "name": "stdout",
     "output_type": "stream",
     "text": [
      "Epoch 1/2\n",
      "4/4 [==============================] - 1s 324ms/step - loss: 0.5263 - mae: 0.6144 - r2_score_nn: -0.0353 - val_loss: 0.3686 - val_mae: 0.5231 - val_r2_score_nn: 0.3226\n",
      "Epoch 2/2\n",
      "4/4 [==============================] - 0s 34ms/step - loss: 0.3179 - mae: 0.4710 - r2_score_nn: 0.3871 - val_loss: 0.2151 - val_mae: 0.3870 - val_r2_score_nn: 0.6021\n"
     ]
    }
   ],
   "source": [
    "history = model.fit(X_train, y_train, validation_data=(X_test, y_test), epochs=2, batch_size=64, verbose=1)"
   ]
  },
  {
   "cell_type": "markdown",
   "metadata": {},
   "source": [
    "### Plotte validation kurve"
   ]
  },
  {
   "cell_type": "code",
   "execution_count": 15,
   "metadata": {},
   "outputs": [
    {
     "name": "stdout",
     "output_type": "stream",
     "text": [
      "max val_r2 0.6021238565444946\n"
     ]
    },
    {
     "data": {
      "image/png": "[encoded data removed]",
      "text/plain": [
       "<Figure size 432x288 with 1 Axes>"
      ]
     },
     "metadata": {
      "needs_background": "light"
     },
     "output_type": "display_data"
    }
   ],
   "source": [
    "plt.plot(history.history['r2_score_nn'])\n",
    "plt.plot(history.history['val_r2_score_nn'])\n",
    "#plt.xlim(50,100)\n",
    "#plt.ylim(0.0, 0.025)\n",
    "print(f\"max val_r2 {np.max(history.history['val_r2_score_nn'])}\")"
   ]
  },
  {
   "cell_type": "markdown",
   "metadata": {},
   "source": [
    "### Gjennomføre en tes \n",
    "Henter helt nye data for å gjennomføre en test på modellen."
   ]
  },
  {
   "cell_type": "code",
   "execution_count": 16,
   "metadata": {},
   "outputs": [
    {
     "name": "stdout",
     "output_type": "stream",
     "text": [
      "5 av 5 renset\r"
     ]
    },
    {
     "name": "stderr",
     "output_type": "stream",
     "text": [
      "<ipython-input-9-fdaf957f94d2>:32: VisibleDeprecationWarning: Creating an ndarray from ragged nested sequences (which is a list-or-tuple of lists-or-tuples-or ndarrays with different lengths or shapes) is deprecated. If you meant to do this, you must specify 'dtype=object' when creating the ndarray\n",
      "  return np.array(dataxes), np.array(datayes)\n"
     ]
    }
   ],
   "source": [
    "filer = list(map(add_data, os.listdir('data/')))[55:60] # test 54:60\n",
    "data_test = make_ready().use_stockstats(filer, indikatorer)\n",
    "dataxes, datayes = prepare_data_for_test(data_test, indikatorer)"
   ]
  },
  {
   "cell_type": "code",
   "execution_count": null,
   "metadata": {},
   "outputs": [],
   "source": [
    "dataxes.shape"
   ]
  },
  {
   "cell_type": "code",
   "execution_count": 17,
   "metadata": {},
   "outputs": [
    {
     "name": "stderr",
     "output_type": "stream",
     "text": [
      "<ipython-input-17-acd55e396a9b>:5: VisibleDeprecationWarning: Creating an ndarray from ragged nested sequences (which is a list-or-tuple of lists-or-tuples-or ndarrays with different lengths or shapes) is deprecated. If you meant to do this, you must specify 'dtype=object' when creating the ndarray\n",
      "  pred = np.array(pred)\n"
     ]
    }
   ],
   "source": [
    "pred = []\n",
    "for x in dataxes:\n",
    "    pred.append(model.predict(x))\n",
    "\n",
    "pred = np.array(pred)"
   ]
  },
  {
   "cell_type": "code",
   "execution_count": 18,
   "metadata": {},
   "outputs": [
    {
     "name": "stdout",
     "output_type": "stream",
     "text": [
      "rscore for one of it -5.194353413495586\n",
      "rscore for one of it -5.167026357891758\n",
      "rscore for one of it 0.18232434551410232\n",
      "rscore for one of it 0.18549797784996508\n",
      "rscore for one of it 0.37811454577781956\n"
     ]
    }
   ],
   "source": [
    "for i in range(len(pred)):\n",
    "    print(f\"rscore for one of it {r2_score(pred[i], datayes[i])}\")\n",
    "    "
   ]
  },
  {
   "cell_type": "code",
   "execution_count": 19,
   "metadata": {},
   "outputs": [
    {
     "data": {
      "image/png": "[encoded data removed]",
      "text/plain": [
       "<Figure size 432x288 with 1 Axes>"
      ]
     },
     "metadata": {
      "needs_background": "light"
     },
     "output_type": "display_data"
    },
    {
     "data": {
      "image/png": "[encoded data removed]",
      "text/plain": [
       "<Figure size 432x288 with 1 Axes>"
      ]
     },
     "metadata": {
      "needs_background": "light"
     },
     "output_type": "display_data"
    },
    {
     "data": {
      "image/png": "[encoded data removed]",
      "text/plain": [
       "<Figure size 432x288 with 1 Axes>"
      ]
     },
     "metadata": {
      "needs_background": "light"
     },
     "output_type": "display_data"
    },
    {
     "data": {
      "image/png": "[encoded data removed]",
      "text/plain": [
       "<Figure size 432x288 with 1 Axes>"
      ]
     },
     "metadata": {
      "needs_background": "light"
     },
     "output_type": "display_data"
    },
    {
     "data": {
      "image/png": "[encoded data removed]",
      "text/plain": [
       "<Figure size 432x288 with 1 Axes>"
      ]
     },
     "metadata": {
      "needs_background": "light"
     },
     "output_type": "display_data"
    }
   ],
   "source": [
    "for i, p in enumerate(pred):\n",
    "    for j, y in enumerate(p):\n",
    "        \n",
    "    #print(p.shape)\n",
    "        plt.plot(range(30+j,40+j), datayes[i][j], c='blue', linewidth=.5)\n",
    "        plt.plot(range(30+j,40+j), y, c='red')\n",
    "    plt.show()"
   ]
  },
  {
   "cell_type": "code",
   "execution_count": null,
   "metadata": {},
   "outputs": [],
   "source": [
    "plt.plot(data[0]['open'])"
   ]
  },
  {
   "cell_type": "markdown",
   "metadata": {},
   "source": [
    "## Save model"
   ]
  },
  {
   "cell_type": "code",
   "execution_count": null,
   "metadata": {},
   "outputs": [],
   "source": [
    "# Save model\n",
    "\n",
    "model.save('models/rnn_model.h5')"
   ]
  },
  {
   "cell_type": "code",
   "execution_count": null,
   "metadata": {},
   "outputs": [],
   "source": []
  },
  {
   "cell_type": "code",
   "execution_count": null,
   "metadata": {},
   "outputs": [],
   "source": [
    "!dir"
   ]
  },
  {
   "cell_type": "code",
   "execution_count": null,
   "metadata": {},
   "outputs": [],
   "source": []
  }
 ],
 "metadata": {
  "kernelspec": {
   "display_name": "Python 3",
   "language": "python",
   "name": "python3"
  },
  "language_info": {
   "codemirror_mode": {
    "name": "ipython",
    "version": 3
   },
   "file_extension": ".py",
   "mimetype": "text/x-python",
   "name": "python",
   "nbconvert_exporter": "python",
   "pygments_lexer": "ipython3",
   "version": "3.7.7"
  }
 },
 "nbformat": 4,
 "nbformat_minor": 4
}
