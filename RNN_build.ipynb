{
 "cells": [
  {
   "cell_type": "markdown",
   "metadata": {},
   "source": [
    "# RNN BUILD\n",
    "\n",
    "* Først hente og rense data ved bruk av eget lib\n",
    "* Så sette opp en modell\n",
    "* Trene og validere -> Deretter teste på ny data\n",
    "* Lagre modellen\n",
    "\n",
    "Ops ops: Modellen kan kun bukes på data med 3 dimensjoner. Det betyr at det alltid på komme i en sekvens. min (2, 30, 5)"
   ]
  },
  {
   "cell_type": "code",
   "execution_count": 21,
   "metadata": {},
   "outputs": [],
   "source": [
    "from tensorflow.keras.layers import Dense, LSTM, Dropout, Input\n",
    "from tensorflow.keras.models import Sequential\n",
    "from tensorflow.keras import backend as K\n",
    "import numpy as np\n",
    "import pandas as pd\n",
    "import stockstats\n",
    "import os\n",
    "import matplotlib.pyplot as plt\n",
    "\n",
    "from sklearn import preprocessing\n",
    "from sklearn.model_selection import train_test_split\n",
    "from sklearn.metrics import r2_score\n",
    "\n",
    "from lib.rens import rens\n",
    "from lib.create_dataset import create_dataset\n",
    "from lib.make_ready import make_ready\n"
   ]
  },
  {
   "cell_type": "code",
   "execution_count": 28,
   "metadata": {},
   "outputs": [],
   "source": [
    "# Pickle save and load premake file.\n",
    "import pickle\n",
    "with open('premade_data/40dager.pkl', 'wb') as f:\n",
    "    pickle.dump(data, f)\n",
    "    \n",
    "# Load\n",
    "#with open('parrot.pkl', 'rb') as f:\n",
    "#    mynewlist = pickle.load(f)"
   ]
  },
  {
   "cell_type": "code",
   "execution_count": 22,
   "metadata": {},
   "outputs": [],
   "source": [
    "def r2_score_nn(y_true, y_pred):\n",
    "    SS_res =  K.sum(K.square( y_true-y_pred ))\n",
    "    SS_tot = K.sum(K.square( y_true - K.mean(y_true) ) )\n",
    "    return ( 1 - SS_res/(SS_tot + K.epsilon()) )\n",
    "\n",
    "def add_data(word):\n",
    "    ordet = 'data/' + word\n",
    "    return ordet"
   ]
  },
  {
   "cell_type": "code",
   "execution_count": 23,
   "metadata": {
    "scrolled": true
   },
   "outputs": [
    {
     "name": "stdout",
     "output_type": "stream",
     "text": [
      "1 av 40 renset\r"
     ]
    },
    {
     "name": "stderr",
     "output_type": "stream",
     "text": [
      "C:\\Users\\Stian\\anaconda3\\lib\\site-packages\\pandas\\core\\indexing.py:670: SettingWithCopyWarning: \n",
      "A value is trying to be set on a copy of a slice from a DataFrame\n",
      "\n",
      "See the caveats in the documentation: https://pandas.pydata.org/pandas-docs/stable/user_guide/indexing.html#returning-a-view-versus-a-copy\n",
      "  iloc._setitem_with_indexer(indexer, value)\n",
      "NOTE: Behavior of MACDH calculation has changed as of July 2017 - it is now 1/2 of previous calculated values\n"
     ]
    },
    {
     "name": "stdout",
     "output_type": "stream",
     "text": [
      "2 av 40 renset\r"
     ]
    },
    {
     "name": "stderr",
     "output_type": "stream",
     "text": [
      "NOTE: Behavior of MACDH calculation has changed as of July 2017 - it is now 1/2 of previous calculated values\n"
     ]
    },
    {
     "name": "stdout",
     "output_type": "stream",
     "text": [
      "3 av 40 renset\r"
     ]
    },
    {
     "name": "stderr",
     "output_type": "stream",
     "text": [
      "NOTE: Behavior of MACDH calculation has changed as of July 2017 - it is now 1/2 of previous calculated values\n"
     ]
    },
    {
     "name": "stdout",
     "output_type": "stream",
     "text": [
      "4 av 40 renset\r"
     ]
    },
    {
     "name": "stderr",
     "output_type": "stream",
     "text": [
      "NOTE: Behavior of MACDH calculation has changed as of July 2017 - it is now 1/2 of previous calculated values\n"
     ]
    },
    {
     "name": "stdout",
     "output_type": "stream",
     "text": [
      "5 av 40 renset\r"
     ]
    },
    {
     "name": "stderr",
     "output_type": "stream",
     "text": [
      "NOTE: Behavior of MACDH calculation has changed as of July 2017 - it is now 1/2 of previous calculated values\n"
     ]
    },
    {
     "name": "stdout",
     "output_type": "stream",
     "text": [
      "6 av 40 renset\r"
     ]
    },
    {
     "name": "stderr",
     "output_type": "stream",
     "text": [
      "NOTE: Behavior of MACDH calculation has changed as of July 2017 - it is now 1/2 of previous calculated values\n"
     ]
    },
    {
     "name": "stdout",
     "output_type": "stream",
     "text": [
      "7 av 40 renset\r"
     ]
    },
    {
     "name": "stderr",
     "output_type": "stream",
     "text": [
      "NOTE: Behavior of MACDH calculation has changed as of July 2017 - it is now 1/2 of previous calculated values\n"
     ]
    },
    {
     "name": "stdout",
     "output_type": "stream",
     "text": [
      "8 av 40 renset\r"
     ]
    },
    {
     "name": "stderr",
     "output_type": "stream",
     "text": [
      "NOTE: Behavior of MACDH calculation has changed as of July 2017 - it is now 1/2 of previous calculated values\n"
     ]
    },
    {
     "name": "stdout",
     "output_type": "stream",
     "text": [
      "9 av 40 renset\r"
     ]
    },
    {
     "name": "stderr",
     "output_type": "stream",
     "text": [
      "NOTE: Behavior of MACDH calculation has changed as of July 2017 - it is now 1/2 of previous calculated values\n"
     ]
    },
    {
     "name": "stdout",
     "output_type": "stream",
     "text": [
      "10 av 40 renset\r"
     ]
    },
    {
     "name": "stderr",
     "output_type": "stream",
     "text": [
      "NOTE: Behavior of MACDH calculation has changed as of July 2017 - it is now 1/2 of previous calculated values\n"
     ]
    },
    {
     "name": "stdout",
     "output_type": "stream",
     "text": [
      "11 av 40 renset\r"
     ]
    },
    {
     "name": "stderr",
     "output_type": "stream",
     "text": [
      "NOTE: Behavior of MACDH calculation has changed as of July 2017 - it is now 1/2 of previous calculated values\n"
     ]
    },
    {
     "name": "stdout",
     "output_type": "stream",
     "text": [
      "12 av 40 renset\r"
     ]
    },
    {
     "name": "stderr",
     "output_type": "stream",
     "text": [
      "NOTE: Behavior of MACDH calculation has changed as of July 2017 - it is now 1/2 of previous calculated values\n"
     ]
    },
    {
     "name": "stdout",
     "output_type": "stream",
     "text": [
      "13 av 40 renset\r"
     ]
    },
    {
     "name": "stderr",
     "output_type": "stream",
     "text": [
      "NOTE: Behavior of MACDH calculation has changed as of July 2017 - it is now 1/2 of previous calculated values\n"
     ]
    },
    {
     "name": "stdout",
     "output_type": "stream",
     "text": [
      "14 av 40 renset\r"
     ]
    },
    {
     "name": "stderr",
     "output_type": "stream",
     "text": [
      "NOTE: Behavior of MACDH calculation has changed as of July 2017 - it is now 1/2 of previous calculated values\n"
     ]
    },
    {
     "name": "stdout",
     "output_type": "stream",
     "text": [
      "15 av 40 renset\r"
     ]
    },
    {
     "name": "stderr",
     "output_type": "stream",
     "text": [
      "NOTE: Behavior of MACDH calculation has changed as of July 2017 - it is now 1/2 of previous calculated values\n"
     ]
    },
    {
     "name": "stdout",
     "output_type": "stream",
     "text": [
      "16 av 40 renset\r"
     ]
    },
    {
     "name": "stderr",
     "output_type": "stream",
     "text": [
      "NOTE: Behavior of MACDH calculation has changed as of July 2017 - it is now 1/2 of previous calculated values\n"
     ]
    },
    {
     "name": "stdout",
     "output_type": "stream",
     "text": [
      "17 av 40 renset\r"
     ]
    },
    {
     "name": "stderr",
     "output_type": "stream",
     "text": [
      "NOTE: Behavior of MACDH calculation has changed as of July 2017 - it is now 1/2 of previous calculated values\n"
     ]
    },
    {
     "name": "stdout",
     "output_type": "stream",
     "text": [
      "18 av 40 renset\r"
     ]
    },
    {
     "name": "stderr",
     "output_type": "stream",
     "text": [
      "NOTE: Behavior of MACDH calculation has changed as of July 2017 - it is now 1/2 of previous calculated values\n"
     ]
    },
    {
     "name": "stdout",
     "output_type": "stream",
     "text": [
      "19 av 40 renset\r"
     ]
    },
    {
     "name": "stderr",
     "output_type": "stream",
     "text": [
      "NOTE: Behavior of MACDH calculation has changed as of July 2017 - it is now 1/2 of previous calculated values\n"
     ]
    },
    {
     "name": "stdout",
     "output_type": "stream",
     "text": [
      "20 av 40 renset\r"
     ]
    },
    {
     "name": "stderr",
     "output_type": "stream",
     "text": [
      "NOTE: Behavior of MACDH calculation has changed as of July 2017 - it is now 1/2 of previous calculated values\n"
     ]
    },
    {
     "name": "stdout",
     "output_type": "stream",
     "text": [
      "21 av 40 renset\r"
     ]
    },
    {
     "name": "stderr",
     "output_type": "stream",
     "text": [
      "NOTE: Behavior of MACDH calculation has changed as of July 2017 - it is now 1/2 of previous calculated values\n"
     ]
    },
    {
     "name": "stdout",
     "output_type": "stream",
     "text": [
      "22 av 40 renset\r"
     ]
    },
    {
     "name": "stderr",
     "output_type": "stream",
     "text": [
      "NOTE: Behavior of MACDH calculation has changed as of July 2017 - it is now 1/2 of previous calculated values\n"
     ]
    },
    {
     "name": "stdout",
     "output_type": "stream",
     "text": [
      "23 av 40 renset\r"
     ]
    },
    {
     "name": "stderr",
     "output_type": "stream",
     "text": [
      "NOTE: Behavior of MACDH calculation has changed as of July 2017 - it is now 1/2 of previous calculated values\n"
     ]
    },
    {
     "name": "stdout",
     "output_type": "stream",
     "text": [
      "24 av 40 renset\r"
     ]
    },
    {
     "name": "stderr",
     "output_type": "stream",
     "text": [
      "NOTE: Behavior of MACDH calculation has changed as of July 2017 - it is now 1/2 of previous calculated values\n"
     ]
    },
    {
     "name": "stdout",
     "output_type": "stream",
     "text": [
      "25 av 40 renset\r"
     ]
    },
    {
     "name": "stderr",
     "output_type": "stream",
     "text": [
      "NOTE: Behavior of MACDH calculation has changed as of July 2017 - it is now 1/2 of previous calculated values\n"
     ]
    },
    {
     "name": "stdout",
     "output_type": "stream",
     "text": [
      "26 av 40 renset\r"
     ]
    },
    {
     "name": "stderr",
     "output_type": "stream",
     "text": [
      "NOTE: Behavior of MACDH calculation has changed as of July 2017 - it is now 1/2 of previous calculated values\n"
     ]
    },
    {
     "name": "stdout",
     "output_type": "stream",
     "text": [
      "27 av 40 renset\r"
     ]
    },
    {
     "name": "stderr",
     "output_type": "stream",
     "text": [
      "NOTE: Behavior of MACDH calculation has changed as of July 2017 - it is now 1/2 of previous calculated values\n"
     ]
    },
    {
     "name": "stdout",
     "output_type": "stream",
     "text": [
      "28 av 40 renset\r"
     ]
    },
    {
     "name": "stderr",
     "output_type": "stream",
     "text": [
      "NOTE: Behavior of MACDH calculation has changed as of July 2017 - it is now 1/2 of previous calculated values\n"
     ]
    },
    {
     "name": "stdout",
     "output_type": "stream",
     "text": [
      "29 av 40 renset\r"
     ]
    },
    {
     "name": "stderr",
     "output_type": "stream",
     "text": [
      "NOTE: Behavior of MACDH calculation has changed as of July 2017 - it is now 1/2 of previous calculated values\n"
     ]
    },
    {
     "name": "stdout",
     "output_type": "stream",
     "text": [
      "30 av 40 renset\r"
     ]
    },
    {
     "name": "stderr",
     "output_type": "stream",
     "text": [
      "NOTE: Behavior of MACDH calculation has changed as of July 2017 - it is now 1/2 of previous calculated values\n"
     ]
    },
    {
     "name": "stdout",
     "output_type": "stream",
     "text": [
      "31 av 40 renset\r"
     ]
    },
    {
     "name": "stderr",
     "output_type": "stream",
     "text": [
      "NOTE: Behavior of MACDH calculation has changed as of July 2017 - it is now 1/2 of previous calculated values\n"
     ]
    },
    {
     "name": "stdout",
     "output_type": "stream",
     "text": [
      "32 av 40 renset\r"
     ]
    },
    {
     "name": "stderr",
     "output_type": "stream",
     "text": [
      "NOTE: Behavior of MACDH calculation has changed as of July 2017 - it is now 1/2 of previous calculated values\n"
     ]
    },
    {
     "name": "stdout",
     "output_type": "stream",
     "text": [
      "33 av 40 renset\r"
     ]
    },
    {
     "name": "stderr",
     "output_type": "stream",
     "text": [
      "NOTE: Behavior of MACDH calculation has changed as of July 2017 - it is now 1/2 of previous calculated values\n"
     ]
    },
    {
     "name": "stdout",
     "output_type": "stream",
     "text": [
      "34 av 40 renset\r"
     ]
    },
    {
     "name": "stderr",
     "output_type": "stream",
     "text": [
      "NOTE: Behavior of MACDH calculation has changed as of July 2017 - it is now 1/2 of previous calculated values\n"
     ]
    },
    {
     "name": "stdout",
     "output_type": "stream",
     "text": [
      "35 av 40 renset\r"
     ]
    },
    {
     "name": "stderr",
     "output_type": "stream",
     "text": [
      "NOTE: Behavior of MACDH calculation has changed as of July 2017 - it is now 1/2 of previous calculated values\n"
     ]
    },
    {
     "name": "stdout",
     "output_type": "stream",
     "text": [
      "36 av 40 renset\r"
     ]
    },
    {
     "name": "stderr",
     "output_type": "stream",
     "text": [
      "NOTE: Behavior of MACDH calculation has changed as of July 2017 - it is now 1/2 of previous calculated values\n"
     ]
    },
    {
     "name": "stdout",
     "output_type": "stream",
     "text": [
      "37 av 40 renset\r"
     ]
    },
    {
     "name": "stderr",
     "output_type": "stream",
     "text": [
      "NOTE: Behavior of MACDH calculation has changed as of July 2017 - it is now 1/2 of previous calculated values\n"
     ]
    },
    {
     "name": "stdout",
     "output_type": "stream",
     "text": [
      "38 av 40 renset\r"
     ]
    },
    {
     "name": "stderr",
     "output_type": "stream",
     "text": [
      "NOTE: Behavior of MACDH calculation has changed as of July 2017 - it is now 1/2 of previous calculated values\n"
     ]
    },
    {
     "name": "stdout",
     "output_type": "stream",
     "text": [
      "39 av 40 renset\r"
     ]
    },
    {
     "name": "stderr",
     "output_type": "stream",
     "text": [
      "NOTE: Behavior of MACDH calculation has changed as of July 2017 - it is now 1/2 of previous calculated values\n"
     ]
    },
    {
     "name": "stdout",
     "output_type": "stream",
     "text": [
      "40 av 40 renset\r"
     ]
    },
    {
     "name": "stderr",
     "output_type": "stream",
     "text": [
      "NOTE: Behavior of MACDH calculation has changed as of July 2017 - it is now 1/2 of previous calculated values\n"
     ]
    }
   ],
   "source": [
    "filer = list(map(add_data, os.listdir('data/')))[0:40] # test 54:60 mellom 10 og 14 er noe feil\n",
    "data = make_ready().use_stockstats(filer)"
   ]
  },
  {
   "cell_type": "code",
   "execution_count": 24,
   "metadata": {},
   "outputs": [],
   "source": [
    "def prepare_data_for_training(data):\n",
    "    dataxes = []\n",
    "    datayes = []\n",
    "    sanne = []\n",
    "    look_back=30\n",
    "    look_forward=10\n",
    "\n",
    "    for one_stock in data:\n",
    "        datax, datay, sann = create_dataset().create(one_stock[['macd', 'rsi_20', 'sma8-16', 'trix', 'volume']],\n",
    "                                      one_stock.sma30_derivert, look_back=look_back, look_forward=look_forward)\n",
    "        dataxes.extend(datax)\n",
    "        datayes.extend(datay)\n",
    "        sanne.append(sann)\n",
    "\n",
    "    return np.array(dataxes), np.array(datayes)\n",
    "\n",
    "\n",
    "def prepare_data_for_test(data):\n",
    "    dataxes = []\n",
    "    datayes = []\n",
    "    sanne = []\n",
    "    look_back=30\n",
    "    look_forward=10\n",
    "\n",
    "    for one_stock in data:\n",
    "        datax, datay, sann = create_dataset().create(one_stock[['macd', 'rsi_20', 'sma8-16', 'trix', 'volume']],\n",
    "                                      one_stock.sma30_derivert, look_back=look_back, look_forward=look_forward)\n",
    "        dataxes.append(datax)\n",
    "        datayes.append(datay)\n",
    "        sanne.append(sann)\n",
    "\n",
    "    return np.array(dataxes), np.array(datayes)\n",
    "    \n",
    "    \n",
    "dataxes, datayes = prepare_data_for_training(data)\n"
   ]
  },
  {
   "cell_type": "code",
   "execution_count": 25,
   "metadata": {},
   "outputs": [
    {
     "data": {
      "text/plain": [
       "(8655, 30, 5)"
      ]
     },
     "execution_count": 25,
     "metadata": {},
     "output_type": "execute_result"
    }
   ],
   "source": [
    "# split in train and val for training\n",
    "X_train, X_test, y_train, y_test = train_test_split(dataxes, datayes, test_size=0.33, shuffle=True, random_state=42)\n",
    "X_train.shape"
   ]
  },
  {
   "cell_type": "markdown",
   "metadata": {},
   "source": [
    "## Lage modellen\n",
    "Bruker LSTM. gode greier. Har ikke gridsearched eller kfold."
   ]
  },
  {
   "cell_type": "code",
   "execution_count": 26,
   "metadata": {},
   "outputs": [
    {
     "name": "stdout",
     "output_type": "stream",
     "text": [
      "Model: \"sequential_2\"\n",
      "_________________________________________________________________\n",
      "Layer (type)                 Output Shape              Param #   \n",
      "=================================================================\n",
      "lstm_4 (LSTM)                (None, None, 64)          17920     \n",
      "_________________________________________________________________\n",
      "dropout_4 (Dropout)          (None, None, 64)          0         \n",
      "_________________________________________________________________\n",
      "lstm_5 (LSTM)                (None, 64)                33024     \n",
      "_________________________________________________________________\n",
      "dropout_5 (Dropout)          (None, 64)                0         \n",
      "_________________________________________________________________\n",
      "dense_2 (Dense)              (None, 10)                650       \n",
      "=================================================================\n",
      "Total params: 51,594\n",
      "Trainable params: 51,594\n",
      "Non-trainable params: 0\n",
      "_________________________________________________________________\n"
     ]
    }
   ],
   "source": [
    "model = Sequential()\n",
    "\n",
    "model.add(LSTM(units=64, input_dim=5, return_sequences=True))\n",
    "model.add(Dropout(0.2))\n",
    "model.add(LSTM(units=64, return_sequences=False))\n",
    "model.add(Dropout(0.2))\n",
    "model.add(Dense(10))\n",
    "\n",
    "model.compile(optimizer='adam', loss='mse', metrics=['mae', r2_score_nn])\n",
    "\n",
    "model.summary()"
   ]
  },
  {
   "cell_type": "code",
   "execution_count": 27,
   "metadata": {
    "scrolled": true
   },
   "outputs": [
    {
     "name": "stdout",
     "output_type": "stream",
     "text": [
      "Train on 8655 samples, validate on 4264 samples\n",
      "Epoch 1/60\n",
      "8655/8655 [==============================] - 15s 2ms/sample - loss: 0.1574 - mae: 0.2689 - r2_score_nn: 0.4479 - val_loss: 0.1249 - val_mae: 0.2413 - val_r2_score_nn: 0.5807\n",
      "Epoch 2/60\n",
      "8655/8655 [==============================] - 8s 907us/sample - loss: 0.1203 - mae: 0.2367 - r2_score_nn: 0.5675 - val_loss: 0.1136 - val_mae: 0.2316 - val_r2_score_nn: 0.6126\n",
      "Epoch 3/60\n",
      "8655/8655 [==============================] - 8s 925us/sample - loss: 0.1134 - mae: 0.2308 - r2_score_nn: 0.5925 - val_loss: 0.1095 - val_mae: 0.2270 - val_r2_score_nn: 0.6221\n",
      "Epoch 4/60\n",
      "8655/8655 [==============================] - 8s 922us/sample - loss: 0.1056 - mae: 0.2237 - r2_score_nn: 0.6240 - val_loss: 0.1018 - val_mae: 0.2144 - val_r2_score_nn: 0.6544\n",
      "Epoch 5/60\n",
      "8655/8655 [==============================] - 8s 886us/sample - loss: 0.1008 - mae: 0.2190 - r2_score_nn: 0.6346 - val_loss: 0.0957 - val_mae: 0.2094 - val_r2_score_nn: 0.6717\n",
      "Epoch 6/60\n",
      "8655/8655 [==============================] - 8s 887us/sample - loss: 0.0943 - mae: 0.2133 - r2_score_nn: 0.6594 - val_loss: 0.0959 - val_mae: 0.2104 - val_r2_score_nn: 0.6668\n",
      "Epoch 7/60\n",
      "8655/8655 [==============================] - 8s 897us/sample - loss: 0.0890 - mae: 0.2073 - r2_score_nn: 0.6832 - val_loss: 0.0889 - val_mae: 0.2050 - val_r2_score_nn: 0.6903\n",
      "Epoch 8/60\n",
      "8655/8655 [==============================] - 8s 920us/sample - loss: 0.0843 - mae: 0.2023 - r2_score_nn: 0.6941 - val_loss: 0.0839 - val_mae: 0.2006 - val_r2_score_nn: 0.7086\n",
      "Epoch 9/60\n",
      "8655/8655 [==============================] - 9s 982us/sample - loss: 0.0830 - mae: 0.2005 - r2_score_nn: 0.6990 - val_loss: 0.0835 - val_mae: 0.1980 - val_r2_score_nn: 0.7108\n",
      "Epoch 10/60\n",
      "8655/8655 [==============================] - 8s 969us/sample - loss: 0.0797 - mae: 0.1964 - r2_score_nn: 0.7127 - val_loss: 0.0736 - val_mae: 0.1885 - val_r2_score_nn: 0.7430\n",
      "Epoch 11/60\n",
      "8655/8655 [==============================] - 8s 967us/sample - loss: 0.0765 - mae: 0.1928 - r2_score_nn: 0.7184 - val_loss: 0.0729 - val_mae: 0.1859 - val_r2_score_nn: 0.7453\n",
      "Epoch 12/60\n",
      "8655/8655 [==============================] - 9s 997us/sample - loss: 0.0745 - mae: 0.1903 - r2_score_nn: 0.7268 - val_loss: 0.0714 - val_mae: 0.1851 - val_r2_score_nn: 0.7500\n",
      "Epoch 13/60\n",
      "8655/8655 [==============================] - 8s 978us/sample - loss: 0.0714 - mae: 0.1865 - r2_score_nn: 0.7373 - val_loss: 0.0678 - val_mae: 0.1800 - val_r2_score_nn: 0.7627\n",
      "Epoch 14/60\n",
      "8655/8655 [==============================] - 8s 972us/sample - loss: 0.0687 - mae: 0.1836 - r2_score_nn: 0.7477 - val_loss: 0.0670 - val_mae: 0.1805 - val_r2_score_nn: 0.7662\n",
      "Epoch 15/60\n",
      "8655/8655 [==============================] - 8s 971us/sample - loss: 0.0672 - mae: 0.1815 - r2_score_nn: 0.7528 - val_loss: 0.0682 - val_mae: 0.1813 - val_r2_score_nn: 0.7609\n",
      "Epoch 16/60\n",
      "8655/8655 [==============================] - 8s 978us/sample - loss: 0.0647 - mae: 0.1786 - r2_score_nn: 0.7632 - val_loss: 0.0649 - val_mae: 0.1775 - val_r2_score_nn: 0.7725\n",
      "Epoch 17/60\n",
      "8655/8655 [==============================] - 8s 979us/sample - loss: 0.0641 - mae: 0.1784 - r2_score_nn: 0.7646 - val_loss: 0.0616 - val_mae: 0.1729 - val_r2_score_nn: 0.7832\n",
      "Epoch 18/60\n",
      "8655/8655 [==============================] - 8s 975us/sample - loss: 0.0628 - mae: 0.1761 - r2_score_nn: 0.7689 - val_loss: 0.0616 - val_mae: 0.1745 - val_r2_score_nn: 0.7818\n",
      "Epoch 19/60\n",
      "8655/8655 [==============================] - 9s 1ms/sample - loss: 0.0608 - mae: 0.1739 - r2_score_nn: 0.7756 - val_loss: 0.0609 - val_mae: 0.1719 - val_r2_score_nn: 0.7873\n",
      "Epoch 20/60\n",
      "8655/8655 [==============================] - 9s 1ms/sample - loss: 0.0593 - mae: 0.1718 - r2_score_nn: 0.7847 - val_loss: 0.0588 - val_mae: 0.1690 - val_r2_score_nn: 0.7940\n",
      "Epoch 21/60\n",
      "8655/8655 [==============================] - 8s 976us/sample - loss: 0.0559 - mae: 0.1675 - r2_score_nn: 0.7936 - val_loss: 0.0563 - val_mae: 0.1672 - val_r2_score_nn: 0.8015\n",
      "Epoch 22/60\n",
      "8655/8655 [==============================] - 9s 985us/sample - loss: 0.0551 - mae: 0.1663 - r2_score_nn: 0.7992 - val_loss: 0.0576 - val_mae: 0.1686 - val_r2_score_nn: 0.7996\n",
      "Epoch 23/60\n",
      "8655/8655 [==============================] - 9s 987us/sample - loss: 0.0541 - mae: 0.1655 - r2_score_nn: 0.8016 - val_loss: 0.0523 - val_mae: 0.1618 - val_r2_score_nn: 0.8161\n",
      "Epoch 24/60\n",
      "8655/8655 [==============================] - 8s 976us/sample - loss: 0.0533 - mae: 0.1641 - r2_score_nn: 0.8058 - val_loss: 0.0523 - val_mae: 0.1612 - val_r2_score_nn: 0.8166\n",
      "Epoch 25/60\n",
      "8655/8655 [==============================] - 9s 993us/sample - loss: 0.0512 - mae: 0.1613 - r2_score_nn: 0.8132 - val_loss: 0.0522 - val_mae: 0.1611 - val_r2_score_nn: 0.8165\n",
      "Epoch 26/60\n",
      "8655/8655 [==============================] - 9s 1ms/sample - loss: 0.0516 - mae: 0.1612 - r2_score_nn: 0.8076 - val_loss: 0.0496 - val_mae: 0.1578 - val_r2_score_nn: 0.8261\n",
      "Epoch 27/60\n",
      "8655/8655 [==============================] - 8s 975us/sample - loss: 0.0498 - mae: 0.1589 - r2_score_nn: 0.8162 - val_loss: 0.0472 - val_mae: 0.1534 - val_r2_score_nn: 0.8333\n",
      "Epoch 28/60\n",
      "8655/8655 [==============================] - 9s 1ms/sample - loss: 0.0478 - mae: 0.1563 - r2_score_nn: 0.8241 - val_loss: 0.0471 - val_mae: 0.1536 - val_r2_score_nn: 0.8349\n",
      "Epoch 29/60\n",
      "8655/8655 [==============================] - 9s 991us/sample - loss: 0.0472 - mae: 0.1549 - r2_score_nn: 0.8269 - val_loss: 0.0471 - val_mae: 0.1539 - val_r2_score_nn: 0.8345\n",
      "Epoch 30/60\n",
      "8655/8655 [==============================] - 9s 993us/sample - loss: 0.0460 - mae: 0.1530 - r2_score_nn: 0.8303 - val_loss: 0.0449 - val_mae: 0.1504 - val_r2_score_nn: 0.8417\n",
      "Epoch 31/60\n",
      "8655/8655 [==============================] - 9s 991us/sample - loss: 0.0449 - mae: 0.1512 - r2_score_nn: 0.8378 - val_loss: 0.0443 - val_mae: 0.1487 - val_r2_score_nn: 0.8445\n",
      "Epoch 32/60\n",
      "8655/8655 [==============================] - 8s 979us/sample - loss: 0.0445 - mae: 0.1505 - r2_score_nn: 0.8347 - val_loss: 0.0445 - val_mae: 0.1489 - val_r2_score_nn: 0.8424\n",
      "Epoch 33/60\n",
      "8655/8655 [==============================] - 9s 983us/sample - loss: 0.0440 - mae: 0.1494 - r2_score_nn: 0.8404 - val_loss: 0.0444 - val_mae: 0.1485 - val_r2_score_nn: 0.8435\n",
      "Epoch 34/60\n",
      "8655/8655 [==============================] - 9s 985us/sample - loss: 0.0434 - mae: 0.1485 - r2_score_nn: 0.8433 - val_loss: 0.0427 - val_mae: 0.1474 - val_r2_score_nn: 0.8500\n",
      "Epoch 35/60\n",
      "8655/8655 [==============================] - 9s 992us/sample - loss: 0.0418 - mae: 0.1457 - r2_score_nn: 0.8474 - val_loss: 0.0417 - val_mae: 0.1441 - val_r2_score_nn: 0.8540\n",
      "Epoch 36/60\n",
      "8655/8655 [==============================] - 9s 1ms/sample - loss: 0.0415 - mae: 0.1450 - r2_score_nn: 0.8487 - val_loss: 0.0428 - val_mae: 0.1463 - val_r2_score_nn: 0.8494\n",
      "Epoch 37/60\n",
      "8655/8655 [==============================] - 9s 985us/sample - loss: 0.0407 - mae: 0.1434 - r2_score_nn: 0.8518 - val_loss: 0.0401 - val_mae: 0.1415 - val_r2_score_nn: 0.8593\n",
      "Epoch 38/60\n",
      "8655/8655 [==============================] - 9s 985us/sample - loss: 0.0397 - mae: 0.1424 - r2_score_nn: 0.8552 - val_loss: 0.0392 - val_mae: 0.1396 - val_r2_score_nn: 0.8625\n",
      "Epoch 39/60\n",
      "8655/8655 [==============================] - 8s 982us/sample - loss: 0.0388 - mae: 0.1402 - r2_score_nn: 0.8595 - val_loss: 0.0392 - val_mae: 0.1402 - val_r2_score_nn: 0.8619\n",
      "Epoch 40/60\n",
      "8655/8655 [==============================] - 9s 987us/sample - loss: 0.0403 - mae: 0.1420 - r2_score_nn: 0.8537 - val_loss: 0.0381 - val_mae: 0.1377 - val_r2_score_nn: 0.8664\n",
      "Epoch 41/60\n",
      "8655/8655 [==============================] - 9s 984us/sample - loss: 0.0385 - mae: 0.1395 - r2_score_nn: 0.8597 - val_loss: 0.0376 - val_mae: 0.1372 - val_r2_score_nn: 0.8674\n",
      "Epoch 42/60\n",
      "8655/8655 [==============================] - 9s 1ms/sample - loss: 0.0374 - mae: 0.1375 - r2_score_nn: 0.8652 - val_loss: 0.0363 - val_mae: 0.1341 - val_r2_score_nn: 0.8721\n",
      "Epoch 43/60\n",
      "8655/8655 [==============================] - 9s 1ms/sample - loss: 0.0371 - mae: 0.1371 - r2_score_nn: 0.8637 - val_loss: 0.0356 - val_mae: 0.1336 - val_r2_score_nn: 0.8750\n",
      "Epoch 44/60\n",
      "8655/8655 [==============================] - 9s 1ms/sample - loss: 0.0369 - mae: 0.1371 - r2_score_nn: 0.8650 - val_loss: 0.0367 - val_mae: 0.1350 - val_r2_score_nn: 0.8703\n"
     ]
    },
    {
     "name": "stdout",
     "output_type": "stream",
     "text": [
      "Epoch 45/60\n",
      "8655/8655 [==============================] - 8s 954us/sample - loss: 0.0371 - mae: 0.1363 - r2_score_nn: 0.8625 - val_loss: 0.0358 - val_mae: 0.1335 - val_r2_score_nn: 0.8746\n",
      "Epoch 46/60\n",
      "8655/8655 [==============================] - 8s 951us/sample - loss: 0.0350 - mae: 0.1334 - r2_score_nn: 0.8745 - val_loss: 0.0358 - val_mae: 0.1336 - val_r2_score_nn: 0.8746\n",
      "Epoch 47/60\n",
      "8655/8655 [==============================] - 8s 957us/sample - loss: 0.0346 - mae: 0.1327 - r2_score_nn: 0.8732 - val_loss: 0.0350 - val_mae: 0.1320 - val_r2_score_nn: 0.8777\n",
      "Epoch 48/60\n",
      "8655/8655 [==============================] - 8s 951us/sample - loss: 0.0345 - mae: 0.1318 - r2_score_nn: 0.8733 - val_loss: 0.0343 - val_mae: 0.1304 - val_r2_score_nn: 0.8792\n",
      "Epoch 49/60\n",
      "8655/8655 [==============================] - 9s 1ms/sample - loss: 0.0338 - mae: 0.1309 - r2_score_nn: 0.8744 - val_loss: 0.0325 - val_mae: 0.1274 - val_r2_score_nn: 0.8862\n",
      "Epoch 50/60\n",
      "8655/8655 [==============================] - 8s 971us/sample - loss: 0.0335 - mae: 0.1299 - r2_score_nn: 0.8777 - val_loss: 0.0335 - val_mae: 0.1275 - val_r2_score_nn: 0.8827\n",
      "Epoch 51/60\n",
      "8655/8655 [==============================] - 9s 1ms/sample - loss: 0.0326 - mae: 0.1283 - r2_score_nn: 0.8824 - val_loss: 0.0405 - val_mae: 0.1379 - val_r2_score_nn: 0.8611\n",
      "Epoch 52/60\n",
      "8655/8655 [==============================] - 9s 1ms/sample - loss: 0.0361 - mae: 0.1333 - r2_score_nn: 0.8684 - val_loss: 0.0342 - val_mae: 0.1299 - val_r2_score_nn: 0.8803\n",
      "Epoch 53/60\n",
      "8655/8655 [==============================] - 9s 1ms/sample - loss: 0.0327 - mae: 0.1282 - r2_score_nn: 0.8815 - val_loss: 0.0318 - val_mae: 0.1244 - val_r2_score_nn: 0.8887\n",
      "Epoch 54/60\n",
      "8655/8655 [==============================] - 10s 1ms/sample - loss: 0.0316 - mae: 0.1263 - r2_score_nn: 0.8866 - val_loss: 0.0314 - val_mae: 0.1237 - val_r2_score_nn: 0.8903\n",
      "Epoch 55/60\n",
      "8655/8655 [==============================] - 9s 1ms/sample - loss: 0.0315 - mae: 0.1257 - r2_score_nn: 0.8855 - val_loss: 0.0330 - val_mae: 0.1274 - val_r2_score_nn: 0.8842\n",
      "Epoch 56/60\n",
      "8655/8655 [==============================] - 8s 954us/sample - loss: 0.0310 - mae: 0.1245 - r2_score_nn: 0.8860 - val_loss: 0.0298 - val_mae: 0.1209 - val_r2_score_nn: 0.8960\n",
      "Epoch 57/60\n",
      "8655/8655 [==============================] - 8s 944us/sample - loss: 0.0304 - mae: 0.1234 - r2_score_nn: 0.8894 - val_loss: 0.0312 - val_mae: 0.1237 - val_r2_score_nn: 0.8910\n",
      "Epoch 58/60\n",
      "8655/8655 [==============================] - 9s 1ms/sample - loss: 0.0304 - mae: 0.1235 - r2_score_nn: 0.8891 - val_loss: 0.0294 - val_mae: 0.1189 - val_r2_score_nn: 0.8973\n",
      "Epoch 59/60\n",
      "8655/8655 [==============================] - 9s 1ms/sample - loss: 0.0296 - mae: 0.1217 - r2_score_nn: 0.8929 - val_loss: 0.0297 - val_mae: 0.1202 - val_r2_score_nn: 0.8960\n",
      "Epoch 60/60\n",
      "8655/8655 [==============================] - 9s 997us/sample - loss: 0.0295 - mae: 0.1207 - r2_score_nn: 0.8930 - val_loss: 0.0295 - val_mae: 0.1195 - val_r2_score_nn: 0.8970\n"
     ]
    }
   ],
   "source": [
    "history = model.fit(X_train, y_train, validation_data=(X_test, y_test), epochs=60, batch_size=64, verbose=1)"
   ]
  },
  {
   "cell_type": "markdown",
   "metadata": {},
   "source": [
    "### Plotte validation kurve"
   ]
  },
  {
   "cell_type": "code",
   "execution_count": 30,
   "metadata": {},
   "outputs": [
    {
     "name": "stdout",
     "output_type": "stream",
     "text": [
      "max val_r2 0.8972936868667603\n"
     ]
    },
    {
     "data": {
      "image/png": "[encoded data removed]",
      "text/plain": [
       "<Figure size 432x288 with 1 Axes>"
      ]
     },
     "metadata": {
      "needs_background": "light"
     },
     "output_type": "display_data"
    }
   ],
   "source": [
    "plt.plot(history.history['r2_score_nn'])\n",
    "plt.plot(history.history['val_r2_score_nn'])\n",
    "#plt.xlim(50,100)\n",
    "#plt.ylim(0.0, 0.025)\n",
    "print(f\"max val_r2 {np.max(history.history['val_r2_score_nn'])}\")"
   ]
  },
  {
   "cell_type": "markdown",
   "metadata": {},
   "source": [
    "### Gjennomføre en tes \n",
    "Henter helt nye data for å gjennomføre en test på modellen."
   ]
  },
  {
   "cell_type": "code",
   "execution_count": 31,
   "metadata": {},
   "outputs": [
    {
     "name": "stdout",
     "output_type": "stream",
     "text": [
      "1 av 5 renset\r"
     ]
    },
    {
     "name": "stderr",
     "output_type": "stream",
     "text": [
      "C:\\Users\\Stian\\anaconda3\\lib\\site-packages\\pandas\\core\\indexing.py:670: SettingWithCopyWarning: \n",
      "A value is trying to be set on a copy of a slice from a DataFrame\n",
      "\n",
      "See the caveats in the documentation: https://pandas.pydata.org/pandas-docs/stable/user_guide/indexing.html#returning-a-view-versus-a-copy\n",
      "  iloc._setitem_with_indexer(indexer, value)\n",
      "NOTE: Behavior of MACDH calculation has changed as of July 2017 - it is now 1/2 of previous calculated values\n"
     ]
    },
    {
     "name": "stdout",
     "output_type": "stream",
     "text": [
      "2 av 5 renset\r"
     ]
    },
    {
     "name": "stderr",
     "output_type": "stream",
     "text": [
      "NOTE: Behavior of MACDH calculation has changed as of July 2017 - it is now 1/2 of previous calculated values\n"
     ]
    },
    {
     "name": "stdout",
     "output_type": "stream",
     "text": [
      "3 av 5 renset\r"
     ]
    },
    {
     "name": "stderr",
     "output_type": "stream",
     "text": [
      "NOTE: Behavior of MACDH calculation has changed as of July 2017 - it is now 1/2 of previous calculated values\n"
     ]
    },
    {
     "name": "stdout",
     "output_type": "stream",
     "text": [
      "4 av 5 renset\r"
     ]
    },
    {
     "name": "stderr",
     "output_type": "stream",
     "text": [
      "NOTE: Behavior of MACDH calculation has changed as of July 2017 - it is now 1/2 of previous calculated values\n"
     ]
    },
    {
     "name": "stdout",
     "output_type": "stream",
     "text": [
      "5 av 5 renset\r"
     ]
    },
    {
     "name": "stderr",
     "output_type": "stream",
     "text": [
      "NOTE: Behavior of MACDH calculation has changed as of July 2017 - it is now 1/2 of previous calculated values\n",
      "C:\\Users\\Stian\\anaconda3\\lib\\site-packages\\ipykernel_launcher.py:32: VisibleDeprecationWarning: Creating an ndarray from ragged nested sequences (which is a list-or-tuple of lists-or-tuples-or ndarrays with different lengths or shapes) is deprecated. If you meant to do this, you must specify 'dtype=object' when creating the ndarray\n"
     ]
    }
   ],
   "source": [
    "filer = list(map(add_data, os.listdir('data/')))[55:60] # test 54:60\n",
    "data_test = make_ready().use_stockstats(filer)\n",
    "dataxes, datayes = prepare_data_for_test(data_test)"
   ]
  },
  {
   "cell_type": "code",
   "execution_count": 17,
   "metadata": {},
   "outputs": [
    {
     "data": {
      "text/plain": [
       "(5,)"
      ]
     },
     "execution_count": 17,
     "metadata": {},
     "output_type": "execute_result"
    }
   ],
   "source": [
    "dataxes.shape"
   ]
  },
  {
   "cell_type": "code",
   "execution_count": 32,
   "metadata": {},
   "outputs": [
    {
     "name": "stderr",
     "output_type": "stream",
     "text": [
      "C:\\Users\\Stian\\anaconda3\\lib\\site-packages\\ipykernel_launcher.py:5: VisibleDeprecationWarning: Creating an ndarray from ragged nested sequences (which is a list-or-tuple of lists-or-tuples-or ndarrays with different lengths or shapes) is deprecated. If you meant to do this, you must specify 'dtype=object' when creating the ndarray\n",
      "  \"\"\"\n"
     ]
    }
   ],
   "source": [
    "pred = []\n",
    "for x in dataxes:\n",
    "    pred.append(model.predict(x))\n",
    "\n",
    "pred = np.array(pred)"
   ]
  },
  {
   "cell_type": "code",
   "execution_count": 15,
   "metadata": {},
   "outputs": [
    {
     "ename": "AttributeError",
     "evalue": "'numpy.dtype' object has no attribute 'base_dtype'",
     "output_type": "error",
     "traceback": [
      "\u001b[1;31m---------------------------------------------------------------------------\u001b[0m",
      "\u001b[1;31mAttributeError\u001b[0m                            Traceback (most recent call last)",
      "\u001b[1;32m<ipython-input-15-658c6363876b>\u001b[0m in \u001b[0;36m<module>\u001b[1;34m\u001b[0m\n\u001b[0;32m      1\u001b[0m \u001b[1;32mfor\u001b[0m \u001b[0mi\u001b[0m \u001b[1;32min\u001b[0m \u001b[0mrange\u001b[0m\u001b[1;33m(\u001b[0m\u001b[0mlen\u001b[0m\u001b[1;33m(\u001b[0m\u001b[0mpred\u001b[0m\u001b[1;33m)\u001b[0m\u001b[1;33m)\u001b[0m\u001b[1;33m:\u001b[0m\u001b[1;33m\u001b[0m\u001b[1;33m\u001b[0m\u001b[0m\n\u001b[1;32m----> 2\u001b[1;33m     \u001b[0mprint\u001b[0m\u001b[1;33m(\u001b[0m\u001b[1;34mf\"rscore for one of it {r2_score(pred[i], datayes[i])}\"\u001b[0m\u001b[1;33m)\u001b[0m\u001b[1;33m\u001b[0m\u001b[1;33m\u001b[0m\u001b[0m\n\u001b[0m\u001b[0;32m      3\u001b[0m \u001b[1;33m\u001b[0m\u001b[0m\n",
      "\u001b[1;32m<ipython-input-2-95304147c86e>\u001b[0m in \u001b[0;36mr2_score\u001b[1;34m(y_true, y_pred)\u001b[0m\n\u001b[0;32m      1\u001b[0m \u001b[1;32mdef\u001b[0m \u001b[0mr2_score\u001b[0m\u001b[1;33m(\u001b[0m\u001b[0my_true\u001b[0m\u001b[1;33m,\u001b[0m \u001b[0my_pred\u001b[0m\u001b[1;33m)\u001b[0m\u001b[1;33m:\u001b[0m\u001b[1;33m\u001b[0m\u001b[1;33m\u001b[0m\u001b[0m\n\u001b[0;32m      2\u001b[0m     \u001b[0mSS_res\u001b[0m \u001b[1;33m=\u001b[0m  \u001b[0mK\u001b[0m\u001b[1;33m.\u001b[0m\u001b[0msum\u001b[0m\u001b[1;33m(\u001b[0m\u001b[0mK\u001b[0m\u001b[1;33m.\u001b[0m\u001b[0msquare\u001b[0m\u001b[1;33m(\u001b[0m \u001b[0my_true\u001b[0m\u001b[1;33m-\u001b[0m\u001b[0my_pred\u001b[0m \u001b[1;33m)\u001b[0m\u001b[1;33m)\u001b[0m\u001b[1;33m\u001b[0m\u001b[1;33m\u001b[0m\u001b[0m\n\u001b[1;32m----> 3\u001b[1;33m     \u001b[0mSS_tot\u001b[0m \u001b[1;33m=\u001b[0m \u001b[0mK\u001b[0m\u001b[1;33m.\u001b[0m\u001b[0msum\u001b[0m\u001b[1;33m(\u001b[0m\u001b[0mK\u001b[0m\u001b[1;33m.\u001b[0m\u001b[0msquare\u001b[0m\u001b[1;33m(\u001b[0m \u001b[0my_true\u001b[0m \u001b[1;33m-\u001b[0m \u001b[0mK\u001b[0m\u001b[1;33m.\u001b[0m\u001b[0mmean\u001b[0m\u001b[1;33m(\u001b[0m\u001b[0my_true\u001b[0m\u001b[1;33m)\u001b[0m \u001b[1;33m)\u001b[0m \u001b[1;33m)\u001b[0m\u001b[1;33m\u001b[0m\u001b[1;33m\u001b[0m\u001b[0m\n\u001b[0m\u001b[0;32m      4\u001b[0m     \u001b[1;32mreturn\u001b[0m \u001b[1;33m(\u001b[0m \u001b[1;36m1\u001b[0m \u001b[1;33m-\u001b[0m \u001b[0mSS_res\u001b[0m\u001b[1;33m/\u001b[0m\u001b[1;33m(\u001b[0m\u001b[0mSS_tot\u001b[0m \u001b[1;33m+\u001b[0m \u001b[0mK\u001b[0m\u001b[1;33m.\u001b[0m\u001b[0mepsilon\u001b[0m\u001b[1;33m(\u001b[0m\u001b[1;33m)\u001b[0m\u001b[1;33m)\u001b[0m \u001b[1;33m)\u001b[0m\u001b[1;33m\u001b[0m\u001b[1;33m\u001b[0m\u001b[0m\n\u001b[0;32m      5\u001b[0m \u001b[1;33m\u001b[0m\u001b[0m\n",
      "\u001b[1;32m~\\anaconda3\\lib\\site-packages\\tensorflow_core\\python\\keras\\backend.py\u001b[0m in \u001b[0;36mmean\u001b[1;34m(x, axis, keepdims)\u001b[0m\n\u001b[0;32m   2085\u001b[0m       \u001b[0mA\u001b[0m \u001b[0mtensor\u001b[0m \u001b[1;32mwith\u001b[0m \u001b[0mthe\u001b[0m \u001b[0mmean\u001b[0m \u001b[0mof\u001b[0m \u001b[0melements\u001b[0m \u001b[0mof\u001b[0m\u001b[0;31m \u001b[0m\u001b[0;31m`\u001b[0m\u001b[0mx\u001b[0m\u001b[0;31m`\u001b[0m\u001b[1;33m.\u001b[0m\u001b[1;33m\u001b[0m\u001b[1;33m\u001b[0m\u001b[0m\n\u001b[0;32m   2086\u001b[0m   \"\"\"\n\u001b[1;32m-> 2087\u001b[1;33m   \u001b[1;32mif\u001b[0m \u001b[0mx\u001b[0m\u001b[1;33m.\u001b[0m\u001b[0mdtype\u001b[0m\u001b[1;33m.\u001b[0m\u001b[0mbase_dtype\u001b[0m \u001b[1;33m==\u001b[0m \u001b[0mdtypes_module\u001b[0m\u001b[1;33m.\u001b[0m\u001b[0mbool\u001b[0m\u001b[1;33m:\u001b[0m\u001b[1;33m\u001b[0m\u001b[1;33m\u001b[0m\u001b[0m\n\u001b[0m\u001b[0;32m   2088\u001b[0m     \u001b[0mx\u001b[0m \u001b[1;33m=\u001b[0m \u001b[0mmath_ops\u001b[0m\u001b[1;33m.\u001b[0m\u001b[0mcast\u001b[0m\u001b[1;33m(\u001b[0m\u001b[0mx\u001b[0m\u001b[1;33m,\u001b[0m \u001b[0mfloatx\u001b[0m\u001b[1;33m(\u001b[0m\u001b[1;33m)\u001b[0m\u001b[1;33m)\u001b[0m\u001b[1;33m\u001b[0m\u001b[1;33m\u001b[0m\u001b[0m\n\u001b[0;32m   2089\u001b[0m   \u001b[1;32mreturn\u001b[0m \u001b[0mmath_ops\u001b[0m\u001b[1;33m.\u001b[0m\u001b[0mreduce_mean\u001b[0m\u001b[1;33m(\u001b[0m\u001b[0mx\u001b[0m\u001b[1;33m,\u001b[0m \u001b[0maxis\u001b[0m\u001b[1;33m,\u001b[0m \u001b[0mkeepdims\u001b[0m\u001b[1;33m)\u001b[0m\u001b[1;33m\u001b[0m\u001b[1;33m\u001b[0m\u001b[0m\n",
      "\u001b[1;31mAttributeError\u001b[0m: 'numpy.dtype' object has no attribute 'base_dtype'"
     ]
    }
   ],
   "source": [
    "for i in range(len(pred)):\n",
    "    print(f\"rscore for one of it {r2_score(pred[i], datayes[i])}\")\n",
    "    "
   ]
  },
  {
   "cell_type": "code",
   "execution_count": 159,
   "metadata": {},
   "outputs": [
    {
     "data": {
      "text/plain": [
       "(2,)"
      ]
     },
     "execution_count": 159,
     "metadata": {},
     "output_type": "execute_result"
    }
   ],
   "source": [
    "pred.shape"
   ]
  },
  {
   "cell_type": "code",
   "execution_count": 172,
   "metadata": {},
   "outputs": [
    {
     "data": {
      "image/png": "[encoded data removed]",
      "text/plain": [
       "<Figure size 432x288 with 1 Axes>"
      ]
     },
     "metadata": {
      "needs_background": "light"
     },
     "output_type": "display_data"
    },
    {
     "data": {
      "image/png": "[encoded data removed]",
      "text/plain": [
       "<Figure size 432x288 with 1 Axes>"
      ]
     },
     "metadata": {
      "needs_background": "light"
     },
     "output_type": "display_data"
    },
    {
     "data": {
      "image/png": "[encoded data removed]",
      "text/plain": [
       "<Figure size 432x288 with 1 Axes>"
      ]
     },
     "metadata": {
      "needs_background": "light"
     },
     "output_type": "display_data"
    },
    {
     "data": {
      "image/png": "[encoded data removed]",
      "text/plain": [
       "<Figure size 432x288 with 1 Axes>"
      ]
     },
     "metadata": {
      "needs_background": "light"
     },
     "output_type": "display_data"
    },
    {
     "data": {
      "image/png": "[encoded data removed]",
      "text/plain": [
       "<Figure size 432x288 with 1 Axes>"
      ]
     },
     "metadata": {
      "needs_background": "light"
     },
     "output_type": "display_data"
    }
   ],
   "source": [
    "for i, p in enumerate(pred):\n",
    "    for j, y in enumerate(p):\n",
    "        \n",
    "    #print(p.shape)\n",
    "        plt.plot(range(30+j,40+j), datayes[i][j], c='blue', linewidth=.5)\n",
    "        plt.plot(range(30+j,40+j), y, c='red')\n",
    "    plt.show()"
   ]
  },
  {
   "cell_type": "code",
   "execution_count": 39,
   "metadata": {},
   "outputs": [
    {
     "data": {
      "text/plain": [
       "[<matplotlib.lines.Line2D at 0x14edee3dd48>]"
      ]
     },
     "execution_count": 39,
     "metadata": {},
     "output_type": "execute_result"
    },
    {
     "data": {
      "image/png": "[encoded data removed]",
      "text/plain": [
       "<Figure size 432x288 with 1 Axes>"
      ]
     },
     "metadata": {
      "needs_background": "light"
     },
     "output_type": "display_data"
    }
   ],
   "source": [
    "plt.plot(data[0]['open'])"
   ]
  },
  {
   "cell_type": "markdown",
   "metadata": {},
   "source": [
    "## Save model"
   ]
  },
  {
   "cell_type": "code",
   "execution_count": 152,
   "metadata": {},
   "outputs": [],
   "source": [
    "# Save model\n",
    "\n",
    "model.save('models/rnn_model.h5')"
   ]
  },
  {
   "cell_type": "code",
   "execution_count": 55,
   "metadata": {},
   "outputs": [],
   "source": []
  },
  {
   "cell_type": "code",
   "execution_count": 56,
   "metadata": {},
   "outputs": [
    {
     "name": "stdout",
     "output_type": "stream",
     "text": [
      " Volume in drive C is Windows\n",
      " Volume Serial Number is 0223-158D\n",
      "\n",
      " Directory of C:\\Users\\Stian\\Documents\\School\\99. Div\\intradag\n",
      "\n",
      "19.09.2020  00.30    <DIR>          .\n",
      "19.09.2020  00.30    <DIR>          ..\n",
      "16.08.2020  17.38    <DIR>          .idea\n",
      "01.09.2020  19.48    <DIR>          .ipynb_checkpoints\n",
      "24.08.2020  21.27    <DIR>          data\n",
      "26.08.2020  22.16    <DIR>          history\n",
      "18.09.2020  19.30    <DIR>          images\n",
      "25.08.2020  13.08    <DIR>          lib\n",
      "30.08.2020  10.25           514ÿ958 make_model.ipynb\n",
      "19.09.2020  00.30    <DIR>          models\n",
      "29.08.2020  11.29               664 README.md\n",
      "19.09.2020  00.29           132ÿ506 RNN_trial.ipynb\n",
      "16.08.2020  17.14         3ÿ922ÿ732 smadaytrade.ipynb\n",
      "01.09.2020  20.07           775ÿ971 use_model.ipynb\n",
      "17.08.2020  12.53    <DIR>          __pycache__\n",
      "               5 File(s)      5ÿ346ÿ831 bytes\n",
      "              10 Dir(s)  75ÿ003ÿ355ÿ136 bytes free\n"
     ]
    }
   ],
   "source": [
    "!dir"
   ]
  },
  {
   "cell_type": "code",
   "execution_count": null,
   "metadata": {},
   "outputs": [],
   "source": []
  }
 ],
 "metadata": {
  "kernelspec": {
   "display_name": "Python 3",
   "language": "python",
   "name": "python3"
  },
  "language_info": {
   "codemirror_mode": {
    "name": "ipython",
    "version": 3
   },
   "file_extension": ".py",
   "mimetype": "text/x-python",
   "name": "python",
   "nbconvert_exporter": "python",
   "pygments_lexer": "ipython3",
   "version": "3.7.7"
  }
 },
 "nbformat": 4,
 "nbformat_minor": 4
}
