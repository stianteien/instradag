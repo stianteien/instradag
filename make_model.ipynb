{
 "cells": [
  {
   "cell_type": "markdown",
   "metadata": {},
   "source": [
    "# Overskrift\n",
    "\n",
    "<ul>\n",
    "<li>Rense data\n",
    "<li>Display data\n",
    "<li>Kanskje finne noen pakker som støtter adx og de der?\n",
    "<li>Sette indikatorverktøy i egne py filer\n"
   ]
  },
  {
   "cell_type": "code",
   "execution_count": 1,
   "metadata": {},
   "outputs": [],
   "source": [
    "import pandas as pd\n",
    "import matplotlib.pyplot as plt\n",
    "import plotly.express as px\n",
    "import stockstats\n",
    "\n",
    "from lib.rens import rens\n",
    "from lib.god_runde import positiv_utvikling"
   ]
  },
  {
   "cell_type": "code",
   "execution_count": 105,
   "metadata": {},
   "outputs": [],
   "source": [
    "def hent_indikatortall(data, gode):\n",
    "    stock = stockstats.StockDataFrame.retype(data)\n",
    "    stock['rsi_12']\n",
    "    stock['trix']\n",
    "    stock['adx']\n",
    "    stock['kdjk']\n",
    "    \n",
    "    rsi = []\n",
    "    trix = []\n",
    "    adxr = []\n",
    "    kdjk = []\n",
    "    for ix, fin in gode.iterrows():\n",
    "        oppgang = stock[int(fin.start):int(fin.endex)]\n",
    "        rsi.append(oppgang.rsi_12.values)\n",
    "        trix.append(oppgang.trix.values)\n",
    "        adxr.append(oppgang.adxr.values)\n",
    "        kdjk.append(oppgang.kdjk.values)\n",
    "        \n",
    "    \n",
    "    return rsi, trix, adxr, kdjk      "
   ]
  },
  {
   "cell_type": "code",
   "execution_count": 69,
   "metadata": {},
   "outputs": [],
   "source": [
    "cleanup = rens()\n",
    "pos_ut = positiv_utvikling()"
   ]
  },
  {
   "cell_type": "code",
   "execution_count": 106,
   "metadata": {},
   "outputs": [
    {
     "name": "stderr",
     "output_type": "stream",
     "text": [
      "C:\\Users\\Stian\\anaconda3\\lib\\site-packages\\pandas\\core\\indexing.py:670: SettingWithCopyWarning:\n",
      "\n",
      "\n",
      "A value is trying to be set on a copy of a slice from a DataFrame\n",
      "\n",
      "See the caveats in the documentation: https://pandas.pydata.org/pandas-docs/stable/user_guide/indexing.html#returning-a-view-versus-a-copy\n",
      "\n"
     ]
    }
   ],
   "source": [
    "fil = pd.read_excel('data/Aker 02.04.2020.xlsx')\n",
    "data = cleanup.clean_data(fil)\n",
    "gode = pos_ut.calculate(data)\n",
    "rsi, trix, adxr, kdjk = hent_indikatortall(data, gode)\n",
    "gode['rsi'] = rsi\n",
    "gode['trix'] = trix\n",
    "gode['adxr'] = adxr\n",
    "gode['kdjk'] = kdjk"
   ]
  },
  {
   "cell_type": "code",
   "execution_count": 107,
   "metadata": {},
   "outputs": [
    {
     "data": {
      "text/html": [
       "<div>\n",
       "<style scoped>\n",
       "    .dataframe tbody tr th:only-of-type {\n",
       "        vertical-align: middle;\n",
       "    }\n",
       "\n",
       "    .dataframe tbody tr th {\n",
       "        vertical-align: top;\n",
       "    }\n",
       "\n",
       "    .dataframe thead th {\n",
       "        text-align: right;\n",
       "    }\n",
       "</style>\n",
       "<table border=\"1\" class=\"dataframe\">\n",
       "  <thead>\n",
       "    <tr style=\"text-align: right;\">\n",
       "      <th></th>\n",
       "      <th>start</th>\n",
       "      <th>endex</th>\n",
       "      <th>start_pris</th>\n",
       "      <th>slutt_pris</th>\n",
       "      <th>oppgang</th>\n",
       "      <th>score</th>\n",
       "      <th>rsi</th>\n",
       "      <th>trix</th>\n",
       "      <th>adxr</th>\n",
       "      <th>kdjk</th>\n",
       "    </tr>\n",
       "  </thead>\n",
       "  <tbody>\n",
       "    <tr>\n",
       "      <th>0</th>\n",
       "      <td>128</td>\n",
       "      <td>186</td>\n",
       "      <td>240.2</td>\n",
       "      <td>247.8</td>\n",
       "      <td>3.164030</td>\n",
       "      <td>50.703007</td>\n",
       "      <td>[29.08667618110441, 29.086676181104394, 38.508...</td>\n",
       "      <td>[-0.04397465516493707, -0.045443866319610726, ...</td>\n",
       "      <td>[30.19964066608519, 33.407059607068106, 33.916...</td>\n",
       "      <td>[10.330356638278655, 6.886904425519103, 21.257...</td>\n",
       "    </tr>\n",
       "    <tr>\n",
       "      <th>1</th>\n",
       "      <td>229</td>\n",
       "      <td>267</td>\n",
       "      <td>245.8</td>\n",
       "      <td>249.6</td>\n",
       "      <td>1.545972</td>\n",
       "      <td>31.951273</td>\n",
       "      <td>[53.226517486104214, 48.34750785504549, 48.347...</td>\n",
       "      <td>[-0.010354636272359287, -0.009138505674278392,...</td>\n",
       "      <td>[15.09565910714205, 13.631975273648532, 11.912...</td>\n",
       "      <td>[56.62048569675035, 57.74699046450004, 58.4979...</td>\n",
       "    </tr>\n",
       "  </tbody>\n",
       "</table>\n",
       "</div>"
      ],
      "text/plain": [
       "   start  endex  start_pris  slutt_pris   oppgang      score  \\\n",
       "0    128    186       240.2       247.8  3.164030  50.703007   \n",
       "1    229    267       245.8       249.6  1.545972  31.951273   \n",
       "\n",
       "                                                 rsi  \\\n",
       "0  [29.08667618110441, 29.086676181104394, 38.508...   \n",
       "1  [53.226517486104214, 48.34750785504549, 48.347...   \n",
       "\n",
       "                                                trix  \\\n",
       "0  [-0.04397465516493707, -0.045443866319610726, ...   \n",
       "1  [-0.010354636272359287, -0.009138505674278392,...   \n",
       "\n",
       "                                                adxr  \\\n",
       "0  [30.19964066608519, 33.407059607068106, 33.916...   \n",
       "1  [15.09565910714205, 13.631975273648532, 11.912...   \n",
       "\n",
       "                                                kdjk  \n",
       "0  [10.330356638278655, 6.886904425519103, 21.257...  \n",
       "1  [56.62048569675035, 57.74699046450004, 58.4979...  "
      ]
     },
     "execution_count": 107,
     "metadata": {},
     "output_type": "execute_result"
    }
   ],
   "source": [
    "gode"
   ]
  },
  {
   "cell_type": "code",
   "execution_count": 87,
   "metadata": {},
   "outputs": [],
   "source": [
    "linjer = [dict(type='line', yref='paper', y0=0,y1=1, xref='x',x0=info.start, x1=info.start,\n",
    "                    line=dict(color=\"Green\"))\n",
    "                for j,info in gode.iterrows()]\n",
    "linjer_slutt =  [dict(type='line', yref='paper', y0=0,y1=1, xref='x',x0=info.endex, x1=info.endex,\n",
    "                      line=dict(color=\"Red\"))\n",
    "                 for j,info in gode.iterrows()]\n",
    "linjer.extend(linjer_slutt)"
   ]
  },
  {
   "cell_type": "code",
   "execution_count": 88,
   "metadata": {},
   "outputs": [
    {
     "data": {
      "application/vnd.plotly.v1+json": {
       "config": {
        "plotlyServerURL": "https://plot.ly"
       },
       "data": [
        {
         "hovertemplate": "tid=%{x}<br>open=%{y}<extra></extra>",
         "legendgroup": "",
         "line": {
          "color": "#636efa",
          "dash": "solid"
         },
         "mode": "lines",
         "name": "",
         "orientation": "v",
         "showlegend": false,
         "type": "scatter",
         "x": [
          "9:0",
          "9:1",
          "9:2",
          "9:3",
          "9:4",
          "9:5",
          "9:6",
          "9:7",
          "9:8",
          "9:9",
          "9:10",
          "9:11",
          "9:12",
          "9:13",
          "9:14",
          "9:15",
          "9:16",
          "9:17",
          "9:18",
          "9:19",
          "9:20",
          "9:21",
          "9:22",
          "9:23",
          "9:24",
          "9:25",
          "9:26",
          "9:27",
          "9:28",
          "9:29",
          "9:30",
          "9:31",
          "9:32",
          "9:33",
          "9:34",
          "9:35",
          "9:37",
          "9:38",
          "9:40",
          "9:41",
          "9:42",
          "9:43",
          "9:44",
          "9:45",
          "9:46",
          "9:47",
          "9:48",
          "9:49",
          "9:50",
          "9:51",
          "9:52",
          "9:53",
          "9:54",
          "9:55",
          "9:56",
          "9:57",
          "9:58",
          "9:59",
          "10:0",
          "10:1",
          "10:2",
          "10:3",
          "10:4",
          "10:5",
          "10:6",
          "10:7",
          "10:8",
          "10:9",
          "10:10",
          "10:11",
          "10:12",
          "10:13",
          "10:14",
          "10:15",
          "10:16",
          "10:17",
          "10:18",
          "10:19",
          "10:20",
          "10:21",
          "10:22",
          "10:23",
          "10:24",
          "10:25",
          "10:26",
          "10:27",
          "10:28",
          "10:29",
          "10:30",
          "10:31",
          "10:32",
          "10:33",
          "10:34",
          "10:35",
          "10:36",
          "10:37",
          "10:39",
          "10:41",
          "10:42",
          "10:43",
          "10:44",
          "10:45",
          "10:46",
          "10:47",
          "10:48",
          "10:49",
          "10:50",
          "10:51",
          "10:52",
          "10:54",
          "10:56",
          "10:57",
          "10:58",
          "10:59",
          "11:0",
          "11:1",
          "11:2",
          "11:3",
          "11:4",
          "11:5",
          "11:6",
          "11:7",
          "11:8",
          "11:9",
          "11:10",
          "11:11",
          "11:12",
          "11:13",
          "11:14",
          "11:15",
          "11:16",
          "11:17",
          "11:18",
          "11:20",
          "11:21",
          "11:22",
          "11:23",
          "11:24",
          "11:25",
          "11:26",
          "11:28",
          "11:29",
          "11:32",
          "11:33",
          "11:36",
          "11:37",
          "11:39",
          "11:41",
          "11:42",
          "11:43",
          "11:44",
          "11:45",
          "11:47",
          "11:48",
          "11:49",
          "11:50",
          "11:51",
          "11:52",
          "11:53",
          "11:56",
          "11:57",
          "11:58",
          "11:59",
          "12:0",
          "12:1",
          "12:2",
          "12:3",
          "12:4",
          "12:5",
          "12:6",
          "12:7",
          "12:8",
          "12:10",
          "12:11",
          "12:14",
          "12:15",
          "12:16",
          "12:17",
          "12:18",
          "12:19",
          "12:21",
          "12:22",
          "12:23",
          "12:25",
          "12:27",
          "12:28",
          "12:31",
          "12:32",
          "12:33",
          "12:34",
          "12:35",
          "12:36",
          "12:37",
          "12:39",
          "12:40",
          "12:42",
          "12:43",
          "12:44",
          "12:45",
          "12:46",
          "12:49",
          "12:50",
          "12:51",
          "12:53",
          "12:54",
          "12:55",
          "12:57",
          "12:58",
          "12:59",
          "13:2",
          "13:3",
          "13:4",
          "13:7",
          "13:8",
          "13:9",
          "13:10",
          "13:11",
          "13:14",
          "13:15",
          "13:16",
          "13:17",
          "13:18",
          "13:19",
          "13:21",
          "13:22",
          "13:24",
          "13:27",
          "13:28",
          "13:29",
          "13:32",
          "13:35",
          "13:36",
          "13:37",
          "13:38",
          "13:39",
          "13:40",
          "13:42",
          "13:44",
          "13:45",
          "13:46",
          "13:48",
          "13:49",
          "13:50",
          "13:51",
          "13:58",
          "13:59",
          "14:0",
          "14:1",
          "14:2",
          "14:3",
          "14:4",
          "14:5",
          "14:6",
          "14:7",
          "14:10",
          "14:14",
          "14:15",
          "14:16",
          "14:17",
          "14:19",
          "14:21",
          "14:22",
          "14:23",
          "14:24",
          "14:25",
          "14:26",
          "14:27",
          "14:28",
          "14:29",
          "14:30",
          "14:31",
          "14:32",
          "14:33",
          "14:34",
          "14:35",
          "14:36",
          "14:37",
          "14:38",
          "14:39",
          "14:40",
          "14:41",
          "14:42",
          "14:43",
          "14:44",
          "14:45",
          "14:47",
          "14:48",
          "14:49",
          "14:50",
          "14:51",
          "14:52",
          "14:53",
          "14:54",
          "14:55",
          "14:56",
          "14:57",
          "14:58",
          "14:59",
          "15:0",
          "15:1",
          "15:2",
          "15:4",
          "15:5",
          "15:6",
          "15:7",
          "15:8",
          "15:9",
          "15:10",
          "15:11",
          "15:12",
          "15:13",
          "15:14",
          "15:15",
          "15:16",
          "15:17",
          "15:18",
          "15:19",
          "15:20",
          "15:21",
          "15:22",
          "15:23",
          "15:24",
          "15:25",
          "15:26",
          "15:27",
          "15:28",
          "15:29",
          "15:30",
          "15:32",
          "15:33",
          "15:34",
          "15:35",
          "15:36",
          "15:37",
          "15:38",
          "15:39",
          "15:40",
          "15:41",
          "15:42",
          "15:43",
          "15:44",
          "15:45",
          "15:46",
          "15:47",
          "15:48",
          "15:49",
          "15:50",
          "15:51",
          "15:52",
          "15:53",
          "15:54",
          "15:55",
          "15:56",
          "15:57",
          "15:58",
          "15:59",
          "16:0",
          "16:1",
          "16:2",
          "16:3",
          "16:4",
          "16:5",
          "16:6",
          "16:7",
          "16:8",
          "16:9",
          "16:10",
          "16:11",
          "16:12",
          "16:13",
          "16:14",
          "16:15",
          "16:16",
          "16:17",
          "16:18",
          "16:19",
          "16:25"
         ],
         "xaxis": "x",
         "y": [
          239,
          239.2,
          241,
          242.2,
          245.2,
          244,
          243,
          242.4,
          242.6,
          242.2,
          242.2,
          243.8,
          243.2,
          243,
          244,
          246.4,
          245.8,
          246.8,
          247.8,
          248.2,
          250,
          250.6,
          252.4,
          251.8,
          251.6,
          251,
          249.2,
          250.4,
          250,
          251,
          251,
          251,
          250.4,
          248.2,
          247.4,
          246.2,
          245.8,
          247,
          248.6,
          249,
          249.4,
          249.2,
          249,
          248.6,
          248.8,
          248,
          248.4,
          248,
          248.8,
          248.8,
          248.8,
          248.6,
          248.6,
          249,
          249.8,
          249,
          249.2,
          248.6,
          250,
          249.6,
          249.4,
          249.2,
          249,
          249.2,
          248.2,
          248.6,
          248.4,
          248.6,
          247.8,
          246.8,
          246.6,
          246.4,
          246.2,
          247.2,
          247.8,
          248.2,
          248.4,
          246.8,
          246.6,
          246,
          245.4,
          245.4,
          244.4,
          243.2,
          244.4,
          244.8,
          245,
          245.4,
          245.2,
          245.4,
          244.6,
          244.6,
          244.6,
          245.2,
          245.2,
          244.2,
          244,
          243.4,
          243.8,
          243.8,
          242,
          242.6,
          243.2,
          243.2,
          243.8,
          243.2,
          243.6,
          243.4,
          243.2,
          242.8,
          242.4,
          242.4,
          242,
          242.8,
          243,
          244,
          243,
          242,
          242.2,
          241.6,
          241.2,
          241,
          241,
          241.2,
          241.4,
          241.4,
          241.4,
          241,
          240.2,
          240.2,
          240.8,
          241.4,
          242.2,
          242.8,
          242.6,
          243,
          243.8,
          243,
          243.2,
          243,
          243,
          243,
          243.2,
          244,
          243.6,
          243,
          243.4,
          243.8,
          243.8,
          244.2,
          244.2,
          244.2,
          244.6,
          245,
          245.2,
          245,
          244.6,
          244.2,
          245,
          244.6,
          245,
          245.4,
          245.2,
          245.2,
          245.2,
          245.8,
          246.2,
          247,
          246.6,
          245.6,
          245.8,
          246.2,
          247,
          247,
          247,
          247,
          247.6,
          247.6,
          247.6,
          247.6,
          247.4,
          247.6,
          247.8,
          247.8,
          248,
          248.4,
          247.8,
          248.4,
          248.6,
          248.6,
          248.8,
          247.6,
          247,
          246.6,
          246.4,
          246.4,
          246.8,
          246.8,
          246.6,
          246.2,
          246.4,
          246,
          245.2,
          244.4,
          245.8,
          246,
          246.2,
          246.2,
          246,
          245.2,
          245,
          244.8,
          245,
          244.6,
          244.8,
          244.8,
          245.2,
          245.4,
          246.4,
          246.2,
          246.2,
          245.8,
          245,
          245,
          245.6,
          245.2,
          244.8,
          245.2,
          245.6,
          245.8,
          245.4,
          245.4,
          245.4,
          245.4,
          245.6,
          245.8,
          246,
          246,
          245.6,
          245.8,
          245.6,
          245.8,
          246.4,
          247,
          247.8,
          248,
          248.6,
          248.4,
          248.6,
          248.2,
          248.8,
          248.4,
          248.6,
          248.6,
          248.8,
          249.2,
          249.2,
          248.6,
          248.6,
          248.8,
          249.4,
          249.6,
          249.6,
          249.6,
          249.4,
          249.6,
          249.8,
          249.6,
          249.4,
          249.6,
          250.6,
          250.6,
          250.4,
          249.2,
          248,
          247.2,
          247,
          247,
          247.2,
          246.2,
          246.6,
          246.6,
          247,
          246.8,
          246.6,
          246.8,
          246.8,
          245.8,
          245.4,
          245.6,
          245,
          244,
          243.8,
          245,
          245,
          244.8,
          244.8,
          244.6,
          244.6,
          245.4,
          245.4,
          243.8,
          244.4,
          244.2,
          243.8,
          242.8,
          242.4,
          242.4,
          242,
          241,
          241,
          240.8,
          241.4,
          240.8,
          242.8,
          241,
          240.4,
          239.6,
          240.4,
          239.8,
          240.2,
          240.4,
          240.2,
          239.4,
          239.8,
          239.8,
          239.8,
          240.8,
          240.2,
          240.4,
          240.8,
          240.8,
          240,
          240,
          239.6,
          239.4,
          238.6,
          238.4,
          238,
          237.8,
          237.6,
          238,
          238.4,
          238.8,
          238.6,
          237,
          237.8,
          238,
          238,
          237.6,
          237.8,
          238.6,
          239.4,
          240,
          240.4,
          240.4,
          240.4,
          240,
          240.2,
          239.6,
          239.6,
          239.8,
          240.2,
          240.4,
          240,
          240.8,
          240.8,
          240.4,
          240.4,
          240.2,
          240,
          240.2,
          240.4,
          240.4,
          240.4,
          239.6,
          241
         ],
         "yaxis": "y"
        }
       ],
       "layout": {
        "legend": {
         "tracegroupgap": 0
        },
        "margin": {
         "t": 60
        },
        "shapes": [
         {
          "line": {
           "color": "Green"
          },
          "type": "line",
          "x0": 128,
          "x1": 128,
          "xref": "x",
          "y0": 0,
          "y1": 1,
          "yref": "paper"
         },
         {
          "line": {
           "color": "Green"
          },
          "type": "line",
          "x0": 229,
          "x1": 229,
          "xref": "x",
          "y0": 0,
          "y1": 1,
          "yref": "paper"
         },
         {
          "line": {
           "color": "Red"
          },
          "type": "line",
          "x0": 186,
          "x1": 186,
          "xref": "x",
          "y0": 0,
          "y1": 1,
          "yref": "paper"
         },
         {
          "line": {
           "color": "Red"
          },
          "type": "line",
          "x0": 267,
          "x1": 267,
          "xref": "x",
          "y0": 0,
          "y1": 1,
          "yref": "paper"
         }
        ],
        "template": {
         "data": {
          "bar": [
           {
            "error_x": {
             "color": "#2a3f5f"
            },
            "error_y": {
             "color": "#2a3f5f"
            },
            "marker": {
             "line": {
              "color": "#E5ECF6",
              "width": 0.5
             }
            },
            "type": "bar"
           }
          ],
          "barpolar": [
           {
            "marker": {
             "line": {
              "color": "#E5ECF6",
              "width": 0.5
             }
            },
            "type": "barpolar"
           }
          ],
          "carpet": [
           {
            "aaxis": {
             "endlinecolor": "#2a3f5f",
             "gridcolor": "white",
             "linecolor": "white",
             "minorgridcolor": "white",
             "startlinecolor": "#2a3f5f"
            },
            "baxis": {
             "endlinecolor": "#2a3f5f",
             "gridcolor": "white",
             "linecolor": "white",
             "minorgridcolor": "white",
             "startlinecolor": "#2a3f5f"
            },
            "type": "carpet"
           }
          ],
          "choropleth": [
           {
            "colorbar": {
             "outlinewidth": 0,
             "ticks": ""
            },
            "type": "choropleth"
           }
          ],
          "contour": [
           {
            "colorbar": {
             "outlinewidth": 0,
             "ticks": ""
            },
            "colorscale": [
             [
              0,
              "#0d0887"
             ],
             [
              0.1111111111111111,
              "#46039f"
             ],
             [
              0.2222222222222222,
              "#7201a8"
             ],
             [
              0.3333333333333333,
              "#9c179e"
             ],
             [
              0.4444444444444444,
              "#bd3786"
             ],
             [
              0.5555555555555556,
              "#d8576b"
             ],
             [
              0.6666666666666666,
              "#ed7953"
             ],
             [
              0.7777777777777778,
              "#fb9f3a"
             ],
             [
              0.8888888888888888,
              "#fdca26"
             ],
             [
              1,
              "#f0f921"
             ]
            ],
            "type": "contour"
           }
          ],
          "contourcarpet": [
           {
            "colorbar": {
             "outlinewidth": 0,
             "ticks": ""
            },
            "type": "contourcarpet"
           }
          ],
          "heatmap": [
           {
            "colorbar": {
             "outlinewidth": 0,
             "ticks": ""
            },
            "colorscale": [
             [
              0,
              "#0d0887"
             ],
             [
              0.1111111111111111,
              "#46039f"
             ],
             [
              0.2222222222222222,
              "#7201a8"
             ],
             [
              0.3333333333333333,
              "#9c179e"
             ],
             [
              0.4444444444444444,
              "#bd3786"
             ],
             [
              0.5555555555555556,
              "#d8576b"
             ],
             [
              0.6666666666666666,
              "#ed7953"
             ],
             [
              0.7777777777777778,
              "#fb9f3a"
             ],
             [
              0.8888888888888888,
              "#fdca26"
             ],
             [
              1,
              "#f0f921"
             ]
            ],
            "type": "heatmap"
           }
          ],
          "heatmapgl": [
           {
            "colorbar": {
             "outlinewidth": 0,
             "ticks": ""
            },
            "colorscale": [
             [
              0,
              "#0d0887"
             ],
             [
              0.1111111111111111,
              "#46039f"
             ],
             [
              0.2222222222222222,
              "#7201a8"
             ],
             [
              0.3333333333333333,
              "#9c179e"
             ],
             [
              0.4444444444444444,
              "#bd3786"
             ],
             [
              0.5555555555555556,
              "#d8576b"
             ],
             [
              0.6666666666666666,
              "#ed7953"
             ],
             [
              0.7777777777777778,
              "#fb9f3a"
             ],
             [
              0.8888888888888888,
              "#fdca26"
             ],
             [
              1,
              "#f0f921"
             ]
            ],
            "type": "heatmapgl"
           }
          ],
          "histogram": [
           {
            "marker": {
             "colorbar": {
              "outlinewidth": 0,
              "ticks": ""
             }
            },
            "type": "histogram"
           }
          ],
          "histogram2d": [
           {
            "colorbar": {
             "outlinewidth": 0,
             "ticks": ""
            },
            "colorscale": [
             [
              0,
              "#0d0887"
             ],
             [
              0.1111111111111111,
              "#46039f"
             ],
             [
              0.2222222222222222,
              "#7201a8"
             ],
             [
              0.3333333333333333,
              "#9c179e"
             ],
             [
              0.4444444444444444,
              "#bd3786"
             ],
             [
              0.5555555555555556,
              "#d8576b"
             ],
             [
              0.6666666666666666,
              "#ed7953"
             ],
             [
              0.7777777777777778,
              "#fb9f3a"
             ],
             [
              0.8888888888888888,
              "#fdca26"
             ],
             [
              1,
              "#f0f921"
             ]
            ],
            "type": "histogram2d"
           }
          ],
          "histogram2dcontour": [
           {
            "colorbar": {
             "outlinewidth": 0,
             "ticks": ""
            },
            "colorscale": [
             [
              0,
              "#0d0887"
             ],
             [
              0.1111111111111111,
              "#46039f"
             ],
             [
              0.2222222222222222,
              "#7201a8"
             ],
             [
              0.3333333333333333,
              "#9c179e"
             ],
             [
              0.4444444444444444,
              "#bd3786"
             ],
             [
              0.5555555555555556,
              "#d8576b"
             ],
             [
              0.6666666666666666,
              "#ed7953"
             ],
             [
              0.7777777777777778,
              "#fb9f3a"
             ],
             [
              0.8888888888888888,
              "#fdca26"
             ],
             [
              1,
              "#f0f921"
             ]
            ],
            "type": "histogram2dcontour"
           }
          ],
          "mesh3d": [
           {
            "colorbar": {
             "outlinewidth": 0,
             "ticks": ""
            },
            "type": "mesh3d"
           }
          ],
          "parcoords": [
           {
            "line": {
             "colorbar": {
              "outlinewidth": 0,
              "ticks": ""
             }
            },
            "type": "parcoords"
           }
          ],
          "pie": [
           {
            "automargin": true,
            "type": "pie"
           }
          ],
          "scatter": [
           {
            "marker": {
             "colorbar": {
              "outlinewidth": 0,
              "ticks": ""
             }
            },
            "type": "scatter"
           }
          ],
          "scatter3d": [
           {
            "line": {
             "colorbar": {
              "outlinewidth": 0,
              "ticks": ""
             }
            },
            "marker": {
             "colorbar": {
              "outlinewidth": 0,
              "ticks": ""
             }
            },
            "type": "scatter3d"
           }
          ],
          "scattercarpet": [
           {
            "marker": {
             "colorbar": {
              "outlinewidth": 0,
              "ticks": ""
             }
            },
            "type": "scattercarpet"
           }
          ],
          "scattergeo": [
           {
            "marker": {
             "colorbar": {
              "outlinewidth": 0,
              "ticks": ""
             }
            },
            "type": "scattergeo"
           }
          ],
          "scattergl": [
           {
            "marker": {
             "colorbar": {
              "outlinewidth": 0,
              "ticks": ""
             }
            },
            "type": "scattergl"
           }
          ],
          "scattermapbox": [
           {
            "marker": {
             "colorbar": {
              "outlinewidth": 0,
              "ticks": ""
             }
            },
            "type": "scattermapbox"
           }
          ],
          "scatterpolar": [
           {
            "marker": {
             "colorbar": {
              "outlinewidth": 0,
              "ticks": ""
             }
            },
            "type": "scatterpolar"
           }
          ],
          "scatterpolargl": [
           {
            "marker": {
             "colorbar": {
              "outlinewidth": 0,
              "ticks": ""
             }
            },
            "type": "scatterpolargl"
           }
          ],
          "scatterternary": [
           {
            "marker": {
             "colorbar": {
              "outlinewidth": 0,
              "ticks": ""
             }
            },
            "type": "scatterternary"
           }
          ],
          "surface": [
           {
            "colorbar": {
             "outlinewidth": 0,
             "ticks": ""
            },
            "colorscale": [
             [
              0,
              "#0d0887"
             ],
             [
              0.1111111111111111,
              "#46039f"
             ],
             [
              0.2222222222222222,
              "#7201a8"
             ],
             [
              0.3333333333333333,
              "#9c179e"
             ],
             [
              0.4444444444444444,
              "#bd3786"
             ],
             [
              0.5555555555555556,
              "#d8576b"
             ],
             [
              0.6666666666666666,
              "#ed7953"
             ],
             [
              0.7777777777777778,
              "#fb9f3a"
             ],
             [
              0.8888888888888888,
              "#fdca26"
             ],
             [
              1,
              "#f0f921"
             ]
            ],
            "type": "surface"
           }
          ],
          "table": [
           {
            "cells": {
             "fill": {
              "color": "#EBF0F8"
             },
             "line": {
              "color": "white"
             }
            },
            "header": {
             "fill": {
              "color": "#C8D4E3"
             },
             "line": {
              "color": "white"
             }
            },
            "type": "table"
           }
          ]
         },
         "layout": {
          "annotationdefaults": {
           "arrowcolor": "#2a3f5f",
           "arrowhead": 0,
           "arrowwidth": 1
          },
          "coloraxis": {
           "colorbar": {
            "outlinewidth": 0,
            "ticks": ""
           }
          },
          "colorscale": {
           "diverging": [
            [
             0,
             "#8e0152"
            ],
            [
             0.1,
             "#c51b7d"
            ],
            [
             0.2,
             "#de77ae"
            ],
            [
             0.3,
             "#f1b6da"
            ],
            [
             0.4,
             "#fde0ef"
            ],
            [
             0.5,
             "#f7f7f7"
            ],
            [
             0.6,
             "#e6f5d0"
            ],
            [
             0.7,
             "#b8e186"
            ],
            [
             0.8,
             "#7fbc41"
            ],
            [
             0.9,
             "#4d9221"
            ],
            [
             1,
             "#276419"
            ]
           ],
           "sequential": [
            [
             0,
             "#0d0887"
            ],
            [
             0.1111111111111111,
             "#46039f"
            ],
            [
             0.2222222222222222,
             "#7201a8"
            ],
            [
             0.3333333333333333,
             "#9c179e"
            ],
            [
             0.4444444444444444,
             "#bd3786"
            ],
            [
             0.5555555555555556,
             "#d8576b"
            ],
            [
             0.6666666666666666,
             "#ed7953"
            ],
            [
             0.7777777777777778,
             "#fb9f3a"
            ],
            [
             0.8888888888888888,
             "#fdca26"
            ],
            [
             1,
             "#f0f921"
            ]
           ],
           "sequentialminus": [
            [
             0,
             "#0d0887"
            ],
            [
             0.1111111111111111,
             "#46039f"
            ],
            [
             0.2222222222222222,
             "#7201a8"
            ],
            [
             0.3333333333333333,
             "#9c179e"
            ],
            [
             0.4444444444444444,
             "#bd3786"
            ],
            [
             0.5555555555555556,
             "#d8576b"
            ],
            [
             0.6666666666666666,
             "#ed7953"
            ],
            [
             0.7777777777777778,
             "#fb9f3a"
            ],
            [
             0.8888888888888888,
             "#fdca26"
            ],
            [
             1,
             "#f0f921"
            ]
           ]
          },
          "colorway": [
           "#636efa",
           "#EF553B",
           "#00cc96",
           "#ab63fa",
           "#FFA15A",
           "#19d3f3",
           "#FF6692",
           "#B6E880",
           "#FF97FF",
           "#FECB52"
          ],
          "font": {
           "color": "#2a3f5f"
          },
          "geo": {
           "bgcolor": "white",
           "lakecolor": "white",
           "landcolor": "#E5ECF6",
           "showlakes": true,
           "showland": true,
           "subunitcolor": "white"
          },
          "hoverlabel": {
           "align": "left"
          },
          "hovermode": "closest",
          "mapbox": {
           "style": "light"
          },
          "paper_bgcolor": "white",
          "plot_bgcolor": "#E5ECF6",
          "polar": {
           "angularaxis": {
            "gridcolor": "white",
            "linecolor": "white",
            "ticks": ""
           },
           "bgcolor": "#E5ECF6",
           "radialaxis": {
            "gridcolor": "white",
            "linecolor": "white",
            "ticks": ""
           }
          },
          "scene": {
           "xaxis": {
            "backgroundcolor": "#E5ECF6",
            "gridcolor": "white",
            "gridwidth": 2,
            "linecolor": "white",
            "showbackground": true,
            "ticks": "",
            "zerolinecolor": "white"
           },
           "yaxis": {
            "backgroundcolor": "#E5ECF6",
            "gridcolor": "white",
            "gridwidth": 2,
            "linecolor": "white",
            "showbackground": true,
            "ticks": "",
            "zerolinecolor": "white"
           },
           "zaxis": {
            "backgroundcolor": "#E5ECF6",
            "gridcolor": "white",
            "gridwidth": 2,
            "linecolor": "white",
            "showbackground": true,
            "ticks": "",
            "zerolinecolor": "white"
           }
          },
          "shapedefaults": {
           "line": {
            "color": "#2a3f5f"
           }
          },
          "ternary": {
           "aaxis": {
            "gridcolor": "white",
            "linecolor": "white",
            "ticks": ""
           },
           "baxis": {
            "gridcolor": "white",
            "linecolor": "white",
            "ticks": ""
           },
           "bgcolor": "#E5ECF6",
           "caxis": {
            "gridcolor": "white",
            "linecolor": "white",
            "ticks": ""
           }
          },
          "title": {
           "x": 0.05
          },
          "xaxis": {
           "automargin": true,
           "gridcolor": "white",
           "linecolor": "white",
           "ticks": "",
           "title": {
            "standoff": 15
           },
           "zerolinecolor": "white",
           "zerolinewidth": 2
          },
          "yaxis": {
           "automargin": true,
           "gridcolor": "white",
           "linecolor": "white",
           "ticks": "",
           "title": {
            "standoff": 15
           },
           "zerolinecolor": "white",
           "zerolinewidth": 2
          }
         }
        },
        "xaxis": {
         "anchor": "y",
         "domain": [
          0,
          1
         ],
         "title": {
          "text": "tid"
         }
        },
        "yaxis": {
         "anchor": "x",
         "domain": [
          0,
          1
         ],
         "title": {
          "text": "open"
         }
        }
       }
      },
      "text/html": [
       "<div>\n",
       "        \n",
       "        \n",
       "            <div id=\"945d7692-9f76-48e6-bb8a-2c7a11a605e8\" class=\"plotly-graph-div\" style=\"height:525px; width:100%;\"></div>\n",
       "            <script type=\"text/javascript\">\n",
       "                require([\"plotly\"], function(Plotly) {\n",
       "                    window.PLOTLYENV=window.PLOTLYENV || {};\n",
       "                    \n",
       "                if (document.getElementById(\"945d7692-9f76-48e6-bb8a-2c7a11a605e8\")) {\n",
       "                    Plotly.newPlot(\n",
       "                        '945d7692-9f76-48e6-bb8a-2c7a11a605e8',\n",
       "                        [{\"hovertemplate\": \"tid=%{x}<br>open=%{y}<extra></extra>\", \"legendgroup\": \"\", \"line\": {\"color\": \"#636efa\", \"dash\": \"solid\"}, \"mode\": \"lines\", \"name\": \"\", \"orientation\": \"v\", \"showlegend\": false, \"type\": \"scatter\", \"x\": [\"9:0\", \"9:1\", \"9:2\", \"9:3\", \"9:4\", \"9:5\", \"9:6\", \"9:7\", \"9:8\", \"9:9\", \"9:10\", \"9:11\", \"9:12\", \"9:13\", \"9:14\", \"9:15\", \"9:16\", \"9:17\", \"9:18\", \"9:19\", \"9:20\", \"9:21\", \"9:22\", \"9:23\", \"9:24\", \"9:25\", \"9:26\", \"9:27\", \"9:28\", \"9:29\", \"9:30\", \"9:31\", \"9:32\", \"9:33\", \"9:34\", \"9:35\", \"9:37\", \"9:38\", \"9:40\", \"9:41\", \"9:42\", \"9:43\", \"9:44\", \"9:45\", \"9:46\", \"9:47\", \"9:48\", \"9:49\", \"9:50\", \"9:51\", \"9:52\", \"9:53\", \"9:54\", \"9:55\", \"9:56\", \"9:57\", \"9:58\", \"9:59\", \"10:0\", \"10:1\", \"10:2\", \"10:3\", \"10:4\", \"10:5\", \"10:6\", \"10:7\", \"10:8\", \"10:9\", \"10:10\", \"10:11\", \"10:12\", \"10:13\", \"10:14\", \"10:15\", \"10:16\", \"10:17\", \"10:18\", \"10:19\", \"10:20\", \"10:21\", \"10:22\", \"10:23\", \"10:24\", \"10:25\", \"10:26\", \"10:27\", \"10:28\", \"10:29\", \"10:30\", \"10:31\", \"10:32\", \"10:33\", \"10:34\", \"10:35\", \"10:36\", \"10:37\", \"10:39\", \"10:41\", \"10:42\", \"10:43\", \"10:44\", \"10:45\", \"10:46\", \"10:47\", \"10:48\", \"10:49\", \"10:50\", \"10:51\", \"10:52\", \"10:54\", \"10:56\", \"10:57\", \"10:58\", \"10:59\", \"11:0\", \"11:1\", \"11:2\", \"11:3\", \"11:4\", \"11:5\", \"11:6\", \"11:7\", \"11:8\", \"11:9\", \"11:10\", \"11:11\", \"11:12\", \"11:13\", \"11:14\", \"11:15\", \"11:16\", \"11:17\", \"11:18\", \"11:20\", \"11:21\", \"11:22\", \"11:23\", \"11:24\", \"11:25\", \"11:26\", \"11:28\", \"11:29\", \"11:32\", \"11:33\", \"11:36\", \"11:37\", \"11:39\", \"11:41\", \"11:42\", \"11:43\", \"11:44\", \"11:45\", \"11:47\", \"11:48\", \"11:49\", \"11:50\", \"11:51\", \"11:52\", \"11:53\", \"11:56\", \"11:57\", \"11:58\", \"11:59\", \"12:0\", \"12:1\", \"12:2\", \"12:3\", \"12:4\", \"12:5\", \"12:6\", \"12:7\", \"12:8\", \"12:10\", \"12:11\", \"12:14\", \"12:15\", \"12:16\", \"12:17\", \"12:18\", \"12:19\", \"12:21\", \"12:22\", \"12:23\", \"12:25\", \"12:27\", \"12:28\", \"12:31\", \"12:32\", \"12:33\", \"12:34\", \"12:35\", \"12:36\", \"12:37\", \"12:39\", \"12:40\", \"12:42\", \"12:43\", \"12:44\", \"12:45\", \"12:46\", \"12:49\", \"12:50\", \"12:51\", \"12:53\", \"12:54\", \"12:55\", \"12:57\", \"12:58\", \"12:59\", \"13:2\", \"13:3\", \"13:4\", \"13:7\", \"13:8\", \"13:9\", \"13:10\", \"13:11\", \"13:14\", \"13:15\", \"13:16\", \"13:17\", \"13:18\", \"13:19\", \"13:21\", \"13:22\", \"13:24\", \"13:27\", \"13:28\", \"13:29\", \"13:32\", \"13:35\", \"13:36\", \"13:37\", \"13:38\", \"13:39\", \"13:40\", \"13:42\", \"13:44\", \"13:45\", \"13:46\", \"13:48\", \"13:49\", \"13:50\", \"13:51\", \"13:58\", \"13:59\", \"14:0\", \"14:1\", \"14:2\", \"14:3\", \"14:4\", \"14:5\", \"14:6\", \"14:7\", \"14:10\", \"14:14\", \"14:15\", \"14:16\", \"14:17\", \"14:19\", \"14:21\", \"14:22\", \"14:23\", \"14:24\", \"14:25\", \"14:26\", \"14:27\", \"14:28\", \"14:29\", \"14:30\", \"14:31\", \"14:32\", \"14:33\", \"14:34\", \"14:35\", \"14:36\", \"14:37\", \"14:38\", \"14:39\", \"14:40\", \"14:41\", \"14:42\", \"14:43\", \"14:44\", \"14:45\", \"14:47\", \"14:48\", \"14:49\", \"14:50\", \"14:51\", \"14:52\", \"14:53\", \"14:54\", \"14:55\", \"14:56\", \"14:57\", \"14:58\", \"14:59\", \"15:0\", \"15:1\", \"15:2\", \"15:4\", \"15:5\", \"15:6\", \"15:7\", \"15:8\", \"15:9\", \"15:10\", \"15:11\", \"15:12\", \"15:13\", \"15:14\", \"15:15\", \"15:16\", \"15:17\", \"15:18\", \"15:19\", \"15:20\", \"15:21\", \"15:22\", \"15:23\", \"15:24\", \"15:25\", \"15:26\", \"15:27\", \"15:28\", \"15:29\", \"15:30\", \"15:32\", \"15:33\", \"15:34\", \"15:35\", \"15:36\", \"15:37\", \"15:38\", \"15:39\", \"15:40\", \"15:41\", \"15:42\", \"15:43\", \"15:44\", \"15:45\", \"15:46\", \"15:47\", \"15:48\", \"15:49\", \"15:50\", \"15:51\", \"15:52\", \"15:53\", \"15:54\", \"15:55\", \"15:56\", \"15:57\", \"15:58\", \"15:59\", \"16:0\", \"16:1\", \"16:2\", \"16:3\", \"16:4\", \"16:5\", \"16:6\", \"16:7\", \"16:8\", \"16:9\", \"16:10\", \"16:11\", \"16:12\", \"16:13\", \"16:14\", \"16:15\", \"16:16\", \"16:17\", \"16:18\", \"16:19\", \"16:25\"], \"xaxis\": \"x\", \"y\": [239.0, 239.2, 241.0, 242.2, 245.2, 244.0, 243.0, 242.4, 242.6, 242.2, 242.2, 243.8, 243.2, 243.0, 244.0, 246.4, 245.8, 246.8, 247.8, 248.2, 250.0, 250.6, 252.4, 251.8, 251.6, 251.0, 249.2, 250.4, 250.0, 251.0, 251.0, 251.0, 250.4, 248.2, 247.4, 246.2, 245.8, 247.0, 248.6, 249.0, 249.4, 249.2, 249.0, 248.6, 248.8, 248.0, 248.4, 248.0, 248.8, 248.8, 248.8, 248.6, 248.6, 249.0, 249.8, 249.0, 249.2, 248.6, 250.0, 249.6, 249.4, 249.2, 249.0, 249.2, 248.2, 248.6, 248.4, 248.6, 247.8, 246.8, 246.6, 246.4, 246.2, 247.2, 247.8, 248.2, 248.4, 246.8, 246.6, 246.0, 245.4, 245.4, 244.4, 243.2, 244.4, 244.8, 245.0, 245.4, 245.2, 245.4, 244.6, 244.6, 244.6, 245.2, 245.2, 244.2, 244.0, 243.4, 243.8, 243.8, 242.0, 242.6, 243.2, 243.2, 243.8, 243.2, 243.6, 243.4, 243.2, 242.8, 242.4, 242.4, 242.0, 242.8, 243.0, 244.0, 243.0, 242.0, 242.2, 241.6, 241.2, 241.0, 241.0, 241.2, 241.4, 241.4, 241.4, 241.0, 240.2, 240.2, 240.8, 241.4, 242.2, 242.8, 242.6, 243.0, 243.8, 243.0, 243.2, 243.0, 243.0, 243.0, 243.2, 244.0, 243.6, 243.0, 243.4, 243.8, 243.8, 244.2, 244.2, 244.2, 244.6, 245.0, 245.2, 245.0, 244.6, 244.2, 245.0, 244.6, 245.0, 245.4, 245.2, 245.2, 245.2, 245.8, 246.2, 247.0, 246.6, 245.6, 245.8, 246.2, 247.0, 247.0, 247.0, 247.0, 247.6, 247.6, 247.6, 247.6, 247.4, 247.6, 247.8, 247.8, 248.0, 248.4, 247.8, 248.4, 248.6, 248.6, 248.8, 247.6, 247.0, 246.6, 246.4, 246.4, 246.8, 246.8, 246.6, 246.2, 246.4, 246.0, 245.2, 244.4, 245.8, 246.0, 246.2, 246.2, 246.0, 245.2, 245.0, 244.8, 245.0, 244.6, 244.8, 244.8, 245.2, 245.4, 246.4, 246.2, 246.2, 245.8, 245.0, 245.0, 245.6, 245.2, 244.8, 245.2, 245.6, 245.8, 245.4, 245.4, 245.4, 245.4, 245.6, 245.8, 246.0, 246.0, 245.6, 245.8, 245.6, 245.8, 246.4, 247.0, 247.8, 248.0, 248.6, 248.4, 248.6, 248.2, 248.8, 248.4, 248.6, 248.6, 248.8, 249.2, 249.2, 248.6, 248.6, 248.8, 249.4, 249.6, 249.6, 249.6, 249.4, 249.6, 249.8, 249.6, 249.4, 249.6, 250.6, 250.6, 250.4, 249.2, 248.0, 247.2, 247.0, 247.0, 247.2, 246.2, 246.6, 246.6, 247.0, 246.8, 246.6, 246.8, 246.8, 245.8, 245.4, 245.6, 245.0, 244.0, 243.8, 245.0, 245.0, 244.8, 244.8, 244.6, 244.6, 245.4, 245.4, 243.8, 244.4, 244.2, 243.8, 242.8, 242.4, 242.4, 242.0, 241.0, 241.0, 240.8, 241.4, 240.8, 242.8, 241.0, 240.4, 239.6, 240.4, 239.8, 240.2, 240.4, 240.2, 239.4, 239.8, 239.8, 239.8, 240.8, 240.2, 240.4, 240.8, 240.8, 240.0, 240.0, 239.6, 239.4, 238.6, 238.4, 238.0, 237.8, 237.6, 238.0, 238.4, 238.8, 238.6, 237.0, 237.8, 238.0, 238.0, 237.6, 237.8, 238.6, 239.4, 240.0, 240.4, 240.4, 240.4, 240.0, 240.2, 239.6, 239.6, 239.8, 240.2, 240.4, 240.0, 240.8, 240.8, 240.4, 240.4, 240.2, 240.0, 240.2, 240.4, 240.4, 240.4, 239.6, 241.0], \"yaxis\": \"y\"}],\n",
       "                        {\"legend\": {\"tracegroupgap\": 0}, \"margin\": {\"t\": 60}, \"shapes\": [{\"line\": {\"color\": \"Green\"}, \"type\": \"line\", \"x0\": 128, \"x1\": 128, \"xref\": \"x\", \"y0\": 0, \"y1\": 1, \"yref\": \"paper\"}, {\"line\": {\"color\": \"Green\"}, \"type\": \"line\", \"x0\": 229, \"x1\": 229, \"xref\": \"x\", \"y0\": 0, \"y1\": 1, \"yref\": \"paper\"}, {\"line\": {\"color\": \"Red\"}, \"type\": \"line\", \"x0\": 186, \"x1\": 186, \"xref\": \"x\", \"y0\": 0, \"y1\": 1, \"yref\": \"paper\"}, {\"line\": {\"color\": \"Red\"}, \"type\": \"line\", \"x0\": 267, \"x1\": 267, \"xref\": \"x\", \"y0\": 0, \"y1\": 1, \"yref\": \"paper\"}], \"template\": {\"data\": {\"bar\": [{\"error_x\": {\"color\": \"#2a3f5f\"}, \"error_y\": {\"color\": \"#2a3f5f\"}, \"marker\": {\"line\": {\"color\": \"#E5ECF6\", \"width\": 0.5}}, \"type\": \"bar\"}], \"barpolar\": [{\"marker\": {\"line\": {\"color\": \"#E5ECF6\", \"width\": 0.5}}, \"type\": \"barpolar\"}], \"carpet\": [{\"aaxis\": {\"endlinecolor\": \"#2a3f5f\", \"gridcolor\": \"white\", \"linecolor\": \"white\", \"minorgridcolor\": \"white\", \"startlinecolor\": \"#2a3f5f\"}, \"baxis\": {\"endlinecolor\": \"#2a3f5f\", \"gridcolor\": \"white\", \"linecolor\": \"white\", \"minorgridcolor\": \"white\", \"startlinecolor\": \"#2a3f5f\"}, \"type\": \"carpet\"}], \"choropleth\": [{\"colorbar\": {\"outlinewidth\": 0, \"ticks\": \"\"}, \"type\": \"choropleth\"}], \"contour\": [{\"colorbar\": {\"outlinewidth\": 0, \"ticks\": \"\"}, \"colorscale\": [[0.0, \"#0d0887\"], [0.1111111111111111, \"#46039f\"], [0.2222222222222222, \"#7201a8\"], [0.3333333333333333, \"#9c179e\"], [0.4444444444444444, \"#bd3786\"], [0.5555555555555556, \"#d8576b\"], [0.6666666666666666, \"#ed7953\"], [0.7777777777777778, \"#fb9f3a\"], [0.8888888888888888, \"#fdca26\"], [1.0, \"#f0f921\"]], \"type\": \"contour\"}], \"contourcarpet\": [{\"colorbar\": {\"outlinewidth\": 0, \"ticks\": \"\"}, \"type\": \"contourcarpet\"}], \"heatmap\": [{\"colorbar\": {\"outlinewidth\": 0, \"ticks\": \"\"}, \"colorscale\": [[0.0, \"#0d0887\"], [0.1111111111111111, \"#46039f\"], [0.2222222222222222, \"#7201a8\"], [0.3333333333333333, \"#9c179e\"], [0.4444444444444444, \"#bd3786\"], [0.5555555555555556, \"#d8576b\"], [0.6666666666666666, \"#ed7953\"], [0.7777777777777778, \"#fb9f3a\"], [0.8888888888888888, \"#fdca26\"], [1.0, \"#f0f921\"]], \"type\": \"heatmap\"}], \"heatmapgl\": [{\"colorbar\": {\"outlinewidth\": 0, \"ticks\": \"\"}, \"colorscale\": [[0.0, \"#0d0887\"], [0.1111111111111111, \"#46039f\"], [0.2222222222222222, \"#7201a8\"], [0.3333333333333333, \"#9c179e\"], [0.4444444444444444, \"#bd3786\"], [0.5555555555555556, \"#d8576b\"], [0.6666666666666666, \"#ed7953\"], [0.7777777777777778, \"#fb9f3a\"], [0.8888888888888888, \"#fdca26\"], [1.0, \"#f0f921\"]], \"type\": \"heatmapgl\"}], \"histogram\": [{\"marker\": {\"colorbar\": {\"outlinewidth\": 0, \"ticks\": \"\"}}, \"type\": \"histogram\"}], \"histogram2d\": [{\"colorbar\": {\"outlinewidth\": 0, \"ticks\": \"\"}, \"colorscale\": [[0.0, \"#0d0887\"], [0.1111111111111111, \"#46039f\"], [0.2222222222222222, \"#7201a8\"], [0.3333333333333333, \"#9c179e\"], [0.4444444444444444, \"#bd3786\"], [0.5555555555555556, \"#d8576b\"], [0.6666666666666666, \"#ed7953\"], [0.7777777777777778, \"#fb9f3a\"], [0.8888888888888888, \"#fdca26\"], [1.0, \"#f0f921\"]], \"type\": \"histogram2d\"}], \"histogram2dcontour\": [{\"colorbar\": {\"outlinewidth\": 0, \"ticks\": \"\"}, \"colorscale\": [[0.0, \"#0d0887\"], [0.1111111111111111, \"#46039f\"], [0.2222222222222222, \"#7201a8\"], [0.3333333333333333, \"#9c179e\"], [0.4444444444444444, \"#bd3786\"], [0.5555555555555556, \"#d8576b\"], [0.6666666666666666, \"#ed7953\"], [0.7777777777777778, \"#fb9f3a\"], [0.8888888888888888, \"#fdca26\"], [1.0, \"#f0f921\"]], \"type\": \"histogram2dcontour\"}], \"mesh3d\": [{\"colorbar\": {\"outlinewidth\": 0, \"ticks\": \"\"}, \"type\": \"mesh3d\"}], \"parcoords\": [{\"line\": {\"colorbar\": {\"outlinewidth\": 0, \"ticks\": \"\"}}, \"type\": \"parcoords\"}], \"pie\": [{\"automargin\": true, \"type\": \"pie\"}], \"scatter\": [{\"marker\": {\"colorbar\": {\"outlinewidth\": 0, \"ticks\": \"\"}}, \"type\": \"scatter\"}], \"scatter3d\": [{\"line\": {\"colorbar\": {\"outlinewidth\": 0, \"ticks\": \"\"}}, \"marker\": {\"colorbar\": {\"outlinewidth\": 0, \"ticks\": \"\"}}, \"type\": \"scatter3d\"}], \"scattercarpet\": [{\"marker\": {\"colorbar\": {\"outlinewidth\": 0, \"ticks\": \"\"}}, \"type\": \"scattercarpet\"}], \"scattergeo\": [{\"marker\": {\"colorbar\": {\"outlinewidth\": 0, \"ticks\": \"\"}}, \"type\": \"scattergeo\"}], \"scattergl\": [{\"marker\": {\"colorbar\": {\"outlinewidth\": 0, \"ticks\": \"\"}}, \"type\": \"scattergl\"}], \"scattermapbox\": [{\"marker\": {\"colorbar\": {\"outlinewidth\": 0, \"ticks\": \"\"}}, \"type\": \"scattermapbox\"}], \"scatterpolar\": [{\"marker\": {\"colorbar\": {\"outlinewidth\": 0, \"ticks\": \"\"}}, \"type\": \"scatterpolar\"}], \"scatterpolargl\": [{\"marker\": {\"colorbar\": {\"outlinewidth\": 0, \"ticks\": \"\"}}, \"type\": \"scatterpolargl\"}], \"scatterternary\": [{\"marker\": {\"colorbar\": {\"outlinewidth\": 0, \"ticks\": \"\"}}, \"type\": \"scatterternary\"}], \"surface\": [{\"colorbar\": {\"outlinewidth\": 0, \"ticks\": \"\"}, \"colorscale\": [[0.0, \"#0d0887\"], [0.1111111111111111, \"#46039f\"], [0.2222222222222222, \"#7201a8\"], [0.3333333333333333, \"#9c179e\"], [0.4444444444444444, \"#bd3786\"], [0.5555555555555556, \"#d8576b\"], [0.6666666666666666, \"#ed7953\"], [0.7777777777777778, \"#fb9f3a\"], [0.8888888888888888, \"#fdca26\"], [1.0, \"#f0f921\"]], \"type\": \"surface\"}], \"table\": [{\"cells\": {\"fill\": {\"color\": \"#EBF0F8\"}, \"line\": {\"color\": \"white\"}}, \"header\": {\"fill\": {\"color\": \"#C8D4E3\"}, \"line\": {\"color\": \"white\"}}, \"type\": \"table\"}]}, \"layout\": {\"annotationdefaults\": {\"arrowcolor\": \"#2a3f5f\", \"arrowhead\": 0, \"arrowwidth\": 1}, \"coloraxis\": {\"colorbar\": {\"outlinewidth\": 0, \"ticks\": \"\"}}, \"colorscale\": {\"diverging\": [[0, \"#8e0152\"], [0.1, \"#c51b7d\"], [0.2, \"#de77ae\"], [0.3, \"#f1b6da\"], [0.4, \"#fde0ef\"], [0.5, \"#f7f7f7\"], [0.6, \"#e6f5d0\"], [0.7, \"#b8e186\"], [0.8, \"#7fbc41\"], [0.9, \"#4d9221\"], [1, \"#276419\"]], \"sequential\": [[0.0, \"#0d0887\"], [0.1111111111111111, \"#46039f\"], [0.2222222222222222, \"#7201a8\"], [0.3333333333333333, \"#9c179e\"], [0.4444444444444444, \"#bd3786\"], [0.5555555555555556, \"#d8576b\"], [0.6666666666666666, \"#ed7953\"], [0.7777777777777778, \"#fb9f3a\"], [0.8888888888888888, \"#fdca26\"], [1.0, \"#f0f921\"]], \"sequentialminus\": [[0.0, \"#0d0887\"], [0.1111111111111111, \"#46039f\"], [0.2222222222222222, \"#7201a8\"], [0.3333333333333333, \"#9c179e\"], [0.4444444444444444, \"#bd3786\"], [0.5555555555555556, \"#d8576b\"], [0.6666666666666666, \"#ed7953\"], [0.7777777777777778, \"#fb9f3a\"], [0.8888888888888888, \"#fdca26\"], [1.0, \"#f0f921\"]]}, \"colorway\": [\"#636efa\", \"#EF553B\", \"#00cc96\", \"#ab63fa\", \"#FFA15A\", \"#19d3f3\", \"#FF6692\", \"#B6E880\", \"#FF97FF\", \"#FECB52\"], \"font\": {\"color\": \"#2a3f5f\"}, \"geo\": {\"bgcolor\": \"white\", \"lakecolor\": \"white\", \"landcolor\": \"#E5ECF6\", \"showlakes\": true, \"showland\": true, \"subunitcolor\": \"white\"}, \"hoverlabel\": {\"align\": \"left\"}, \"hovermode\": \"closest\", \"mapbox\": {\"style\": \"light\"}, \"paper_bgcolor\": \"white\", \"plot_bgcolor\": \"#E5ECF6\", \"polar\": {\"angularaxis\": {\"gridcolor\": \"white\", \"linecolor\": \"white\", \"ticks\": \"\"}, \"bgcolor\": \"#E5ECF6\", \"radialaxis\": {\"gridcolor\": \"white\", \"linecolor\": \"white\", \"ticks\": \"\"}}, \"scene\": {\"xaxis\": {\"backgroundcolor\": \"#E5ECF6\", \"gridcolor\": \"white\", \"gridwidth\": 2, \"linecolor\": \"white\", \"showbackground\": true, \"ticks\": \"\", \"zerolinecolor\": \"white\"}, \"yaxis\": {\"backgroundcolor\": \"#E5ECF6\", \"gridcolor\": \"white\", \"gridwidth\": 2, \"linecolor\": \"white\", \"showbackground\": true, \"ticks\": \"\", \"zerolinecolor\": \"white\"}, \"zaxis\": {\"backgroundcolor\": \"#E5ECF6\", \"gridcolor\": \"white\", \"gridwidth\": 2, \"linecolor\": \"white\", \"showbackground\": true, \"ticks\": \"\", \"zerolinecolor\": \"white\"}}, \"shapedefaults\": {\"line\": {\"color\": \"#2a3f5f\"}}, \"ternary\": {\"aaxis\": {\"gridcolor\": \"white\", \"linecolor\": \"white\", \"ticks\": \"\"}, \"baxis\": {\"gridcolor\": \"white\", \"linecolor\": \"white\", \"ticks\": \"\"}, \"bgcolor\": \"#E5ECF6\", \"caxis\": {\"gridcolor\": \"white\", \"linecolor\": \"white\", \"ticks\": \"\"}}, \"title\": {\"x\": 0.05}, \"xaxis\": {\"automargin\": true, \"gridcolor\": \"white\", \"linecolor\": \"white\", \"ticks\": \"\", \"title\": {\"standoff\": 15}, \"zerolinecolor\": \"white\", \"zerolinewidth\": 2}, \"yaxis\": {\"automargin\": true, \"gridcolor\": \"white\", \"linecolor\": \"white\", \"ticks\": \"\", \"title\": {\"standoff\": 15}, \"zerolinecolor\": \"white\", \"zerolinewidth\": 2}}}, \"xaxis\": {\"anchor\": \"y\", \"domain\": [0.0, 1.0], \"title\": {\"text\": \"tid\"}}, \"yaxis\": {\"anchor\": \"x\", \"domain\": [0.0, 1.0], \"title\": {\"text\": \"open\"}}},\n",
       "                        {\"responsive\": true}\n",
       "                    ).then(function(){\n",
       "                            \n",
       "var gd = document.getElementById('945d7692-9f76-48e6-bb8a-2c7a11a605e8');\n",
       "var x = new MutationObserver(function (mutations, observer) {{\n",
       "        var display = window.getComputedStyle(gd).display;\n",
       "        if (!display || display === 'none') {{\n",
       "            console.log([gd, 'removed!']);\n",
       "            Plotly.purge(gd);\n",
       "            observer.disconnect();\n",
       "        }}\n",
       "}});\n",
       "\n",
       "// Listen for the removal of the full notebook cells\n",
       "var notebookContainer = gd.closest('#notebook-container');\n",
       "if (notebookContainer) {{\n",
       "    x.observe(notebookContainer, {childList: true});\n",
       "}}\n",
       "\n",
       "// Listen for the clearing of the current output cell\n",
       "var outputEl = gd.closest('.output');\n",
       "if (outputEl) {{\n",
       "    x.observe(outputEl, {childList: true});\n",
       "}}\n",
       "\n",
       "                        })\n",
       "                };\n",
       "                });\n",
       "            </script>\n",
       "        </div>"
      ]
     },
     "metadata": {},
     "output_type": "display_data"
    }
   ],
   "source": [
    "fig = px.line(data, x='tid', y='open')\n",
    "fig.update_layout(shapes=linjer)"
   ]
  },
  {
   "cell_type": "code",
   "execution_count": 7,
   "metadata": {},
   "outputs": [],
   "source": [
    "#fig.write_image(\"images/eksempel.png\")"
   ]
  },
  {
   "cell_type": "code",
   "execution_count": 89,
   "metadata": {},
   "outputs": [
    {
     "data": {
      "text/html": [
       "<div>\n",
       "<style scoped>\n",
       "    .dataframe tbody tr th:only-of-type {\n",
       "        vertical-align: middle;\n",
       "    }\n",
       "\n",
       "    .dataframe tbody tr th {\n",
       "        vertical-align: top;\n",
       "    }\n",
       "\n",
       "    .dataframe thead th {\n",
       "        text-align: right;\n",
       "    }\n",
       "</style>\n",
       "<table border=\"1\" class=\"dataframe\">\n",
       "  <thead>\n",
       "    <tr style=\"text-align: right;\">\n",
       "      <th></th>\n",
       "      <th>tid</th>\n",
       "      <th>open</th>\n",
       "      <th>close</th>\n",
       "      <th>high</th>\n",
       "      <th>low</th>\n",
       "      <th>volume</th>\n",
       "      <th>amount</th>\n",
       "      <th>close_-1_s</th>\n",
       "      <th>close_-1_d</th>\n",
       "      <th>closepm</th>\n",
       "      <th>closenm</th>\n",
       "      <th>closepm_12_smma</th>\n",
       "      <th>closenm_12_smma</th>\n",
       "      <th>rs_12</th>\n",
       "      <th>rsi_12</th>\n",
       "    </tr>\n",
       "  </thead>\n",
       "  <tbody>\n",
       "    <tr>\n",
       "      <th>0</th>\n",
       "      <td>9:0</td>\n",
       "      <td>239.0</td>\n",
       "      <td>239.0</td>\n",
       "      <td>239.0</td>\n",
       "      <td>239.0</td>\n",
       "      <td>1</td>\n",
       "      <td>1</td>\n",
       "      <td>NaN</td>\n",
       "      <td>NaN</td>\n",
       "      <td>NaN</td>\n",
       "      <td>NaN</td>\n",
       "      <td>NaN</td>\n",
       "      <td>NaN</td>\n",
       "      <td>NaN</td>\n",
       "      <td>NaN</td>\n",
       "    </tr>\n",
       "    <tr>\n",
       "      <th>1</th>\n",
       "      <td>9:1</td>\n",
       "      <td>239.2</td>\n",
       "      <td>239.2</td>\n",
       "      <td>239.2</td>\n",
       "      <td>239.2</td>\n",
       "      <td>180</td>\n",
       "      <td>180</td>\n",
       "      <td>239.0</td>\n",
       "      <td>0.2</td>\n",
       "      <td>0.2</td>\n",
       "      <td>0.0</td>\n",
       "      <td>0.200000</td>\n",
       "      <td>0.000000</td>\n",
       "      <td>inf</td>\n",
       "      <td>100.000000</td>\n",
       "    </tr>\n",
       "    <tr>\n",
       "      <th>2</th>\n",
       "      <td>9:2</td>\n",
       "      <td>241.0</td>\n",
       "      <td>241.0</td>\n",
       "      <td>241.0</td>\n",
       "      <td>241.0</td>\n",
       "      <td>66</td>\n",
       "      <td>66</td>\n",
       "      <td>239.2</td>\n",
       "      <td>1.8</td>\n",
       "      <td>1.8</td>\n",
       "      <td>0.0</td>\n",
       "      <td>1.034783</td>\n",
       "      <td>0.000000</td>\n",
       "      <td>inf</td>\n",
       "      <td>100.000000</td>\n",
       "    </tr>\n",
       "    <tr>\n",
       "      <th>3</th>\n",
       "      <td>9:3</td>\n",
       "      <td>242.2</td>\n",
       "      <td>242.2</td>\n",
       "      <td>242.2</td>\n",
       "      <td>242.2</td>\n",
       "      <td>22</td>\n",
       "      <td>22</td>\n",
       "      <td>241.0</td>\n",
       "      <td>1.2</td>\n",
       "      <td>1.2</td>\n",
       "      <td>0.0</td>\n",
       "      <td>1.094710</td>\n",
       "      <td>0.000000</td>\n",
       "      <td>inf</td>\n",
       "      <td>100.000000</td>\n",
       "    </tr>\n",
       "    <tr>\n",
       "      <th>4</th>\n",
       "      <td>9:4</td>\n",
       "      <td>245.2</td>\n",
       "      <td>245.2</td>\n",
       "      <td>245.2</td>\n",
       "      <td>245.2</td>\n",
       "      <td>100</td>\n",
       "      <td>100</td>\n",
       "      <td>242.2</td>\n",
       "      <td>3.0</td>\n",
       "      <td>3.0</td>\n",
       "      <td>0.0</td>\n",
       "      <td>1.634881</td>\n",
       "      <td>0.000000</td>\n",
       "      <td>inf</td>\n",
       "      <td>100.000000</td>\n",
       "    </tr>\n",
       "    <tr>\n",
       "      <th>...</th>\n",
       "      <td>...</td>\n",
       "      <td>...</td>\n",
       "      <td>...</td>\n",
       "      <td>...</td>\n",
       "      <td>...</td>\n",
       "      <td>...</td>\n",
       "      <td>...</td>\n",
       "      <td>...</td>\n",
       "      <td>...</td>\n",
       "      <td>...</td>\n",
       "      <td>...</td>\n",
       "      <td>...</td>\n",
       "      <td>...</td>\n",
       "      <td>...</td>\n",
       "      <td>...</td>\n",
       "    </tr>\n",
       "    <tr>\n",
       "      <th>372</th>\n",
       "      <td>16:16</td>\n",
       "      <td>240.4</td>\n",
       "      <td>240.4</td>\n",
       "      <td>240.4</td>\n",
       "      <td>240.4</td>\n",
       "      <td>14</td>\n",
       "      <td>14</td>\n",
       "      <td>240.2</td>\n",
       "      <td>0.2</td>\n",
       "      <td>0.2</td>\n",
       "      <td>0.0</td>\n",
       "      <td>0.165078</td>\n",
       "      <td>0.126934</td>\n",
       "      <td>1.300506</td>\n",
       "      <td>56.531300</td>\n",
       "    </tr>\n",
       "    <tr>\n",
       "      <th>373</th>\n",
       "      <td>16:17</td>\n",
       "      <td>240.4</td>\n",
       "      <td>240.4</td>\n",
       "      <td>240.4</td>\n",
       "      <td>240.4</td>\n",
       "      <td>18</td>\n",
       "      <td>18</td>\n",
       "      <td>240.4</td>\n",
       "      <td>0.0</td>\n",
       "      <td>0.0</td>\n",
       "      <td>0.0</td>\n",
       "      <td>0.151321</td>\n",
       "      <td>0.116356</td>\n",
       "      <td>1.300506</td>\n",
       "      <td>56.531300</td>\n",
       "    </tr>\n",
       "    <tr>\n",
       "      <th>374</th>\n",
       "      <td>16:18</td>\n",
       "      <td>240.4</td>\n",
       "      <td>240.4</td>\n",
       "      <td>240.4</td>\n",
       "      <td>240.4</td>\n",
       "      <td>83</td>\n",
       "      <td>83</td>\n",
       "      <td>240.4</td>\n",
       "      <td>0.0</td>\n",
       "      <td>0.0</td>\n",
       "      <td>0.0</td>\n",
       "      <td>0.138711</td>\n",
       "      <td>0.106659</td>\n",
       "      <td>1.300506</td>\n",
       "      <td>56.531300</td>\n",
       "    </tr>\n",
       "    <tr>\n",
       "      <th>375</th>\n",
       "      <td>16:19</td>\n",
       "      <td>239.6</td>\n",
       "      <td>239.6</td>\n",
       "      <td>239.6</td>\n",
       "      <td>239.6</td>\n",
       "      <td>14</td>\n",
       "      <td>14</td>\n",
       "      <td>240.4</td>\n",
       "      <td>-0.8</td>\n",
       "      <td>0.0</td>\n",
       "      <td>0.8</td>\n",
       "      <td>0.127152</td>\n",
       "      <td>0.164438</td>\n",
       "      <td>0.773253</td>\n",
       "      <td>43.606453</td>\n",
       "    </tr>\n",
       "    <tr>\n",
       "      <th>376</th>\n",
       "      <td>16:25</td>\n",
       "      <td>241.0</td>\n",
       "      <td>241.0</td>\n",
       "      <td>241.0</td>\n",
       "      <td>241.0</td>\n",
       "      <td>124</td>\n",
       "      <td>124</td>\n",
       "      <td>239.6</td>\n",
       "      <td>1.4</td>\n",
       "      <td>1.4</td>\n",
       "      <td>0.0</td>\n",
       "      <td>0.233223</td>\n",
       "      <td>0.150735</td>\n",
       "      <td>1.547239</td>\n",
       "      <td>60.741815</td>\n",
       "    </tr>\n",
       "  </tbody>\n",
       "</table>\n",
       "<p>377 rows × 15 columns</p>\n",
       "</div>"
      ],
      "text/plain": [
       "       tid   open  close   high    low  volume  amount  close_-1_s  \\\n",
       "0      9:0  239.0  239.0  239.0  239.0       1       1         NaN   \n",
       "1      9:1  239.2  239.2  239.2  239.2     180     180       239.0   \n",
       "2      9:2  241.0  241.0  241.0  241.0      66      66       239.2   \n",
       "3      9:3  242.2  242.2  242.2  242.2      22      22       241.0   \n",
       "4      9:4  245.2  245.2  245.2  245.2     100     100       242.2   \n",
       "..     ...    ...    ...    ...    ...     ...     ...         ...   \n",
       "372  16:16  240.4  240.4  240.4  240.4      14      14       240.2   \n",
       "373  16:17  240.4  240.4  240.4  240.4      18      18       240.4   \n",
       "374  16:18  240.4  240.4  240.4  240.4      83      83       240.4   \n",
       "375  16:19  239.6  239.6  239.6  239.6      14      14       240.4   \n",
       "376  16:25  241.0  241.0  241.0  241.0     124     124       239.6   \n",
       "\n",
       "     close_-1_d  closepm  closenm  closepm_12_smma  closenm_12_smma     rs_12  \\\n",
       "0           NaN      NaN      NaN              NaN              NaN       NaN   \n",
       "1           0.2      0.2      0.0         0.200000         0.000000       inf   \n",
       "2           1.8      1.8      0.0         1.034783         0.000000       inf   \n",
       "3           1.2      1.2      0.0         1.094710         0.000000       inf   \n",
       "4           3.0      3.0      0.0         1.634881         0.000000       inf   \n",
       "..          ...      ...      ...              ...              ...       ...   \n",
       "372         0.2      0.2      0.0         0.165078         0.126934  1.300506   \n",
       "373         0.0      0.0      0.0         0.151321         0.116356  1.300506   \n",
       "374         0.0      0.0      0.0         0.138711         0.106659  1.300506   \n",
       "375        -0.8      0.0      0.8         0.127152         0.164438  0.773253   \n",
       "376         1.4      1.4      0.0         0.233223         0.150735  1.547239   \n",
       "\n",
       "         rsi_12  \n",
       "0           NaN  \n",
       "1    100.000000  \n",
       "2    100.000000  \n",
       "3    100.000000  \n",
       "4    100.000000  \n",
       "..          ...  \n",
       "372   56.531300  \n",
       "373   56.531300  \n",
       "374   56.531300  \n",
       "375   43.606453  \n",
       "376   60.741815  \n",
       "\n",
       "[377 rows x 15 columns]"
      ]
     },
     "execution_count": 89,
     "metadata": {},
     "output_type": "execute_result"
    }
   ],
   "source": [
    "data"
   ]
  },
  {
   "cell_type": "code",
   "execution_count": 9,
   "metadata": {},
   "outputs": [],
   "source": [
    "# må ha: open, close, high, low, volume, amount\n",
    "stock = stockstats.StockDataFrame.retype(data)"
   ]
  },
  {
   "cell_type": "code",
   "execution_count": 10,
   "metadata": {},
   "outputs": [
    {
     "data": {
      "text/html": [
       "<div>\n",
       "<style scoped>\n",
       "    .dataframe tbody tr th:only-of-type {\n",
       "        vertical-align: middle;\n",
       "    }\n",
       "\n",
       "    .dataframe tbody tr th {\n",
       "        vertical-align: top;\n",
       "    }\n",
       "\n",
       "    .dataframe thead th {\n",
       "        text-align: right;\n",
       "    }\n",
       "</style>\n",
       "<table border=\"1\" class=\"dataframe\">\n",
       "  <thead>\n",
       "    <tr style=\"text-align: right;\">\n",
       "      <th></th>\n",
       "      <th>tid</th>\n",
       "      <th>open</th>\n",
       "      <th>close</th>\n",
       "      <th>high</th>\n",
       "      <th>low</th>\n",
       "      <th>volume</th>\n",
       "      <th>amount</th>\n",
       "    </tr>\n",
       "  </thead>\n",
       "  <tbody>\n",
       "    <tr>\n",
       "      <th>0</th>\n",
       "      <td>9:0</td>\n",
       "      <td>53.00</td>\n",
       "      <td>53.00</td>\n",
       "      <td>53.00</td>\n",
       "      <td>53.00</td>\n",
       "      <td>11</td>\n",
       "      <td>11</td>\n",
       "    </tr>\n",
       "    <tr>\n",
       "      <th>1</th>\n",
       "      <td>9:1</td>\n",
       "      <td>55.00</td>\n",
       "      <td>55.00</td>\n",
       "      <td>55.00</td>\n",
       "      <td>55.00</td>\n",
       "      <td>950</td>\n",
       "      <td>950</td>\n",
       "    </tr>\n",
       "    <tr>\n",
       "      <th>2</th>\n",
       "      <td>9:2</td>\n",
       "      <td>55.00</td>\n",
       "      <td>55.00</td>\n",
       "      <td>55.00</td>\n",
       "      <td>55.00</td>\n",
       "      <td>500</td>\n",
       "      <td>500</td>\n",
       "    </tr>\n",
       "    <tr>\n",
       "      <th>3</th>\n",
       "      <td>9:3</td>\n",
       "      <td>54.95</td>\n",
       "      <td>54.95</td>\n",
       "      <td>54.95</td>\n",
       "      <td>54.95</td>\n",
       "      <td>50</td>\n",
       "      <td>50</td>\n",
       "    </tr>\n",
       "    <tr>\n",
       "      <th>4</th>\n",
       "      <td>9:4</td>\n",
       "      <td>55.20</td>\n",
       "      <td>55.20</td>\n",
       "      <td>55.20</td>\n",
       "      <td>55.20</td>\n",
       "      <td>34</td>\n",
       "      <td>34</td>\n",
       "    </tr>\n",
       "    <tr>\n",
       "      <th>...</th>\n",
       "      <td>...</td>\n",
       "      <td>...</td>\n",
       "      <td>...</td>\n",
       "      <td>...</td>\n",
       "      <td>...</td>\n",
       "      <td>...</td>\n",
       "      <td>...</td>\n",
       "    </tr>\n",
       "    <tr>\n",
       "      <th>251</th>\n",
       "      <td>13:44</td>\n",
       "      <td>56.60</td>\n",
       "      <td>56.60</td>\n",
       "      <td>56.60</td>\n",
       "      <td>56.60</td>\n",
       "      <td>100</td>\n",
       "      <td>100</td>\n",
       "    </tr>\n",
       "    <tr>\n",
       "      <th>252</th>\n",
       "      <td>13:45</td>\n",
       "      <td>56.80</td>\n",
       "      <td>56.80</td>\n",
       "      <td>56.80</td>\n",
       "      <td>56.80</td>\n",
       "      <td>400</td>\n",
       "      <td>400</td>\n",
       "    </tr>\n",
       "    <tr>\n",
       "      <th>253</th>\n",
       "      <td>13:46</td>\n",
       "      <td>56.70</td>\n",
       "      <td>56.70</td>\n",
       "      <td>56.70</td>\n",
       "      <td>56.70</td>\n",
       "      <td>270</td>\n",
       "      <td>270</td>\n",
       "    </tr>\n",
       "    <tr>\n",
       "      <th>254</th>\n",
       "      <td>13:47</td>\n",
       "      <td>56.45</td>\n",
       "      <td>56.45</td>\n",
       "      <td>56.45</td>\n",
       "      <td>56.45</td>\n",
       "      <td>400</td>\n",
       "      <td>400</td>\n",
       "    </tr>\n",
       "    <tr>\n",
       "      <th>255</th>\n",
       "      <td>13:48</td>\n",
       "      <td>56.30</td>\n",
       "      <td>56.30</td>\n",
       "      <td>56.30</td>\n",
       "      <td>56.30</td>\n",
       "      <td>194</td>\n",
       "      <td>194</td>\n",
       "    </tr>\n",
       "  </tbody>\n",
       "</table>\n",
       "<p>256 rows × 7 columns</p>\n",
       "</div>"
      ],
      "text/plain": [
       "       tid   open  close   high    low  volume  amount\n",
       "0      9:0  53.00  53.00  53.00  53.00      11      11\n",
       "1      9:1  55.00  55.00  55.00  55.00     950     950\n",
       "2      9:2  55.00  55.00  55.00  55.00     500     500\n",
       "3      9:3  54.95  54.95  54.95  54.95      50      50\n",
       "4      9:4  55.20  55.20  55.20  55.20      34      34\n",
       "..     ...    ...    ...    ...    ...     ...     ...\n",
       "251  13:44  56.60  56.60  56.60  56.60     100     100\n",
       "252  13:45  56.80  56.80  56.80  56.80     400     400\n",
       "253  13:46  56.70  56.70  56.70  56.70     270     270\n",
       "254  13:47  56.45  56.45  56.45  56.45     400     400\n",
       "255  13:48  56.30  56.30  56.30  56.30     194     194\n",
       "\n",
       "[256 rows x 7 columns]"
      ]
     },
     "execution_count": 10,
     "metadata": {},
     "output_type": "execute_result"
    }
   ],
   "source": [
    "stock"
   ]
  },
  {
   "cell_type": "code",
   "execution_count": 11,
   "metadata": {
    "scrolled": true
   },
   "outputs": [
    {
     "name": "stderr",
     "output_type": "stream",
     "text": [
      "C:\\Users\\Stian\\anaconda3\\lib\\site-packages\\pandas\\core\\indexing.py:670: SettingWithCopyWarning:\n",
      "\n",
      "\n",
      "A value is trying to be set on a copy of a slice from a DataFrame\n",
      "\n",
      "See the caveats in the documentation: https://pandas.pydata.org/pandas-docs/stable/user_guide/indexing.html#returning-a-view-versus-a-copy\n",
      "\n"
     ]
    },
    {
     "data": {
      "text/plain": [
       "0           NaN\n",
       "1      0.599723\n",
       "2      0.440963\n",
       "3      0.343288\n",
       "4      0.287910\n",
       "         ...   \n",
       "251    0.028979\n",
       "252    0.029936\n",
       "253    0.031827\n",
       "254    0.032428\n",
       "255    0.031120\n",
       "Name: trix, Length: 256, dtype: float64"
      ]
     },
     "execution_count": 11,
     "metadata": {},
     "output_type": "execute_result"
    }
   ],
   "source": [
    "stock['boll_lb']\n",
    "stock['trix']"
   ]
  },
  {
   "cell_type": "code",
   "execution_count": 108,
   "metadata": {},
   "outputs": [
    {
     "data": {
      "image/png": "[encoded data removed]",
      "text/plain": [
       "<Figure size 432x288 with 1 Axes>"
      ]
     },
     "metadata": {
      "needs_background": "light"
     },
     "output_type": "display_data"
    }
   ],
   "source": [
    "for i in gode.trix:\n",
    "    plt.plot(i)\n",
    "#px.line(gode, y='rsi')\n",
    "#px.line(stock, x='tid', y='adx')"
   ]
  },
  {
   "cell_type": "code",
   "execution_count": null,
   "metadata": {},
   "outputs": [],
   "source": [
    "px.line(stock, x='tid', y=['adxr', 'kdjk'])"
   ]
  },
  {
   "cell_type": "code",
   "execution_count": null,
   "metadata": {},
   "outputs": [],
   "source": [
    "px.bar(stock, x='tid', y=['trix'])"
   ]
  },
  {
   "cell_type": "code",
   "execution_count": null,
   "metadata": {},
   "outputs": [],
   "source": []
  }
 ],
 "metadata": {
  "kernelspec": {
   "display_name": "Python 3",
   "language": "python",
   "name": "python3"
  },
  "language_info": {
   "codemirror_mode": {
    "name": "ipython",
    "version": 3
   },
   "file_extension": ".py",
   "mimetype": "text/x-python",
   "name": "python",
   "nbconvert_exporter": "python",
   "pygments_lexer": "ipython3",
   "version": "3.7.6"
  }
 },
 "nbformat": 4,
 "nbformat_minor": 4
}
