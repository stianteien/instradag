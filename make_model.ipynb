{
 "cells": [
  {
   "cell_type": "markdown",
   "metadata": {},
   "source": [
    "# Make a model\n",
    "\n",
    "I denne notebooken vil jeg hente data og lage en model. Notebooken gjør følgende:\n",
    "<ul>\n",
    "<li>Rense data\n",
    "<li>Henter ut indikatorerer med stockstats\n",
    "<li>Beregner mean og stdv (z = t(0.95, df=len(antall_gode_oppganger))\n",
    "<li>Lagrer modellen\n"
   ]
  },
  {
   "cell_type": "code",
   "execution_count": 135,
   "metadata": {},
   "outputs": [],
   "source": [
    "import warnings\n",
    "import pandas as pd\n",
    "from pandas.core.common import SettingWithCopyWarning\n",
    "warnings.simplefilter(action=\"ignore\", category=SettingWithCopyWarning)\n",
    "\n",
    "import matplotlib.pyplot as plt\n",
    "import plotly.express as px\n",
    "import stockstats\n",
    "import sys\n",
    "import os\n",
    "import statistics\n",
    "from scipy.stats import t\n",
    "\n",
    "from lib.rens import rens\n",
    "from lib.god_runde import positiv_utvikling"
   ]
  },
  {
   "cell_type": "code",
   "execution_count": 4,
   "metadata": {},
   "outputs": [],
   "source": [
    "def hent_indikatortall(data, gode):\n",
    "    stock = stockstats.StockDataFrame.retype(data)\n",
    "    indikatorer = ['rsi_20', 'trix', 'open_8_sma', 'open_16_sma', 'macds']\n",
    "    for ind in indikatorer:\n",
    "        stock.get(ind)\n",
    "\n",
    "    all_indikator = {ind:[] for ind in indikatorer}\n",
    "\n",
    "    for ix, fin in gode.iterrows():\n",
    "        oppgang = stock[int(fin.start):int(fin.endex)]     \n",
    "        for ind in all_indikator:\n",
    "            all_indikator[ind].append(oppgang[ind].values)\n",
    "    \n",
    "    return all_indikator\n",
    "\n",
    "def multi_analyse(filer):\n",
    "    alle_gode = pd.DataFrame(columns=['navn'])\n",
    "\n",
    "    for i, fil in enumerate(filer):\n",
    "        print(f\"{i+1} av {len(filer)} analysert\" ,end='\\r')\n",
    "        data = cleanup.clean_data(pd.read_excel(fil))\n",
    "        gode = pos_ut.calculate(data)\n",
    "        alle_indikatorer = hent_indikatortall(data, gode)\n",
    "        for ind in alle_indikatorer:\n",
    "            gode[ind] = alle_indikatorer[ind]\n",
    "            \n",
    "        gode['navn'] = fil.split('/')[1].split('.xl')[0]\n",
    "        alle_gode = alle_gode.append(gode, ignore_index=True)\n",
    "               \n",
    "    return alle_gode\n",
    "\n",
    "\n",
    "def add_data(word):\n",
    "    ordet = 'data/' + word\n",
    "    return ordet"
   ]
  },
  {
   "cell_type": "code",
   "execution_count": 5,
   "metadata": {},
   "outputs": [],
   "source": [
    "cleanup = rens()\n",
    "pos_ut = positiv_utvikling()"
   ]
  },
  {
   "cell_type": "code",
   "execution_count": 169,
   "metadata": {
    "scrolled": true
   },
   "outputs": [
    {
     "name": "stdout",
     "output_type": "stream",
     "text": [
      "1 av 60 analysert\r"
     ]
    },
    {
     "name": "stderr",
     "output_type": "stream",
     "text": [
      "NOTE: Behavior of MACDH calculation has changed as of July 2017 - it is now 1/2 of previous calculated values\n"
     ]
    },
    {
     "name": "stdout",
     "output_type": "stream",
     "text": [
      "2 av 60 analysert\r"
     ]
    },
    {
     "name": "stderr",
     "output_type": "stream",
     "text": [
      "NOTE: Behavior of MACDH calculation has changed as of July 2017 - it is now 1/2 of previous calculated values\n"
     ]
    },
    {
     "name": "stdout",
     "output_type": "stream",
     "text": [
      "3 av 60 analysert\r"
     ]
    },
    {
     "name": "stderr",
     "output_type": "stream",
     "text": [
      "NOTE: Behavior of MACDH calculation has changed as of July 2017 - it is now 1/2 of previous calculated values\n"
     ]
    },
    {
     "name": "stdout",
     "output_type": "stream",
     "text": [
      "4 av 60 analysert\r"
     ]
    },
    {
     "name": "stderr",
     "output_type": "stream",
     "text": [
      "NOTE: Behavior of MACDH calculation has changed as of July 2017 - it is now 1/2 of previous calculated values\n"
     ]
    },
    {
     "name": "stdout",
     "output_type": "stream",
     "text": [
      "5 av 60 analysert\r"
     ]
    },
    {
     "name": "stderr",
     "output_type": "stream",
     "text": [
      "NOTE: Behavior of MACDH calculation has changed as of July 2017 - it is now 1/2 of previous calculated values\n"
     ]
    },
    {
     "name": "stdout",
     "output_type": "stream",
     "text": [
      "6 av 60 analysert\r"
     ]
    },
    {
     "name": "stderr",
     "output_type": "stream",
     "text": [
      "NOTE: Behavior of MACDH calculation has changed as of July 2017 - it is now 1/2 of previous calculated values\n"
     ]
    },
    {
     "name": "stdout",
     "output_type": "stream",
     "text": [
      "7 av 60 analysert\r"
     ]
    },
    {
     "name": "stderr",
     "output_type": "stream",
     "text": [
      "NOTE: Behavior of MACDH calculation has changed as of July 2017 - it is now 1/2 of previous calculated values\n"
     ]
    },
    {
     "name": "stdout",
     "output_type": "stream",
     "text": [
      "8 av 60 analysert\r"
     ]
    },
    {
     "name": "stderr",
     "output_type": "stream",
     "text": [
      "NOTE: Behavior of MACDH calculation has changed as of July 2017 - it is now 1/2 of previous calculated values\n"
     ]
    },
    {
     "name": "stdout",
     "output_type": "stream",
     "text": [
      "9 av 60 analysert\r"
     ]
    },
    {
     "name": "stderr",
     "output_type": "stream",
     "text": [
      "NOTE: Behavior of MACDH calculation has changed as of July 2017 - it is now 1/2 of previous calculated values\n"
     ]
    },
    {
     "name": "stdout",
     "output_type": "stream",
     "text": [
      "10 av 60 analysert\r"
     ]
    },
    {
     "name": "stderr",
     "output_type": "stream",
     "text": [
      "NOTE: Behavior of MACDH calculation has changed as of July 2017 - it is now 1/2 of previous calculated values\n"
     ]
    },
    {
     "name": "stdout",
     "output_type": "stream",
     "text": [
      "11 av 60 analysert\r"
     ]
    },
    {
     "name": "stderr",
     "output_type": "stream",
     "text": [
      "NOTE: Behavior of MACDH calculation has changed as of July 2017 - it is now 1/2 of previous calculated values\n"
     ]
    },
    {
     "name": "stdout",
     "output_type": "stream",
     "text": [
      "12 av 60 analysert\r"
     ]
    },
    {
     "name": "stderr",
     "output_type": "stream",
     "text": [
      "NOTE: Behavior of MACDH calculation has changed as of July 2017 - it is now 1/2 of previous calculated values\n"
     ]
    },
    {
     "name": "stdout",
     "output_type": "stream",
     "text": [
      "13 av 60 analysert\r"
     ]
    },
    {
     "name": "stderr",
     "output_type": "stream",
     "text": [
      "NOTE: Behavior of MACDH calculation has changed as of July 2017 - it is now 1/2 of previous calculated values\n"
     ]
    },
    {
     "name": "stdout",
     "output_type": "stream",
     "text": [
      "14 av 60 analysert\r"
     ]
    },
    {
     "name": "stderr",
     "output_type": "stream",
     "text": [
      "NOTE: Behavior of MACDH calculation has changed as of July 2017 - it is now 1/2 of previous calculated values\n"
     ]
    },
    {
     "name": "stdout",
     "output_type": "stream",
     "text": [
      "15 av 60 analysert\r"
     ]
    },
    {
     "name": "stderr",
     "output_type": "stream",
     "text": [
      "NOTE: Behavior of MACDH calculation has changed as of July 2017 - it is now 1/2 of previous calculated values\n"
     ]
    },
    {
     "name": "stdout",
     "output_type": "stream",
     "text": [
      "16 av 60 analysert\r"
     ]
    },
    {
     "name": "stderr",
     "output_type": "stream",
     "text": [
      "NOTE: Behavior of MACDH calculation has changed as of July 2017 - it is now 1/2 of previous calculated values\n"
     ]
    },
    {
     "name": "stdout",
     "output_type": "stream",
     "text": [
      "17 av 60 analysert\r"
     ]
    },
    {
     "name": "stderr",
     "output_type": "stream",
     "text": [
      "NOTE: Behavior of MACDH calculation has changed as of July 2017 - it is now 1/2 of previous calculated values\n"
     ]
    },
    {
     "name": "stdout",
     "output_type": "stream",
     "text": [
      "18 av 60 analysert\r"
     ]
    },
    {
     "name": "stderr",
     "output_type": "stream",
     "text": [
      "NOTE: Behavior of MACDH calculation has changed as of July 2017 - it is now 1/2 of previous calculated values\n"
     ]
    },
    {
     "name": "stdout",
     "output_type": "stream",
     "text": [
      "19 av 60 analysert\r"
     ]
    },
    {
     "name": "stderr",
     "output_type": "stream",
     "text": [
      "NOTE: Behavior of MACDH calculation has changed as of July 2017 - it is now 1/2 of previous calculated values\n"
     ]
    },
    {
     "name": "stdout",
     "output_type": "stream",
     "text": [
      "20 av 60 analysert\r"
     ]
    },
    {
     "name": "stderr",
     "output_type": "stream",
     "text": [
      "NOTE: Behavior of MACDH calculation has changed as of July 2017 - it is now 1/2 of previous calculated values\n"
     ]
    },
    {
     "name": "stdout",
     "output_type": "stream",
     "text": [
      "21 av 60 analysert\r"
     ]
    },
    {
     "name": "stderr",
     "output_type": "stream",
     "text": [
      "NOTE: Behavior of MACDH calculation has changed as of July 2017 - it is now 1/2 of previous calculated values\n"
     ]
    },
    {
     "name": "stdout",
     "output_type": "stream",
     "text": [
      "22 av 60 analysert\r"
     ]
    },
    {
     "name": "stderr",
     "output_type": "stream",
     "text": [
      "NOTE: Behavior of MACDH calculation has changed as of July 2017 - it is now 1/2 of previous calculated values\n"
     ]
    },
    {
     "name": "stdout",
     "output_type": "stream",
     "text": [
      "23 av 60 analysert\r"
     ]
    },
    {
     "name": "stderr",
     "output_type": "stream",
     "text": [
      "NOTE: Behavior of MACDH calculation has changed as of July 2017 - it is now 1/2 of previous calculated values\n"
     ]
    },
    {
     "name": "stdout",
     "output_type": "stream",
     "text": [
      "24 av 60 analysert\r"
     ]
    },
    {
     "name": "stderr",
     "output_type": "stream",
     "text": [
      "NOTE: Behavior of MACDH calculation has changed as of July 2017 - it is now 1/2 of previous calculated values\n"
     ]
    },
    {
     "name": "stdout",
     "output_type": "stream",
     "text": [
      "25 av 60 analysert\r"
     ]
    },
    {
     "name": "stderr",
     "output_type": "stream",
     "text": [
      "NOTE: Behavior of MACDH calculation has changed as of July 2017 - it is now 1/2 of previous calculated values\n"
     ]
    },
    {
     "name": "stdout",
     "output_type": "stream",
     "text": [
      "26 av 60 analysert\r"
     ]
    },
    {
     "name": "stderr",
     "output_type": "stream",
     "text": [
      "NOTE: Behavior of MACDH calculation has changed as of July 2017 - it is now 1/2 of previous calculated values\n"
     ]
    },
    {
     "name": "stdout",
     "output_type": "stream",
     "text": [
      "27 av 60 analysert\r"
     ]
    },
    {
     "name": "stderr",
     "output_type": "stream",
     "text": [
      "NOTE: Behavior of MACDH calculation has changed as of July 2017 - it is now 1/2 of previous calculated values\n"
     ]
    },
    {
     "name": "stdout",
     "output_type": "stream",
     "text": [
      "28 av 60 analysert\r"
     ]
    },
    {
     "name": "stderr",
     "output_type": "stream",
     "text": [
      "NOTE: Behavior of MACDH calculation has changed as of July 2017 - it is now 1/2 of previous calculated values\n"
     ]
    },
    {
     "name": "stdout",
     "output_type": "stream",
     "text": [
      "29 av 60 analysert\r"
     ]
    },
    {
     "name": "stderr",
     "output_type": "stream",
     "text": [
      "NOTE: Behavior of MACDH calculation has changed as of July 2017 - it is now 1/2 of previous calculated values\n"
     ]
    },
    {
     "name": "stdout",
     "output_type": "stream",
     "text": [
      "30 av 60 analysert\r"
     ]
    },
    {
     "name": "stderr",
     "output_type": "stream",
     "text": [
      "NOTE: Behavior of MACDH calculation has changed as of July 2017 - it is now 1/2 of previous calculated values\n"
     ]
    },
    {
     "name": "stdout",
     "output_type": "stream",
     "text": [
      "31 av 60 analysert\r"
     ]
    },
    {
     "name": "stderr",
     "output_type": "stream",
     "text": [
      "NOTE: Behavior of MACDH calculation has changed as of July 2017 - it is now 1/2 of previous calculated values\n"
     ]
    },
    {
     "name": "stdout",
     "output_type": "stream",
     "text": [
      "32 av 60 analysert\r"
     ]
    },
    {
     "name": "stderr",
     "output_type": "stream",
     "text": [
      "NOTE: Behavior of MACDH calculation has changed as of July 2017 - it is now 1/2 of previous calculated values\n"
     ]
    },
    {
     "name": "stdout",
     "output_type": "stream",
     "text": [
      "33 av 60 analysert\r"
     ]
    },
    {
     "name": "stderr",
     "output_type": "stream",
     "text": [
      "NOTE: Behavior of MACDH calculation has changed as of July 2017 - it is now 1/2 of previous calculated values\n"
     ]
    },
    {
     "name": "stdout",
     "output_type": "stream",
     "text": [
      "34 av 60 analysert\r"
     ]
    },
    {
     "name": "stderr",
     "output_type": "stream",
     "text": [
      "NOTE: Behavior of MACDH calculation has changed as of July 2017 - it is now 1/2 of previous calculated values\n"
     ]
    },
    {
     "name": "stdout",
     "output_type": "stream",
     "text": [
      "35 av 60 analysert\r"
     ]
    },
    {
     "name": "stderr",
     "output_type": "stream",
     "text": [
      "NOTE: Behavior of MACDH calculation has changed as of July 2017 - it is now 1/2 of previous calculated values\n"
     ]
    },
    {
     "name": "stdout",
     "output_type": "stream",
     "text": [
      "36 av 60 analysert\r"
     ]
    },
    {
     "name": "stderr",
     "output_type": "stream",
     "text": [
      "NOTE: Behavior of MACDH calculation has changed as of July 2017 - it is now 1/2 of previous calculated values\n"
     ]
    },
    {
     "name": "stdout",
     "output_type": "stream",
     "text": [
      "37 av 60 analysert\r"
     ]
    },
    {
     "name": "stderr",
     "output_type": "stream",
     "text": [
      "NOTE: Behavior of MACDH calculation has changed as of July 2017 - it is now 1/2 of previous calculated values\n"
     ]
    },
    {
     "name": "stdout",
     "output_type": "stream",
     "text": [
      "38 av 60 analysert\r"
     ]
    },
    {
     "name": "stderr",
     "output_type": "stream",
     "text": [
      "NOTE: Behavior of MACDH calculation has changed as of July 2017 - it is now 1/2 of previous calculated values\n"
     ]
    },
    {
     "name": "stdout",
     "output_type": "stream",
     "text": [
      "39 av 60 analysert\r"
     ]
    },
    {
     "name": "stderr",
     "output_type": "stream",
     "text": [
      "NOTE: Behavior of MACDH calculation has changed as of July 2017 - it is now 1/2 of previous calculated values\n"
     ]
    },
    {
     "name": "stdout",
     "output_type": "stream",
     "text": [
      "40 av 60 analysert\r"
     ]
    },
    {
     "name": "stderr",
     "output_type": "stream",
     "text": [
      "NOTE: Behavior of MACDH calculation has changed as of July 2017 - it is now 1/2 of previous calculated values\n"
     ]
    },
    {
     "name": "stdout",
     "output_type": "stream",
     "text": [
      "41 av 60 analysert\r"
     ]
    },
    {
     "name": "stderr",
     "output_type": "stream",
     "text": [
      "NOTE: Behavior of MACDH calculation has changed as of July 2017 - it is now 1/2 of previous calculated values\n"
     ]
    },
    {
     "name": "stdout",
     "output_type": "stream",
     "text": [
      "42 av 60 analysert\r"
     ]
    },
    {
     "name": "stderr",
     "output_type": "stream",
     "text": [
      "NOTE: Behavior of MACDH calculation has changed as of July 2017 - it is now 1/2 of previous calculated values\n"
     ]
    },
    {
     "name": "stdout",
     "output_type": "stream",
     "text": [
      "43 av 60 analysert\r"
     ]
    },
    {
     "name": "stderr",
     "output_type": "stream",
     "text": [
      "NOTE: Behavior of MACDH calculation has changed as of July 2017 - it is now 1/2 of previous calculated values\n"
     ]
    },
    {
     "name": "stdout",
     "output_type": "stream",
     "text": [
      "44 av 60 analysert\r"
     ]
    },
    {
     "name": "stderr",
     "output_type": "stream",
     "text": [
      "NOTE: Behavior of MACDH calculation has changed as of July 2017 - it is now 1/2 of previous calculated values\n"
     ]
    },
    {
     "name": "stdout",
     "output_type": "stream",
     "text": [
      "45 av 60 analysert\r"
     ]
    },
    {
     "name": "stderr",
     "output_type": "stream",
     "text": [
      "NOTE: Behavior of MACDH calculation has changed as of July 2017 - it is now 1/2 of previous calculated values\n"
     ]
    },
    {
     "name": "stdout",
     "output_type": "stream",
     "text": [
      "46 av 60 analysert\r"
     ]
    },
    {
     "name": "stderr",
     "output_type": "stream",
     "text": [
      "NOTE: Behavior of MACDH calculation has changed as of July 2017 - it is now 1/2 of previous calculated values\n"
     ]
    },
    {
     "name": "stdout",
     "output_type": "stream",
     "text": [
      "47 av 60 analysert\r"
     ]
    },
    {
     "name": "stderr",
     "output_type": "stream",
     "text": [
      "NOTE: Behavior of MACDH calculation has changed as of July 2017 - it is now 1/2 of previous calculated values\n"
     ]
    },
    {
     "name": "stdout",
     "output_type": "stream",
     "text": [
      "48 av 60 analysert\r"
     ]
    },
    {
     "name": "stderr",
     "output_type": "stream",
     "text": [
      "NOTE: Behavior of MACDH calculation has changed as of July 2017 - it is now 1/2 of previous calculated values\n"
     ]
    },
    {
     "name": "stdout",
     "output_type": "stream",
     "text": [
      "49 av 60 analysert\r"
     ]
    },
    {
     "name": "stderr",
     "output_type": "stream",
     "text": [
      "NOTE: Behavior of MACDH calculation has changed as of July 2017 - it is now 1/2 of previous calculated values\n"
     ]
    },
    {
     "name": "stdout",
     "output_type": "stream",
     "text": [
      "50 av 60 analysert\r"
     ]
    },
    {
     "name": "stderr",
     "output_type": "stream",
     "text": [
      "NOTE: Behavior of MACDH calculation has changed as of July 2017 - it is now 1/2 of previous calculated values\n"
     ]
    },
    {
     "name": "stdout",
     "output_type": "stream",
     "text": [
      "51 av 60 analysert\r"
     ]
    },
    {
     "name": "stderr",
     "output_type": "stream",
     "text": [
      "NOTE: Behavior of MACDH calculation has changed as of July 2017 - it is now 1/2 of previous calculated values\n"
     ]
    },
    {
     "name": "stdout",
     "output_type": "stream",
     "text": [
      "52 av 60 analysert\r"
     ]
    },
    {
     "name": "stderr",
     "output_type": "stream",
     "text": [
      "NOTE: Behavior of MACDH calculation has changed as of July 2017 - it is now 1/2 of previous calculated values\n"
     ]
    },
    {
     "name": "stdout",
     "output_type": "stream",
     "text": [
      "53 av 60 analysert\r"
     ]
    },
    {
     "name": "stderr",
     "output_type": "stream",
     "text": [
      "NOTE: Behavior of MACDH calculation has changed as of July 2017 - it is now 1/2 of previous calculated values\n"
     ]
    },
    {
     "name": "stdout",
     "output_type": "stream",
     "text": [
      "54 av 60 analysert\r"
     ]
    },
    {
     "name": "stderr",
     "output_type": "stream",
     "text": [
      "NOTE: Behavior of MACDH calculation has changed as of July 2017 - it is now 1/2 of previous calculated values\n"
     ]
    },
    {
     "name": "stdout",
     "output_type": "stream",
     "text": [
      "55 av 60 analysert\r"
     ]
    },
    {
     "name": "stderr",
     "output_type": "stream",
     "text": [
      "NOTE: Behavior of MACDH calculation has changed as of July 2017 - it is now 1/2 of previous calculated values\n"
     ]
    },
    {
     "name": "stdout",
     "output_type": "stream",
     "text": [
      "56 av 60 analysert\r"
     ]
    },
    {
     "name": "stderr",
     "output_type": "stream",
     "text": [
      "NOTE: Behavior of MACDH calculation has changed as of July 2017 - it is now 1/2 of previous calculated values\n"
     ]
    },
    {
     "name": "stdout",
     "output_type": "stream",
     "text": [
      "57 av 60 analysert\r"
     ]
    },
    {
     "name": "stderr",
     "output_type": "stream",
     "text": [
      "NOTE: Behavior of MACDH calculation has changed as of July 2017 - it is now 1/2 of previous calculated values\n"
     ]
    },
    {
     "name": "stdout",
     "output_type": "stream",
     "text": [
      "58 av 60 analysert\r"
     ]
    },
    {
     "name": "stderr",
     "output_type": "stream",
     "text": [
      "NOTE: Behavior of MACDH calculation has changed as of July 2017 - it is now 1/2 of previous calculated values\n"
     ]
    },
    {
     "name": "stdout",
     "output_type": "stream",
     "text": [
      "59 av 60 analysert\r"
     ]
    },
    {
     "name": "stderr",
     "output_type": "stream",
     "text": [
      "NOTE: Behavior of MACDH calculation has changed as of July 2017 - it is now 1/2 of previous calculated values\n"
     ]
    },
    {
     "name": "stdout",
     "output_type": "stream",
     "text": [
      "60 av 60 analysert\r"
     ]
    },
    {
     "name": "stderr",
     "output_type": "stream",
     "text": [
      "NOTE: Behavior of MACDH calculation has changed as of July 2017 - it is now 1/2 of previous calculated values\n"
     ]
    },
    {
     "data": {
      "text/html": [
       "<div>\n",
       "<style scoped>\n",
       "    .dataframe tbody tr th:only-of-type {\n",
       "        vertical-align: middle;\n",
       "    }\n",
       "\n",
       "    .dataframe tbody tr th {\n",
       "        vertical-align: top;\n",
       "    }\n",
       "\n",
       "    .dataframe thead th {\n",
       "        text-align: right;\n",
       "    }\n",
       "</style>\n",
       "<table border=\"1\" class=\"dataframe\">\n",
       "  <thead>\n",
       "    <tr style=\"text-align: right;\">\n",
       "      <th></th>\n",
       "      <th>navn</th>\n",
       "      <th>start</th>\n",
       "      <th>endex</th>\n",
       "      <th>start_pris</th>\n",
       "      <th>slutt_pris</th>\n",
       "      <th>oppgang</th>\n",
       "      <th>score</th>\n",
       "      <th>rsi_20</th>\n",
       "      <th>trix</th>\n",
       "      <th>open_8_sma</th>\n",
       "      <th>open_16_sma</th>\n",
       "      <th>macds</th>\n",
       "      <th>sma8-16</th>\n",
       "    </tr>\n",
       "  </thead>\n",
       "  <tbody>\n",
       "    <tr>\n",
       "      <th>0</th>\n",
       "      <td>Aker 02.04.2020</td>\n",
       "      <td>128.0</td>\n",
       "      <td>186.0</td>\n",
       "      <td>240.20</td>\n",
       "      <td>247.80</td>\n",
       "      <td>3.164030</td>\n",
       "      <td>50.703007</td>\n",
       "      <td>[33.81243254968905, 33.81243254968905, 38.6569...</td>\n",
       "      <td>[-0.04397465516493707, -0.045443866319610726, ...</td>\n",
       "      <td>[241.0750000000002, 240.9750000000002, 240.950...</td>\n",
       "      <td>[241.77500000000003, 241.6125, 241.47500000000...</td>\n",
       "      <td>[-0.7287504097325816, -0.7451481517388542, -0....</td>\n",
       "      <td>[-0.6999999999998465, -0.6374999999998181, -0....</td>\n",
       "    </tr>\n",
       "    <tr>\n",
       "      <th>1</th>\n",
       "      <td>Aker 02.04.2020</td>\n",
       "      <td>229.0</td>\n",
       "      <td>267.0</td>\n",
       "      <td>245.80</td>\n",
       "      <td>249.60</td>\n",
       "      <td>1.545972</td>\n",
       "      <td>31.951273</td>\n",
       "      <td>[50.71615637249463, 47.90096406491234, 47.9009...</td>\n",
       "      <td>[-0.010354636272359287, -0.009138505674278392,...</td>\n",
       "      <td>[245.27500000000046, 245.32500000000044, 245.3...</td>\n",
       "      <td>[245.4375000000002, 245.4750000000002, 245.512...</td>\n",
       "      <td>[-0.21239923294784613, -0.19739665579452376, -...</td>\n",
       "      <td>[-0.16249999999973852, -0.1499999999997499, -0...</td>\n",
       "    </tr>\n",
       "    <tr>\n",
       "      <th>2</th>\n",
       "      <td>Aker 30.04.2020</td>\n",
       "      <td>58.0</td>\n",
       "      <td>106.0</td>\n",
       "      <td>267.80</td>\n",
       "      <td>272.60</td>\n",
       "      <td>1.792382</td>\n",
       "      <td>36.304068</td>\n",
       "      <td>[39.67111865884208, 39.17672236892631, 38.6694...</td>\n",
       "      <td>[-0.10058224660774777, -0.0966240136151853, -0...</td>\n",
       "      <td>[267.25, 267.09999999999997, 267.0999999999999...</td>\n",
       "      <td>[268.4249999999998, 268.3499999999998, 268.249...</td>\n",
       "      <td>[-1.7621945819520486, -1.7223674741857025, -1....</td>\n",
       "      <td>[-1.174999999999784, -1.2499999999998295, -1.1...</td>\n",
       "    </tr>\n",
       "    <tr>\n",
       "      <th>3</th>\n",
       "      <td>Aker 30.04.2020</td>\n",
       "      <td>118.0</td>\n",
       "      <td>159.0</td>\n",
       "      <td>270.40</td>\n",
       "      <td>273.60</td>\n",
       "      <td>1.183432</td>\n",
       "      <td>30.083060</td>\n",
       "      <td>[48.123898874117444, 49.52600847498533, 53.495...</td>\n",
       "      <td>[-0.004073298420161102, -0.006143478019842823,...</td>\n",
       "      <td>[270.22499999999985, 270.29999999999984, 270.4...</td>\n",
       "      <td>[271.12499999999983, 271.03749999999985, 270.9...</td>\n",
       "      <td>[0.061652168278914544, 0.02892586375705228, 0....</td>\n",
       "      <td>[-0.8999999999999773, -0.7375000000000114, -0....</td>\n",
       "    </tr>\n",
       "    <tr>\n",
       "      <th>4</th>\n",
       "      <td>Aker 31.03.2020</td>\n",
       "      <td>41.0</td>\n",
       "      <td>70.0</td>\n",
       "      <td>227.80</td>\n",
       "      <td>235.00</td>\n",
       "      <td>3.160667</td>\n",
       "      <td>29.493962</td>\n",
       "      <td>[47.55734379453681, 49.10491214742308, 47.6255...</td>\n",
       "      <td>[-0.04210342809995147, -0.04285742782661868, -...</td>\n",
       "      <td>[227.49999999999997, 227.47499999999997, 227.3...</td>\n",
       "      <td>[228.41250000000005, 228.35000000000005, 228.3...</td>\n",
       "      <td>[-0.45564843789836923, -0.47301410008353206, -...</td>\n",
       "      <td>[-0.9125000000000796, -0.8750000000000853, -0....</td>\n",
       "    </tr>\n",
       "    <tr>\n",
       "      <th>5</th>\n",
       "      <td>Aker 31.03.2020</td>\n",
       "      <td>112.0</td>\n",
       "      <td>142.0</td>\n",
       "      <td>232.80</td>\n",
       "      <td>235.00</td>\n",
       "      <td>0.945017</td>\n",
       "      <td>24.096609</td>\n",
       "      <td>[47.36172689163056, 43.825070640844395, 50.617...</td>\n",
       "      <td>[-0.04267460755521606, -0.04193714503093347, -...</td>\n",
       "      <td>[232.34999999999997, 232.37499999999997, 232.5...</td>\n",
       "      <td>[232.82500000000005, 232.70000000000005, 232.7...</td>\n",
       "      <td>[-0.4568032144150203, -0.46607928971840773, -0...</td>\n",
       "      <td>[-0.4750000000000796, -0.3250000000000739, -0....</td>\n",
       "    </tr>\n",
       "    <tr>\n",
       "      <th>6</th>\n",
       "      <td>Aker 31.03.2020</td>\n",
       "      <td>279.0</td>\n",
       "      <td>313.0</td>\n",
       "      <td>229.00</td>\n",
       "      <td>233.40</td>\n",
       "      <td>1.921397</td>\n",
       "      <td>27.159496</td>\n",
       "      <td>[39.788251937614454, 42.89453467747394, 42.894...</td>\n",
       "      <td>[-0.0495834858690581, -0.047488407764097115, -...</td>\n",
       "      <td>[228.87499999999986, 228.87499999999983, 228.8...</td>\n",
       "      <td>[229.31250000000003, 229.30000000000004, 229.3...</td>\n",
       "      <td>[-0.7542320347922611, -0.7363138158583081, -0....</td>\n",
       "      <td>[-0.43750000000017053, -0.4250000000002103, -0...</td>\n",
       "    </tr>\n",
       "    <tr>\n",
       "      <th>7</th>\n",
       "      <td>Aker BP 20.08.2020</td>\n",
       "      <td>163.0</td>\n",
       "      <td>207.0</td>\n",
       "      <td>175.15</td>\n",
       "      <td>176.75</td>\n",
       "      <td>0.913503</td>\n",
       "      <td>28.551216</td>\n",
       "      <td>[52.614410878664444, 50.49169578004401, 50.491...</td>\n",
       "      <td>[0.0038925265723230265, 0.0032561865549406246,...</td>\n",
       "      <td>[175.125, 175.10625, 175.10625, 175.10625, 175...</td>\n",
       "      <td>[175.15937499999998, 175.15624999999997, 175.1...</td>\n",
       "      <td>[0.04339675217064662, 0.03901491654944172, 0.0...</td>\n",
       "      <td>[-0.03437499999998295, -0.04999999999998295, -...</td>\n",
       "    </tr>\n",
       "    <tr>\n",
       "      <th>8</th>\n",
       "      <td>Aker BP 27.04.2020</td>\n",
       "      <td>21.0</td>\n",
       "      <td>61.0</td>\n",
       "      <td>154.00</td>\n",
       "      <td>155.45</td>\n",
       "      <td>0.941558</td>\n",
       "      <td>27.912907</td>\n",
       "      <td>[51.13648908828135, 46.53724332213418, 44.7711...</td>\n",
       "      <td>[-0.014545718565755279, -0.014296135121243381,...</td>\n",
       "      <td>[153.5, 153.53125, 153.4625, 153.4874999999999...</td>\n",
       "      <td>[153.7, 153.63125, 153.58125, 153.540625, 153....</td>\n",
       "      <td>[-0.07021064141847043, -0.07129453438168222, -...</td>\n",
       "      <td>[-0.19999999999998863, -0.09999999999999432, -...</td>\n",
       "    </tr>\n",
       "    <tr>\n",
       "      <th>9</th>\n",
       "      <td>Aker BP 29.04.2020</td>\n",
       "      <td>36.0</td>\n",
       "      <td>78.0</td>\n",
       "      <td>159.45</td>\n",
       "      <td>164.15</td>\n",
       "      <td>2.947632</td>\n",
       "      <td>34.597741</td>\n",
       "      <td>[43.71824202124468, 48.78749808747356, 49.6553...</td>\n",
       "      <td>[-0.026287386371428013, -0.027061119126633993,...</td>\n",
       "      <td>[159.74375, 159.73125000000002, 159.68125, 159...</td>\n",
       "      <td>[160.00312499999993, 160.00312499999993, 159.9...</td>\n",
       "      <td>[-0.18963377788574767, -0.1990575001083057, -0...</td>\n",
       "      <td>[-0.2593749999999204, -0.27187499999990905, -0...</td>\n",
       "    </tr>\n",
       "    <tr>\n",
       "      <th>10</th>\n",
       "      <td>Aker BP 29.04.2020</td>\n",
       "      <td>124.0</td>\n",
       "      <td>149.0</td>\n",
       "      <td>163.80</td>\n",
       "      <td>167.50</td>\n",
       "      <td>2.258852</td>\n",
       "      <td>22.420072</td>\n",
       "      <td>[48.563878471987685, 49.490585535546636, 55.03...</td>\n",
       "      <td>[0.010065172011288013, 0.006516341266980506, 0...</td>\n",
       "      <td>[164.10000000000005, 164.00625000000005, 164.0...</td>\n",
       "      <td>[164.365625, 164.3125, 164.328125, 164.328125,...</td>\n",
       "      <td>[0.16054112764560557, 0.13269027066627712, 0.1...</td>\n",
       "      <td>[-0.26562499999994316, -0.30624999999994884, -...</td>\n",
       "    </tr>\n",
       "    <tr>\n",
       "      <th>11</th>\n",
       "      <td>Aker BP 30.04.2020</td>\n",
       "      <td>62.0</td>\n",
       "      <td>111.0</td>\n",
       "      <td>166.30</td>\n",
       "      <td>170.00</td>\n",
       "      <td>2.224895</td>\n",
       "      <td>37.120464</td>\n",
       "      <td>[39.28638402164819, 41.0404983404407, 40.79238...</td>\n",
       "      <td>[-0.06371392783607457, -0.06201924290997608, -...</td>\n",
       "      <td>[166.05, 166.03125, 166.1125, 166.318750000000...</td>\n",
       "      <td>[167.01874999999995, 166.92187499999997, 166.8...</td>\n",
       "      <td>[-0.7639174430836233, -0.7487899163157677, -0....</td>\n",
       "      <td>[-0.9687499999999432, -0.8906249999999716, -0....</td>\n",
       "    </tr>\n",
       "    <tr>\n",
       "      <th>12</th>\n",
       "      <td>Aker BP 30.04.2020</td>\n",
       "      <td>142.0</td>\n",
       "      <td>169.0</td>\n",
       "      <td>169.65</td>\n",
       "      <td>173.55</td>\n",
       "      <td>2.298851</td>\n",
       "      <td>22.773124</td>\n",
       "      <td>[53.89932262866584, 48.376584613652184, 52.000...</td>\n",
       "      <td>[0.01587208650380095, 0.01458995591119494, 0.0...</td>\n",
       "      <td>[169.70000000000005, 169.63750000000005, 169.6...</td>\n",
       "      <td>[169.58125, 169.60625000000002, 169.6250000000...</td>\n",
       "      <td>[0.15071841424524274, 0.14338499652816003, 0.1...</td>\n",
       "      <td>[0.1187500000000341, 0.03125000000002842, 0.01...</td>\n",
       "    </tr>\n",
       "    <tr>\n",
       "      <th>13</th>\n",
       "      <td>Aker BP 31.03.2020</td>\n",
       "      <td>42.0</td>\n",
       "      <td>75.0</td>\n",
       "      <td>125.55</td>\n",
       "      <td>129.65</td>\n",
       "      <td>3.265631</td>\n",
       "      <td>28.234039</td>\n",
       "      <td>[53.284094239011026, 53.284094239011026, 51.25...</td>\n",
       "      <td>[-0.020996960150601016, -0.0229650561119638, -...</td>\n",
       "      <td>[125.17500000000001, 125.15, 125.1437500000000...</td>\n",
       "      <td>[125.71562499999996, 125.67187499999997, 125.6...</td>\n",
       "      <td>[-0.0879671406387187, -0.10315349370024961, -0...</td>\n",
       "      <td>[-0.5406249999999488, -0.5218749999999659, -0....</td>\n",
       "    </tr>\n",
       "    <tr>\n",
       "      <th>14</th>\n",
       "      <td>Aker BP 31.03.2020</td>\n",
       "      <td>120.0</td>\n",
       "      <td>171.0</td>\n",
       "      <td>128.30</td>\n",
       "      <td>130.75</td>\n",
       "      <td>1.909587</td>\n",
       "      <td>35.553886</td>\n",
       "      <td>[48.469794160419035, 49.26645625114961, 46.255...</td>\n",
       "      <td>[-0.02529909972235252, -0.024559551360116286, ...</td>\n",
       "      <td>[128.14999999999995, 128.15624999999994, 128.1...</td>\n",
       "      <td>[128.31250000000006, 128.28750000000005, 128.2...</td>\n",
       "      <td>[-0.12509784585113645, -0.12790872488825286, -...</td>\n",
       "      <td>[-0.162500000000108, -0.131250000000108, -0.11...</td>\n",
       "    </tr>\n",
       "    <tr>\n",
       "      <th>15</th>\n",
       "      <td>Bakkafrost 31.03.2020</td>\n",
       "      <td>40.0</td>\n",
       "      <td>96.0</td>\n",
       "      <td>493.60</td>\n",
       "      <td>516.00</td>\n",
       "      <td>4.538088</td>\n",
       "      <td>59.716758</td>\n",
       "      <td>[52.0789409300997, 54.52131984254919, 53.56344...</td>\n",
       "      <td>[0.014790985828673366, 0.013810456341929078, 0...</td>\n",
       "      <td>[494.1500000000001, 494.12500000000006, 494.02...</td>\n",
       "      <td>[493.88749999999993, 494.075, 494.137500000000...</td>\n",
       "      <td>[0.3434291945911694, 0.33155536944211594, 0.31...</td>\n",
       "      <td>[0.26250000000015916, 0.05000000000006821, -0....</td>\n",
       "    </tr>\n",
       "    <tr>\n",
       "      <th>16</th>\n",
       "      <td>Bakkafrost 31.03.2020</td>\n",
       "      <td>294.0</td>\n",
       "      <td>330.0</td>\n",
       "      <td>500.50</td>\n",
       "      <td>503.50</td>\n",
       "      <td>0.599401</td>\n",
       "      <td>30.577990</td>\n",
       "      <td>[48.02950555312028, 45.82335633559211, 41.7828...</td>\n",
       "      <td>[-0.02742575491067402, -0.02544841928434523, -...</td>\n",
       "      <td>[498.9625, 498.9625, 499.0625, 499.1875, 499.1...</td>\n",
       "      <td>[499.7812500000001, 499.6875000000001, 499.500...</td>\n",
       "      <td>[-0.8197385628735535, -0.7855813242622279, -0....</td>\n",
       "      <td>[-0.8187500000001364, -0.7250000000001364, -0....</td>\n",
       "    </tr>\n",
       "    <tr>\n",
       "      <th>17</th>\n",
       "      <td>DNB 29.04.2020</td>\n",
       "      <td>153.0</td>\n",
       "      <td>208.0</td>\n",
       "      <td>120.75</td>\n",
       "      <td>122.45</td>\n",
       "      <td>1.407867</td>\n",
       "      <td>33.301918</td>\n",
       "      <td>[47.60575143415719, 47.6057514341572, 49.63518...</td>\n",
       "      <td>[-0.006551516818061071, -0.007497530830843767,...</td>\n",
       "      <td>[120.69374999999982, 120.68749999999983, 120.6...</td>\n",
       "      <td>[120.87500000000018, 120.85312500000018, 120.8...</td>\n",
       "      <td>[-0.010394708783688204, -0.018203179209372963,...</td>\n",
       "      <td>[-0.18125000000036096, -0.16562500000034674, -...</td>\n",
       "    </tr>\n",
       "    <tr>\n",
       "      <th>18</th>\n",
       "      <td>DNB 29.04.2020</td>\n",
       "      <td>309.0</td>\n",
       "      <td>359.0</td>\n",
       "      <td>121.90</td>\n",
       "      <td>123.80</td>\n",
       "      <td>1.558655</td>\n",
       "      <td>31.106385</td>\n",
       "      <td>[48.632486076226854, 51.1050661116978, 51.1050...</td>\n",
       "      <td>[0.0015190656011022496, 0.0010608579569971893,...</td>\n",
       "      <td>[121.99999999999973, 121.98749999999974, 121.9...</td>\n",
       "      <td>[121.97812500000009, 121.9875000000001, 122.00...</td>\n",
       "      <td>[0.011964042615684999, 0.009662099567291395, 0...</td>\n",
       "      <td>[0.021874999999639044, -3.552713678800501e-13,...</td>\n",
       "    </tr>\n",
       "    <tr>\n",
       "      <th>19</th>\n",
       "      <td>DNB 30.04.2020</td>\n",
       "      <td>112.0</td>\n",
       "      <td>172.0</td>\n",
       "      <td>119.85</td>\n",
       "      <td>122.55</td>\n",
       "      <td>2.252816</td>\n",
       "      <td>38.550965</td>\n",
       "      <td>[46.23156369526609, 53.103808809883056, 49.756...</td>\n",
       "      <td>[-0.003246826393201956, -0.003775997179004074,...</td>\n",
       "      <td>[119.95625000000007, 119.96250000000008, 119.9...</td>\n",
       "      <td>[120.053125, 120.04375, 120.028125, 120.01875,...</td>\n",
       "      <td>[0.010570963221057507, 0.005442125169915915, 0...</td>\n",
       "      <td>[-0.0968749999999261, -0.0812499999999261, -0....</td>\n",
       "    </tr>\n",
       "    <tr>\n",
       "      <th>20</th>\n",
       "      <td>Entra 31.03.2020</td>\n",
       "      <td>216.0</td>\n",
       "      <td>258.0</td>\n",
       "      <td>120.80</td>\n",
       "      <td>123.20</td>\n",
       "      <td>1.986755</td>\n",
       "      <td>30.299205</td>\n",
       "      <td>[32.086957828829426, 30.185892130652746, 34.28...</td>\n",
       "      <td>[-0.0592899447107255, -0.06029911105820427, -0...</td>\n",
       "      <td>[120.97500000000001, 120.9, 120.85, 120.875, 1...</td>\n",
       "      <td>[121.30000000000041, 121.2000000000004, 121.13...</td>\n",
       "      <td>[-0.42240198006311536, -0.4332274937911631, -0...</td>\n",
       "      <td>[-0.32500000000040075, -0.30000000000039506, -...</td>\n",
       "    </tr>\n",
       "    <tr>\n",
       "      <th>21</th>\n",
       "      <td>Equinor 20.08.2020</td>\n",
       "      <td>82.0</td>\n",
       "      <td>145.0</td>\n",
       "      <td>142.25</td>\n",
       "      <td>143.60</td>\n",
       "      <td>0.949033</td>\n",
       "      <td>34.416375</td>\n",
       "      <td>[41.06861518854498, 41.06861518854498, 39.2595...</td>\n",
       "      <td>[-0.01331474143004796, -0.01329098840474391, -...</td>\n",
       "      <td>[142.25000000000003, 142.23125000000002, 142.2...</td>\n",
       "      <td>[142.33750000000003, 142.31562500000004, 142.2...</td>\n",
       "      <td>[-0.10315961497556735, -0.10498502802763623, -...</td>\n",
       "      <td>[-0.08750000000000568, -0.08437500000002274, -...</td>\n",
       "    </tr>\n",
       "    <tr>\n",
       "      <th>22</th>\n",
       "      <td>Equinor 24.04.2020</td>\n",
       "      <td>93.0</td>\n",
       "      <td>155.0</td>\n",
       "      <td>130.80</td>\n",
       "      <td>133.10</td>\n",
       "      <td>1.758410</td>\n",
       "      <td>37.900690</td>\n",
       "      <td>[36.71234066415662, 41.11017076728129, 43.8483...</td>\n",
       "      <td>[-0.025356804088786506, -0.02461829753130863, ...</td>\n",
       "      <td>[130.89999999999995, 130.89374999999995, 130.8...</td>\n",
       "      <td>[131.00937500000003, 130.99062500000002, 130.9...</td>\n",
       "      <td>[-0.21198666785271925, -0.20916936230477604, -...</td>\n",
       "      <td>[-0.10937500000008527, -0.09687500000006821, -...</td>\n",
       "    </tr>\n",
       "    <tr>\n",
       "      <th>23</th>\n",
       "      <td>Equinor 24.04.2020</td>\n",
       "      <td>215.0</td>\n",
       "      <td>253.0</td>\n",
       "      <td>133.15</td>\n",
       "      <td>135.00</td>\n",
       "      <td>1.389410</td>\n",
       "      <td>24.040310</td>\n",
       "      <td>[44.30331994730037, 52.28710440944181, 54.0215...</td>\n",
       "      <td>[0.009615022864393365, 0.007326840449764252, 0...</td>\n",
       "      <td>[133.51875, 133.5, 133.525, 133.55, 133.55625,...</td>\n",
       "      <td>[133.67500000000004, 133.66875000000005, 133.6...</td>\n",
       "      <td>[0.1029720630643916, 0.08906048876931388, 0.07...</td>\n",
       "      <td>[-0.15625000000002842, -0.16875000000004547, -...</td>\n",
       "    </tr>\n",
       "    <tr>\n",
       "      <th>24</th>\n",
       "      <td>Equinor 27.04.2020</td>\n",
       "      <td>11.0</td>\n",
       "      <td>72.0</td>\n",
       "      <td>133.70</td>\n",
       "      <td>135.80</td>\n",
       "      <td>1.570681</td>\n",
       "      <td>38.221480</td>\n",
       "      <td>[58.09775647580517, 61.20709499012856, 52.9372...</td>\n",
       "      <td>[-0.0016543379582678206, 0.0015231096736938068...</td>\n",
       "      <td>[133.43750000000003, 133.49375000000003, 133.5...</td>\n",
       "      <td>[133.425, 133.45384615384617, 133.464285714285...</td>\n",
       "      <td>[0.005086431309362456, 0.01326197343836594, 0....</td>\n",
       "      <td>[0.012500000000017053, 0.03990384615386233, 0....</td>\n",
       "    </tr>\n",
       "    <tr>\n",
       "      <th>25</th>\n",
       "      <td>Equinor 29.04.2020</td>\n",
       "      <td>34.0</td>\n",
       "      <td>65.0</td>\n",
       "      <td>137.10</td>\n",
       "      <td>138.65</td>\n",
       "      <td>1.130562</td>\n",
       "      <td>22.159543</td>\n",
       "      <td>[49.163074883011305, 49.163074883011305, 46.46...</td>\n",
       "      <td>[0.0029350838934820637, 0.0016485175306253505,...</td>\n",
       "      <td>[137.10624999999996, 137.07499999999996, 137.0...</td>\n",
       "      <td>[137.15625000000003, 137.15625000000003, 137.1...</td>\n",
       "      <td>[0.02344297531976698, 0.01656440545513198, 0.0...</td>\n",
       "      <td>[-0.05000000000006821, -0.08125000000006821, -...</td>\n",
       "    </tr>\n",
       "    <tr>\n",
       "      <th>26</th>\n",
       "      <td>Equinor 29.04.2020</td>\n",
       "      <td>94.0</td>\n",
       "      <td>145.0</td>\n",
       "      <td>138.30</td>\n",
       "      <td>140.25</td>\n",
       "      <td>1.409978</td>\n",
       "      <td>33.675561</td>\n",
       "      <td>[47.8057583382674, 46.9936592531081, 46.168101...</td>\n",
       "      <td>[-0.017319331908388632, -0.018250686459327873,...</td>\n",
       "      <td>[138.16874999999993, 138.15624999999994, 138.1...</td>\n",
       "      <td>[138.47187500000004, 138.43125000000003, 138.3...</td>\n",
       "      <td>[-0.06902233759890217, -0.08115205951617806, -...</td>\n",
       "      <td>[-0.303125000000108, -0.27500000000009095, -0....</td>\n",
       "    </tr>\n",
       "    <tr>\n",
       "      <th>27</th>\n",
       "      <td>Equinor 29.04.2020</td>\n",
       "      <td>301.0</td>\n",
       "      <td>373.0</td>\n",
       "      <td>138.50</td>\n",
       "      <td>140.85</td>\n",
       "      <td>1.696751</td>\n",
       "      <td>44.145926</td>\n",
       "      <td>[40.481151842122124, 43.68317266733417, 50.667...</td>\n",
       "      <td>[-0.016999295054989236, -0.01721292071203934, ...</td>\n",
       "      <td>[138.51249999999996, 138.51249999999996, 138.5...</td>\n",
       "      <td>[138.69062499999998, 138.66562499999998, 138.6...</td>\n",
       "      <td>[-0.11879809654098458, -0.12308225566344477, -...</td>\n",
       "      <td>[-0.17812500000002274, -0.15312500000001705, -...</td>\n",
       "    </tr>\n",
       "    <tr>\n",
       "      <th>28</th>\n",
       "      <td>Equinor 30.04.2020</td>\n",
       "      <td>124.0</td>\n",
       "      <td>170.0</td>\n",
       "      <td>140.55</td>\n",
       "      <td>143.25</td>\n",
       "      <td>1.921025</td>\n",
       "      <td>32.556443</td>\n",
       "      <td>[50.61415934647544, 46.270144247259786, 44.270...</td>\n",
       "      <td>[-0.0023488420236808544, -0.004385889006396021...</td>\n",
       "      <td>[140.43750000000003, 140.38750000000002, 140.3...</td>\n",
       "      <td>[140.6750000000001, 140.62500000000009, 140.56...</td>\n",
       "      <td>[0.03506131846281893, 0.019096788400143495, 0....</td>\n",
       "      <td>[-0.2375000000000682, -0.2375000000000682, -0....</td>\n",
       "    </tr>\n",
       "    <tr>\n",
       "      <th>29</th>\n",
       "      <td>Equinor 31.03.2020</td>\n",
       "      <td>37.0</td>\n",
       "      <td>98.0</td>\n",
       "      <td>125.60</td>\n",
       "      <td>130.05</td>\n",
       "      <td>3.542994</td>\n",
       "      <td>46.261936</td>\n",
       "      <td>[51.95420839101079, 52.63409474283368, 53.3292...</td>\n",
       "      <td>[0.005657108188206672, 0.003436786084194138, 0...</td>\n",
       "      <td>[125.66562499999999, 125.68437499999999, 125.6...</td>\n",
       "      <td>[125.78593750000005, 125.76718750000005, 125.7...</td>\n",
       "      <td>[0.048945360250534635, 0.037550993439986954, 0...</td>\n",
       "      <td>[-0.120312500000054, -0.08281250000005969, -0....</td>\n",
       "    </tr>\n",
       "    <tr>\n",
       "      <th>30</th>\n",
       "      <td>Equinor 31.03.2020</td>\n",
       "      <td>140.0</td>\n",
       "      <td>190.0</td>\n",
       "      <td>129.30</td>\n",
       "      <td>132.15</td>\n",
       "      <td>2.204176</td>\n",
       "      <td>34.557896</td>\n",
       "      <td>[49.35598701693753, 49.355987016937526, 51.497...</td>\n",
       "      <td>[-0.008698380324725898, -0.009123936471926311,...</td>\n",
       "      <td>[129.25624999999997, 129.24999999999997, 129.2...</td>\n",
       "      <td>[129.38125000000008, 129.3687500000001, 129.35...</td>\n",
       "      <td>[-0.033763561251159736, -0.03919352037119389, ...</td>\n",
       "      <td>[-0.1250000000001137, -0.11875000000011937, -0...</td>\n",
       "    </tr>\n",
       "    <tr>\n",
       "      <th>31</th>\n",
       "      <td>Frontline 27.04.2020</td>\n",
       "      <td>128.0</td>\n",
       "      <td>168.0</td>\n",
       "      <td>114.40</td>\n",
       "      <td>117.40</td>\n",
       "      <td>2.622378</td>\n",
       "      <td>27.944612</td>\n",
       "      <td>[36.74370588321431, 36.74370588321431, 43.6149...</td>\n",
       "      <td>[-0.025137205615981827, -0.029964405762789553,...</td>\n",
       "      <td>[114.60000000000008, 114.52500000000009, 114.5...</td>\n",
       "      <td>[115.125, 115.05000000000001, 114.987500000000...</td>\n",
       "      <td>[-0.09672701011370767, -0.12755659300949274, -...</td>\n",
       "      <td>[-0.5249999999999204, -0.5249999999999204, -0....</td>\n",
       "    </tr>\n",
       "    <tr>\n",
       "      <th>32</th>\n",
       "      <td>Frontline 27.04.2020</td>\n",
       "      <td>179.0</td>\n",
       "      <td>206.0</td>\n",
       "      <td>116.80</td>\n",
       "      <td>118.20</td>\n",
       "      <td>1.198630</td>\n",
       "      <td>20.906119</td>\n",
       "      <td>[52.48034795859831, 49.86865397756288, 49.8686...</td>\n",
       "      <td>[0.0016141113259677481, -0.0021825584570893688...</td>\n",
       "      <td>[116.6875000000001, 116.5875000000001, 116.525...</td>\n",
       "      <td>[116.98125, 116.925, 116.87499999999999, 116.8...</td>\n",
       "      <td>[0.10140256587619449, 0.07660696625298047, 0.0...</td>\n",
       "      <td>[-0.29374999999990337, -0.337499999999892, -0....</td>\n",
       "    </tr>\n",
       "    <tr>\n",
       "      <th>33</th>\n",
       "      <td>Frontline 29.04.2020</td>\n",
       "      <td>72.0</td>\n",
       "      <td>97.0</td>\n",
       "      <td>108.20</td>\n",
       "      <td>111.20</td>\n",
       "      <td>2.772643</td>\n",
       "      <td>20.351049</td>\n",
       "      <td>[34.93388570034644, 40.13185781493288, 44.7757...</td>\n",
       "      <td>[-0.049203765526197686, -0.05022942908251279, ...</td>\n",
       "      <td>[108.5625, 108.5375, 108.5375, 108.5625, 108.5...</td>\n",
       "      <td>[108.91250000000004, 108.82500000000003, 108.7...</td>\n",
       "      <td>[-0.3044315505802265, -0.3138435579376208, -0....</td>\n",
       "      <td>[-0.35000000000003695, -0.28750000000003695, -...</td>\n",
       "    </tr>\n",
       "    <tr>\n",
       "      <th>34</th>\n",
       "      <td>Frontline 30.04.2020</td>\n",
       "      <td>29.0</td>\n",
       "      <td>54.0</td>\n",
       "      <td>92.30</td>\n",
       "      <td>96.65</td>\n",
       "      <td>4.712893</td>\n",
       "      <td>22.184212</td>\n",
       "      <td>[37.70180430750454, 38.30437529239698, 40.1329...</td>\n",
       "      <td>[-0.0826315320957784, -0.08175120301857984, -0...</td>\n",
       "      <td>[92.55625, 92.50625000000001, 92.4625, 92.4125...</td>\n",
       "      <td>[92.8875, 92.753125, 92.63125, 92.6, 92.56875,...</td>\n",
       "      <td>[-0.30406417757534443, -0.31016609793136635, -...</td>\n",
       "      <td>[-0.33124999999999716, -0.24687499999998863, -...</td>\n",
       "    </tr>\n",
       "    <tr>\n",
       "      <th>35</th>\n",
       "      <td>Frontline 30.04.2020</td>\n",
       "      <td>101.0</td>\n",
       "      <td>177.0</td>\n",
       "      <td>94.80</td>\n",
       "      <td>97.55</td>\n",
       "      <td>2.900844</td>\n",
       "      <td>47.470069</td>\n",
       "      <td>[46.73590677216251, 52.04991665830856, 49.7288...</td>\n",
       "      <td>[-0.01140600179263486, -0.01269477426244346, -...</td>\n",
       "      <td>[94.89375000000001, 94.90625000000001, 94.8937...</td>\n",
       "      <td>[95.14687500000001, 95.16875, 95.15625, 95.137...</td>\n",
       "      <td>[-0.028235606685090387, -0.03663605278363866, ...</td>\n",
       "      <td>[-0.25312499999999716, -0.26249999999998863, -...</td>\n",
       "    </tr>\n",
       "    <tr>\n",
       "      <th>36</th>\n",
       "      <td>Golden Ocean Group 31.03.2020</td>\n",
       "      <td>88.0</td>\n",
       "      <td>127.0</td>\n",
       "      <td>31.22</td>\n",
       "      <td>33.40</td>\n",
       "      <td>6.982703</td>\n",
       "      <td>26.776072</td>\n",
       "      <td>[42.96590252619159, 42.965902526191584, 42.965...</td>\n",
       "      <td>[-0.023463350400047656, -0.02778964929603616, ...</td>\n",
       "      <td>[31.232500000000012, 31.227500000000013, 31.21...</td>\n",
       "      <td>[31.391249999999985, 31.367499999999986, 31.34...</td>\n",
       "      <td>[-0.02543498269607821, -0.03289072898550098, -...</td>\n",
       "      <td>[-0.15874999999997286, -0.13999999999997215, -...</td>\n",
       "    </tr>\n",
       "    <tr>\n",
       "      <th>37</th>\n",
       "      <td>Golden Ocean Group 31.03.2020</td>\n",
       "      <td>257.0</td>\n",
       "      <td>297.0</td>\n",
       "      <td>32.42</td>\n",
       "      <td>33.42</td>\n",
       "      <td>3.084516</td>\n",
       "      <td>23.681985</td>\n",
       "      <td>[46.36536058039816, 43.42366899862656, 46.1223...</td>\n",
       "      <td>[-0.052936807673830355, -0.05100710380964442, ...</td>\n",
       "      <td>[32.28749999999998, 32.289999999999985, 32.302...</td>\n",
       "      <td>[32.37874999999993, 32.368749999999935, 32.359...</td>\n",
       "      <td>[-0.09894985868499466, -0.09763975889437852, -...</td>\n",
       "      <td>[-0.09124999999995254, -0.0787499999999497, -0...</td>\n",
       "    </tr>\n",
       "    <tr>\n",
       "      <th>38</th>\n",
       "      <td>Lerøy Seafood Group 20.08.2020</td>\n",
       "      <td>225.0</td>\n",
       "      <td>277.0</td>\n",
       "      <td>54.76</td>\n",
       "      <td>55.28</td>\n",
       "      <td>0.949598</td>\n",
       "      <td>23.109999</td>\n",
       "      <td>[39.95758958237798, 41.67511754096222, 46.5072...</td>\n",
       "      <td>[-0.005245831560813964, -0.006205373014185345,...</td>\n",
       "      <td>[54.79499999999998, 54.782499999999985, 54.782...</td>\n",
       "      <td>[54.856249999999974, 54.85124999999997, 54.848...</td>\n",
       "      <td>[-0.03189219420851459, -0.033296843090104354, ...</td>\n",
       "      <td>[-0.06124999999999403, -0.06874999999998721, -...</td>\n",
       "    </tr>\n",
       "    <tr>\n",
       "      <th>39</th>\n",
       "      <td>Lerøy Seafood Group 31.03.2020</td>\n",
       "      <td>292.0</td>\n",
       "      <td>336.0</td>\n",
       "      <td>50.56</td>\n",
       "      <td>51.76</td>\n",
       "      <td>2.373418</td>\n",
       "      <td>26.106604</td>\n",
       "      <td>[37.31465623708913, 39.719399901098654, 38.933...</td>\n",
       "      <td>[-0.04760723855351722, -0.04593347672556678, -...</td>\n",
       "      <td>[50.489999999999995, 50.5025, 50.5149999999999...</td>\n",
       "      <td>[50.633750000000006, 50.61375000000001, 50.590...</td>\n",
       "      <td>[-0.14146693974945676, -0.1395862834100203, -0...</td>\n",
       "      <td>[-0.14375000000001137, -0.1112500000000125, -0...</td>\n",
       "    </tr>\n",
       "    <tr>\n",
       "      <th>40</th>\n",
       "      <td>Mowi 20.08.2020</td>\n",
       "      <td>111.0</td>\n",
       "      <td>147.0</td>\n",
       "      <td>182.45</td>\n",
       "      <td>183.90</td>\n",
       "      <td>0.794738</td>\n",
       "      <td>21.648864</td>\n",
       "      <td>[33.80558554679516, 39.28276857377376, 40.9958...</td>\n",
       "      <td>[-0.015082449341475693, -0.015097574181846964,...</td>\n",
       "      <td>[182.60625, 182.60625, 182.6125, 182.618750000...</td>\n",
       "      <td>[182.7625, 182.72812499999998, 182.7, 182.6781...</td>\n",
       "      <td>[-0.16935088784065427, -0.1710763898334104, -0...</td>\n",
       "      <td>[-0.15625, -0.12187499999998863, -0.0874999999...</td>\n",
       "    </tr>\n",
       "    <tr>\n",
       "      <th>41</th>\n",
       "      <td>Mowi 27.04.2020</td>\n",
       "      <td>83.0</td>\n",
       "      <td>155.0</td>\n",
       "      <td>169.85</td>\n",
       "      <td>171.70</td>\n",
       "      <td>1.089196</td>\n",
       "      <td>42.539408</td>\n",
       "      <td>[45.2938913006155, 45.293891300615506, 48.0717...</td>\n",
       "      <td>[0.0025794556958545593, 0.001689892459159638, ...</td>\n",
       "      <td>[169.89999999999995, 169.87499999999994, 169.8...</td>\n",
       "      <td>[169.98749999999998, 169.97499999999997, 169.9...</td>\n",
       "      <td>[-0.011688069336057382, -0.01514550137331468, ...</td>\n",
       "      <td>[-0.0875000000000341, -0.10000000000002274, -0...</td>\n",
       "    </tr>\n",
       "    <tr>\n",
       "      <th>42</th>\n",
       "      <td>Mowi 31.03.2020</td>\n",
       "      <td>41.0</td>\n",
       "      <td>75.0</td>\n",
       "      <td>157.75</td>\n",
       "      <td>159.15</td>\n",
       "      <td>0.887480</td>\n",
       "      <td>22.194080</td>\n",
       "      <td>[50.557332891982746, 49.365740795947616, 51.18...</td>\n",
       "      <td>[-0.007874363849111833, -0.009177277296936154,...</td>\n",
       "      <td>[157.7375, 157.72500000000002, 157.72500000000...</td>\n",
       "      <td>[158.00312499999995, 157.95624999999995, 157.9...</td>\n",
       "      <td>[-0.04058547952797145, -0.05150385581648625, -...</td>\n",
       "      <td>[-0.26562499999994316, -0.2312499999999318, -0...</td>\n",
       "    </tr>\n",
       "    <tr>\n",
       "      <th>43</th>\n",
       "      <td>Mowi 31.03.2020</td>\n",
       "      <td>163.0</td>\n",
       "      <td>195.0</td>\n",
       "      <td>160.05</td>\n",
       "      <td>162.15</td>\n",
       "      <td>1.312090</td>\n",
       "      <td>22.306049</td>\n",
       "      <td>[53.32264990188297, 51.49181919313834, 54.7618...</td>\n",
       "      <td>[0.012195722567939679, 0.01130934246036179, 0....</td>\n",
       "      <td>[160.09375, 160.01875, 160.03750000000002, 160...</td>\n",
       "      <td>[160.01874999999998, 160.05624999999998, 160.0...</td>\n",
       "      <td>[0.09985900236668364, 0.09606090277347228, 0.0...</td>\n",
       "      <td>[0.07500000000001705, -0.037499999999965894, -...</td>\n",
       "    </tr>\n",
       "    <tr>\n",
       "      <th>44</th>\n",
       "      <td>Mowi 31.03.2020</td>\n",
       "      <td>327.0</td>\n",
       "      <td>364.0</td>\n",
       "      <td>157.90</td>\n",
       "      <td>160.05</td>\n",
       "      <td>1.361621</td>\n",
       "      <td>25.964907</td>\n",
       "      <td>[28.969522423916445, 33.96924090017224, 40.573...</td>\n",
       "      <td>[-0.03968502457247328, -0.03938427896875048, -...</td>\n",
       "      <td>[158.15, 158.1, 158.1125, 158.10000000000002, ...</td>\n",
       "      <td>[158.353125, 158.315625, 158.30625, 158.30625,...</td>\n",
       "      <td>[-0.4152549514968192, -0.4149714525448752, -0....</td>\n",
       "      <td>[-0.203125, -0.21562500000001705, -0.193749999...</td>\n",
       "    </tr>\n",
       "    <tr>\n",
       "      <th>45</th>\n",
       "      <td>Nordic Semiconductor 31.03.2020</td>\n",
       "      <td>55.0</td>\n",
       "      <td>103.0</td>\n",
       "      <td>42.14</td>\n",
       "      <td>44.48</td>\n",
       "      <td>5.552919</td>\n",
       "      <td>32.154026</td>\n",
       "      <td>[44.91978648764051, 44.91978648764051, 43.5896...</td>\n",
       "      <td>[-0.10548695070021985, -0.10271160602723045, -...</td>\n",
       "      <td>[42.04750000000002, 42.04000000000002, 42.0250...</td>\n",
       "      <td>[42.25749999999999, 42.22999999999999, 42.1937...</td>\n",
       "      <td>[-0.23468550510354752, -0.2342475366142919, -0...</td>\n",
       "      <td>[-0.20999999999997243, -0.1899999999999693, -0...</td>\n",
       "    </tr>\n",
       "    <tr>\n",
       "      <th>46</th>\n",
       "      <td>Nordic Semiconductor 31.03.2020</td>\n",
       "      <td>156.0</td>\n",
       "      <td>196.0</td>\n",
       "      <td>43.48</td>\n",
       "      <td>45.20</td>\n",
       "      <td>3.955842</td>\n",
       "      <td>26.277744</td>\n",
       "      <td>[40.25412316805879, 45.18893662601526, 45.6613...</td>\n",
       "      <td>[-0.04661060941281172, -0.0484734306505566, -0...</td>\n",
       "      <td>[43.73000000000005, 43.71250000000005, 43.6725...</td>\n",
       "      <td>[43.797499999999985, 43.78374999999998, 43.776...</td>\n",
       "      <td>[-0.10612704010975058, -0.11233388839838455, -...</td>\n",
       "      <td>[-0.06749999999993861, -0.0712499999999352, -0...</td>\n",
       "    </tr>\n",
       "    <tr>\n",
       "      <th>47</th>\n",
       "      <td>Norsk Hydro 30.04.2020</td>\n",
       "      <td>187.0</td>\n",
       "      <td>244.0</td>\n",
       "      <td>25.53</td>\n",
       "      <td>25.88</td>\n",
       "      <td>1.370936</td>\n",
       "      <td>22.228078</td>\n",
       "      <td>[48.169663969056934, 46.1840389872942, 48.4220...</td>\n",
       "      <td>[-0.005889242827008195, -0.007432931769459289,...</td>\n",
       "      <td>[25.53250000000002, 25.52375000000002, 25.5200...</td>\n",
       "      <td>[25.562500000000014, 25.556250000000013, 25.55...</td>\n",
       "      <td>[-0.0005204390576445976, -0.002885481731829967...</td>\n",
       "      <td>[-0.02999999999999403, -0.03249999999999176, -...</td>\n",
       "    </tr>\n",
       "    <tr>\n",
       "      <th>48</th>\n",
       "      <td>Norwegian Finans Holding 30.04.2020</td>\n",
       "      <td>42.0</td>\n",
       "      <td>95.0</td>\n",
       "      <td>54.60</td>\n",
       "      <td>56.10</td>\n",
       "      <td>2.747253</td>\n",
       "      <td>32.233896</td>\n",
       "      <td>[44.32307312745863, 45.44665145270308, 47.6698...</td>\n",
       "      <td>[-0.13518878242253815, -0.13622585103771814, -...</td>\n",
       "      <td>[54.556250000000006, 54.518750000000004, 54.53...</td>\n",
       "      <td>[55.07187499999999, 54.99374999999999, 54.9187...</td>\n",
       "      <td>[-0.3596164068064776, -0.36981616329872746, -0...</td>\n",
       "      <td>[-0.5156249999999858, -0.4749999999999872, -0....</td>\n",
       "    </tr>\n",
       "    <tr>\n",
       "      <th>49</th>\n",
       "      <td>Norwegian Finans Holding 30.04.2020</td>\n",
       "      <td>206.0</td>\n",
       "      <td>237.0</td>\n",
       "      <td>55.00</td>\n",
       "      <td>56.70</td>\n",
       "      <td>3.090909</td>\n",
       "      <td>20.369114</td>\n",
       "      <td>[46.123587610282044, 46.12358761028206, 49.627...</td>\n",
       "      <td>[-0.01017645935126905, -0.00976577175837661, -...</td>\n",
       "      <td>[55.0625, 55.05625, 55.06875, 55.06875, 55.043...</td>\n",
       "      <td>[55.02499999999999, 55.021874999999994, 55.018...</td>\n",
       "      <td>[-0.04146324473808, -0.040391124223610006, -0....</td>\n",
       "      <td>[0.037500000000008527, 0.03437500000000426, 0....</td>\n",
       "    </tr>\n",
       "    <tr>\n",
       "      <th>50</th>\n",
       "      <td>Orkla 20.08.2020</td>\n",
       "      <td>83.0</td>\n",
       "      <td>137.0</td>\n",
       "      <td>89.48</td>\n",
       "      <td>90.08</td>\n",
       "      <td>0.670541</td>\n",
       "      <td>23.971483</td>\n",
       "      <td>[43.34272044586115, 45.89177763983776, 50.5733...</td>\n",
       "      <td>[-0.003582939037991072, -0.0035346491966796543...</td>\n",
       "      <td>[89.50249999999997, 89.49999999999997, 89.4999...</td>\n",
       "      <td>[89.50249999999997, 89.50249999999997, 89.5037...</td>\n",
       "      <td>[-0.01763054518240626, -0.017787154813126423, ...</td>\n",
       "      <td>[0.0, -0.0024999999999977263, -0.0037499999999...</td>\n",
       "    </tr>\n",
       "    <tr>\n",
       "      <th>51</th>\n",
       "      <td>Orkla 27.04.2020</td>\n",
       "      <td>87.0</td>\n",
       "      <td>132.0</td>\n",
       "      <td>93.68</td>\n",
       "      <td>94.24</td>\n",
       "      <td>0.597780</td>\n",
       "      <td>21.647288</td>\n",
       "      <td>[51.964281143139566, 49.669590933802084, 51.90...</td>\n",
       "      <td>[0.0044792737967312415, 0.004166029092344262, ...</td>\n",
       "      <td>[93.69250000000004, 93.69000000000004, 93.6875...</td>\n",
       "      <td>[93.6875000000001, 93.6875000000001, 93.685000...</td>\n",
       "      <td>[0.019286781851332858, 0.018687099268484705, 0...</td>\n",
       "      <td>[0.004999999999938609, 0.002499999999940883, 0...</td>\n",
       "    </tr>\n",
       "    <tr>\n",
       "      <th>52</th>\n",
       "      <td>Orkla 27.04.2020</td>\n",
       "      <td>286.0</td>\n",
       "      <td>326.0</td>\n",
       "      <td>93.42</td>\n",
       "      <td>94.10</td>\n",
       "      <td>0.727896</td>\n",
       "      <td>20.127998</td>\n",
       "      <td>[45.679644316909, 45.679644316909, 48.36954005...</td>\n",
       "      <td>[0.002369760654969704, 0.0010302613941490062, ...</td>\n",
       "      <td>[93.51000000000006, 93.48500000000006, 93.4800...</td>\n",
       "      <td>[93.53125000000003, 93.51500000000003, 93.5087...</td>\n",
       "      <td>[0.024913905386248124, 0.018935871427594515, 0...</td>\n",
       "      <td>[-0.021249999999966462, -0.029999999999972715,...</td>\n",
       "    </tr>\n",
       "    <tr>\n",
       "      <th>53</th>\n",
       "      <td>Orkla 29.04.2020</td>\n",
       "      <td>215.0</td>\n",
       "      <td>276.0</td>\n",
       "      <td>94.16</td>\n",
       "      <td>94.78</td>\n",
       "      <td>0.658454</td>\n",
       "      <td>27.397161</td>\n",
       "      <td>[53.51528574982091, 52.16294995387004, 53.4024...</td>\n",
       "      <td>[0.00849415496714348, 0.007542754336566041, 0....</td>\n",
       "      <td>[94.19749999999992, 94.18749999999991, 94.1724...</td>\n",
       "      <td>[94.18875000000003, 94.19625000000003, 94.1962...</td>\n",
       "      <td>[0.05064794543404961, 0.047159053766116274, 0....</td>\n",
       "      <td>[0.008749999999892566, -0.00875000000011994, -...</td>\n",
       "    </tr>\n",
       "    <tr>\n",
       "      <th>54</th>\n",
       "      <td>Photocure 31.03.2020</td>\n",
       "      <td>37.0</td>\n",
       "      <td>83.0</td>\n",
       "      <td>56.50</td>\n",
       "      <td>57.70</td>\n",
       "      <td>2.123894</td>\n",
       "      <td>26.730313</td>\n",
       "      <td>[46.543596884395264, 46.543596884395264, 48.62...</td>\n",
       "      <td>[-0.025216939028173894, -0.027503178419804937,...</td>\n",
       "      <td>[56.56249999999997, 56.56249999999997, 56.5749...</td>\n",
       "      <td>[56.73125, 56.6875, 56.65625, 56.65, 56.64375,...</td>\n",
       "      <td>[-0.06450306578473342, -0.0714265610695763, -0...</td>\n",
       "      <td>[-0.16875000000003126, -0.12500000000002842, -...</td>\n",
       "    </tr>\n",
       "    <tr>\n",
       "      <th>55</th>\n",
       "      <td>Photocure 31.03.2020</td>\n",
       "      <td>224.0</td>\n",
       "      <td>261.0</td>\n",
       "      <td>54.60</td>\n",
       "      <td>57.00</td>\n",
       "      <td>4.395604</td>\n",
       "      <td>27.339309</td>\n",
       "      <td>[30.326253450179863, 33.83268240143734, 33.832...</td>\n",
       "      <td>[-0.08393432673207445, -0.08053348782045412, -...</td>\n",
       "      <td>[54.68749999999995, 54.68749999999995, 54.6874...</td>\n",
       "      <td>[54.825000000000024, 54.800000000000026, 54.76...</td>\n",
       "      <td>[-0.32450153035320684, -0.3163273857577014, -0...</td>\n",
       "      <td>[-0.1375000000000739, -0.11250000000007532, -0...</td>\n",
       "    </tr>\n",
       "    <tr>\n",
       "      <th>56</th>\n",
       "      <td>SalMar 29.04.2020</td>\n",
       "      <td>21.0</td>\n",
       "      <td>58.0</td>\n",
       "      <td>405.60</td>\n",
       "      <td>411.30</td>\n",
       "      <td>1.405325</td>\n",
       "      <td>32.261495</td>\n",
       "      <td>[33.43159505448615, 38.99228996465056, 39.5825...</td>\n",
       "      <td>[-0.04354275305644668, -0.042076041868442375, ...</td>\n",
       "      <td>[405.7375000000002, 405.7375000000002, 405.712...</td>\n",
       "      <td>[406.40000000000003, 406.41875000000005, 406.4...</td>\n",
       "      <td>[-0.4776407404374342, -0.48470919286781644, -0...</td>\n",
       "      <td>[-0.6624999999998522, -0.6812499999998636, -0....</td>\n",
       "    </tr>\n",
       "  </tbody>\n",
       "</table>\n",
       "</div>"
      ],
      "text/plain": [
       "                                   navn  start  endex  start_pris  slutt_pris  \\\n",
       "0                       Aker 02.04.2020  128.0  186.0      240.20      247.80   \n",
       "1                       Aker 02.04.2020  229.0  267.0      245.80      249.60   \n",
       "2                       Aker 30.04.2020   58.0  106.0      267.80      272.60   \n",
       "3                       Aker 30.04.2020  118.0  159.0      270.40      273.60   \n",
       "4                       Aker 31.03.2020   41.0   70.0      227.80      235.00   \n",
       "5                       Aker 31.03.2020  112.0  142.0      232.80      235.00   \n",
       "6                       Aker 31.03.2020  279.0  313.0      229.00      233.40   \n",
       "7                    Aker BP 20.08.2020  163.0  207.0      175.15      176.75   \n",
       "8                    Aker BP 27.04.2020   21.0   61.0      154.00      155.45   \n",
       "9                    Aker BP 29.04.2020   36.0   78.0      159.45      164.15   \n",
       "10                   Aker BP 29.04.2020  124.0  149.0      163.80      167.50   \n",
       "11                   Aker BP 30.04.2020   62.0  111.0      166.30      170.00   \n",
       "12                   Aker BP 30.04.2020  142.0  169.0      169.65      173.55   \n",
       "13                   Aker BP 31.03.2020   42.0   75.0      125.55      129.65   \n",
       "14                   Aker BP 31.03.2020  120.0  171.0      128.30      130.75   \n",
       "15                Bakkafrost 31.03.2020   40.0   96.0      493.60      516.00   \n",
       "16                Bakkafrost 31.03.2020  294.0  330.0      500.50      503.50   \n",
       "17                       DNB 29.04.2020  153.0  208.0      120.75      122.45   \n",
       "18                       DNB 29.04.2020  309.0  359.0      121.90      123.80   \n",
       "19                       DNB 30.04.2020  112.0  172.0      119.85      122.55   \n",
       "20                     Entra 31.03.2020  216.0  258.0      120.80      123.20   \n",
       "21                   Equinor 20.08.2020   82.0  145.0      142.25      143.60   \n",
       "22                   Equinor 24.04.2020   93.0  155.0      130.80      133.10   \n",
       "23                   Equinor 24.04.2020  215.0  253.0      133.15      135.00   \n",
       "24                   Equinor 27.04.2020   11.0   72.0      133.70      135.80   \n",
       "25                   Equinor 29.04.2020   34.0   65.0      137.10      138.65   \n",
       "26                   Equinor 29.04.2020   94.0  145.0      138.30      140.25   \n",
       "27                   Equinor 29.04.2020  301.0  373.0      138.50      140.85   \n",
       "28                   Equinor 30.04.2020  124.0  170.0      140.55      143.25   \n",
       "29                   Equinor 31.03.2020   37.0   98.0      125.60      130.05   \n",
       "30                   Equinor 31.03.2020  140.0  190.0      129.30      132.15   \n",
       "31                 Frontline 27.04.2020  128.0  168.0      114.40      117.40   \n",
       "32                 Frontline 27.04.2020  179.0  206.0      116.80      118.20   \n",
       "33                 Frontline 29.04.2020   72.0   97.0      108.20      111.20   \n",
       "34                 Frontline 30.04.2020   29.0   54.0       92.30       96.65   \n",
       "35                 Frontline 30.04.2020  101.0  177.0       94.80       97.55   \n",
       "36        Golden Ocean Group 31.03.2020   88.0  127.0       31.22       33.40   \n",
       "37        Golden Ocean Group 31.03.2020  257.0  297.0       32.42       33.42   \n",
       "38       Lerøy Seafood Group 20.08.2020  225.0  277.0       54.76       55.28   \n",
       "39       Lerøy Seafood Group 31.03.2020  292.0  336.0       50.56       51.76   \n",
       "40                      Mowi 20.08.2020  111.0  147.0      182.45      183.90   \n",
       "41                      Mowi 27.04.2020   83.0  155.0      169.85      171.70   \n",
       "42                      Mowi 31.03.2020   41.0   75.0      157.75      159.15   \n",
       "43                      Mowi 31.03.2020  163.0  195.0      160.05      162.15   \n",
       "44                      Mowi 31.03.2020  327.0  364.0      157.90      160.05   \n",
       "45      Nordic Semiconductor 31.03.2020   55.0  103.0       42.14       44.48   \n",
       "46      Nordic Semiconductor 31.03.2020  156.0  196.0       43.48       45.20   \n",
       "47               Norsk Hydro 30.04.2020  187.0  244.0       25.53       25.88   \n",
       "48  Norwegian Finans Holding 30.04.2020   42.0   95.0       54.60       56.10   \n",
       "49  Norwegian Finans Holding 30.04.2020  206.0  237.0       55.00       56.70   \n",
       "50                     Orkla 20.08.2020   83.0  137.0       89.48       90.08   \n",
       "51                     Orkla 27.04.2020   87.0  132.0       93.68       94.24   \n",
       "52                     Orkla 27.04.2020  286.0  326.0       93.42       94.10   \n",
       "53                     Orkla 29.04.2020  215.0  276.0       94.16       94.78   \n",
       "54                 Photocure 31.03.2020   37.0   83.0       56.50       57.70   \n",
       "55                 Photocure 31.03.2020  224.0  261.0       54.60       57.00   \n",
       "56                    SalMar 29.04.2020   21.0   58.0      405.60      411.30   \n",
       "\n",
       "     oppgang      score                                             rsi_20  \\\n",
       "0   3.164030  50.703007  [33.81243254968905, 33.81243254968905, 38.6569...   \n",
       "1   1.545972  31.951273  [50.71615637249463, 47.90096406491234, 47.9009...   \n",
       "2   1.792382  36.304068  [39.67111865884208, 39.17672236892631, 38.6694...   \n",
       "3   1.183432  30.083060  [48.123898874117444, 49.52600847498533, 53.495...   \n",
       "4   3.160667  29.493962  [47.55734379453681, 49.10491214742308, 47.6255...   \n",
       "5   0.945017  24.096609  [47.36172689163056, 43.825070640844395, 50.617...   \n",
       "6   1.921397  27.159496  [39.788251937614454, 42.89453467747394, 42.894...   \n",
       "7   0.913503  28.551216  [52.614410878664444, 50.49169578004401, 50.491...   \n",
       "8   0.941558  27.912907  [51.13648908828135, 46.53724332213418, 44.7711...   \n",
       "9   2.947632  34.597741  [43.71824202124468, 48.78749808747356, 49.6553...   \n",
       "10  2.258852  22.420072  [48.563878471987685, 49.490585535546636, 55.03...   \n",
       "11  2.224895  37.120464  [39.28638402164819, 41.0404983404407, 40.79238...   \n",
       "12  2.298851  22.773124  [53.89932262866584, 48.376584613652184, 52.000...   \n",
       "13  3.265631  28.234039  [53.284094239011026, 53.284094239011026, 51.25...   \n",
       "14  1.909587  35.553886  [48.469794160419035, 49.26645625114961, 46.255...   \n",
       "15  4.538088  59.716758  [52.0789409300997, 54.52131984254919, 53.56344...   \n",
       "16  0.599401  30.577990  [48.02950555312028, 45.82335633559211, 41.7828...   \n",
       "17  1.407867  33.301918  [47.60575143415719, 47.6057514341572, 49.63518...   \n",
       "18  1.558655  31.106385  [48.632486076226854, 51.1050661116978, 51.1050...   \n",
       "19  2.252816  38.550965  [46.23156369526609, 53.103808809883056, 49.756...   \n",
       "20  1.986755  30.299205  [32.086957828829426, 30.185892130652746, 34.28...   \n",
       "21  0.949033  34.416375  [41.06861518854498, 41.06861518854498, 39.2595...   \n",
       "22  1.758410  37.900690  [36.71234066415662, 41.11017076728129, 43.8483...   \n",
       "23  1.389410  24.040310  [44.30331994730037, 52.28710440944181, 54.0215...   \n",
       "24  1.570681  38.221480  [58.09775647580517, 61.20709499012856, 52.9372...   \n",
       "25  1.130562  22.159543  [49.163074883011305, 49.163074883011305, 46.46...   \n",
       "26  1.409978  33.675561  [47.8057583382674, 46.9936592531081, 46.168101...   \n",
       "27  1.696751  44.145926  [40.481151842122124, 43.68317266733417, 50.667...   \n",
       "28  1.921025  32.556443  [50.61415934647544, 46.270144247259786, 44.270...   \n",
       "29  3.542994  46.261936  [51.95420839101079, 52.63409474283368, 53.3292...   \n",
       "30  2.204176  34.557896  [49.35598701693753, 49.355987016937526, 51.497...   \n",
       "31  2.622378  27.944612  [36.74370588321431, 36.74370588321431, 43.6149...   \n",
       "32  1.198630  20.906119  [52.48034795859831, 49.86865397756288, 49.8686...   \n",
       "33  2.772643  20.351049  [34.93388570034644, 40.13185781493288, 44.7757...   \n",
       "34  4.712893  22.184212  [37.70180430750454, 38.30437529239698, 40.1329...   \n",
       "35  2.900844  47.470069  [46.73590677216251, 52.04991665830856, 49.7288...   \n",
       "36  6.982703  26.776072  [42.96590252619159, 42.965902526191584, 42.965...   \n",
       "37  3.084516  23.681985  [46.36536058039816, 43.42366899862656, 46.1223...   \n",
       "38  0.949598  23.109999  [39.95758958237798, 41.67511754096222, 46.5072...   \n",
       "39  2.373418  26.106604  [37.31465623708913, 39.719399901098654, 38.933...   \n",
       "40  0.794738  21.648864  [33.80558554679516, 39.28276857377376, 40.9958...   \n",
       "41  1.089196  42.539408  [45.2938913006155, 45.293891300615506, 48.0717...   \n",
       "42  0.887480  22.194080  [50.557332891982746, 49.365740795947616, 51.18...   \n",
       "43  1.312090  22.306049  [53.32264990188297, 51.49181919313834, 54.7618...   \n",
       "44  1.361621  25.964907  [28.969522423916445, 33.96924090017224, 40.573...   \n",
       "45  5.552919  32.154026  [44.91978648764051, 44.91978648764051, 43.5896...   \n",
       "46  3.955842  26.277744  [40.25412316805879, 45.18893662601526, 45.6613...   \n",
       "47  1.370936  22.228078  [48.169663969056934, 46.1840389872942, 48.4220...   \n",
       "48  2.747253  32.233896  [44.32307312745863, 45.44665145270308, 47.6698...   \n",
       "49  3.090909  20.369114  [46.123587610282044, 46.12358761028206, 49.627...   \n",
       "50  0.670541  23.971483  [43.34272044586115, 45.89177763983776, 50.5733...   \n",
       "51  0.597780  21.647288  [51.964281143139566, 49.669590933802084, 51.90...   \n",
       "52  0.727896  20.127998  [45.679644316909, 45.679644316909, 48.36954005...   \n",
       "53  0.658454  27.397161  [53.51528574982091, 52.16294995387004, 53.4024...   \n",
       "54  2.123894  26.730313  [46.543596884395264, 46.543596884395264, 48.62...   \n",
       "55  4.395604  27.339309  [30.326253450179863, 33.83268240143734, 33.832...   \n",
       "56  1.405325  32.261495  [33.43159505448615, 38.99228996465056, 39.5825...   \n",
       "\n",
       "                                                 trix  \\\n",
       "0   [-0.04397465516493707, -0.045443866319610726, ...   \n",
       "1   [-0.010354636272359287, -0.009138505674278392,...   \n",
       "2   [-0.10058224660774777, -0.0966240136151853, -0...   \n",
       "3   [-0.004073298420161102, -0.006143478019842823,...   \n",
       "4   [-0.04210342809995147, -0.04285742782661868, -...   \n",
       "5   [-0.04267460755521606, -0.04193714503093347, -...   \n",
       "6   [-0.0495834858690581, -0.047488407764097115, -...   \n",
       "7   [0.0038925265723230265, 0.0032561865549406246,...   \n",
       "8   [-0.014545718565755279, -0.014296135121243381,...   \n",
       "9   [-0.026287386371428013, -0.027061119126633993,...   \n",
       "10  [0.010065172011288013, 0.006516341266980506, 0...   \n",
       "11  [-0.06371392783607457, -0.06201924290997608, -...   \n",
       "12  [0.01587208650380095, 0.01458995591119494, 0.0...   \n",
       "13  [-0.020996960150601016, -0.0229650561119638, -...   \n",
       "14  [-0.02529909972235252, -0.024559551360116286, ...   \n",
       "15  [0.014790985828673366, 0.013810456341929078, 0...   \n",
       "16  [-0.02742575491067402, -0.02544841928434523, -...   \n",
       "17  [-0.006551516818061071, -0.007497530830843767,...   \n",
       "18  [0.0015190656011022496, 0.0010608579569971893,...   \n",
       "19  [-0.003246826393201956, -0.003775997179004074,...   \n",
       "20  [-0.0592899447107255, -0.06029911105820427, -0...   \n",
       "21  [-0.01331474143004796, -0.01329098840474391, -...   \n",
       "22  [-0.025356804088786506, -0.02461829753130863, ...   \n",
       "23  [0.009615022864393365, 0.007326840449764252, 0...   \n",
       "24  [-0.0016543379582678206, 0.0015231096736938068...   \n",
       "25  [0.0029350838934820637, 0.0016485175306253505,...   \n",
       "26  [-0.017319331908388632, -0.018250686459327873,...   \n",
       "27  [-0.016999295054989236, -0.01721292071203934, ...   \n",
       "28  [-0.0023488420236808544, -0.004385889006396021...   \n",
       "29  [0.005657108188206672, 0.003436786084194138, 0...   \n",
       "30  [-0.008698380324725898, -0.009123936471926311,...   \n",
       "31  [-0.025137205615981827, -0.029964405762789553,...   \n",
       "32  [0.0016141113259677481, -0.0021825584570893688...   \n",
       "33  [-0.049203765526197686, -0.05022942908251279, ...   \n",
       "34  [-0.0826315320957784, -0.08175120301857984, -0...   \n",
       "35  [-0.01140600179263486, -0.01269477426244346, -...   \n",
       "36  [-0.023463350400047656, -0.02778964929603616, ...   \n",
       "37  [-0.052936807673830355, -0.05100710380964442, ...   \n",
       "38  [-0.005245831560813964, -0.006205373014185345,...   \n",
       "39  [-0.04760723855351722, -0.04593347672556678, -...   \n",
       "40  [-0.015082449341475693, -0.015097574181846964,...   \n",
       "41  [0.0025794556958545593, 0.001689892459159638, ...   \n",
       "42  [-0.007874363849111833, -0.009177277296936154,...   \n",
       "43  [0.012195722567939679, 0.01130934246036179, 0....   \n",
       "44  [-0.03968502457247328, -0.03938427896875048, -...   \n",
       "45  [-0.10548695070021985, -0.10271160602723045, -...   \n",
       "46  [-0.04661060941281172, -0.0484734306505566, -0...   \n",
       "47  [-0.005889242827008195, -0.007432931769459289,...   \n",
       "48  [-0.13518878242253815, -0.13622585103771814, -...   \n",
       "49  [-0.01017645935126905, -0.00976577175837661, -...   \n",
       "50  [-0.003582939037991072, -0.0035346491966796543...   \n",
       "51  [0.0044792737967312415, 0.004166029092344262, ...   \n",
       "52  [0.002369760654969704, 0.0010302613941490062, ...   \n",
       "53  [0.00849415496714348, 0.007542754336566041, 0....   \n",
       "54  [-0.025216939028173894, -0.027503178419804937,...   \n",
       "55  [-0.08393432673207445, -0.08053348782045412, -...   \n",
       "56  [-0.04354275305644668, -0.042076041868442375, ...   \n",
       "\n",
       "                                           open_8_sma  \\\n",
       "0   [241.0750000000002, 240.9750000000002, 240.950...   \n",
       "1   [245.27500000000046, 245.32500000000044, 245.3...   \n",
       "2   [267.25, 267.09999999999997, 267.0999999999999...   \n",
       "3   [270.22499999999985, 270.29999999999984, 270.4...   \n",
       "4   [227.49999999999997, 227.47499999999997, 227.3...   \n",
       "5   [232.34999999999997, 232.37499999999997, 232.5...   \n",
       "6   [228.87499999999986, 228.87499999999983, 228.8...   \n",
       "7   [175.125, 175.10625, 175.10625, 175.10625, 175...   \n",
       "8   [153.5, 153.53125, 153.4625, 153.4874999999999...   \n",
       "9   [159.74375, 159.73125000000002, 159.68125, 159...   \n",
       "10  [164.10000000000005, 164.00625000000005, 164.0...   \n",
       "11  [166.05, 166.03125, 166.1125, 166.318750000000...   \n",
       "12  [169.70000000000005, 169.63750000000005, 169.6...   \n",
       "13  [125.17500000000001, 125.15, 125.1437500000000...   \n",
       "14  [128.14999999999995, 128.15624999999994, 128.1...   \n",
       "15  [494.1500000000001, 494.12500000000006, 494.02...   \n",
       "16  [498.9625, 498.9625, 499.0625, 499.1875, 499.1...   \n",
       "17  [120.69374999999982, 120.68749999999983, 120.6...   \n",
       "18  [121.99999999999973, 121.98749999999974, 121.9...   \n",
       "19  [119.95625000000007, 119.96250000000008, 119.9...   \n",
       "20  [120.97500000000001, 120.9, 120.85, 120.875, 1...   \n",
       "21  [142.25000000000003, 142.23125000000002, 142.2...   \n",
       "22  [130.89999999999995, 130.89374999999995, 130.8...   \n",
       "23  [133.51875, 133.5, 133.525, 133.55, 133.55625,...   \n",
       "24  [133.43750000000003, 133.49375000000003, 133.5...   \n",
       "25  [137.10624999999996, 137.07499999999996, 137.0...   \n",
       "26  [138.16874999999993, 138.15624999999994, 138.1...   \n",
       "27  [138.51249999999996, 138.51249999999996, 138.5...   \n",
       "28  [140.43750000000003, 140.38750000000002, 140.3...   \n",
       "29  [125.66562499999999, 125.68437499999999, 125.6...   \n",
       "30  [129.25624999999997, 129.24999999999997, 129.2...   \n",
       "31  [114.60000000000008, 114.52500000000009, 114.5...   \n",
       "32  [116.6875000000001, 116.5875000000001, 116.525...   \n",
       "33  [108.5625, 108.5375, 108.5375, 108.5625, 108.5...   \n",
       "34  [92.55625, 92.50625000000001, 92.4625, 92.4125...   \n",
       "35  [94.89375000000001, 94.90625000000001, 94.8937...   \n",
       "36  [31.232500000000012, 31.227500000000013, 31.21...   \n",
       "37  [32.28749999999998, 32.289999999999985, 32.302...   \n",
       "38  [54.79499999999998, 54.782499999999985, 54.782...   \n",
       "39  [50.489999999999995, 50.5025, 50.5149999999999...   \n",
       "40  [182.60625, 182.60625, 182.6125, 182.618750000...   \n",
       "41  [169.89999999999995, 169.87499999999994, 169.8...   \n",
       "42  [157.7375, 157.72500000000002, 157.72500000000...   \n",
       "43  [160.09375, 160.01875, 160.03750000000002, 160...   \n",
       "44  [158.15, 158.1, 158.1125, 158.10000000000002, ...   \n",
       "45  [42.04750000000002, 42.04000000000002, 42.0250...   \n",
       "46  [43.73000000000005, 43.71250000000005, 43.6725...   \n",
       "47  [25.53250000000002, 25.52375000000002, 25.5200...   \n",
       "48  [54.556250000000006, 54.518750000000004, 54.53...   \n",
       "49  [55.0625, 55.05625, 55.06875, 55.06875, 55.043...   \n",
       "50  [89.50249999999997, 89.49999999999997, 89.4999...   \n",
       "51  [93.69250000000004, 93.69000000000004, 93.6875...   \n",
       "52  [93.51000000000006, 93.48500000000006, 93.4800...   \n",
       "53  [94.19749999999992, 94.18749999999991, 94.1724...   \n",
       "54  [56.56249999999997, 56.56249999999997, 56.5749...   \n",
       "55  [54.68749999999995, 54.68749999999995, 54.6874...   \n",
       "56  [405.7375000000002, 405.7375000000002, 405.712...   \n",
       "\n",
       "                                          open_16_sma  \\\n",
       "0   [241.77500000000003, 241.6125, 241.47500000000...   \n",
       "1   [245.4375000000002, 245.4750000000002, 245.512...   \n",
       "2   [268.4249999999998, 268.3499999999998, 268.249...   \n",
       "3   [271.12499999999983, 271.03749999999985, 270.9...   \n",
       "4   [228.41250000000005, 228.35000000000005, 228.3...   \n",
       "5   [232.82500000000005, 232.70000000000005, 232.7...   \n",
       "6   [229.31250000000003, 229.30000000000004, 229.3...   \n",
       "7   [175.15937499999998, 175.15624999999997, 175.1...   \n",
       "8   [153.7, 153.63125, 153.58125, 153.540625, 153....   \n",
       "9   [160.00312499999993, 160.00312499999993, 159.9...   \n",
       "10  [164.365625, 164.3125, 164.328125, 164.328125,...   \n",
       "11  [167.01874999999995, 166.92187499999997, 166.8...   \n",
       "12  [169.58125, 169.60625000000002, 169.6250000000...   \n",
       "13  [125.71562499999996, 125.67187499999997, 125.6...   \n",
       "14  [128.31250000000006, 128.28750000000005, 128.2...   \n",
       "15  [493.88749999999993, 494.075, 494.137500000000...   \n",
       "16  [499.7812500000001, 499.6875000000001, 499.500...   \n",
       "17  [120.87500000000018, 120.85312500000018, 120.8...   \n",
       "18  [121.97812500000009, 121.9875000000001, 122.00...   \n",
       "19  [120.053125, 120.04375, 120.028125, 120.01875,...   \n",
       "20  [121.30000000000041, 121.2000000000004, 121.13...   \n",
       "21  [142.33750000000003, 142.31562500000004, 142.2...   \n",
       "22  [131.00937500000003, 130.99062500000002, 130.9...   \n",
       "23  [133.67500000000004, 133.66875000000005, 133.6...   \n",
       "24  [133.425, 133.45384615384617, 133.464285714285...   \n",
       "25  [137.15625000000003, 137.15625000000003, 137.1...   \n",
       "26  [138.47187500000004, 138.43125000000003, 138.3...   \n",
       "27  [138.69062499999998, 138.66562499999998, 138.6...   \n",
       "28  [140.6750000000001, 140.62500000000009, 140.56...   \n",
       "29  [125.78593750000005, 125.76718750000005, 125.7...   \n",
       "30  [129.38125000000008, 129.3687500000001, 129.35...   \n",
       "31  [115.125, 115.05000000000001, 114.987500000000...   \n",
       "32  [116.98125, 116.925, 116.87499999999999, 116.8...   \n",
       "33  [108.91250000000004, 108.82500000000003, 108.7...   \n",
       "34  [92.8875, 92.753125, 92.63125, 92.6, 92.56875,...   \n",
       "35  [95.14687500000001, 95.16875, 95.15625, 95.137...   \n",
       "36  [31.391249999999985, 31.367499999999986, 31.34...   \n",
       "37  [32.37874999999993, 32.368749999999935, 32.359...   \n",
       "38  [54.856249999999974, 54.85124999999997, 54.848...   \n",
       "39  [50.633750000000006, 50.61375000000001, 50.590...   \n",
       "40  [182.7625, 182.72812499999998, 182.7, 182.6781...   \n",
       "41  [169.98749999999998, 169.97499999999997, 169.9...   \n",
       "42  [158.00312499999995, 157.95624999999995, 157.9...   \n",
       "43  [160.01874999999998, 160.05624999999998, 160.0...   \n",
       "44  [158.353125, 158.315625, 158.30625, 158.30625,...   \n",
       "45  [42.25749999999999, 42.22999999999999, 42.1937...   \n",
       "46  [43.797499999999985, 43.78374999999998, 43.776...   \n",
       "47  [25.562500000000014, 25.556250000000013, 25.55...   \n",
       "48  [55.07187499999999, 54.99374999999999, 54.9187...   \n",
       "49  [55.02499999999999, 55.021874999999994, 55.018...   \n",
       "50  [89.50249999999997, 89.50249999999997, 89.5037...   \n",
       "51  [93.6875000000001, 93.6875000000001, 93.685000...   \n",
       "52  [93.53125000000003, 93.51500000000003, 93.5087...   \n",
       "53  [94.18875000000003, 94.19625000000003, 94.1962...   \n",
       "54  [56.73125, 56.6875, 56.65625, 56.65, 56.64375,...   \n",
       "55  [54.825000000000024, 54.800000000000026, 54.76...   \n",
       "56  [406.40000000000003, 406.41875000000005, 406.4...   \n",
       "\n",
       "                                                macds  \\\n",
       "0   [-0.7287504097325816, -0.7451481517388542, -0....   \n",
       "1   [-0.21239923294784613, -0.19739665579452376, -...   \n",
       "2   [-1.7621945819520486, -1.7223674741857025, -1....   \n",
       "3   [0.061652168278914544, 0.02892586375705228, 0....   \n",
       "4   [-0.45564843789836923, -0.47301410008353206, -...   \n",
       "5   [-0.4568032144150203, -0.46607928971840773, -0...   \n",
       "6   [-0.7542320347922611, -0.7363138158583081, -0....   \n",
       "7   [0.04339675217064662, 0.03901491654944172, 0.0...   \n",
       "8   [-0.07021064141847043, -0.07129453438168222, -...   \n",
       "9   [-0.18963377788574767, -0.1990575001083057, -0...   \n",
       "10  [0.16054112764560557, 0.13269027066627712, 0.1...   \n",
       "11  [-0.7639174430836233, -0.7487899163157677, -0....   \n",
       "12  [0.15071841424524274, 0.14338499652816003, 0.1...   \n",
       "13  [-0.0879671406387187, -0.10315349370024961, -0...   \n",
       "14  [-0.12509784585113645, -0.12790872488825286, -...   \n",
       "15  [0.3434291945911694, 0.33155536944211594, 0.31...   \n",
       "16  [-0.8197385628735535, -0.7855813242622279, -0....   \n",
       "17  [-0.010394708783688204, -0.018203179209372963,...   \n",
       "18  [0.011964042615684999, 0.009662099567291395, 0...   \n",
       "19  [0.010570963221057507, 0.005442125169915915, 0...   \n",
       "20  [-0.42240198006311536, -0.4332274937911631, -0...   \n",
       "21  [-0.10315961497556735, -0.10498502802763623, -...   \n",
       "22  [-0.21198666785271925, -0.20916936230477604, -...   \n",
       "23  [0.1029720630643916, 0.08906048876931388, 0.07...   \n",
       "24  [0.005086431309362456, 0.01326197343836594, 0....   \n",
       "25  [0.02344297531976698, 0.01656440545513198, 0.0...   \n",
       "26  [-0.06902233759890217, -0.08115205951617806, -...   \n",
       "27  [-0.11879809654098458, -0.12308225566344477, -...   \n",
       "28  [0.03506131846281893, 0.019096788400143495, 0....   \n",
       "29  [0.048945360250534635, 0.037550993439986954, 0...   \n",
       "30  [-0.033763561251159736, -0.03919352037119389, ...   \n",
       "31  [-0.09672701011370767, -0.12755659300949274, -...   \n",
       "32  [0.10140256587619449, 0.07660696625298047, 0.0...   \n",
       "33  [-0.3044315505802265, -0.3138435579376208, -0....   \n",
       "34  [-0.30406417757534443, -0.31016609793136635, -...   \n",
       "35  [-0.028235606685090387, -0.03663605278363866, ...   \n",
       "36  [-0.02543498269607821, -0.03289072898550098, -...   \n",
       "37  [-0.09894985868499466, -0.09763975889437852, -...   \n",
       "38  [-0.03189219420851459, -0.033296843090104354, ...   \n",
       "39  [-0.14146693974945676, -0.1395862834100203, -0...   \n",
       "40  [-0.16935088784065427, -0.1710763898334104, -0...   \n",
       "41  [-0.011688069336057382, -0.01514550137331468, ...   \n",
       "42  [-0.04058547952797145, -0.05150385581648625, -...   \n",
       "43  [0.09985900236668364, 0.09606090277347228, 0.0...   \n",
       "44  [-0.4152549514968192, -0.4149714525448752, -0....   \n",
       "45  [-0.23468550510354752, -0.2342475366142919, -0...   \n",
       "46  [-0.10612704010975058, -0.11233388839838455, -...   \n",
       "47  [-0.0005204390576445976, -0.002885481731829967...   \n",
       "48  [-0.3596164068064776, -0.36981616329872746, -0...   \n",
       "49  [-0.04146324473808, -0.040391124223610006, -0....   \n",
       "50  [-0.01763054518240626, -0.017787154813126423, ...   \n",
       "51  [0.019286781851332858, 0.018687099268484705, 0...   \n",
       "52  [0.024913905386248124, 0.018935871427594515, 0...   \n",
       "53  [0.05064794543404961, 0.047159053766116274, 0....   \n",
       "54  [-0.06450306578473342, -0.0714265610695763, -0...   \n",
       "55  [-0.32450153035320684, -0.3163273857577014, -0...   \n",
       "56  [-0.4776407404374342, -0.48470919286781644, -0...   \n",
       "\n",
       "                                              sma8-16  \n",
       "0   [-0.6999999999998465, -0.6374999999998181, -0....  \n",
       "1   [-0.16249999999973852, -0.1499999999997499, -0...  \n",
       "2   [-1.174999999999784, -1.2499999999998295, -1.1...  \n",
       "3   [-0.8999999999999773, -0.7375000000000114, -0....  \n",
       "4   [-0.9125000000000796, -0.8750000000000853, -0....  \n",
       "5   [-0.4750000000000796, -0.3250000000000739, -0....  \n",
       "6   [-0.43750000000017053, -0.4250000000002103, -0...  \n",
       "7   [-0.03437499999998295, -0.04999999999998295, -...  \n",
       "8   [-0.19999999999998863, -0.09999999999999432, -...  \n",
       "9   [-0.2593749999999204, -0.27187499999990905, -0...  \n",
       "10  [-0.26562499999994316, -0.30624999999994884, -...  \n",
       "11  [-0.9687499999999432, -0.8906249999999716, -0....  \n",
       "12  [0.1187500000000341, 0.03125000000002842, 0.01...  \n",
       "13  [-0.5406249999999488, -0.5218749999999659, -0....  \n",
       "14  [-0.162500000000108, -0.131250000000108, -0.11...  \n",
       "15  [0.26250000000015916, 0.05000000000006821, -0....  \n",
       "16  [-0.8187500000001364, -0.7250000000001364, -0....  \n",
       "17  [-0.18125000000036096, -0.16562500000034674, -...  \n",
       "18  [0.021874999999639044, -3.552713678800501e-13,...  \n",
       "19  [-0.0968749999999261, -0.0812499999999261, -0....  \n",
       "20  [-0.32500000000040075, -0.30000000000039506, -...  \n",
       "21  [-0.08750000000000568, -0.08437500000002274, -...  \n",
       "22  [-0.10937500000008527, -0.09687500000006821, -...  \n",
       "23  [-0.15625000000002842, -0.16875000000004547, -...  \n",
       "24  [0.012500000000017053, 0.03990384615386233, 0....  \n",
       "25  [-0.05000000000006821, -0.08125000000006821, -...  \n",
       "26  [-0.303125000000108, -0.27500000000009095, -0....  \n",
       "27  [-0.17812500000002274, -0.15312500000001705, -...  \n",
       "28  [-0.2375000000000682, -0.2375000000000682, -0....  \n",
       "29  [-0.120312500000054, -0.08281250000005969, -0....  \n",
       "30  [-0.1250000000001137, -0.11875000000011937, -0...  \n",
       "31  [-0.5249999999999204, -0.5249999999999204, -0....  \n",
       "32  [-0.29374999999990337, -0.337499999999892, -0....  \n",
       "33  [-0.35000000000003695, -0.28750000000003695, -...  \n",
       "34  [-0.33124999999999716, -0.24687499999998863, -...  \n",
       "35  [-0.25312499999999716, -0.26249999999998863, -...  \n",
       "36  [-0.15874999999997286, -0.13999999999997215, -...  \n",
       "37  [-0.09124999999995254, -0.0787499999999497, -0...  \n",
       "38  [-0.06124999999999403, -0.06874999999998721, -...  \n",
       "39  [-0.14375000000001137, -0.1112500000000125, -0...  \n",
       "40  [-0.15625, -0.12187499999998863, -0.0874999999...  \n",
       "41  [-0.0875000000000341, -0.10000000000002274, -0...  \n",
       "42  [-0.26562499999994316, -0.2312499999999318, -0...  \n",
       "43  [0.07500000000001705, -0.037499999999965894, -...  \n",
       "44  [-0.203125, -0.21562500000001705, -0.193749999...  \n",
       "45  [-0.20999999999997243, -0.1899999999999693, -0...  \n",
       "46  [-0.06749999999993861, -0.0712499999999352, -0...  \n",
       "47  [-0.02999999999999403, -0.03249999999999176, -...  \n",
       "48  [-0.5156249999999858, -0.4749999999999872, -0....  \n",
       "49  [0.037500000000008527, 0.03437500000000426, 0....  \n",
       "50  [0.0, -0.0024999999999977263, -0.0037499999999...  \n",
       "51  [0.004999999999938609, 0.002499999999940883, 0...  \n",
       "52  [-0.021249999999966462, -0.029999999999972715,...  \n",
       "53  [0.008749999999892566, -0.00875000000011994, -...  \n",
       "54  [-0.16875000000003126, -0.12500000000002842, -...  \n",
       "55  [-0.1375000000000739, -0.11250000000007532, -0...  \n",
       "56  [-0.6624999999998522, -0.6812499999998636, -0....  "
      ]
     },
     "execution_count": 169,
     "metadata": {},
     "output_type": "execute_result"
    }
   ],
   "source": [
    "filer = list(map(add_data, os.listdir('data/')))[:60]\n",
    "data = multi_analyse(filer)\n",
    "data['sma8-16'] = [data.open_8_sma[i] - data.open_16_sma[i] for i, value in enumerate(data.open_8_sma)]\n",
    "data"
   ]
  },
  {
   "cell_type": "code",
   "execution_count": 170,
   "metadata": {
    "scrolled": true
   },
   "outputs": [],
   "source": [
    "data_oppgang = data[data.oppgang > 0.9]\n",
    "data_oppgang = data_oppgang[data_oppgang.score > 30]\n",
    "data_oppgang = data_oppgang.reset_index(drop=True)"
   ]
  },
  {
   "cell_type": "code",
   "execution_count": 171,
   "metadata": {
    "scrolled": true
   },
   "outputs": [
    {
     "data": {
      "text/html": [
       "<div>\n",
       "<style scoped>\n",
       "    .dataframe tbody tr th:only-of-type {\n",
       "        vertical-align: middle;\n",
       "    }\n",
       "\n",
       "    .dataframe tbody tr th {\n",
       "        vertical-align: top;\n",
       "    }\n",
       "\n",
       "    .dataframe thead th {\n",
       "        text-align: right;\n",
       "    }\n",
       "</style>\n",
       "<table border=\"1\" class=\"dataframe\">\n",
       "  <thead>\n",
       "    <tr style=\"text-align: right;\">\n",
       "      <th></th>\n",
       "      <th>rsi_20</th>\n",
       "      <th>trix</th>\n",
       "      <th>open_8_sma</th>\n",
       "      <th>open_16_sma</th>\n",
       "      <th>macds</th>\n",
       "      <th>sma8-16</th>\n",
       "    </tr>\n",
       "  </thead>\n",
       "  <tbody>\n",
       "    <tr>\n",
       "      <th>mean</th>\n",
       "      <td>[44.84911826514871, 46.20231572815453, 46.5756...</td>\n",
       "      <td>[-0.02800572575055754, -0.028065292214371935, ...</td>\n",
       "      <td>[172.052275, 172.038725, 172.03762500000002, 1...</td>\n",
       "      <td>[172.35323750000003, 172.33004134615388, 172.2...</td>\n",
       "      <td>[-0.2138670843263274, -0.21778962222552356, -0...</td>\n",
       "      <td>[-0.30096250000001956, -0.2913163461538707, -0...</td>\n",
       "    </tr>\n",
       "    <tr>\n",
       "      <th>stdv</th>\n",
       "      <td>[6.456074621342354, 6.720070841550663, 5.48663...</td>\n",
       "      <td>[0.03802853071680486, 0.03735054314875484, 0.0...</td>\n",
       "      <td>[101.60294683471247, 101.59916402677787, 101.5...</td>\n",
       "      <td>[101.65917480129347, 101.68573317545805, 101.6...</td>\n",
       "      <td>[0.40653399126368905, 0.3978418711803259, 0.38...</td>\n",
       "      <td>[0.33803807801409586, 0.31779434239723375, 0.2...</td>\n",
       "    </tr>\n",
       "    <tr>\n",
       "      <th>upper</th>\n",
       "      <td>[55.89470064136139, 57.69956450668543, 55.9626...</td>\n",
       "      <td>[0.037056605978109114, 0.03583708273371657, 0....</td>\n",
       "      <td>[345.88293600549986, 345.86291406719283, 345.8...</td>\n",
       "      <td>[346.2800979259131, 346.30234001849664, 346.28...</td>\n",
       "      <td>[0.48166463620077393, 0.46287090581453094, 0.4...</td>\n",
       "      <td>[0.2773807900013221, 0.2523922993501574, 0.207...</td>\n",
       "    </tr>\n",
       "    <tr>\n",
       "      <th>lower</th>\n",
       "      <td>[33.80353588893603, 34.705066949623635, 37.188...</td>\n",
       "      <td>[-0.0930680574792242, -0.09196766716246044, -0...</td>\n",
       "      <td>[-1.77838600549984, -1.7854640671928053, -1.77...</td>\n",
       "      <td>[-1.5736229259130141, -1.6422573261888829, -1....</td>\n",
       "      <td>[-0.9093988048534287, -0.8984501502655781, -0....</td>\n",
       "      <td>[-0.8793057900013612, -0.8350249916578988, -0....</td>\n",
       "    </tr>\n",
       "  </tbody>\n",
       "</table>\n",
       "</div>"
      ],
      "text/plain": [
       "                                                  rsi_20  \\\n",
       "mean   [44.84911826514871, 46.20231572815453, 46.5756...   \n",
       "stdv   [6.456074621342354, 6.720070841550663, 5.48663...   \n",
       "upper  [55.89470064136139, 57.69956450668543, 55.9626...   \n",
       "lower  [33.80353588893603, 34.705066949623635, 37.188...   \n",
       "\n",
       "                                                    trix  \\\n",
       "mean   [-0.02800572575055754, -0.028065292214371935, ...   \n",
       "stdv   [0.03802853071680486, 0.03735054314875484, 0.0...   \n",
       "upper  [0.037056605978109114, 0.03583708273371657, 0....   \n",
       "lower  [-0.0930680574792242, -0.09196766716246044, -0...   \n",
       "\n",
       "                                              open_8_sma  \\\n",
       "mean   [172.052275, 172.038725, 172.03762500000002, 1...   \n",
       "stdv   [101.60294683471247, 101.59916402677787, 101.5...   \n",
       "upper  [345.88293600549986, 345.86291406719283, 345.8...   \n",
       "lower  [-1.77838600549984, -1.7854640671928053, -1.77...   \n",
       "\n",
       "                                             open_16_sma  \\\n",
       "mean   [172.35323750000003, 172.33004134615388, 172.2...   \n",
       "stdv   [101.65917480129347, 101.68573317545805, 101.6...   \n",
       "upper  [346.2800979259131, 346.30234001849664, 346.28...   \n",
       "lower  [-1.5736229259130141, -1.6422573261888829, -1....   \n",
       "\n",
       "                                                   macds  \\\n",
       "mean   [-0.2138670843263274, -0.21778962222552356, -0...   \n",
       "stdv   [0.40653399126368905, 0.3978418711803259, 0.38...   \n",
       "upper  [0.48166463620077393, 0.46287090581453094, 0.4...   \n",
       "lower  [-0.9093988048534287, -0.8984501502655781, -0....   \n",
       "\n",
       "                                                 sma8-16  \n",
       "mean   [-0.30096250000001956, -0.2913163461538707, -0...  \n",
       "stdv   [0.33803807801409586, 0.31779434239723375, 0.2...  \n",
       "upper  [0.2773807900013221, 0.2523922993501574, 0.207...  \n",
       "lower  [-0.8793057900013612, -0.8350249916578988, -0....  "
      ]
     },
     "execution_count": 171,
     "metadata": {},
     "output_type": "execute_result"
    }
   ],
   "source": [
    "indikatorer = [colm for colm in data_oppgang.columns[7:]]\n",
    "statestikk_df = pd.DataFrame(columns=indikatorer, index=['mean', 'stdv', 'upper', 'lower'])\n",
    "for ind in indikatorer: # skal hente ut snittet pr for hver\n",
    "\n",
    "    means = []\n",
    "    stdv = []\n",
    "    longest = max(data_oppgang[ind], key=len)\n",
    "    for i in range(len(longest)):\n",
    "        samlet_verdier = [data_oppgang[ind][j][i]for j in range(len(data_oppgang[ind])) if len(data_oppgang[ind][j]) > i]\n",
    "        means.append(statistics.mean(samlet_verdier))\n",
    "        stdv.append(statistics.stdev(samlet_verdier)) if len(samlet_verdier)>1 else stdv.append(0)\n",
    "  \n",
    "    z = t.ppf(0.95, df=len(data_oppgang[ind])-1)\n",
    "    statestikk_df[ind]['mean'] = means\n",
    "    statestikk_df[ind]['stdv'] = stdv\n",
    "    statestikk_df[ind]['upper'] = [statestikk_df[ind]['mean'][i] + statestikk_df[ind]['stdv'][i]*z\n",
    "                                    for i in range(len(statestikk_df[ind]['mean']))]\n",
    "    statestikk_df[ind]['lower'] = [statestikk_df[ind]['mean'][i] - statestikk_df[ind]['stdv'][i]*z\n",
    "                                    for i in range(len(statestikk_df[ind]['mean']))]\n",
    "\n",
    "statestikk_df"
   ]
  },
  {
   "cell_type": "code",
   "execution_count": 173,
   "metadata": {},
   "outputs": [],
   "source": [
    "#statestikk_df.to_pickle('models/first_model.pkl')"
   ]
  },
  {
   "cell_type": "code",
   "execution_count": 172,
   "metadata": {},
   "outputs": [
    {
     "data": {
      "image/png": "[encoded data removed]",
      "text/plain": [
       "<Figure size 432x288 with 1 Axes>"
      ]
     },
     "metadata": {
      "needs_background": "light"
     },
     "output_type": "display_data"
    },
    {
     "data": {
      "image/png": "[encoded data removed]",
      "text/plain": [
       "<Figure size 432x288 with 1 Axes>"
      ]
     },
     "metadata": {
      "needs_background": "light"
     },
     "output_type": "display_data"
    },
    {
     "data": {
      "image/png": "[encoded data removed]",
      "text/plain": [
       "<Figure size 432x288 with 1 Axes>"
      ]
     },
     "metadata": {
      "needs_background": "light"
     },
     "output_type": "display_data"
    },
    {
     "data": {
      "image/png": "[encoded data removed]",
      "text/plain": [
       "<Figure size 432x288 with 1 Axes>"
      ]
     },
     "metadata": {
      "needs_background": "light"
     },
     "output_type": "display_data"
    },
    {
     "data": {
      "image/png": "[encoded data removed]",
      "text/plain": [
       "<Figure size 432x288 with 1 Axes>"
      ]
     },
     "metadata": {
      "needs_background": "light"
     },
     "output_type": "display_data"
    },
    {
     "data": {
      "image/png": "[encoded data removed]",
      "text/plain": [
       "<Figure size 432x288 with 1 Axes>"
      ]
     },
     "metadata": {
      "needs_background": "light"
     },
     "output_type": "display_data"
    }
   ],
   "source": [
    "for ind in indikatorer:\n",
    "    fig = plt.figure()\n",
    "    plt.title(ind)\n",
    "    for y in data_oppgang[ind]:\n",
    "        plt.plot(y)\n",
    "        \n",
    "    plt.plot(statestikk_df[ind]['upper'], '--' ,linewidth=3, color='grey')\n",
    "    plt.plot(statestikk_df[ind]['lower'], '--' ,linewidth=3, color='grey')"
   ]
  },
  {
   "cell_type": "code",
   "execution_count": null,
   "metadata": {},
   "outputs": [],
   "source": []
  }
 ],
 "metadata": {
  "kernelspec": {
   "display_name": "Python 3",
   "language": "python",
   "name": "python3"
  },
  "language_info": {
   "codemirror_mode": {
    "name": "ipython",
    "version": 3
   },
   "file_extension": ".py",
   "mimetype": "text/x-python",
   "name": "python",
   "nbconvert_exporter": "python",
   "pygments_lexer": "ipython3",
   "version": "3.7.7"
  }
 },
 "nbformat": 4,
 "nbformat_minor": 4
}
